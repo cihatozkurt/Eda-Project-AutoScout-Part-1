{
 "cells": [
  {
   "cell_type": "code",
   "execution_count": 18,
   "id": "095da8d5",
   "metadata": {},
   "outputs": [],
   "source": [
    "import matplotlib.pyplot as plt\n",
    "%matplotlib inline\n",
    "import numpy as np\n",
    "import pandas as pd\n",
    "import seaborn as sns\n",
    "import warnings;\n",
    "warnings.filterwarnings(\"ignore\")\n",
    "import re\n",
    "#pd.set_option(\"display.max_columns\",None)\n",
    "#pd.set_option(\"display.max_rows\",None)"
   ]
  },
  {
   "cell_type": "code",
   "execution_count": 19,
   "id": "48110913",
   "metadata": {},
   "outputs": [],
   "source": [
    "df = pd.read_csv(\"cleaned_step1.csv\")"
   ]
  },
  {
   "cell_type": "markdown",
   "id": "57deaea4",
   "metadata": {},
   "source": [
    "### 1) Body Type"
   ]
  },
  {
   "cell_type": "code",
   "execution_count": 20,
   "id": "d12afcbc",
   "metadata": {},
   "outputs": [
    {
     "data": {
      "text/plain": [
       "Sedans           7903\n",
       "Station wagon    3553\n",
       "Compact          3153\n",
       "Van               783\n",
       "Other             290\n",
       "Transporter        88\n",
       "NaN                60\n",
       "Off-Road           56\n",
       "Coupe              25\n",
       "Convertible         8\n",
       "Name: body_type, dtype: int64"
      ]
     },
     "execution_count": 20,
     "metadata": {},
     "output_type": "execute_result"
    }
   ],
   "source": [
    "df[\"body_type\"].value_counts(dropna=False)"
   ]
  },
  {
   "cell_type": "raw",
   "id": "90837c26",
   "metadata": {},
   "source": [
    "for i in df[((df[\"body_type\"]==\"X\") & (df[\"make_model\"]==\"Audi A3\"))].index:\n",
    "    df.loc[i,\"body_type\"]=df.loc[i,\"body_type\"].replace(np.NaN,\"Compact\")\n",
    "for i in df[((df[\"body_type\"]==\"X\") & (df[\"make_model\"]==\"Opel Astra\"))].index:\n",
    "    df.loc[i,\"body_type\"]=df.loc[i,\"body_type\"].replace(\"X\",\"Station wagon\")\n",
    "for i in df[((df[\"body_type\"]==\"X\") & (df[\"make_model\"]==\"Opel Corsa\"))].index:\n",
    "    df.loc[i,\"body_type\"]=df.loc[i,\"body_type\"].replace(\"X\",\"Sedans\")\n",
    "for i in df[((df[\"body_type\"]==\"X\") & (df[\"make_model\"]==\"Opel Insignia\"))].index:\n",
    "    df.loc[i,\"body_type\"]=df.loc[i,\"body_type\"].replace(\"X\",\"Station wagon\")\n",
    "for i in df[((df[\"body_type\"]==\"X\") & (df[\"make_model\"]==\"Renault Clio\"))].index:\n",
    "    df.loc[i,\"body_type\"]=df.loc[i,\"body_type\"].replace(\"X\",\"Sedans\")\n",
    "for i in df[((df[\"body_type\"]==\"X\") & (df[\"make_model\"]==\"Renault Espace\"))].index:\n",
    "    df.loc[i,\"body_type\"]=df.loc[i,\"body_type\"].replace(\"X\",\"Van\")"
   ]
  },
  {
   "cell_type": "code",
   "execution_count": 21,
   "id": "4af4b491",
   "metadata": {},
   "outputs": [],
   "source": [
    "df[\"body_type\"].fillna(df.groupby('make_model')['body_type'].transform(lambda x: x.mode()[0]), inplace=True)"
   ]
  },
  {
   "cell_type": "markdown",
   "id": "9a201a71",
   "metadata": {},
   "source": [
    "### 2.0 Type"
   ]
  },
  {
   "cell_type": "code",
   "execution_count": 22,
   "id": "2deb62d1",
   "metadata": {},
   "outputs": [
    {
     "data": {
      "text/plain": [
       "Used              11096\n",
       "New                1650\n",
       "Pre-registered     1364\n",
       "Employee's car     1011\n",
       "Demonstration       796\n",
       "NaN                   2\n",
       "Name: Type, dtype: int64"
      ]
     },
     "execution_count": 22,
     "metadata": {},
     "output_type": "execute_result"
    }
   ],
   "source": [
    "df['Type'].value_counts(dropna=False)"
   ]
  },
  {
   "cell_type": "code",
   "execution_count": 23,
   "id": "6bbf5244",
   "metadata": {},
   "outputs": [],
   "source": [
    "df['Type'] = df['Type'].fillna('Used')"
   ]
  },
  {
   "cell_type": "markdown",
   "id": "044f0cb7",
   "metadata": {},
   "source": [
    "### 2) Year"
   ]
  },
  {
   "cell_type": "code",
   "execution_count": 24,
   "id": "24d80fad",
   "metadata": {},
   "outputs": [
    {
     "data": {
      "text/plain": [
       "2018.0    4522\n",
       "2016.0    3674\n",
       "2017.0    3273\n",
       "2019.0    2853\n",
       "NaN       1597\n",
       "Name: registration, dtype: int64"
      ]
     },
     "execution_count": 24,
     "metadata": {},
     "output_type": "execute_result"
    }
   ],
   "source": [
    "df[\"registration\"].value_counts(dropna=False)"
   ]
  },
  {
   "cell_type": "code",
   "execution_count": 25,
   "id": "38907a49",
   "metadata": {},
   "outputs": [],
   "source": [
    "df['registration']=df['registration'].fillna(df.groupby('Type')['registration'].transform(lambda x:x.mode()[0]))"
   ]
  },
  {
   "cell_type": "code",
   "execution_count": 26,
   "id": "4da09e91",
   "metadata": {},
   "outputs": [],
   "source": [
    "df['registration'] = df['registration'].fillna(2016)"
   ]
  },
  {
   "cell_type": "markdown",
   "id": "f68bf55b",
   "metadata": {},
   "source": [
    "### 3) VAT"
   ]
  },
  {
   "cell_type": "code",
   "execution_count": 27,
   "id": "99c83513",
   "metadata": {},
   "outputs": [
    {
     "data": {
      "text/plain": [
       "VAT deductible      10980\n",
       "NaN                  4513\n",
       "Price negotiable      426\n",
       "Name: vat, dtype: int64"
      ]
     },
     "execution_count": 27,
     "metadata": {},
     "output_type": "execute_result"
    }
   ],
   "source": [
    "df.vat.value_counts(dropna=False)"
   ]
  },
  {
   "cell_type": "code",
   "execution_count": 28,
   "id": "50e33b69",
   "metadata": {},
   "outputs": [],
   "source": [
    "df['vat'] = df['vat'].fillna('VAT not deductible')"
   ]
  },
  {
   "cell_type": "code",
   "execution_count": 29,
   "id": "2cf0642b",
   "metadata": {},
   "outputs": [],
   "source": [
    "df[\"vat\"] = df[\"vat\"].replace(\"VAT not deductible\",\"VAT undeductible\")"
   ]
  },
  {
   "cell_type": "code",
   "execution_count": 30,
   "id": "7df924df",
   "metadata": {},
   "outputs": [
    {
     "data": {
      "text/plain": [
       "VAT deductible      10980\n",
       "VAT undeductible     4513\n",
       "Price negotiable      426\n",
       "Name: vat, dtype: int64"
      ]
     },
     "execution_count": 30,
     "metadata": {},
     "output_type": "execute_result"
    }
   ],
   "source": [
    "df[\"vat\"].value_counts(dropna=False)"
   ]
  },
  {
   "cell_type": "raw",
   "id": "d4b339c8",
   "metadata": {},
   "source": [
    "def vat_fill(vat, price, mean):\n",
    "    if pd.isna(vat):\n",
    "        if price > mean:\n",
    "            return 'Price negotiable'\n",
    "        else:\n",
    "            return 'VAT deductible'\n",
    "    else:\n",
    "        return vat"
   ]
  },
  {
   "cell_type": "raw",
   "id": "ddb4e5a9",
   "metadata": {},
   "source": [
    "for group1 in list(df['make_model'].unique()):\n",
    "    for group2 in list(df['year'].unique()):\n",
    "        cond1 = df['make_model'] == group1\n",
    "        cond2 = df['year'] == group2\n",
    "        mean = df[cond1 & cond2].price.mean()\n",
    "        df.loc[cond1 & cond2, 'vat'] = (df[cond1 & cond2].apply(lambda x: vat_fill(x['vat'],x['price'],mean),axis=1))"
   ]
  },
  {
   "cell_type": "markdown",
   "id": "d66a349b",
   "metadata": {},
   "source": [
    "### 4) KM"
   ]
  },
  {
   "cell_type": "code",
   "execution_count": 31,
   "id": "3c36a140",
   "metadata": {},
   "outputs": [
    {
     "data": {
      "text/plain": [
       "1024"
      ]
     },
     "execution_count": 31,
     "metadata": {},
     "output_type": "execute_result"
    }
   ],
   "source": [
    "df[\"km\"].isnull().sum()"
   ]
  },
  {
   "cell_type": "code",
   "execution_count": 32,
   "id": "c84e000c",
   "metadata": {},
   "outputs": [
    {
     "ename": "ValueError",
     "evalue": "Length mismatch: Expected axis has 15423 elements, new values have 15919 elements",
     "output_type": "error",
     "traceback": [
      "\u001b[1;31m---------------------------------------------------------------------------\u001b[0m",
      "\u001b[1;31mValueError\u001b[0m                                Traceback (most recent call last)",
      "\u001b[1;32m<ipython-input-32-98da0addc595>\u001b[0m in \u001b[0;36m<module>\u001b[1;34m\u001b[0m\n\u001b[1;32m----> 1\u001b[1;33m \u001b[0mdf\u001b[0m\u001b[1;33m[\u001b[0m\u001b[1;34m\"km\"\u001b[0m\u001b[1;33m]\u001b[0m\u001b[1;33m.\u001b[0m\u001b[0mfillna\u001b[0m\u001b[1;33m(\u001b[0m\u001b[0mdf\u001b[0m\u001b[1;33m.\u001b[0m\u001b[0mgroupby\u001b[0m\u001b[1;33m(\u001b[0m\u001b[1;33m[\u001b[0m\u001b[1;34m'registration'\u001b[0m\u001b[1;33m,\u001b[0m\u001b[1;34m'Displacement'\u001b[0m\u001b[1;33m]\u001b[0m\u001b[1;33m)\u001b[0m\u001b[1;33m.\u001b[0m\u001b[0mkm\u001b[0m\u001b[1;33m.\u001b[0m\u001b[0mtransform\u001b[0m\u001b[1;33m(\u001b[0m\u001b[1;32mlambda\u001b[0m \u001b[0mx\u001b[0m\u001b[1;33m:\u001b[0m \u001b[0mx\u001b[0m\u001b[1;33m.\u001b[0m\u001b[0mmean\u001b[0m\u001b[1;33m(\u001b[0m\u001b[1;33m)\u001b[0m\u001b[1;33m)\u001b[0m\u001b[1;33m,\u001b[0m \u001b[0minplace\u001b[0m\u001b[1;33m=\u001b[0m\u001b[1;32mTrue\u001b[0m\u001b[1;33m)\u001b[0m\u001b[1;33m\u001b[0m\u001b[1;33m\u001b[0m\u001b[0m\n\u001b[0m",
      "\u001b[1;32m~\\anaconda3\\lib\\site-packages\\pandas\\core\\groupby\\generic.py\u001b[0m in \u001b[0;36mtransform\u001b[1;34m(self, func, engine, engine_kwargs, *args, **kwargs)\u001b[0m\n\u001b[0;32m    505\u001b[0m \u001b[1;33m\u001b[0m\u001b[0m\n\u001b[0;32m    506\u001b[0m         \u001b[1;32mif\u001b[0m \u001b[1;32mnot\u001b[0m \u001b[0misinstance\u001b[0m\u001b[1;33m(\u001b[0m\u001b[0mfunc\u001b[0m\u001b[1;33m,\u001b[0m \u001b[0mstr\u001b[0m\u001b[1;33m)\u001b[0m\u001b[1;33m:\u001b[0m\u001b[1;33m\u001b[0m\u001b[1;33m\u001b[0m\u001b[0m\n\u001b[1;32m--> 507\u001b[1;33m             \u001b[1;32mreturn\u001b[0m \u001b[0mself\u001b[0m\u001b[1;33m.\u001b[0m\u001b[0m_transform_general\u001b[0m\u001b[1;33m(\u001b[0m\u001b[0mfunc\u001b[0m\u001b[1;33m,\u001b[0m \u001b[1;33m*\u001b[0m\u001b[0margs\u001b[0m\u001b[1;33m,\u001b[0m \u001b[1;33m**\u001b[0m\u001b[0mkwargs\u001b[0m\u001b[1;33m)\u001b[0m\u001b[1;33m\u001b[0m\u001b[1;33m\u001b[0m\u001b[0m\n\u001b[0m\u001b[0;32m    508\u001b[0m \u001b[1;33m\u001b[0m\u001b[0m\n\u001b[0;32m    509\u001b[0m         \u001b[1;32melif\u001b[0m \u001b[0mfunc\u001b[0m \u001b[1;32mnot\u001b[0m \u001b[1;32min\u001b[0m \u001b[0mbase\u001b[0m\u001b[1;33m.\u001b[0m\u001b[0mtransform_kernel_allowlist\u001b[0m\u001b[1;33m:\u001b[0m\u001b[1;33m\u001b[0m\u001b[1;33m\u001b[0m\u001b[0m\n",
      "\u001b[1;32m~\\anaconda3\\lib\\site-packages\\pandas\\core\\groupby\\generic.py\u001b[0m in \u001b[0;36m_transform_general\u001b[1;34m(self, func, *args, **kwargs)\u001b[0m\n\u001b[0;32m    542\u001b[0m \u001b[1;33m\u001b[0m\u001b[0m\n\u001b[0;32m    543\u001b[0m             \u001b[0mconcatenated\u001b[0m \u001b[1;33m=\u001b[0m \u001b[0mconcat\u001b[0m\u001b[1;33m(\u001b[0m\u001b[0mresults\u001b[0m\u001b[1;33m)\u001b[0m\u001b[1;33m\u001b[0m\u001b[1;33m\u001b[0m\u001b[0m\n\u001b[1;32m--> 544\u001b[1;33m             \u001b[0mresult\u001b[0m \u001b[1;33m=\u001b[0m \u001b[0mself\u001b[0m\u001b[1;33m.\u001b[0m\u001b[0m_set_result_index_ordered\u001b[0m\u001b[1;33m(\u001b[0m\u001b[0mconcatenated\u001b[0m\u001b[1;33m)\u001b[0m\u001b[1;33m\u001b[0m\u001b[1;33m\u001b[0m\u001b[0m\n\u001b[0m\u001b[0;32m    545\u001b[0m         \u001b[1;32melse\u001b[0m\u001b[1;33m:\u001b[0m\u001b[1;33m\u001b[0m\u001b[1;33m\u001b[0m\u001b[0m\n\u001b[0;32m    546\u001b[0m             \u001b[0mresult\u001b[0m \u001b[1;33m=\u001b[0m \u001b[0mself\u001b[0m\u001b[1;33m.\u001b[0m\u001b[0mobj\u001b[0m\u001b[1;33m.\u001b[0m\u001b[0m_constructor\u001b[0m\u001b[1;33m(\u001b[0m\u001b[0mdtype\u001b[0m\u001b[1;33m=\u001b[0m\u001b[0mnp\u001b[0m\u001b[1;33m.\u001b[0m\u001b[0mfloat64\u001b[0m\u001b[1;33m)\u001b[0m\u001b[1;33m\u001b[0m\u001b[1;33m\u001b[0m\u001b[0m\n",
      "\u001b[1;32m~\\anaconda3\\lib\\site-packages\\pandas\\core\\groupby\\groupby.py\u001b[0m in \u001b[0;36m_set_result_index_ordered\u001b[1;34m(self, result)\u001b[0m\n\u001b[0;32m    737\u001b[0m             \u001b[0mresult\u001b[0m \u001b[1;33m=\u001b[0m \u001b[0mresult\u001b[0m\u001b[1;33m.\u001b[0m\u001b[0msort_index\u001b[0m\u001b[1;33m(\u001b[0m\u001b[0maxis\u001b[0m\u001b[1;33m=\u001b[0m\u001b[0mself\u001b[0m\u001b[1;33m.\u001b[0m\u001b[0maxis\u001b[0m\u001b[1;33m)\u001b[0m\u001b[1;33m\u001b[0m\u001b[1;33m\u001b[0m\u001b[0m\n\u001b[0;32m    738\u001b[0m \u001b[1;33m\u001b[0m\u001b[0m\n\u001b[1;32m--> 739\u001b[1;33m         \u001b[0mresult\u001b[0m\u001b[1;33m.\u001b[0m\u001b[0mset_axis\u001b[0m\u001b[1;33m(\u001b[0m\u001b[0mself\u001b[0m\u001b[1;33m.\u001b[0m\u001b[0mobj\u001b[0m\u001b[1;33m.\u001b[0m\u001b[0m_get_axis\u001b[0m\u001b[1;33m(\u001b[0m\u001b[0mself\u001b[0m\u001b[1;33m.\u001b[0m\u001b[0maxis\u001b[0m\u001b[1;33m)\u001b[0m\u001b[1;33m,\u001b[0m \u001b[0maxis\u001b[0m\u001b[1;33m=\u001b[0m\u001b[0mself\u001b[0m\u001b[1;33m.\u001b[0m\u001b[0maxis\u001b[0m\u001b[1;33m,\u001b[0m \u001b[0minplace\u001b[0m\u001b[1;33m=\u001b[0m\u001b[1;32mTrue\u001b[0m\u001b[1;33m)\u001b[0m\u001b[1;33m\u001b[0m\u001b[1;33m\u001b[0m\u001b[0m\n\u001b[0m\u001b[0;32m    740\u001b[0m         \u001b[1;32mreturn\u001b[0m \u001b[0mresult\u001b[0m\u001b[1;33m\u001b[0m\u001b[1;33m\u001b[0m\u001b[0m\n\u001b[0;32m    741\u001b[0m \u001b[1;33m\u001b[0m\u001b[0m\n",
      "\u001b[1;32m~\\anaconda3\\lib\\site-packages\\pandas\\core\\series.py\u001b[0m in \u001b[0;36mset_axis\u001b[1;34m(self, labels, axis, inplace)\u001b[0m\n\u001b[0;32m   4333\u001b[0m     \u001b[1;33m@\u001b[0m\u001b[0mAppender\u001b[0m\u001b[1;33m(\u001b[0m\u001b[0mgeneric\u001b[0m\u001b[1;33m.\u001b[0m\u001b[0mNDFrame\u001b[0m\u001b[1;33m.\u001b[0m\u001b[0mset_axis\u001b[0m\u001b[1;33m.\u001b[0m\u001b[0m__doc__\u001b[0m\u001b[1;33m)\u001b[0m\u001b[1;33m\u001b[0m\u001b[1;33m\u001b[0m\u001b[0m\n\u001b[0;32m   4334\u001b[0m     \u001b[1;32mdef\u001b[0m \u001b[0mset_axis\u001b[0m\u001b[1;33m(\u001b[0m\u001b[0mself\u001b[0m\u001b[1;33m,\u001b[0m \u001b[0mlabels\u001b[0m\u001b[1;33m,\u001b[0m \u001b[0maxis\u001b[0m\u001b[1;33m:\u001b[0m \u001b[0mAxis\u001b[0m \u001b[1;33m=\u001b[0m \u001b[1;36m0\u001b[0m\u001b[1;33m,\u001b[0m \u001b[0minplace\u001b[0m\u001b[1;33m:\u001b[0m \u001b[0mbool\u001b[0m \u001b[1;33m=\u001b[0m \u001b[1;32mFalse\u001b[0m\u001b[1;33m)\u001b[0m\u001b[1;33m:\u001b[0m\u001b[1;33m\u001b[0m\u001b[1;33m\u001b[0m\u001b[0m\n\u001b[1;32m-> 4335\u001b[1;33m         \u001b[1;32mreturn\u001b[0m \u001b[0msuper\u001b[0m\u001b[1;33m(\u001b[0m\u001b[1;33m)\u001b[0m\u001b[1;33m.\u001b[0m\u001b[0mset_axis\u001b[0m\u001b[1;33m(\u001b[0m\u001b[0mlabels\u001b[0m\u001b[1;33m,\u001b[0m \u001b[0maxis\u001b[0m\u001b[1;33m=\u001b[0m\u001b[0maxis\u001b[0m\u001b[1;33m,\u001b[0m \u001b[0minplace\u001b[0m\u001b[1;33m=\u001b[0m\u001b[0minplace\u001b[0m\u001b[1;33m)\u001b[0m\u001b[1;33m\u001b[0m\u001b[1;33m\u001b[0m\u001b[0m\n\u001b[0m\u001b[0;32m   4336\u001b[0m \u001b[1;33m\u001b[0m\u001b[0m\n\u001b[0;32m   4337\u001b[0m     @doc(\n",
      "\u001b[1;32m~\\anaconda3\\lib\\site-packages\\pandas\\core\\generic.py\u001b[0m in \u001b[0;36mset_axis\u001b[1;34m(self, labels, axis, inplace)\u001b[0m\n\u001b[0;32m    654\u001b[0m         \"\"\"\n\u001b[0;32m    655\u001b[0m         \u001b[0mself\u001b[0m\u001b[1;33m.\u001b[0m\u001b[0m_check_inplace_and_allows_duplicate_labels\u001b[0m\u001b[1;33m(\u001b[0m\u001b[0minplace\u001b[0m\u001b[1;33m)\u001b[0m\u001b[1;33m\u001b[0m\u001b[1;33m\u001b[0m\u001b[0m\n\u001b[1;32m--> 656\u001b[1;33m         \u001b[1;32mreturn\u001b[0m \u001b[0mself\u001b[0m\u001b[1;33m.\u001b[0m\u001b[0m_set_axis_nocheck\u001b[0m\u001b[1;33m(\u001b[0m\u001b[0mlabels\u001b[0m\u001b[1;33m,\u001b[0m \u001b[0maxis\u001b[0m\u001b[1;33m,\u001b[0m \u001b[0minplace\u001b[0m\u001b[1;33m)\u001b[0m\u001b[1;33m\u001b[0m\u001b[1;33m\u001b[0m\u001b[0m\n\u001b[0m\u001b[0;32m    657\u001b[0m \u001b[1;33m\u001b[0m\u001b[0m\n\u001b[0;32m    658\u001b[0m     \u001b[1;33m@\u001b[0m\u001b[0mfinal\u001b[0m\u001b[1;33m\u001b[0m\u001b[1;33m\u001b[0m\u001b[0m\n",
      "\u001b[1;32m~\\anaconda3\\lib\\site-packages\\pandas\\core\\generic.py\u001b[0m in \u001b[0;36m_set_axis_nocheck\u001b[1;34m(self, labels, axis, inplace)\u001b[0m\n\u001b[0;32m    660\u001b[0m         \u001b[1;31m# NDFrame.rename with inplace=False calls set_axis(inplace=True) on a copy.\u001b[0m\u001b[1;33m\u001b[0m\u001b[1;33m\u001b[0m\u001b[1;33m\u001b[0m\u001b[0m\n\u001b[0;32m    661\u001b[0m         \u001b[1;32mif\u001b[0m \u001b[0minplace\u001b[0m\u001b[1;33m:\u001b[0m\u001b[1;33m\u001b[0m\u001b[1;33m\u001b[0m\u001b[0m\n\u001b[1;32m--> 662\u001b[1;33m             \u001b[0msetattr\u001b[0m\u001b[1;33m(\u001b[0m\u001b[0mself\u001b[0m\u001b[1;33m,\u001b[0m \u001b[0mself\u001b[0m\u001b[1;33m.\u001b[0m\u001b[0m_get_axis_name\u001b[0m\u001b[1;33m(\u001b[0m\u001b[0maxis\u001b[0m\u001b[1;33m)\u001b[0m\u001b[1;33m,\u001b[0m \u001b[0mlabels\u001b[0m\u001b[1;33m)\u001b[0m\u001b[1;33m\u001b[0m\u001b[1;33m\u001b[0m\u001b[0m\n\u001b[0m\u001b[0;32m    663\u001b[0m         \u001b[1;32melse\u001b[0m\u001b[1;33m:\u001b[0m\u001b[1;33m\u001b[0m\u001b[1;33m\u001b[0m\u001b[0m\n\u001b[0;32m    664\u001b[0m             \u001b[0mobj\u001b[0m \u001b[1;33m=\u001b[0m \u001b[0mself\u001b[0m\u001b[1;33m.\u001b[0m\u001b[0mcopy\u001b[0m\u001b[1;33m(\u001b[0m\u001b[1;33m)\u001b[0m\u001b[1;33m\u001b[0m\u001b[1;33m\u001b[0m\u001b[0m\n",
      "\u001b[1;32m~\\anaconda3\\lib\\site-packages\\pandas\\core\\generic.py\u001b[0m in \u001b[0;36m__setattr__\u001b[1;34m(self, name, value)\u001b[0m\n\u001b[0;32m   5476\u001b[0m         \u001b[1;32mtry\u001b[0m\u001b[1;33m:\u001b[0m\u001b[1;33m\u001b[0m\u001b[1;33m\u001b[0m\u001b[0m\n\u001b[0;32m   5477\u001b[0m             \u001b[0mobject\u001b[0m\u001b[1;33m.\u001b[0m\u001b[0m__getattribute__\u001b[0m\u001b[1;33m(\u001b[0m\u001b[0mself\u001b[0m\u001b[1;33m,\u001b[0m \u001b[0mname\u001b[0m\u001b[1;33m)\u001b[0m\u001b[1;33m\u001b[0m\u001b[1;33m\u001b[0m\u001b[0m\n\u001b[1;32m-> 5478\u001b[1;33m             \u001b[1;32mreturn\u001b[0m \u001b[0mobject\u001b[0m\u001b[1;33m.\u001b[0m\u001b[0m__setattr__\u001b[0m\u001b[1;33m(\u001b[0m\u001b[0mself\u001b[0m\u001b[1;33m,\u001b[0m \u001b[0mname\u001b[0m\u001b[1;33m,\u001b[0m \u001b[0mvalue\u001b[0m\u001b[1;33m)\u001b[0m\u001b[1;33m\u001b[0m\u001b[1;33m\u001b[0m\u001b[0m\n\u001b[0m\u001b[0;32m   5479\u001b[0m         \u001b[1;32mexcept\u001b[0m \u001b[0mAttributeError\u001b[0m\u001b[1;33m:\u001b[0m\u001b[1;33m\u001b[0m\u001b[1;33m\u001b[0m\u001b[0m\n\u001b[0;32m   5480\u001b[0m             \u001b[1;32mpass\u001b[0m\u001b[1;33m\u001b[0m\u001b[1;33m\u001b[0m\u001b[0m\n",
      "\u001b[1;32mpandas\\_libs\\properties.pyx\u001b[0m in \u001b[0;36mpandas._libs.properties.AxisProperty.__set__\u001b[1;34m()\u001b[0m\n",
      "\u001b[1;32m~\\anaconda3\\lib\\site-packages\\pandas\\core\\series.py\u001b[0m in \u001b[0;36m_set_axis\u001b[1;34m(self, axis, labels, fastpath)\u001b[0m\n\u001b[0;32m    468\u001b[0m         \u001b[1;32mif\u001b[0m \u001b[1;32mnot\u001b[0m \u001b[0mfastpath\u001b[0m\u001b[1;33m:\u001b[0m\u001b[1;33m\u001b[0m\u001b[1;33m\u001b[0m\u001b[0m\n\u001b[0;32m    469\u001b[0m             \u001b[1;31m# The ensure_index call above ensures we have an Index object\u001b[0m\u001b[1;33m\u001b[0m\u001b[1;33m\u001b[0m\u001b[1;33m\u001b[0m\u001b[0m\n\u001b[1;32m--> 470\u001b[1;33m             \u001b[0mself\u001b[0m\u001b[1;33m.\u001b[0m\u001b[0m_mgr\u001b[0m\u001b[1;33m.\u001b[0m\u001b[0mset_axis\u001b[0m\u001b[1;33m(\u001b[0m\u001b[0maxis\u001b[0m\u001b[1;33m,\u001b[0m \u001b[0mlabels\u001b[0m\u001b[1;33m)\u001b[0m\u001b[1;33m\u001b[0m\u001b[1;33m\u001b[0m\u001b[0m\n\u001b[0m\u001b[0;32m    471\u001b[0m \u001b[1;33m\u001b[0m\u001b[0m\n\u001b[0;32m    472\u001b[0m     \u001b[1;31m# ndarray compatibility\u001b[0m\u001b[1;33m\u001b[0m\u001b[1;33m\u001b[0m\u001b[1;33m\u001b[0m\u001b[0m\n",
      "\u001b[1;32m~\\anaconda3\\lib\\site-packages\\pandas\\core\\internals\\managers.py\u001b[0m in \u001b[0;36mset_axis\u001b[1;34m(self, axis, new_labels)\u001b[0m\n\u001b[0;32m    218\u001b[0m \u001b[1;33m\u001b[0m\u001b[0m\n\u001b[0;32m    219\u001b[0m         \u001b[1;32mif\u001b[0m \u001b[0mnew_len\u001b[0m \u001b[1;33m!=\u001b[0m \u001b[0mold_len\u001b[0m\u001b[1;33m:\u001b[0m\u001b[1;33m\u001b[0m\u001b[1;33m\u001b[0m\u001b[0m\n\u001b[1;32m--> 220\u001b[1;33m             raise ValueError(\n\u001b[0m\u001b[0;32m    221\u001b[0m                 \u001b[1;34mf\"Length mismatch: Expected axis has {old_len} elements, new \"\u001b[0m\u001b[1;33m\u001b[0m\u001b[1;33m\u001b[0m\u001b[0m\n\u001b[0;32m    222\u001b[0m                 \u001b[1;34mf\"values have {new_len} elements\"\u001b[0m\u001b[1;33m\u001b[0m\u001b[1;33m\u001b[0m\u001b[0m\n",
      "\u001b[1;31mValueError\u001b[0m: Length mismatch: Expected axis has 15423 elements, new values have 15919 elements"
     ]
    }
   ],
   "source": [
    "df[\"km\"].fillna(df.groupby(['registration','Displacement']).km.transform(lambda x: x.mean()), inplace=True)"
   ]
  },
  {
   "cell_type": "code",
   "execution_count": 33,
   "id": "c765620b",
   "metadata": {},
   "outputs": [],
   "source": [
    "mean_group_km1=df.groupby(['registration']).km.transform(lambda x: x.mean())"
   ]
  },
  {
   "cell_type": "code",
   "execution_count": 34,
   "id": "08d69a03",
   "metadata": {},
   "outputs": [],
   "source": [
    "df[\"km\"].fillna(mean_group_km1, inplace=True)"
   ]
  },
  {
   "cell_type": "markdown",
   "id": "0738cc7c",
   "metadata": {},
   "source": [
    "### 5) Previous Owner"
   ]
  },
  {
   "cell_type": "code",
   "execution_count": 19,
   "id": "34157f37",
   "metadata": {},
   "outputs": [],
   "source": [
    "index=df[df[\"km\"]<10].index"
   ]
  },
  {
   "cell_type": "code",
   "execution_count": 20,
   "id": "e32785ea",
   "metadata": {},
   "outputs": [],
   "source": [
    "df.loc[index,\"prev_owner\"]=0.0"
   ]
  },
  {
   "cell_type": "code",
   "execution_count": 21,
   "id": "f3c7412a",
   "metadata": {},
   "outputs": [],
   "source": [
    "df.loc[(df[\"Type\"]==\"New\") & (df[\"prev_owner\"].isnull()),\"prev_owner\"]=1.0"
   ]
  },
  {
   "cell_type": "code",
   "execution_count": 22,
   "id": "85bfc612",
   "metadata": {},
   "outputs": [],
   "source": [
    "df.loc[((df[\"registration\"]==2019) | (df[\"km\"]<5000)) & (df[\"prev_owner\"].isnull()),\"prev_owner\"]=1.0"
   ]
  },
  {
   "cell_type": "code",
   "execution_count": 23,
   "id": "53acafb3",
   "metadata": {},
   "outputs": [],
   "source": [
    "mode_group_po = df.groupby(['registration'])['prev_owner'].transform(lambda x: x.mode()[0] if list(x.mode()) != [] else np.nan)"
   ]
  },
  {
   "cell_type": "code",
   "execution_count": 24,
   "id": "fce2d2d8",
   "metadata": {},
   "outputs": [],
   "source": [
    "df[\"prev_owner\"].fillna(mode_group_po, inplace=True)"
   ]
  },
  {
   "cell_type": "markdown",
   "id": "fab66bc0",
   "metadata": {},
   "source": [
    "### hp "
   ]
  },
  {
   "cell_type": "code",
   "execution_count": 25,
   "id": "8042d31b",
   "metadata": {},
   "outputs": [
    {
     "data": {
      "text/plain": [
       "85.0     2542\n",
       "66.0     2122\n",
       "81.0     1402\n",
       "100.0    1308\n",
       "110.0    1112\n",
       "         ... \n",
       "75.0        1\n",
       "115.0       1\n",
       "137.0       1\n",
       "132.0       1\n",
       "84.0        1\n",
       "Name: hp, Length: 81, dtype: int64"
      ]
     },
     "execution_count": 25,
     "metadata": {},
     "output_type": "execute_result"
    }
   ],
   "source": [
    "df['hp'].value_counts(dropna=False)"
   ]
  },
  {
   "cell_type": "code",
   "execution_count": 26,
   "id": "ab3cd8d6",
   "metadata": {},
   "outputs": [
    {
     "data": {
      "text/html": [
       "<div>\n",
       "<style scoped>\n",
       "    .dataframe tbody tr th:only-of-type {\n",
       "        vertical-align: middle;\n",
       "    }\n",
       "\n",
       "    .dataframe tbody tr th {\n",
       "        vertical-align: top;\n",
       "    }\n",
       "\n",
       "    .dataframe thead th {\n",
       "        text-align: right;\n",
       "    }\n",
       "</style>\n",
       "<table border=\"1\" class=\"dataframe\">\n",
       "  <thead>\n",
       "    <tr style=\"text-align: right;\">\n",
       "      <th></th>\n",
       "      <th>body_type</th>\n",
       "      <th>hp</th>\n",
       "      <th>Displacement</th>\n",
       "    </tr>\n",
       "  </thead>\n",
       "  <tbody>\n",
       "    <tr>\n",
       "      <th>5712</th>\n",
       "      <td>Station wagon</td>\n",
       "      <td>100.0</td>\n",
       "      <td>1598.0</td>\n",
       "    </tr>\n",
       "    <tr>\n",
       "      <th>5713</th>\n",
       "      <td>Station wagon</td>\n",
       "      <td>100.0</td>\n",
       "      <td>NaN</td>\n",
       "    </tr>\n",
       "    <tr>\n",
       "      <th>5714</th>\n",
       "      <td>Station wagon</td>\n",
       "      <td>100.0</td>\n",
       "      <td>1598.0</td>\n",
       "    </tr>\n",
       "    <tr>\n",
       "      <th>5715</th>\n",
       "      <td>Station wagon</td>\n",
       "      <td>100.0</td>\n",
       "      <td>1598.0</td>\n",
       "    </tr>\n",
       "    <tr>\n",
       "      <th>5716</th>\n",
       "      <td>Station wagon</td>\n",
       "      <td>100.0</td>\n",
       "      <td>NaN</td>\n",
       "    </tr>\n",
       "    <tr>\n",
       "      <th>5717</th>\n",
       "      <td>Compact</td>\n",
       "      <td>100.0</td>\n",
       "      <td>1598.0</td>\n",
       "    </tr>\n",
       "    <tr>\n",
       "      <th>5718</th>\n",
       "      <td>Station wagon</td>\n",
       "      <td>100.0</td>\n",
       "      <td>NaN</td>\n",
       "    </tr>\n",
       "    <tr>\n",
       "      <th>5719</th>\n",
       "      <td>Station wagon</td>\n",
       "      <td>100.0</td>\n",
       "      <td>1600.0</td>\n",
       "    </tr>\n",
       "    <tr>\n",
       "      <th>5720</th>\n",
       "      <td>Station wagon</td>\n",
       "      <td>100.0</td>\n",
       "      <td>1598.0</td>\n",
       "    </tr>\n",
       "    <tr>\n",
       "      <th>5721</th>\n",
       "      <td>Station wagon</td>\n",
       "      <td>100.0</td>\n",
       "      <td>1598.0</td>\n",
       "    </tr>\n",
       "    <tr>\n",
       "      <th>5722</th>\n",
       "      <td>Compact</td>\n",
       "      <td>100.0</td>\n",
       "      <td>1598.0</td>\n",
       "    </tr>\n",
       "    <tr>\n",
       "      <th>5723</th>\n",
       "      <td>Sedans</td>\n",
       "      <td>110.0</td>\n",
       "      <td>1399.0</td>\n",
       "    </tr>\n",
       "    <tr>\n",
       "      <th>5724</th>\n",
       "      <td>Sedans</td>\n",
       "      <td>77.0</td>\n",
       "      <td>999.0</td>\n",
       "    </tr>\n",
       "    <tr>\n",
       "      <th>5725</th>\n",
       "      <td>Station wagon</td>\n",
       "      <td>100.0</td>\n",
       "      <td>1598.0</td>\n",
       "    </tr>\n",
       "    <tr>\n",
       "      <th>5726</th>\n",
       "      <td>Station wagon</td>\n",
       "      <td>100.0</td>\n",
       "      <td>1598.0</td>\n",
       "    </tr>\n",
       "    <tr>\n",
       "      <th>5727</th>\n",
       "      <td>Station wagon</td>\n",
       "      <td>100.0</td>\n",
       "      <td>1598.0</td>\n",
       "    </tr>\n",
       "    <tr>\n",
       "      <th>5728</th>\n",
       "      <td>Sedans</td>\n",
       "      <td>101.0</td>\n",
       "      <td>1598.0</td>\n",
       "    </tr>\n",
       "    <tr>\n",
       "      <th>5729</th>\n",
       "      <td>Compact</td>\n",
       "      <td>110.0</td>\n",
       "      <td>1399.0</td>\n",
       "    </tr>\n",
       "    <tr>\n",
       "      <th>5730</th>\n",
       "      <td>Station wagon</td>\n",
       "      <td>77.0</td>\n",
       "      <td>999.0</td>\n",
       "    </tr>\n",
       "    <tr>\n",
       "      <th>5731</th>\n",
       "      <td>Sedans</td>\n",
       "      <td>100.0</td>\n",
       "      <td>1598.0</td>\n",
       "    </tr>\n",
       "    <tr>\n",
       "      <th>5732</th>\n",
       "      <td>Station wagon</td>\n",
       "      <td>110.0</td>\n",
       "      <td>1399.0</td>\n",
       "    </tr>\n",
       "    <tr>\n",
       "      <th>5733</th>\n",
       "      <td>Station wagon</td>\n",
       "      <td>100.0</td>\n",
       "      <td>1598.0</td>\n",
       "    </tr>\n",
       "    <tr>\n",
       "      <th>5734</th>\n",
       "      <td>Sedans</td>\n",
       "      <td>110.0</td>\n",
       "      <td>1399.0</td>\n",
       "    </tr>\n",
       "    <tr>\n",
       "      <th>5735</th>\n",
       "      <td>Station wagon</td>\n",
       "      <td>110.0</td>\n",
       "      <td>1399.0</td>\n",
       "    </tr>\n",
       "    <tr>\n",
       "      <th>5736</th>\n",
       "      <td>Sedans</td>\n",
       "      <td>112.0</td>\n",
       "      <td>1399.0</td>\n",
       "    </tr>\n",
       "    <tr>\n",
       "      <th>5737</th>\n",
       "      <td>Sedans</td>\n",
       "      <td>110.0</td>\n",
       "      <td>1399.0</td>\n",
       "    </tr>\n",
       "    <tr>\n",
       "      <th>5738</th>\n",
       "      <td>Sedans</td>\n",
       "      <td>77.0</td>\n",
       "      <td>999.0</td>\n",
       "    </tr>\n",
       "    <tr>\n",
       "      <th>5739</th>\n",
       "      <td>Sedans</td>\n",
       "      <td>110.0</td>\n",
       "      <td>1399.0</td>\n",
       "    </tr>\n",
       "    <tr>\n",
       "      <th>5740</th>\n",
       "      <td>Station wagon</td>\n",
       "      <td>110.0</td>\n",
       "      <td>1399.0</td>\n",
       "    </tr>\n",
       "    <tr>\n",
       "      <th>5741</th>\n",
       "      <td>Sedans</td>\n",
       "      <td>110.0</td>\n",
       "      <td>1399.0</td>\n",
       "    </tr>\n",
       "  </tbody>\n",
       "</table>\n",
       "</div>"
      ],
      "text/plain": [
       "          body_type     hp  Displacement\n",
       "5712  Station wagon  100.0        1598.0\n",
       "5713  Station wagon  100.0           NaN\n",
       "5714  Station wagon  100.0        1598.0\n",
       "5715  Station wagon  100.0        1598.0\n",
       "5716  Station wagon  100.0           NaN\n",
       "5717        Compact  100.0        1598.0\n",
       "5718  Station wagon  100.0           NaN\n",
       "5719  Station wagon  100.0        1600.0\n",
       "5720  Station wagon  100.0        1598.0\n",
       "5721  Station wagon  100.0        1598.0\n",
       "5722        Compact  100.0        1598.0\n",
       "5723         Sedans  110.0        1399.0\n",
       "5724         Sedans   77.0         999.0\n",
       "5725  Station wagon  100.0        1598.0\n",
       "5726  Station wagon  100.0        1598.0\n",
       "5727  Station wagon  100.0        1598.0\n",
       "5728         Sedans  101.0        1598.0\n",
       "5729        Compact  110.0        1399.0\n",
       "5730  Station wagon   77.0         999.0\n",
       "5731         Sedans  100.0        1598.0\n",
       "5732  Station wagon  110.0        1399.0\n",
       "5733  Station wagon  100.0        1598.0\n",
       "5734         Sedans  110.0        1399.0\n",
       "5735  Station wagon  110.0        1399.0\n",
       "5736         Sedans  112.0        1399.0\n",
       "5737         Sedans  110.0        1399.0\n",
       "5738         Sedans   77.0         999.0\n",
       "5739         Sedans  110.0        1399.0\n",
       "5740  Station wagon  110.0        1399.0\n",
       "5741         Sedans  110.0        1399.0"
      ]
     },
     "execution_count": 26,
     "metadata": {},
     "output_type": "execute_result"
    }
   ],
   "source": [
    "df[df.make_model == 'Opel Astra'][['body_type','hp', 'Displacement']].head(30)"
   ]
  },
  {
   "cell_type": "code",
   "execution_count": 27,
   "id": "09815b58",
   "metadata": {},
   "outputs": [],
   "source": [
    "mode_hp = df[~(df['Displacement'].isnull())]\\\n",
    "              .groupby(['make_model','body_type','Displacement'])['hp']\\\n",
    "              .transform(lambda x: x.mode()[0] if list(x.mode()) != [] else np.nan)"
   ]
  },
  {
   "cell_type": "code",
   "execution_count": 28,
   "id": "a5e6d824",
   "metadata": {},
   "outputs": [],
   "source": [
    "df.loc[~(df['Displacement'].isnull()),\"hp\"] = df.loc[~(df['Displacement'].isnull()),\"hp\"].fillna(mode_hp)"
   ]
  },
  {
   "cell_type": "code",
   "execution_count": 29,
   "id": "16c18f20",
   "metadata": {},
   "outputs": [],
   "source": [
    "mode_hp1 = df[~(df['Cylinders'].isnull())]\\\n",
    "              .groupby(['make_model','body_type','Cylinders'])['hp']\\\n",
    "              .transform(lambda x: x.mode()[0] if list(x.mode()) != [] else np.nan)"
   ]
  },
  {
   "cell_type": "code",
   "execution_count": 30,
   "id": "b8768568",
   "metadata": {},
   "outputs": [],
   "source": [
    "df.loc[~(df['Cylinders'].isnull()),\"hp\"] = df.loc[~(df['Cylinders'].isnull()),\"hp\"].fillna(mode_hp1)"
   ]
  },
  {
   "cell_type": "code",
   "execution_count": 31,
   "id": "5d3cef0f",
   "metadata": {},
   "outputs": [],
   "source": [
    "mode_hp2 = df.groupby(['make_model','body_type'])['hp']\\\n",
    "              .transform(lambda x: x.mode()[0] if list(x.mode()) != [] else np.nan)"
   ]
  },
  {
   "cell_type": "code",
   "execution_count": 32,
   "id": "d0391c75",
   "metadata": {},
   "outputs": [],
   "source": [
    "df['hp'] = df['hp'].fillna(mode_hp2)"
   ]
  },
  {
   "cell_type": "code",
   "execution_count": 33,
   "id": "94cbeb6d",
   "metadata": {},
   "outputs": [
    {
     "data": {
      "text/plain": [
       "0"
      ]
     },
     "execution_count": 33,
     "metadata": {},
     "output_type": "execute_result"
    }
   ],
   "source": [
    "df['hp'].isnull().sum()"
   ]
  },
  {
   "cell_type": "markdown",
   "id": "b11aa8e6",
   "metadata": {},
   "source": [
    " ### 7) Type"
   ]
  },
  {
   "cell_type": "code",
   "execution_count": null,
   "id": "53abd7fd",
   "metadata": {},
   "outputs": [],
   "source": [
    "df['Type'].value_counts(dropna=False)"
   ]
  },
  {
   "cell_type": "code",
   "execution_count": null,
   "id": "b969ddd2",
   "metadata": {},
   "outputs": [],
   "source": [
    "df['Type'] = df['Type'].fillna('Used')"
   ]
  },
  {
   "cell_type": "markdown",
   "id": "1059d757",
   "metadata": {},
   "source": [
    "### 8) Next Inspection"
   ]
  },
  {
   "cell_type": "code",
   "execution_count": 34,
   "id": "bee5418a",
   "metadata": {},
   "outputs": [
    {
     "data": {
      "text/plain": [
       "NaN           12384\n",
       "2021-06-01      471\n",
       "2021-03-01      210\n",
       "2021-05-01      180\n",
       "2021-04-01      171\n",
       "              ...  \n",
       "2017-12-01        1\n",
       "2018-01-01        1\n",
       "2017-02-01        1\n",
       "2016-05-01        1\n",
       "2024-03-01        1\n",
       "Name: Next Inspection, Length: 78, dtype: int64"
      ]
     },
     "execution_count": 34,
     "metadata": {},
     "output_type": "execute_result"
    }
   ],
   "source": [
    "df['Next Inspection'].value_counts(dropna=False)"
   ]
  },
  {
   "cell_type": "code",
   "execution_count": 35,
   "id": "8814bd02",
   "metadata": {},
   "outputs": [],
   "source": [
    "df.drop([\"Next Inspection\"],axis=1,inplace=True)"
   ]
  },
  {
   "cell_type": "markdown",
   "id": "86663f5e",
   "metadata": {},
   "source": [
    "### 9) Inspection New"
   ]
  },
  {
   "cell_type": "code",
   "execution_count": 36,
   "id": "43b07aec",
   "metadata": {},
   "outputs": [
    {
     "data": {
      "text/plain": [
       "NaN    11987\n",
       "Yes     3932\n",
       "Name: Inspection new, dtype: int64"
      ]
     },
     "execution_count": 36,
     "metadata": {},
     "output_type": "execute_result"
    }
   ],
   "source": [
    "df['Inspection new'].value_counts(dropna=False)"
   ]
  },
  {
   "cell_type": "code",
   "execution_count": 37,
   "id": "6aa6761a",
   "metadata": {},
   "outputs": [],
   "source": [
    "df['Inspection new'] = df['Inspection new'].fillna('No')"
   ]
  },
  {
   "cell_type": "markdown",
   "id": "a29fb09a",
   "metadata": {},
   "source": [
    "### 10) Warranty(months)"
   ]
  },
  {
   "cell_type": "code",
   "execution_count": 38,
   "id": "9ce25b6c",
   "metadata": {},
   "outputs": [
    {
     "data": {
      "text/plain": [
       "NaN     11066\n",
       "12.0     2594\n",
       "24.0     1118\n",
       "60.0      401\n",
       "36.0      279\n",
       "48.0      149\n",
       "6.0       125\n",
       "72.0       59\n",
       "3.0        33\n",
       "23.0       11\n",
       "18.0       10\n",
       "20.0        7\n",
       "25.0        6\n",
       "2.0         5\n",
       "26.0        4\n",
       "50.0        4\n",
       "16.0        4\n",
       "1.0         3\n",
       "4.0         3\n",
       "34.0        3\n",
       "19.0        3\n",
       "13.0        3\n",
       "11.0        2\n",
       "21.0        2\n",
       "14.0        2\n",
       "17.0        2\n",
       "45.0        2\n",
       "46.0        2\n",
       "9.0         2\n",
       "22.0        2\n",
       "28.0        2\n",
       "56.0        1\n",
       "47.0        1\n",
       "10.0        1\n",
       "8.0         1\n",
       "7.0         1\n",
       "40.0        1\n",
       "33.0        1\n",
       "65.0        1\n",
       "15.0        1\n",
       "30.0        1\n",
       "49.0        1\n",
       "Name: Warranty(months), dtype: int64"
      ]
     },
     "execution_count": 38,
     "metadata": {},
     "output_type": "execute_result"
    }
   ],
   "source": [
    "df['Warranty(months)'].value_counts(dropna=False)"
   ]
  },
  {
   "cell_type": "code",
   "execution_count": 39,
   "id": "2909ae40",
   "metadata": {},
   "outputs": [],
   "source": [
    "df['Warranty(months)'] = df['Warranty(months)'].fillna(0.0)"
   ]
  },
  {
   "cell_type": "markdown",
   "id": "d6c480d4",
   "metadata": {},
   "source": [
    "### 11) Body Color"
   ]
  },
  {
   "cell_type": "code",
   "execution_count": 40,
   "id": "21b1e129",
   "metadata": {},
   "outputs": [
    {
     "data": {
      "text/plain": [
       "Black     3745\n",
       "Grey      3505\n",
       "White     3406\n",
       "Silver    1647\n",
       "Blue      1431\n",
       "Red        957\n",
       "NaN        597\n",
       "Brown      289\n",
       "Green      154\n",
       "Beige      108\n",
       "Yellow      51\n",
       "Violet      18\n",
       "Bronze       6\n",
       "Orange       3\n",
       "Gold         2\n",
       "Name: Body Color, dtype: int64"
      ]
     },
     "execution_count": 40,
     "metadata": {},
     "output_type": "execute_result"
    }
   ],
   "source": [
    "df['Body Color'].value_counts(dropna=False)"
   ]
  },
  {
   "cell_type": "code",
   "execution_count": 41,
   "id": "37503de6",
   "metadata": {},
   "outputs": [],
   "source": [
    "mode_color = df.groupby(['make_model','body_type'])['Body Color']\\\n",
    "              .transform(lambda x: x.mode()[0] if list(x.mode()) != [] else np.nan)"
   ]
  },
  {
   "cell_type": "code",
   "execution_count": 42,
   "id": "e0a70611",
   "metadata": {},
   "outputs": [],
   "source": [
    "df['Body Color'] = df['Body Color'].fillna(mode_color)"
   ]
  },
  {
   "cell_type": "code",
   "execution_count": 43,
   "id": "6a798d36",
   "metadata": {},
   "outputs": [],
   "source": [
    "mode_color1 = df.groupby(['make_model'])['Body Color']\\\n",
    "              .transform(lambda x: x.mode()[0] if list(x.mode()) != [] else np.nan)"
   ]
  },
  {
   "cell_type": "code",
   "execution_count": 44,
   "id": "8a21a978",
   "metadata": {},
   "outputs": [],
   "source": [
    "df['Body Color'] = df['Body Color'].fillna(mode_color1)"
   ]
  },
  {
   "cell_type": "markdown",
   "id": "653383d6",
   "metadata": {},
   "source": [
    "### 11) Paint Type"
   ]
  },
  {
   "cell_type": "code",
   "execution_count": 45,
   "id": "699c9ba0",
   "metadata": {},
   "outputs": [
    {
     "data": {
      "text/plain": [
       "Metallic       9794\n",
       "NaN            5772\n",
       "Uni/basic       347\n",
       "Perl effect       6\n",
       "Name: Paint Type, dtype: int64"
      ]
     },
     "execution_count": 45,
     "metadata": {},
     "output_type": "execute_result"
    }
   ],
   "source": [
    "df['Paint Type'].value_counts(dropna=False)"
   ]
  },
  {
   "cell_type": "code",
   "execution_count": 46,
   "id": "310263b1",
   "metadata": {},
   "outputs": [],
   "source": [
    "mode_paint = df.groupby(['make_model','body_type'])['Paint Type']\\\n",
    "              .transform(lambda x: x.mode()[0] if list(x.mode()) != [] else np.nan)"
   ]
  },
  {
   "cell_type": "code",
   "execution_count": 47,
   "id": "d1891cb9",
   "metadata": {},
   "outputs": [],
   "source": [
    "df['Paint Type'] = df['Paint Type'].fillna(mode_paint)"
   ]
  },
  {
   "cell_type": "code",
   "execution_count": 48,
   "id": "b56093e1",
   "metadata": {},
   "outputs": [],
   "source": [
    "mode_paint1 = df.groupby(['make_model'])['Paint Type']\\\n",
    "              .transform(lambda x: x.mode()[0] if list(x.mode()) != [] else np.nan)"
   ]
  },
  {
   "cell_type": "code",
   "execution_count": 49,
   "id": "82cc55d6",
   "metadata": {},
   "outputs": [],
   "source": [
    "df['Paint Type'] = df['Paint Type'].fillna(mode_paint1)"
   ]
  },
  {
   "cell_type": "markdown",
   "id": "3b3ec3ce",
   "metadata": {},
   "source": [
    "### 13) Nr. of Doors"
   ]
  },
  {
   "cell_type": "code",
   "execution_count": 50,
   "id": "9d9d4647",
   "metadata": {},
   "outputs": [
    {
     "data": {
      "text/plain": [
       "5.0    11575\n",
       "4.0     3079\n",
       "3.0      832\n",
       "2.0      219\n",
       "NaN      212\n",
       "7.0        1\n",
       "1.0        1\n",
       "Name: Nr. of Doors, dtype: int64"
      ]
     },
     "execution_count": 50,
     "metadata": {},
     "output_type": "execute_result"
    }
   ],
   "source": [
    "df['Nr. of Doors'].value_counts(dropna=False)"
   ]
  },
  {
   "cell_type": "code",
   "execution_count": 51,
   "id": "3595e89a",
   "metadata": {},
   "outputs": [],
   "source": [
    "mode_nr_doors = df.groupby(['make_model','body_type'])['Nr. of Doors']\\\n",
    "              .transform(lambda x: x.mode()[0] if list(x.mode()) != [] else np.nan)"
   ]
  },
  {
   "cell_type": "code",
   "execution_count": 52,
   "id": "4584f503",
   "metadata": {},
   "outputs": [],
   "source": [
    "df['Nr. of Doors'] = df['Nr. of Doors'].fillna(mode_nr_doors)"
   ]
  },
  {
   "cell_type": "code",
   "execution_count": 53,
   "id": "6f857fea",
   "metadata": {},
   "outputs": [],
   "source": [
    "mode_nr_doors1 = df.groupby(['make_model'])['Nr. of Doors']\\\n",
    "              .transform(lambda x: x.mode()[0] if list(x.mode()) != [] else np.nan)"
   ]
  },
  {
   "cell_type": "code",
   "execution_count": 54,
   "id": "cc0f93b6",
   "metadata": {},
   "outputs": [],
   "source": [
    "df['Nr. of Doors'] = df['Nr. of Doors'].fillna(mode_nr_doors1)"
   ]
  },
  {
   "cell_type": "markdown",
   "id": "39a7d2af",
   "metadata": {},
   "source": [
    "### 14) Nr. of Seats"
   ]
  },
  {
   "cell_type": "code",
   "execution_count": 55,
   "id": "40df31bb",
   "metadata": {},
   "outputs": [
    {
     "data": {
      "text/plain": [
       "5.0    13336\n",
       "4.0     1125\n",
       "NaN      977\n",
       "7.0      362\n",
       "2.0      116\n",
       "6.0        2\n",
       "3.0        1\n",
       "Name: Nr. of Seats, dtype: int64"
      ]
     },
     "execution_count": 55,
     "metadata": {},
     "output_type": "execute_result"
    }
   ],
   "source": [
    "df['Nr. of Seats'].value_counts(dropna=False)"
   ]
  },
  {
   "cell_type": "code",
   "execution_count": 56,
   "id": "f5080fee",
   "metadata": {},
   "outputs": [],
   "source": [
    "mode_nr_seats = df.groupby(['make_model','body_type'])['Nr. of Seats']\\\n",
    "              .transform(lambda x: x.mode()[0] if list(x.mode()) != [] else np.nan)"
   ]
  },
  {
   "cell_type": "code",
   "execution_count": 57,
   "id": "2bc3fbbb",
   "metadata": {},
   "outputs": [],
   "source": [
    "df['Nr. of Seats'] = df['Nr. of Seats'].fillna(mode_nr_seats)"
   ]
  },
  {
   "cell_type": "code",
   "execution_count": 58,
   "id": "4888952a",
   "metadata": {},
   "outputs": [],
   "source": [
    "mode_nr_seats1 = df.groupby(['make_model'])['Nr. of Seats']\\\n",
    "              .transform(lambda x: x.mode()[0] if list(x.mode()) != [] else np.nan)"
   ]
  },
  {
   "cell_type": "code",
   "execution_count": 59,
   "id": "e4d55a6c",
   "metadata": {},
   "outputs": [],
   "source": [
    "df['Nr. of Seats'] = df['Nr. of Seats'].fillna(mode_nr_seats1)"
   ]
  },
  {
   "cell_type": "markdown",
   "id": "3e93a2d6",
   "metadata": {},
   "source": [
    "### 15) Gearing Type"
   ]
  },
  {
   "cell_type": "code",
   "execution_count": 60,
   "id": "da75de9d",
   "metadata": {},
   "outputs": [
    {
     "data": {
      "text/plain": [
       "Manual            8153\n",
       "Automatic         7297\n",
       "Semi-automatic     469\n",
       "Name: Gearing Type, dtype: int64"
      ]
     },
     "execution_count": 60,
     "metadata": {},
     "output_type": "execute_result"
    }
   ],
   "source": [
    "df['Gearing Type'].value_counts(dropna=False)"
   ]
  },
  {
   "cell_type": "markdown",
   "id": "57e9a93a",
   "metadata": {},
   "source": [
    "### 16) Displacement"
   ]
  },
  {
   "cell_type": "code",
   "execution_count": 61,
   "id": "9aad17d5",
   "metadata": {},
   "outputs": [
    {
     "data": {
      "text/plain": [
       "1598.0    4761\n",
       "999.0     2438\n",
       "1398.0    1314\n",
       "1399.0     749\n",
       "1229.0     677\n",
       "          ... \n",
       "2967.0       1\n",
       "1390.0       1\n",
       "140.0        1\n",
       "1350.0       1\n",
       "1198.0       1\n",
       "Name: Displacement, Length: 78, dtype: int64"
      ]
     },
     "execution_count": 61,
     "metadata": {},
     "output_type": "execute_result"
    }
   ],
   "source": [
    "df['Displacement'].value_counts(dropna=False)"
   ]
  },
  {
   "cell_type": "code",
   "execution_count": 62,
   "id": "a4d32922",
   "metadata": {},
   "outputs": [
    {
     "data": {
      "text/plain": [
       "496"
      ]
     },
     "execution_count": 62,
     "metadata": {},
     "output_type": "execute_result"
    }
   ],
   "source": [
    "df['Displacement'].isnull().sum()"
   ]
  },
  {
   "cell_type": "code",
   "execution_count": 63,
   "id": "633642cd",
   "metadata": {},
   "outputs": [],
   "source": [
    "mode_displacement = df.groupby(['make_model','body_type','hp'])['Displacement']\\\n",
    "              .transform(lambda x: x.mode()[0] if list(x.mode()) != [] else np.nan)"
   ]
  },
  {
   "cell_type": "code",
   "execution_count": 64,
   "id": "71e70a9a",
   "metadata": {},
   "outputs": [],
   "source": [
    "df['Displacement'] = df['Displacement'].fillna(mode_displacement)"
   ]
  },
  {
   "cell_type": "code",
   "execution_count": 65,
   "id": "1d0b0fb3",
   "metadata": {},
   "outputs": [],
   "source": [
    "mode_displacement1 = df.groupby(['make_model','body_type'])['Displacement']\\\n",
    "              .transform(lambda x: x.mode()[0] if list(x.mode()) != [] else np.nan)"
   ]
  },
  {
   "cell_type": "code",
   "execution_count": 66,
   "id": "010611e2",
   "metadata": {},
   "outputs": [],
   "source": [
    "df['Displacement'] = df['Displacement'].fillna(mode_displacement1)"
   ]
  },
  {
   "cell_type": "code",
   "execution_count": 67,
   "id": "5c4bca6d",
   "metadata": {},
   "outputs": [],
   "source": [
    "mode_displacement2 = df.groupby(['make_model'])['Displacement']\\\n",
    "              .transform(lambda x: x.mode()[0] if list(x.mode()) != [] else np.nan)"
   ]
  },
  {
   "cell_type": "code",
   "execution_count": 68,
   "id": "7e83ff8a",
   "metadata": {},
   "outputs": [],
   "source": [
    "df['Displacement'] = df['Displacement'].fillna(mode_displacement2)"
   ]
  },
  {
   "cell_type": "markdown",
   "id": "c442c669",
   "metadata": {},
   "source": [
    "### 16) Cylinders"
   ]
  },
  {
   "cell_type": "code",
   "execution_count": 72,
   "id": "d194b379",
   "metadata": {},
   "outputs": [
    {
     "data": {
      "text/plain": [
       "4.0    8105\n",
       "NaN    5680\n",
       "3.0    2104\n",
       "5.0      22\n",
       "6.0       3\n",
       "2.0       2\n",
       "8.0       2\n",
       "1.0       1\n",
       "Name: Cylinders, dtype: int64"
      ]
     },
     "execution_count": 72,
     "metadata": {},
     "output_type": "execute_result"
    }
   ],
   "source": [
    "df['Cylinders'].value_counts(dropna=False)"
   ]
  },
  {
   "cell_type": "code",
   "execution_count": 73,
   "id": "56c94193",
   "metadata": {},
   "outputs": [],
   "source": [
    "mode_cylinders = df.groupby(['make_model', 'Displacement'])['Cylinders']\\\n",
    "              .transform(lambda x: x.mode()[0] if list(x.mode()) != [] else np.nan)"
   ]
  },
  {
   "cell_type": "code",
   "execution_count": 74,
   "id": "84e33de8",
   "metadata": {},
   "outputs": [],
   "source": [
    "df['Cylinders'] = df['Cylinders'].fillna(mode_cylinders)"
   ]
  },
  {
   "cell_type": "code",
   "execution_count": 125,
   "id": "7a2b7441",
   "metadata": {},
   "outputs": [],
   "source": [
    "mode_cylinders1 = df.groupby(['make_model', 'Weight(kg)'])['Cylinders']\\\n",
    "              .transform(lambda x: x.mode()[0] if list(x.mode()) != [] else np.nan)"
   ]
  },
  {
   "cell_type": "code",
   "execution_count": 126,
   "id": "b38b1983",
   "metadata": {},
   "outputs": [],
   "source": [
    "df['Cylinders'] = df['Cylinders'].fillna(mode_cylinders1)"
   ]
  },
  {
   "cell_type": "code",
   "execution_count": 127,
   "id": "c41c2a57",
   "metadata": {},
   "outputs": [],
   "source": [
    "mode_cylinders2 = df.groupby(['make_model'])['Cylinders']\\\n",
    "              .transform(lambda x: x.mode()[0] if list(x.mode()) != [] else np.nan)"
   ]
  },
  {
   "cell_type": "code",
   "execution_count": 128,
   "id": "6b74964f",
   "metadata": {},
   "outputs": [],
   "source": [
    "df['Cylinders'] = df['Cylinders'].fillna(mode_cylinders2)"
   ]
  },
  {
   "cell_type": "code",
   "execution_count": 129,
   "id": "50b83dbe",
   "metadata": {},
   "outputs": [],
   "source": [
    "df['Cylinders'] = df['Cylinders'].fillna(4.0)"
   ]
  },
  {
   "cell_type": "markdown",
   "id": "0d96afa3",
   "metadata": {},
   "source": [
    "### 17) Weight(kg)"
   ]
  },
  {
   "cell_type": "code",
   "execution_count": 77,
   "id": "e9248cbc",
   "metadata": {},
   "outputs": [
    {
     "data": {
      "text/plain": [
       "Index(['make_model', 'body_type', 'price', 'vat', 'km', 'registration',\n",
       "       'prev_owner', 'hp', 'Type', 'Inspection new', 'Warranty(months)',\n",
       "       'Body Color', 'Paint Type', 'Upholstery', 'Nr. of Doors',\n",
       "       'Nr. of Seats', 'Gearing Type', 'Displacement', 'Cylinders',\n",
       "       'Weight(kg)', 'Drive chain', 'Fuel', 'CO2 Emission(g CO2/km)',\n",
       "       'Emission Class', 'Comfort&Convenience', 'Entertainment&Media',\n",
       "       'Extras', 'Safety & Security', 'description', 'Gears',\n",
       "       'upholstery_material', 'Consumption_combined', 'Consumption_city',\n",
       "       'Consumption_country'],\n",
       "      dtype='object')"
      ]
     },
     "execution_count": 77,
     "metadata": {},
     "output_type": "execute_result"
    }
   ],
   "source": [
    "df.columns"
   ]
  },
  {
   "cell_type": "code",
   "execution_count": 78,
   "id": "8c69be85",
   "metadata": {},
   "outputs": [
    {
     "data": {
      "text/plain": [
       "NaN       6974\n",
       "1163.0     574\n",
       "1360.0     356\n",
       "1165.0     301\n",
       "1335.0     242\n",
       "          ... \n",
       "900.0        1\n",
       "1650.0       1\n",
       "1428.0       1\n",
       "2355.0       1\n",
       "1523.0       1\n",
       "Name: Weight(kg), Length: 435, dtype: int64"
      ]
     },
     "execution_count": 78,
     "metadata": {},
     "output_type": "execute_result"
    }
   ],
   "source": [
    "df['Weight(kg)'].value_counts(dropna=False)"
   ]
  },
  {
   "cell_type": "code",
   "execution_count": 79,
   "id": "807a49e3",
   "metadata": {},
   "outputs": [],
   "source": [
    "mode_weight = df.groupby(['make_model', 'Displacement'])['Weight(kg)']\\\n",
    "              .transform(lambda x: x.mode()[0] if list(x.mode()) != [] else np.nan)"
   ]
  },
  {
   "cell_type": "code",
   "execution_count": 80,
   "id": "d0172dd0",
   "metadata": {},
   "outputs": [],
   "source": [
    "df['Weight(kg)'] = df['Weight(kg)'].fillna(mode_weight)"
   ]
  },
  {
   "cell_type": "code",
   "execution_count": 81,
   "id": "c0dfa796",
   "metadata": {},
   "outputs": [],
   "source": [
    "mode_weight1 = df.groupby(['make_model'])['Weight(kg)']\\\n",
    "              .transform(lambda x: x.mode()[0] if list(x.mode()) != [] else np.nan)"
   ]
  },
  {
   "cell_type": "code",
   "execution_count": 82,
   "id": "9f18bd44",
   "metadata": {},
   "outputs": [],
   "source": [
    "df['Weight(kg)'] = df['Weight(kg)'].fillna(mode_weight1)"
   ]
  },
  {
   "cell_type": "code",
   "execution_count": 83,
   "id": "f5007cfb",
   "metadata": {},
   "outputs": [],
   "source": [
    "mode_weight2 = df.groupby(['make_model', 'hp'])['Weight(kg)']\\\n",
    "              .transform(lambda x: x.mode()[0] if list(x.mode()) != [] else np.nan)"
   ]
  },
  {
   "cell_type": "code",
   "execution_count": 84,
   "id": "59d5dc22",
   "metadata": {},
   "outputs": [],
   "source": [
    "df['Weight(kg)'] = df['Weight(kg)'].fillna(mode_weight2)"
   ]
  },
  {
   "cell_type": "code",
   "execution_count": 85,
   "id": "f24f1ea7",
   "metadata": {},
   "outputs": [],
   "source": [
    "mode_weight3 = df.groupby(['body_type'])['Weight(kg)']\\\n",
    "              .transform(lambda x: x.mode()[0] if list(x.mode()) != [] else np.nan)"
   ]
  },
  {
   "cell_type": "code",
   "execution_count": 86,
   "id": "e63411d2",
   "metadata": {},
   "outputs": [],
   "source": [
    "df['Weight(kg)'] = df['Weight(kg)'].fillna(mode_weight3)"
   ]
  },
  {
   "cell_type": "markdown",
   "id": "fe45fc55",
   "metadata": {},
   "source": [
    "### 18) Drive Chain"
   ]
  },
  {
   "cell_type": "code",
   "execution_count": 87,
   "id": "8808ca1b",
   "metadata": {},
   "outputs": [
    {
     "data": {
      "text/plain": [
       "front    8886\n",
       "NaN      6858\n",
       "4WD       171\n",
       "rear        4\n",
       "Name: Drive chain, dtype: int64"
      ]
     },
     "execution_count": 87,
     "metadata": {},
     "output_type": "execute_result"
    }
   ],
   "source": [
    "df['Drive chain'].value_counts(dropna=False)"
   ]
  },
  {
   "cell_type": "code",
   "execution_count": 88,
   "id": "a61658dc",
   "metadata": {},
   "outputs": [],
   "source": [
    "mode_drive_chain = df.groupby(['make_model', 'body_type'])['Drive chain']\\\n",
    "              .transform(lambda x: x.mode()[0] if list(x.mode()) != [] else np.nan)"
   ]
  },
  {
   "cell_type": "code",
   "execution_count": 89,
   "id": "e0873216",
   "metadata": {},
   "outputs": [],
   "source": [
    "df['Drive chain'] = df['Drive chain'].fillna(mode_drive_chain)"
   ]
  },
  {
   "cell_type": "code",
   "execution_count": 90,
   "id": "39f30893",
   "metadata": {},
   "outputs": [],
   "source": [
    "mode_drive_chain1 = df.groupby(['make_model'])['Drive chain']\\\n",
    "              .transform(lambda x: x.mode()[0] if list(x.mode()) != [] else np.nan)"
   ]
  },
  {
   "cell_type": "code",
   "execution_count": 91,
   "id": "dede325c",
   "metadata": {},
   "outputs": [],
   "source": [
    "df['Drive chain'] = df['Drive chain'].fillna(mode_drive_chain1)"
   ]
  },
  {
   "cell_type": "markdown",
   "id": "b2db06b6",
   "metadata": {},
   "source": [
    "### 19) Fuel"
   ]
  },
  {
   "cell_type": "code",
   "execution_count": 92,
   "id": "062d868f",
   "metadata": {},
   "outputs": [
    {
     "data": {
      "text/plain": [
       "Benzine     8549\n",
       "Diesel      7299\n",
       "Gas           64\n",
       "Others         6\n",
       "Electric       1\n",
       "Name: Fuel, dtype: int64"
      ]
     },
     "execution_count": 92,
     "metadata": {},
     "output_type": "execute_result"
    }
   ],
   "source": [
    "df['Fuel'].value_counts(dropna=False)"
   ]
  },
  {
   "cell_type": "markdown",
   "id": "82ccae22",
   "metadata": {},
   "source": [
    "### 20) CO2 Emission(g CO2/km)"
   ]
  },
  {
   "cell_type": "code",
   "execution_count": 93,
   "id": "0039cd27",
   "metadata": {},
   "outputs": [
    {
     "data": {
      "text/plain": [
       "NaN      2436\n",
       "120.0     740\n",
       "99.0      545\n",
       "97.0      537\n",
       "104.0     501\n",
       "         ... \n",
       "193.0       1\n",
       "239.0       1\n",
       "51.0        1\n",
       "45.0        1\n",
       "253.0       1\n",
       "Name: CO2 Emission(g CO2/km), Length: 120, dtype: int64"
      ]
     },
     "execution_count": 93,
     "metadata": {},
     "output_type": "execute_result"
    }
   ],
   "source": [
    "df['CO2 Emission(g CO2/km)'].value_counts(dropna=False)"
   ]
  },
  {
   "cell_type": "code",
   "execution_count": 94,
   "id": "cffe12bd",
   "metadata": {},
   "outputs": [],
   "source": [
    "mode_CO2 = df.groupby(['make_model','Displacement'])['CO2 Emission(g CO2/km)']\\\n",
    "              .transform(lambda x: x.mode()[0] if list(x.mode()) != [] else np.nan)"
   ]
  },
  {
   "cell_type": "code",
   "execution_count": 95,
   "id": "f8923ff4",
   "metadata": {},
   "outputs": [],
   "source": [
    "df['CO2 Emission(g CO2/km)'] = df['CO2 Emission(g CO2/km)'].fillna(mode_CO2)"
   ]
  },
  {
   "cell_type": "code",
   "execution_count": 96,
   "id": "dea82e91",
   "metadata": {},
   "outputs": [],
   "source": [
    "mode_CO2_1 = df.groupby(['make_model'])['CO2 Emission(g CO2/km)']\\\n",
    "              .transform(lambda x: x.mode()[0] if list(x.mode()) != [] else np.nan)"
   ]
  },
  {
   "cell_type": "code",
   "execution_count": 97,
   "id": "ec986c3f",
   "metadata": {},
   "outputs": [],
   "source": [
    "df['CO2 Emission(g CO2/km)'] = df['CO2 Emission(g CO2/km)'].fillna(mode_CO2_1)"
   ]
  },
  {
   "cell_type": "code",
   "execution_count": 98,
   "id": "af1cc71a",
   "metadata": {},
   "outputs": [],
   "source": [
    "mode_CO2_2 = df.groupby(['body_type'])['CO2 Emission(g CO2/km)']\\\n",
    "              .transform(lambda x: x.mode()[0] if list(x.mode()) != [] else np.nan)"
   ]
  },
  {
   "cell_type": "code",
   "execution_count": 99,
   "id": "eb2355ae",
   "metadata": {},
   "outputs": [],
   "source": [
    "df['CO2 Emission(g CO2/km)'] = df['CO2 Emission(g CO2/km)'].fillna(mode_CO2_2)"
   ]
  },
  {
   "cell_type": "markdown",
   "id": "56b154f1",
   "metadata": {},
   "source": [
    "### 21) Emission Class"
   ]
  },
  {
   "cell_type": "code",
   "execution_count": 100,
   "id": "ac5ea3bc",
   "metadata": {},
   "outputs": [
    {
     "data": {
      "text/plain": [
       "Euro 6    12173\n",
       "NaN        3628\n",
       "Euro 5       78\n",
       "Euro 4       40\n",
       "Name: Emission Class, dtype: int64"
      ]
     },
     "execution_count": 100,
     "metadata": {},
     "output_type": "execute_result"
    }
   ],
   "source": [
    "df['Emission Class'].value_counts(dropna=False)"
   ]
  },
  {
   "cell_type": "code",
   "execution_count": 101,
   "id": "a7db7ff1",
   "metadata": {},
   "outputs": [],
   "source": [
    "mode_Emision_C= df.groupby(['CO2 Emission(g CO2/km)'])['Emission Class']\\\n",
    "              .transform(lambda x: x.mode()[0] if list(x.mode()) != [] else np.nan)"
   ]
  },
  {
   "cell_type": "code",
   "execution_count": 102,
   "id": "22d8d99b",
   "metadata": {},
   "outputs": [],
   "source": [
    "df['Emission Class'] = df['Emission Class'].fillna(mode_Emision_C)"
   ]
  },
  {
   "cell_type": "code",
   "execution_count": 103,
   "id": "486a0d5f",
   "metadata": {},
   "outputs": [],
   "source": [
    "mode_Emision_C1= df.groupby(['registration'])['Emission Class']\\\n",
    "              .transform(lambda x: x.mode()[0] if list(x.mode()) != [] else np.nan)"
   ]
  },
  {
   "cell_type": "code",
   "execution_count": 104,
   "id": "db715d48",
   "metadata": {},
   "outputs": [],
   "source": [
    "df['Emission Class'] = df['Emission Class'].fillna(mode_Emision_C1)"
   ]
  },
  {
   "cell_type": "markdown",
   "id": "ea0f66e4",
   "metadata": {},
   "source": [
    "### 22) Gears"
   ]
  },
  {
   "cell_type": "code",
   "execution_count": 105,
   "id": "394b6cd6",
   "metadata": {},
   "outputs": [
    {
     "data": {
      "text/plain": [
       "6.0    5822\n",
       "NaN    4712\n",
       "5.0    3240\n",
       "7.0    1908\n",
       "8.0     224\n",
       "9.0       6\n",
       "4.0       2\n",
       "3.0       2\n",
       "1.0       2\n",
       "2.0       1\n",
       "Name: Gears, dtype: int64"
      ]
     },
     "execution_count": 105,
     "metadata": {},
     "output_type": "execute_result"
    }
   ],
   "source": [
    "df['Gears'].value_counts(dropna=False)"
   ]
  },
  {
   "cell_type": "code",
   "execution_count": 106,
   "id": "7ed37474",
   "metadata": {},
   "outputs": [],
   "source": [
    "mode_Gears= df.groupby(['make_model','Gearing Type'])['Gears']\\\n",
    "              .transform(lambda x: x.mode()[0] if list(x.mode()) != [] else np.nan)"
   ]
  },
  {
   "cell_type": "code",
   "execution_count": 107,
   "id": "16b04518",
   "metadata": {},
   "outputs": [],
   "source": [
    "df['Gears'] = df['Gears'].fillna(mode_Gears)"
   ]
  },
  {
   "cell_type": "code",
   "execution_count": 108,
   "id": "66905d81",
   "metadata": {},
   "outputs": [],
   "source": [
    "mode_Gears1= df.groupby(['Gearing Type'])['Gears']\\\n",
    "              .transform(lambda x: x.mode()[0] if list(x.mode()) != [] else np.nan)"
   ]
  },
  {
   "cell_type": "code",
   "execution_count": 109,
   "id": "bdbb4f52",
   "metadata": {},
   "outputs": [],
   "source": [
    "df['Gears'] = df['Gears'].fillna(mode_Gears1)"
   ]
  },
  {
   "cell_type": "markdown",
   "id": "c9e503c2",
   "metadata": {},
   "source": [
    "### 24) Upholstery Material"
   ]
  },
  {
   "cell_type": "code",
   "execution_count": 110,
   "id": "35188ed7",
   "metadata": {},
   "outputs": [
    {
     "data": {
      "text/plain": [
       "Cloth, Black           5821\n",
       "NaN                    4503\n",
       "Part leather, Black    1121\n",
       "Cloth                  1005\n",
       "Cloth, Grey             891\n",
       "Cloth, Other            639\n",
       "Full leather, Black     575\n",
       "Other, Other            182\n",
       "Part leather            140\n",
       "Full leather            139\n",
       "Full leather, Brown     116\n",
       "Part leather, Grey      116\n",
       "Other, Black            110\n",
       "Full leather, Other      72\n",
       "Full leather, Grey       67\n",
       "Part leather, Other      65\n",
       "Other                    56\n",
       "Part leather, Brown      50\n",
       "alcantara, Black         47\n",
       "Full leather, Beige      36\n",
       "Velour, Black            36\n",
       "Cloth, Brown             28\n",
       "Velour                   16\n",
       "Other, Grey              15\n",
       "Cloth, Beige             13\n",
       "Cloth, Blue              12\n",
       "Cloth, White              8\n",
       "Velour, Grey              8\n",
       "alcantara, Grey           6\n",
       "Cloth, Red                5\n",
       "Other, Yellow             4\n",
       "Part leather, Red         3\n",
       "Part leather, White       2\n",
       "Part leather, Beige       2\n",
       "alcantara                 2\n",
       "Full leather, Blue        2\n",
       "alcantara, Other          2\n",
       "Full leather, Red         1\n",
       "Other, Brown              1\n",
       "Cloth, Orange             1\n",
       "Full leather, White       1\n",
       "Name: upholstery_material, dtype: int64"
      ]
     },
     "execution_count": 110,
     "metadata": {},
     "output_type": "execute_result"
    }
   ],
   "source": [
    "df['upholstery_material'].value_counts(dropna=False)"
   ]
  },
  {
   "cell_type": "code",
   "execution_count": 123,
   "id": "ae347bb0",
   "metadata": {},
   "outputs": [],
   "source": [
    "df.drop('upholstery_material', axis = 1, inplace = True)"
   ]
  },
  {
   "cell_type": "markdown",
   "id": "d92244ca",
   "metadata": {},
   "source": [
    "# 26) Consumption Combined"
   ]
  },
  {
   "cell_type": "code",
   "execution_count": 111,
   "id": "6f7956ce",
   "metadata": {},
   "outputs": [
    {
     "data": {
      "text/plain": [
       "NaN     2033\n",
       "5.4      770\n",
       "3.9      733\n",
       "4.0      713\n",
       "5.1      657\n",
       "        ... \n",
       "43.0       1\n",
       "54.0       1\n",
       "13.0       1\n",
       "11.0       1\n",
       "46.0       1\n",
       "Name: Consumption_combined, Length: 73, dtype: int64"
      ]
     },
     "execution_count": 111,
     "metadata": {},
     "output_type": "execute_result"
    }
   ],
   "source": [
    "df['Consumption_combined'].value_counts(dropna=False)"
   ]
  },
  {
   "cell_type": "code",
   "execution_count": 112,
   "id": "eb6dddfd",
   "metadata": {},
   "outputs": [],
   "source": [
    "coms = ((df['Consumption_city']+df['Consumption_country'])/2)"
   ]
  },
  {
   "cell_type": "code",
   "execution_count": 113,
   "id": "3cffc58b",
   "metadata": {},
   "outputs": [],
   "source": [
    "df['Consumption_combined'] = df['Consumption_combined'].fillna(coms)"
   ]
  },
  {
   "cell_type": "code",
   "execution_count": 114,
   "id": "e929f70f",
   "metadata": {},
   "outputs": [],
   "source": [
    "mode_Cons= df.groupby(['CO2 Emission(g CO2/km)'])['Consumption_combined']\\\n",
    "              .transform(lambda x: x.mode()[0] if list(x.mode()) != [] else np.nan)"
   ]
  },
  {
   "cell_type": "code",
   "execution_count": 115,
   "id": "d74df92d",
   "metadata": {},
   "outputs": [],
   "source": [
    "df['Consumption_combined'] = df['Consumption_combined'].fillna(mode_Cons)"
   ]
  },
  {
   "cell_type": "code",
   "execution_count": 116,
   "id": "f40286cb",
   "metadata": {},
   "outputs": [],
   "source": [
    "mode_Cons1= df.groupby(['Displacement'])['Consumption_combined']\\\n",
    "              .transform(lambda x: x.mode()[0] if list(x.mode()) != [] else np.nan)"
   ]
  },
  {
   "cell_type": "code",
   "execution_count": 117,
   "id": "e671c148",
   "metadata": {},
   "outputs": [],
   "source": [
    "df['Consumption_combined'] = df['Consumption_combined'].fillna(mode_Cons1)"
   ]
  },
  {
   "cell_type": "code",
   "execution_count": 118,
   "id": "c65502ed",
   "metadata": {},
   "outputs": [],
   "source": [
    "mode_Cons2= df.groupby(['make_model'])['Consumption_combined']\\\n",
    "              .transform(lambda x: x.mode()[0] if list(x.mode()) != [] else np.nan)"
   ]
  },
  {
   "cell_type": "code",
   "execution_count": 119,
   "id": "a863a422",
   "metadata": {},
   "outputs": [],
   "source": [
    "df['Consumption_combined'] = df['Consumption_combined'].fillna(mode_Cons2)"
   ]
  },
  {
   "cell_type": "code",
   "execution_count": 120,
   "id": "d2ab818d",
   "metadata": {},
   "outputs": [
    {
     "data": {
      "text/plain": [
       "0"
      ]
     },
     "execution_count": 120,
     "metadata": {},
     "output_type": "execute_result"
    }
   ],
   "source": [
    "df['Consumption_combined'].isnull().sum()"
   ]
  },
  {
   "cell_type": "code",
   "execution_count": 121,
   "id": "77c86ad5",
   "metadata": {
    "scrolled": true
   },
   "outputs": [
    {
     "data": {
      "text/plain": [
       "Index(['make_model', 'body_type', 'price', 'vat', 'km', 'registration',\n",
       "       'prev_owner', 'hp', 'Type', 'Inspection new', 'Warranty(months)',\n",
       "       'Body Color', 'Paint Type', 'Upholstery', 'Nr. of Doors',\n",
       "       'Nr. of Seats', 'Gearing Type', 'Displacement', 'Cylinders',\n",
       "       'Weight(kg)', 'Drive chain', 'Fuel', 'CO2 Emission(g CO2/km)',\n",
       "       'Emission Class', 'Comfort&Convenience', 'Entertainment&Media',\n",
       "       'Extras', 'Safety & Security', 'description', 'Gears',\n",
       "       'upholstery_material', 'Consumption_combined', 'Consumption_city',\n",
       "       'Consumption_country'],\n",
       "      dtype='object')"
      ]
     },
     "execution_count": 121,
     "metadata": {},
     "output_type": "execute_result"
    }
   ],
   "source": [
    "df.columns"
   ]
  },
  {
   "cell_type": "code",
   "execution_count": 122,
   "id": "d2d6bb89",
   "metadata": {},
   "outputs": [
    {
     "data": {
      "text/plain": [
       "registration             -0.081018\n",
       "prev_owner                0.018077\n",
       "Consumption_city          0.039197\n",
       "Warranty(months)          0.068275\n",
       "Consumption_country       0.076362\n",
       "Consumption_combined      0.087133\n",
       "Nr. of Doors              0.149248\n",
       "km                        0.167781\n",
       "Nr. of Seats              0.313700\n",
       "CO2 Emission(g CO2/km)    0.325058\n",
       "Cylinders                 0.333504\n",
       "Gears                     0.346933\n",
       "price                     0.453318\n",
       "Displacement              0.531121\n",
       "hp                        0.655865\n",
       "Weight(kg)                1.000000\n",
       "Name: Weight(kg), dtype: float64"
      ]
     },
     "execution_count": 122,
     "metadata": {},
     "output_type": "execute_result"
    }
   ],
   "source": [
    "df.corr()['Weight(kg)'].sort_values()"
   ]
  },
  {
   "cell_type": "code",
   "execution_count": 131,
   "id": "21c2d042",
   "metadata": {},
   "outputs": [],
   "source": [
    "df.drop(['Upholstery', 'Consumption_city', 'Consumption_country'], axis = 1, inplace = True)"
   ]
  },
  {
   "cell_type": "code",
   "execution_count": 132,
   "id": "17d5a4c3",
   "metadata": {},
   "outputs": [
    {
     "data": {
      "text/plain": [
       "make_model                   0\n",
       "body_type                    0\n",
       "price                        0\n",
       "vat                          0\n",
       "km                           0\n",
       "registration                 0\n",
       "prev_owner                   0\n",
       "hp                           0\n",
       "Type                         0\n",
       "Inspection new               0\n",
       "Warranty(months)             0\n",
       "Body Color                   0\n",
       "Paint Type                   0\n",
       "Nr. of Doors                 0\n",
       "Nr. of Seats                 0\n",
       "Gearing Type                 0\n",
       "Displacement                 0\n",
       "Cylinders                    0\n",
       "Weight(kg)                   0\n",
       "Drive chain                  0\n",
       "Fuel                         0\n",
       "CO2 Emission(g CO2/km)       0\n",
       "Emission Class               0\n",
       "Comfort&Convenience        920\n",
       "Entertainment&Media       1374\n",
       "Extras                    2962\n",
       "Safety & Security          982\n",
       "description                  0\n",
       "Gears                        0\n",
       "Consumption_combined         0\n",
       "dtype: int64"
      ]
     },
     "execution_count": 132,
     "metadata": {},
     "output_type": "execute_result"
    }
   ],
   "source": [
    "df.isnull().sum()"
   ]
  },
  {
   "cell_type": "code",
   "execution_count": 133,
   "id": "57d5610c",
   "metadata": {},
   "outputs": [],
   "source": [
    "df.to_csv(\"missings_filled_step2.csv\", index=False)"
   ]
  }
 ],
 "metadata": {
  "kernelspec": {
   "display_name": "Python 3",
   "language": "python",
   "name": "python3"
  },
  "language_info": {
   "codemirror_mode": {
    "name": "ipython",
    "version": 3
   },
   "file_extension": ".py",
   "mimetype": "text/x-python",
   "name": "python",
   "nbconvert_exporter": "python",
   "pygments_lexer": "ipython3",
   "version": "3.8.8"
  }
 },
 "nbformat": 4,
 "nbformat_minor": 5
}
