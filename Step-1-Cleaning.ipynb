{
 "cells": [
  {
   "cell_type": "markdown",
   "metadata": {},
   "source": [
    "___\n",
    "\n",
    "<p style=\"text-align: center;\"><img src=\"https://docs.google.com/uc?id=1lY0Uj5R04yMY3-ZppPWxqCr5pvBLYPnV\" class=\"img-fluid\" alt=\"CLRSWY\"></p>\n",
    "\n",
    "___"
   ]
  },
  {
   "cell_type": "markdown",
   "metadata": {},
   "source": [
    "# WELCOME!"
   ]
  },
  {
   "cell_type": "markdown",
   "metadata": {},
   "source": [
    "## Introduction\n",
    "Welcome to \"***AutoScout Data Analysis Project***\". This is the capstone project of ***Data Analysis*** Module. **Auto Scout** data which using for this project, scraped from the on-line car trading company in 2019, contains many features of 9 different car models. In this project, you will have the opportunity to apply many commonly used algorithms for Data Cleaning and Exploratory Data Analysis by using many Python libraries such as Numpy, Pandas, Matplotlib, Seaborn, Scipy you will analyze clean dataset.\n",
    "\n",
    "The project consists of 3 parts:\n",
    "* First part is related with 'data cleaning'. It deals with Incorrect Headers, Incorrect Format, Anomalies, Dropping useless columns.\n",
    "* Second part is related with 'filling data'. It deals with Missing Values. Categorical to numeric transformation is done.\n",
    "* Third part is related with 'handling outliers of data' via Visualisation libraries. Some insights are extracted.\n"
   ]
  },
  {
   "cell_type": "markdown",
   "metadata": {},
   "source": [
    "# PART- 1 `( Missing Values )`"
   ]
  },
  {
   "cell_type": "code",
   "execution_count": 1,
   "metadata": {},
   "outputs": [
    {
     "data": {
      "text/html": [
       "<div>\n",
       "<style scoped>\n",
       "    .dataframe tbody tr th:only-of-type {\n",
       "        vertical-align: middle;\n",
       "    }\n",
       "\n",
       "    .dataframe tbody tr th {\n",
       "        vertical-align: top;\n",
       "    }\n",
       "\n",
       "    .dataframe thead th {\n",
       "        text-align: right;\n",
       "    }\n",
       "</style>\n",
       "<table border=\"1\" class=\"dataframe\">\n",
       "  <thead>\n",
       "    <tr style=\"text-align: right;\">\n",
       "      <th></th>\n",
       "      <th>url</th>\n",
       "      <th>make_model</th>\n",
       "      <th>short_description</th>\n",
       "      <th>body_type</th>\n",
       "      <th>price</th>\n",
       "      <th>vat</th>\n",
       "      <th>km</th>\n",
       "      <th>registration</th>\n",
       "      <th>prev_owner</th>\n",
       "      <th>kW</th>\n",
       "      <th>...</th>\n",
       "      <th>description</th>\n",
       "      <th>Emission Label</th>\n",
       "      <th>Gears</th>\n",
       "      <th>Country version</th>\n",
       "      <th>Electricity consumption</th>\n",
       "      <th>Last Service Date</th>\n",
       "      <th>Other Fuel Types</th>\n",
       "      <th>Availability</th>\n",
       "      <th>Last Timing Belt Service Date</th>\n",
       "      <th>Available from</th>\n",
       "    </tr>\n",
       "  </thead>\n",
       "  <tbody>\n",
       "    <tr>\n",
       "      <th>13316</th>\n",
       "      <td>https://www.autoscout24.com//offers/renault-cl...</td>\n",
       "      <td>Renault Clio</td>\n",
       "      <td>Energy TCe 120 EDC,Automatik,PDC,Nav,Klimaau.,...</td>\n",
       "      <td>Sedans</td>\n",
       "      <td>11990</td>\n",
       "      <td>None</td>\n",
       "      <td>17,890 km</td>\n",
       "      <td>11/2016</td>\n",
       "      <td>1 previous owner</td>\n",
       "      <td>NaN</td>\n",
       "      <td>...</td>\n",
       "      <td>[\\n, \\n]</td>\n",
       "      <td>NaN</td>\n",
       "      <td>[\\n6\\n]</td>\n",
       "      <td>[\\nGermany\\n]</td>\n",
       "      <td>NaN</td>\n",
       "      <td>NaN</td>\n",
       "      <td>NaN</td>\n",
       "      <td>NaN</td>\n",
       "      <td>NaN</td>\n",
       "      <td>NaN</td>\n",
       "    </tr>\n",
       "    <tr>\n",
       "      <th>7696</th>\n",
       "      <td>https://www.autoscout24.com//offers/opel-astra...</td>\n",
       "      <td>Opel Astra</td>\n",
       "      <td>K INNOVATION 1.4 Turbo AT EU6d-T Voll LED Navi...</td>\n",
       "      <td>Compact</td>\n",
       "      <td>26899</td>\n",
       "      <td>VAT deductible</td>\n",
       "      <td>100 km</td>\n",
       "      <td>06/2019</td>\n",
       "      <td>None</td>\n",
       "      <td>NaN</td>\n",
       "      <td>...</td>\n",
       "      <td>[\\n, Getriebe:,  Automatik, Technik:,  Bordcom...</td>\n",
       "      <td>[\\n4 (Green)\\n]</td>\n",
       "      <td>[\\n6\\n]</td>\n",
       "      <td>[\\nGermany\\n]</td>\n",
       "      <td>NaN</td>\n",
       "      <td>NaN</td>\n",
       "      <td>NaN</td>\n",
       "      <td>NaN</td>\n",
       "      <td>NaN</td>\n",
       "      <td>NaN</td>\n",
       "    </tr>\n",
       "    <tr>\n",
       "      <th>14368</th>\n",
       "      <td>https://www.autoscout24.com//offers/renault-cl...</td>\n",
       "      <td>Renault Clio</td>\n",
       "      <td>1.6 T 220 EDC 18 RS CUIR CAMERA MONITOR SUPERBE</td>\n",
       "      <td>Sedans</td>\n",
       "      <td>25990</td>\n",
       "      <td>None</td>\n",
       "      <td>7,900 km</td>\n",
       "      <td>07/2018</td>\n",
       "      <td>1 previous owner</td>\n",
       "      <td>NaN</td>\n",
       "      <td>...</td>\n",
       "      <td>[\\nAUTO PASSION 18 SPECIALISTE DE L'AUTOMOBILE...</td>\n",
       "      <td>NaN</td>\n",
       "      <td>[\\n6\\n]</td>\n",
       "      <td>[\\nFrance\\n]</td>\n",
       "      <td>NaN</td>\n",
       "      <td>NaN</td>\n",
       "      <td>NaN</td>\n",
       "      <td>NaN</td>\n",
       "      <td>NaN</td>\n",
       "      <td>NaN</td>\n",
       "    </tr>\n",
       "    <tr>\n",
       "      <th>1554</th>\n",
       "      <td>https://www.autoscout24.com//offers/audi-a1-sp...</td>\n",
       "      <td>Audi A1</td>\n",
       "      <td>Sportback sport 1.4 TDI NAV XEN+ PDC SHZ GRA</td>\n",
       "      <td>Sedans</td>\n",
       "      <td>16140</td>\n",
       "      <td>VAT deductible</td>\n",
       "      <td>13,800 km</td>\n",
       "      <td>08/2018</td>\n",
       "      <td>1 previous owner</td>\n",
       "      <td>NaN</td>\n",
       "      <td>...</td>\n",
       "      <td>[\\n, Technik &amp; Sicherheit:, Klimaautomatik, Xe...</td>\n",
       "      <td>NaN</td>\n",
       "      <td>NaN</td>\n",
       "      <td>[\\nGermany\\n]</td>\n",
       "      <td>NaN</td>\n",
       "      <td>NaN</td>\n",
       "      <td>NaN</td>\n",
       "      <td>NaN</td>\n",
       "      <td>NaN</td>\n",
       "      <td>NaN</td>\n",
       "    </tr>\n",
       "    <tr>\n",
       "      <th>15709</th>\n",
       "      <td>https://www.autoscout24.com//offers/renault-es...</td>\n",
       "      <td>Renault Espace</td>\n",
       "      <td>TCe 225 Energy Intens</td>\n",
       "      <td>Van</td>\n",
       "      <td>37490</td>\n",
       "      <td>VAT deductible</td>\n",
       "      <td>1,150 km</td>\n",
       "      <td>11/2018</td>\n",
       "      <td>1 previous owner</td>\n",
       "      <td>NaN</td>\n",
       "      <td>...</td>\n",
       "      <td>[\\n, Audio-Navigationssystem R-Link 2 mit Touc...</td>\n",
       "      <td>[\\n4 (Green)\\n]</td>\n",
       "      <td>NaN</td>\n",
       "      <td>NaN</td>\n",
       "      <td>NaN</td>\n",
       "      <td>NaN</td>\n",
       "      <td>NaN</td>\n",
       "      <td>NaN</td>\n",
       "      <td>NaN</td>\n",
       "      <td>NaN</td>\n",
       "    </tr>\n",
       "    <tr>\n",
       "      <th>11443</th>\n",
       "      <td>https://www.autoscout24.com//offers/opel-insig...</td>\n",
       "      <td>Opel Insignia</td>\n",
       "      <td>ST.2,0l Innovation AHK abn. SHZ PDC Rückfahrka...</td>\n",
       "      <td>Station wagon</td>\n",
       "      <td>19499</td>\n",
       "      <td>VAT deductible</td>\n",
       "      <td>37,125 km</td>\n",
       "      <td>03/2017</td>\n",
       "      <td>3 previous owners</td>\n",
       "      <td>NaN</td>\n",
       "      <td>...</td>\n",
       "      <td>[\\n, Getriebe:,  Automatik, Technik:,  Bordcom...</td>\n",
       "      <td>NaN</td>\n",
       "      <td>[\\n6\\n]</td>\n",
       "      <td>NaN</td>\n",
       "      <td>NaN</td>\n",
       "      <td>NaN</td>\n",
       "      <td>NaN</td>\n",
       "      <td>NaN</td>\n",
       "      <td>NaN</td>\n",
       "      <td>NaN</td>\n",
       "    </tr>\n",
       "    <tr>\n",
       "      <th>2975</th>\n",
       "      <td>https://www.autoscout24.com//offers/audi-a3-sp...</td>\n",
       "      <td>Audi A3</td>\n",
       "      <td>Sportback 1.4 TFSI Attraction S-T 125</td>\n",
       "      <td>Compact</td>\n",
       "      <td>13950</td>\n",
       "      <td>None</td>\n",
       "      <td>118,032 km</td>\n",
       "      <td>06/2016</td>\n",
       "      <td>None</td>\n",
       "      <td>NaN</td>\n",
       "      <td>...</td>\n",
       "      <td>[\\nEn Traverauto (Desde 1978,Opel desde 1986),...</td>\n",
       "      <td>NaN</td>\n",
       "      <td>[\\n7\\n]</td>\n",
       "      <td>NaN</td>\n",
       "      <td>NaN</td>\n",
       "      <td>NaN</td>\n",
       "      <td>NaN</td>\n",
       "      <td>NaN</td>\n",
       "      <td>NaN</td>\n",
       "      <td>NaN</td>\n",
       "    </tr>\n",
       "    <tr>\n",
       "      <th>9578</th>\n",
       "      <td>https://www.autoscout24.com//offers/opel-corsa...</td>\n",
       "      <td>Opel Corsa</td>\n",
       "      <td>1.2 5 porte Black Edition</td>\n",
       "      <td>Sedans</td>\n",
       "      <td>9390</td>\n",
       "      <td>VAT deductible</td>\n",
       "      <td>43,000 km</td>\n",
       "      <td>03/2018</td>\n",
       "      <td>None</td>\n",
       "      <td>NaN</td>\n",
       "      <td>...</td>\n",
       "      <td>[\\n, VEICOLO IN PROMOZIONE, •Vettura finanziab...</td>\n",
       "      <td>NaN</td>\n",
       "      <td>[\\n5\\n]</td>\n",
       "      <td>NaN</td>\n",
       "      <td>NaN</td>\n",
       "      <td>NaN</td>\n",
       "      <td>NaN</td>\n",
       "      <td>NaN</td>\n",
       "      <td>NaN</td>\n",
       "      <td>NaN</td>\n",
       "    </tr>\n",
       "    <tr>\n",
       "      <th>8102</th>\n",
       "      <td>https://www.autoscout24.com//offers/opel-astra...</td>\n",
       "      <td>Opel Astra</td>\n",
       "      <td>1.0 Turbo 120 Jahre *Kamera*LED*Winterpak*</td>\n",
       "      <td>Compact</td>\n",
       "      <td>18979</td>\n",
       "      <td>VAT deductible</td>\n",
       "      <td>500 km</td>\n",
       "      <td>05/2019</td>\n",
       "      <td>1 previous owner</td>\n",
       "      <td>NaN</td>\n",
       "      <td>...</td>\n",
       "      <td>[\\nIhre Ansprechpartner für dieses KFZ:,  ,  ,...</td>\n",
       "      <td>NaN</td>\n",
       "      <td>[\\n5\\n]</td>\n",
       "      <td>[\\nGermany\\n]</td>\n",
       "      <td>NaN</td>\n",
       "      <td>NaN</td>\n",
       "      <td>[[], [], []]</td>\n",
       "      <td>NaN</td>\n",
       "      <td>NaN</td>\n",
       "      <td>NaN</td>\n",
       "    </tr>\n",
       "    <tr>\n",
       "      <th>10390</th>\n",
       "      <td>https://www.autoscout24.com//offers/opel-corsa...</td>\n",
       "      <td>Opel Corsa</td>\n",
       "      <td>1.2 Edition</td>\n",
       "      <td>Compact</td>\n",
       "      <td>11250</td>\n",
       "      <td>VAT deductible</td>\n",
       "      <td>100 km</td>\n",
       "      <td>02/2019</td>\n",
       "      <td>1 previous owner</td>\n",
       "      <td>NaN</td>\n",
       "      <td>...</td>\n",
       "      <td>[\\n,  * Lackierung: Uni Sonderfarbe,  * Außens...</td>\n",
       "      <td>NaN</td>\n",
       "      <td>[\\n5\\n]</td>\n",
       "      <td>[\\nGermany\\n]</td>\n",
       "      <td>NaN</td>\n",
       "      <td>NaN</td>\n",
       "      <td>[[], [], []]</td>\n",
       "      <td>NaN</td>\n",
       "      <td>NaN</td>\n",
       "      <td>NaN</td>\n",
       "    </tr>\n",
       "  </tbody>\n",
       "</table>\n",
       "<p>10 rows × 54 columns</p>\n",
       "</div>"
      ],
      "text/plain": [
       "                                                     url      make_model  \\\n",
       "13316  https://www.autoscout24.com//offers/renault-cl...    Renault Clio   \n",
       "7696   https://www.autoscout24.com//offers/opel-astra...      Opel Astra   \n",
       "14368  https://www.autoscout24.com//offers/renault-cl...    Renault Clio   \n",
       "1554   https://www.autoscout24.com//offers/audi-a1-sp...         Audi A1   \n",
       "15709  https://www.autoscout24.com//offers/renault-es...  Renault Espace   \n",
       "11443  https://www.autoscout24.com//offers/opel-insig...   Opel Insignia   \n",
       "2975   https://www.autoscout24.com//offers/audi-a3-sp...         Audi A3   \n",
       "9578   https://www.autoscout24.com//offers/opel-corsa...      Opel Corsa   \n",
       "8102   https://www.autoscout24.com//offers/opel-astra...      Opel Astra   \n",
       "10390  https://www.autoscout24.com//offers/opel-corsa...      Opel Corsa   \n",
       "\n",
       "                                       short_description      body_type  \\\n",
       "13316  Energy TCe 120 EDC,Automatik,PDC,Nav,Klimaau.,...         Sedans   \n",
       "7696   K INNOVATION 1.4 Turbo AT EU6d-T Voll LED Navi...        Compact   \n",
       "14368    1.6 T 220 EDC 18 RS CUIR CAMERA MONITOR SUPERBE         Sedans   \n",
       "1554        Sportback sport 1.4 TDI NAV XEN+ PDC SHZ GRA         Sedans   \n",
       "15709                              TCe 225 Energy Intens            Van   \n",
       "11443  ST.2,0l Innovation AHK abn. SHZ PDC Rückfahrka...  Station wagon   \n",
       "2975               Sportback 1.4 TFSI Attraction S-T 125        Compact   \n",
       "9578                           1.2 5 porte Black Edition         Sedans   \n",
       "8102          1.0 Turbo 120 Jahre *Kamera*LED*Winterpak*        Compact   \n",
       "10390                                        1.2 Edition        Compact   \n",
       "\n",
       "       price             vat          km registration         prev_owner  kW  \\\n",
       "13316  11990            None   17,890 km      11/2016   1 previous owner NaN   \n",
       "7696   26899  VAT deductible      100 km      06/2019               None NaN   \n",
       "14368  25990            None    7,900 km      07/2018   1 previous owner NaN   \n",
       "1554   16140  VAT deductible   13,800 km      08/2018   1 previous owner NaN   \n",
       "15709  37490  VAT deductible    1,150 km      11/2018   1 previous owner NaN   \n",
       "11443  19499  VAT deductible   37,125 km      03/2017  3 previous owners NaN   \n",
       "2975   13950            None  118,032 km      06/2016               None NaN   \n",
       "9578    9390  VAT deductible   43,000 km      03/2018               None NaN   \n",
       "8102   18979  VAT deductible      500 km      05/2019   1 previous owner NaN   \n",
       "10390  11250  VAT deductible      100 km      02/2019   1 previous owner NaN   \n",
       "\n",
       "       ...                                        description  \\\n",
       "13316  ...                                           [\\n, \\n]   \n",
       "7696   ...  [\\n, Getriebe:,  Automatik, Technik:,  Bordcom...   \n",
       "14368  ...  [\\nAUTO PASSION 18 SPECIALISTE DE L'AUTOMOBILE...   \n",
       "1554   ...  [\\n, Technik & Sicherheit:, Klimaautomatik, Xe...   \n",
       "15709  ...  [\\n, Audio-Navigationssystem R-Link 2 mit Touc...   \n",
       "11443  ...  [\\n, Getriebe:,  Automatik, Technik:,  Bordcom...   \n",
       "2975   ...  [\\nEn Traverauto (Desde 1978,Opel desde 1986),...   \n",
       "9578   ...  [\\n, VEICOLO IN PROMOZIONE, •Vettura finanziab...   \n",
       "8102   ...  [\\nIhre Ansprechpartner für dieses KFZ:,  ,  ,...   \n",
       "10390  ...  [\\n,  * Lackierung: Uni Sonderfarbe,  * Außens...   \n",
       "\n",
       "        Emission Label    Gears Country version Electricity consumption  \\\n",
       "13316              NaN  [\\n6\\n]   [\\nGermany\\n]                     NaN   \n",
       "7696   [\\n4 (Green)\\n]  [\\n6\\n]   [\\nGermany\\n]                     NaN   \n",
       "14368              NaN  [\\n6\\n]    [\\nFrance\\n]                     NaN   \n",
       "1554               NaN      NaN   [\\nGermany\\n]                     NaN   \n",
       "15709  [\\n4 (Green)\\n]      NaN             NaN                     NaN   \n",
       "11443              NaN  [\\n6\\n]             NaN                     NaN   \n",
       "2975               NaN  [\\n7\\n]             NaN                     NaN   \n",
       "9578               NaN  [\\n5\\n]             NaN                     NaN   \n",
       "8102               NaN  [\\n5\\n]   [\\nGermany\\n]                     NaN   \n",
       "10390              NaN  [\\n5\\n]   [\\nGermany\\n]                     NaN   \n",
       "\n",
       "      Last Service Date Other Fuel Types Availability  \\\n",
       "13316               NaN              NaN          NaN   \n",
       "7696                NaN              NaN          NaN   \n",
       "14368               NaN              NaN          NaN   \n",
       "1554                NaN              NaN          NaN   \n",
       "15709               NaN              NaN          NaN   \n",
       "11443               NaN              NaN          NaN   \n",
       "2975                NaN              NaN          NaN   \n",
       "9578                NaN              NaN          NaN   \n",
       "8102                NaN     [[], [], []]          NaN   \n",
       "10390               NaN     [[], [], []]          NaN   \n",
       "\n",
       "      Last Timing Belt Service Date Available from  \n",
       "13316                           NaN            NaN  \n",
       "7696                            NaN            NaN  \n",
       "14368                           NaN            NaN  \n",
       "1554                            NaN            NaN  \n",
       "15709                           NaN            NaN  \n",
       "11443                           NaN            NaN  \n",
       "2975                            NaN            NaN  \n",
       "9578                            NaN            NaN  \n",
       "8102                            NaN            NaN  \n",
       "10390                           NaN            NaN  \n",
       "\n",
       "[10 rows x 54 columns]"
      ]
     },
     "execution_count": 1,
     "metadata": {},
     "output_type": "execute_result"
    }
   ],
   "source": [
    "import pandas as pd\n",
    "import numpy as np\n",
    "\n",
    "#Reading the data \n",
    "df0 = pd.read_json ('scout_car.json', lines = True)\n",
    "df = df0\n",
    "df.sample(10)"
   ]
  },
  {
   "cell_type": "code",
   "execution_count": 2,
   "metadata": {},
   "outputs": [
    {
     "name": "stdout",
     "output_type": "stream",
     "text": [
      "<class 'pandas.core.frame.DataFrame'>\n",
      "RangeIndex: 15919 entries, 0 to 15918\n",
      "Data columns (total 54 columns):\n",
      " #   Column                         Non-Null Count  Dtype  \n",
      "---  ------                         --------------  -----  \n",
      " 0   url                            15919 non-null  object \n",
      " 1   make_model                     15919 non-null  object \n",
      " 2   short_description              15873 non-null  object \n",
      " 3   body_type                      15859 non-null  object \n",
      " 4   price                          15919 non-null  int64  \n",
      " 5   vat                            11406 non-null  object \n",
      " 6   km                             15919 non-null  object \n",
      " 7   registration                   15919 non-null  object \n",
      " 8   prev_owner                     9091 non-null   object \n",
      " 9   kW                             0 non-null      float64\n",
      " 10  hp                             15919 non-null  object \n",
      " 11  Type                           15917 non-null  object \n",
      " 12  Previous Owners                9279 non-null   object \n",
      " 13  Next Inspection                3535 non-null   object \n",
      " 14  Inspection new                 3932 non-null   object \n",
      " 15  Warranty                       10499 non-null  object \n",
      " 16  Full Service                   8215 non-null   object \n",
      " 17  Non-smoking Vehicle            7177 non-null   object \n",
      " 18  null                           15919 non-null  object \n",
      " 19  Make                           15919 non-null  object \n",
      " 20  Model                          15919 non-null  object \n",
      " 21  Offer Number                   12744 non-null  object \n",
      " 22  First Registration             14322 non-null  object \n",
      " 23  Body Color                     15322 non-null  object \n",
      " 24  Paint Type                     10147 non-null  object \n",
      " 25  Body Color Original            12160 non-null  object \n",
      " 26  Upholstery                     12199 non-null  object \n",
      " 27  Body                           15859 non-null  object \n",
      " 28  Nr. of Doors                   15707 non-null  object \n",
      " 29  Nr. of Seats                   14942 non-null  object \n",
      " 30  Model Code                     4978 non-null   object \n",
      " 31  Gearing Type                   15919 non-null  object \n",
      " 32  Displacement                   15423 non-null  object \n",
      " 33  Cylinders                      10239 non-null  object \n",
      " 34  Weight                         8945 non-null   object \n",
      " 35  Drive chain                    9061 non-null   object \n",
      " 36  Fuel                           15919 non-null  object \n",
      " 37  Consumption                    14013 non-null  object \n",
      " 38  CO2 Emission                   14111 non-null  object \n",
      " 39  Emission Class                 12898 non-null  object \n",
      " 40  \n",
      "Comfort & Convenience\n",
      "        14999 non-null  object \n",
      " 41  \n",
      "Entertainment & Media\n",
      "        14545 non-null  object \n",
      " 42  \n",
      "Extras\n",
      "                       12957 non-null  object \n",
      " 43  \n",
      "Safety & Security\n",
      "            14937 non-null  object \n",
      " 44  description                    15919 non-null  object \n",
      " 45  Emission Label                 3985 non-null   object \n",
      " 46  Gears                          11207 non-null  object \n",
      " 47  Country version                7586 non-null   object \n",
      " 48  Electricity consumption        137 non-null    object \n",
      " 49  Last Service Date              566 non-null    object \n",
      " 50  Other Fuel Types               880 non-null    object \n",
      " 51  Availability                   635 non-null    object \n",
      " 52  Last Timing Belt Service Date  16 non-null     object \n",
      " 53  Available from                 272 non-null    object \n",
      "dtypes: float64(1), int64(1), object(52)\n",
      "memory usage: 6.6+ MB\n"
     ]
    }
   ],
   "source": [
    "df.info()\n"
   ]
  },
  {
   "cell_type": "code",
   "execution_count": 3,
   "metadata": {},
   "outputs": [
    {
     "name": "stdout",
     "output_type": "stream",
     "text": [
      "url\n",
      "----------\n",
      "https://www.autoscout24.com//offers/opel-astra-1-6-cdti-active-euro-6-diesel-red-2d12f60d-5888-48d9-9e3c-e976660b0ec0                                     1\n",
      "https://www.autoscout24.com//offers/audi-a1-sportback-1-0tfsi-klimaautom-mmi-radio-sitzh-alu-gasoline-white-175f28d3-cfd3-4130-83fa-704855249b58          1\n",
      "https://www.autoscout24.com//offers/opel-astra-k-sports-tourer-on-start-stop-1-4-turbo-navi-rueckf-gasoline-black-9b8a482e-5f6e-47e4-ab2b-3229caeb827b    1\n",
      "https://www.autoscout24.com//offers/audi-a3-sportback-basis-xenon-pdc-mmi-sitzheiz-ssa-gasoline-silver-6b1188f6-9b12-4690-a78a-3ccf3bd0a122               1\n",
      "https://www.autoscout24.com//offers/audi-a3-sportback-2-0-tdi-dsg-navi-xenon-pdc-diesel-black-07db7761-8988-4fec-8925-0349d5aca7de                        1\n",
      "                                                                                                                                                         ..\n",
      "https://www.autoscout24.com//offers/audi-a1-sportback-1-0-tfsi-sport-einparkhilfe-hinten-gasoline-red-f143b681-efd2-4cef-84c4-305352f8267e                1\n",
      "https://www.autoscout24.com//offers/audi-a3-spb-2-0-tdi-s-tronic-sport-diesel-silver-b8b99e84-4c19-0853-e053-e250040a3d3f                                 1\n",
      "https://www.autoscout24.com//offers/opel-corsa-1-2-bi-color-pronta-consegna-cerchi-neri-gasoline-silver-e1c70d1a-14da-4fbd-a86a-80adab6e8124              1\n",
      "https://www.autoscout24.com//offers/opel-corsa-1-4-automatik-edition-navi-klima-gasoline-red-7589869d-20f1-4edb-892e-fa364dd2699f                         1\n",
      "https://www.autoscout24.com//offers/audi-a1-s-tronic-navi-bluetooth-mmi-aps-diesel-black-9284fd82-4d12-4de3-9556-f7dec92e1b75                             1\n",
      "Name: url, Length: 15919, dtype: int64\n",
      "--------------------\n",
      "make_model\n",
      "----------\n",
      "Audi A3           3097\n",
      "Audi A1           2614\n",
      "Opel Insignia     2598\n",
      "Opel Astra        2526\n",
      "Opel Corsa        2219\n",
      "Renault Clio      1839\n",
      "Renault Espace     991\n",
      "Renault Duster      34\n",
      "Audi A2              1\n",
      "Name: make_model, dtype: int64\n",
      "--------------------\n",
      "short_description\n",
      "----------\n",
      "SPB 1.6 TDI 116 CV S tronic Sport                     64\n",
      "NaN                                                   46\n",
      "1.4 66kW (90CV) Selective                             40\n",
      "MOVE KLIMA CD USB ALLWETTER BLUETOOTH                 38\n",
      "SPB 30 TDI S tronic Business                          35\n",
      "                                                      ..\n",
      "OPEL Sport Tourer 1.6 cdti 110 cv Elective, 81 kW/     1\n",
      "1,6 CDTI Edition-Paket Navi Sportsitze                 1\n",
      "ST 1.5 Turbo INNOVATION Automatik Navigationssyste     1\n",
      "E Selection 1.2 EU6d-T Allwetterreifen/Radio/Klima     1\n",
      "1.4i Essentia boite auto + jantes                      1\n",
      "Name: short_description, Length: 10002, dtype: int64\n",
      "--------------------\n",
      "body_type\n",
      "----------\n",
      "Sedans           7903\n",
      "Station wagon    3553\n",
      "Compact          3153\n",
      "Van               783\n",
      "Other             290\n",
      "Transporter        88\n",
      "NaN                60\n",
      "Off-Road           56\n",
      "Coupe              25\n",
      "Convertible         8\n",
      "Name: body_type, dtype: int64\n",
      "--------------------\n",
      "vat\n",
      "----------\n",
      "VAT deductible      10980\n",
      "NaN                  4513\n",
      "Price negotiable      426\n",
      "Name: vat, dtype: int64\n",
      "--------------------\n",
      "km\n",
      "----------\n",
      "10 km         1045\n",
      "- km          1024\n",
      "1 km           367\n",
      "5 km           170\n",
      "50 km          148\n",
      "              ... \n",
      "40,215 km        1\n",
      "93,167 km        1\n",
      "19,345 km        1\n",
      "42,636 km        1\n",
      "106,340 km       1\n",
      "Name: km, Length: 6690, dtype: int64\n",
      "--------------------\n",
      "registration\n",
      "----------\n",
      "-/-        1597\n",
      "03/2018     695\n",
      "02/2019     585\n",
      "05/2018     572\n",
      "03/2019     543\n",
      "01/2019     541\n",
      "04/2018     541\n",
      "02/2018     539\n",
      "03/2016     536\n",
      "06/2018     532\n",
      "04/2016     532\n",
      "01/2018     511\n",
      "04/2019     506\n",
      "02/2016     472\n",
      "03/2017     471\n",
      "05/2016     459\n",
      "06/2016     452\n",
      "05/2019     440\n",
      "06/2017     409\n",
      "05/2017     404\n",
      "07/2018     396\n",
      "04/2017     380\n",
      "01/2016     376\n",
      "02/2017     368\n",
      "01/2017     306\n",
      "08/2018     285\n",
      "06/2019     224\n",
      "07/2017     215\n",
      "11/2017     180\n",
      "07/2016     176\n",
      "10/2016     160\n",
      "10/2017     154\n",
      "09/2017     149\n",
      "11/2016     142\n",
      "09/2016     141\n",
      "09/2018     141\n",
      "12/2016     134\n",
      "12/2017     123\n",
      "08/2017     114\n",
      "11/2018     110\n",
      "12/2018     103\n",
      "10/2018      97\n",
      "08/2016      94\n",
      "07/2019       6\n",
      "09/2019       5\n",
      "11/2019       1\n",
      "08/2019       1\n",
      "12/2019       1\n",
      "Name: registration, dtype: int64\n",
      "--------------------\n",
      "prev_owner\n",
      "----------\n",
      "1 previous owner     8294\n",
      "NaN                  6828\n",
      "2 previous owners     778\n",
      "3 previous owners      17\n",
      "4 previous owners       2\n",
      "Name: prev_owner, dtype: int64\n",
      "--------------------\n",
      "hp\n",
      "----------\n",
      "85 kW     2542\n",
      "66 kW     2122\n",
      "81 kW     1402\n",
      "100 kW    1308\n",
      "110 kW    1112\n",
      "          ... \n",
      "132 kW       1\n",
      "75 kW        1\n",
      "115 kW       1\n",
      "163 kW       1\n",
      "4 kW         1\n",
      "Name: hp, Length: 81, dtype: int64\n",
      "--------------------\n",
      "Type\n",
      "----------\n",
      "[, Used, , Diesel (Particulate Filter)]                                                                                 3475\n",
      "[, Used, , Diesel]                                                                                                      2516\n",
      "[, Used, , Gasoline]                                                                                                    2367\n",
      "[, Used, , Super 95]                                                                                                    1818\n",
      "[, Pre-registered, , Super 95]                                                                                           500\n",
      "                                                                                                                        ... \n",
      "[, Pre-registered, , CNG]                                                                                                  1\n",
      "[, Used, , Others (Particulate Filter)]                                                                                    1\n",
      "[, New, , Super 95 / Regular/Benzine 91 / Super Plus 98 / Regular/Benzine E10 91 / Super Plus E10 98 / Super E10 95]       1\n",
      "[, Pre-registered, , Super E10 95 (Particulate Filter)]                                                                    1\n",
      "[, Employee's car, , Super E10 95 (Particulate Filter)]                                                                    1\n",
      "Name: Type, Length: 170, dtype: int64\n",
      "--------------------\n",
      "Previous Owners\n",
      "----------\n",
      "\\n1\\n                               8101\n",
      "NaN                                 6640\n",
      "\\n2\\n                                766\n",
      "\\n0\\n                                163\n",
      "\\n3\\n                                 17\n",
      "                                    ... \n",
      "[\\n1\\n, \\n137 g CO2/km (comb)\\n]       1\n",
      "[\\n2\\n, \\n127 g CO2/km (comb)\\n]       1\n",
      "[\\n1\\n, \\n159 g CO2/km (comb)\\n]       1\n",
      "[\\n0\\n, \\n117 g CO2/km (comb)\\n]       1\n",
      "[\\n1\\n, \\n102 g CO2/km (comb)\\n]       1\n",
      "Name: Previous Owners, Length: 103, dtype: int64\n",
      "--------------------\n",
      "Next Inspection\n",
      "----------\n",
      "NaN                                                                                              12384\n",
      "\\n04/2022\\n                                                                                         62\n",
      "\\n03/2021\\n                                                                                         38\n",
      "\\n03/2022\\n                                                                                         36\n",
      "\\n06/2021\\n                                                                                         34\n",
      "                                                                                                 ...  \n",
      "[\\n08/2020\\n, \\n108 g CO2/km (comb)\\n]                                                               1\n",
      "[\\n01/2021\\n, \\n, 5.5 l/100 km (comb), \\n, 7 l/100 km (city), \\n, 4.6 l/100 km (country), \\n]        1\n",
      "[\\n07/2021\\n, \\n119 g CO2/km (comb)\\n]                                                               1\n",
      "[\\n10/2020\\n, \\n153 g CO2/km (comb)\\n]                                                               1\n",
      "[\\n04/2021\\n, \\n137 g CO2/km (comb)\\n]                                                               1\n",
      "Name: Next Inspection, Length: 1400, dtype: int64\n",
      "--------------------\n",
      "Inspection new\n",
      "----------\n",
      "NaN                                                                                            11987\n",
      "[\\nYes\\n, \\nEuro 6\\n]                                                                            523\n",
      "\\nYes\\n                                                                                          362\n",
      "[\\nYes\\n, \\n102 g CO2/km (comb)\\n]                                                               174\n",
      "[\\nYes\\n, \\n4 (Green)\\n]                                                                         166\n",
      "                                                                                               ...  \n",
      "[\\nYes\\n, \\n, 4.4 l/100 km (comb), \\n, 5.4 l/100 km (city), \\n, 5 l/100 km (country), \\n]          1\n",
      "[\\nYes\\n, \\n194 g CO2/km (comb)\\n]                                                                 1\n",
      "[\\nYes\\n, \\n88 g CO2/km (comb)\\n]                                                                  1\n",
      "[\\nYes\\n, \\n, 6 l/100 km (comb), \\n, 7.5 l/100 km (city), \\n, 5.2 l/100 km (country), \\n]          1\n",
      "[\\nYes\\n, \\n, 6.2 l/100 km (comb), \\n, 7.6 l/100 km (city), \\n, 5.4 l/100 km (country), \\n]        1\n",
      "Name: Inspection new, Length: 203, dtype: int64\n",
      "--------------------\n",
      "Warranty\n",
      "----------\n",
      "NaN                                                                                                  5420\n",
      "[\\n, \\n, \\nEuro 6\\n]                                                                                 1868\n",
      "\\n12 months\\n                                                                                        1177\n",
      "\\n                                                                                                    979\n",
      "\\n24 months\\n                                                                                         566\n",
      "                                                                                                     ... \n",
      "[\\n60 months\\n, \\n148 g CO2/km (comb)\\n]                                                                1\n",
      "[\\n12 months\\n, \\n, 5.6 l/100 km (comb), \\n, 7.2 l/100 km (city), \\n, 4.7 l/100 km (country), \\n]       1\n",
      "[\\n24 months\\n, \\n133 g CO2/km (comb)\\n]                                                                1\n",
      "[\\n12 months\\n, \\n12,324 g CO2/km (comb)\\n]                                                             1\n",
      "[\\n, \\n, \\n5 (Blue)\\n]                                                                                  1\n",
      "Name: Warranty, Length: 516, dtype: int64\n",
      "--------------------\n",
      "Full Service\n",
      "----------\n",
      "NaN                                                                                           7704\n",
      "[\\n, \\n, \\n4 (Green)\\n]                                                                       2235\n",
      "[\\n, \\n, \\nEuro 6\\n]                                                                          2097\n",
      "[\\n, \\n]                                                                                      1702\n",
      "[\\n, \\n, \\nEuro 6d-TEMP\\n]                                                                     399\n",
      "                                                                                              ... \n",
      "[\\n, \\n, \\n, 5.4 l/100 km (comb), \\n, 7 l/100 km (city), \\n, 4.5 l/100 km (country), \\n]         1\n",
      "[\\n, \\n, \\n, 4.7 l/100 km (comb), \\n, 5.4 l/100 km (city), \\n, 4.2 l/100 km (country), \\n]       1\n",
      "[\\n, \\n, \\n164 g CO2/km (comb)\\n]                                                                1\n",
      "[\\n, \\n, \\n, 5.4 l/100 km (comb), \\n, 7.3 l/100 km (city), \\n, 4.2 l/100 km (country), \\n]       1\n",
      "[\\n, \\n, \\n, 6.6 l/100 km (comb), \\n, 8.3 l/100 km (city), \\n, 5.6 l/100 km (country), \\n]       1\n",
      "Name: Full Service, Length: 123, dtype: int64\n",
      "--------------------\n",
      "Non-smoking Vehicle\n",
      "----------\n",
      "NaN                                  8742\n",
      "[\\n, \\n]                             3647\n",
      "[\\n, \\n, \\n4 (Green)\\n]              1240\n",
      "[\\n, \\n, \\nEuro 6\\n]                 1127\n",
      "[\\n, \\n, \\nEuro 6d-TEMP\\n]            345\n",
      "                                     ... \n",
      "[\\n, \\n, \\n172 g CO2/km (comb)\\n]       1\n",
      "[\\n, \\n, \\n150 g CO2/km (comb)\\n]       1\n",
      "[\\n, \\n, \\n154 g CO2/km (comb)\\n]       1\n",
      "[\\n, \\n, \\n91 g CO2/km (comb)\\n]        1\n",
      "[\\n, \\n, \\n144 g CO2/km (comb)\\n]       1\n",
      "Name: Non-smoking Vehicle, Length: 95, dtype: int64\n",
      "--------------------\n",
      "null\n",
      "----------\n",
      "[]    15919\n",
      "Name: null, dtype: int64\n",
      "--------------------\n",
      "Make\n",
      "----------\n",
      "\\nOpel\\n       7343\n",
      "\\nAudi\\n       5712\n",
      "\\nRenault\\n    2864\n",
      "Name: Make, dtype: int64\n",
      "--------------------\n",
      "Model\n",
      "----------\n",
      "[\\n, A3, \\n]          3097\n",
      "[\\n, A1, \\n]          2614\n",
      "[\\n, Insignia, \\n]    2598\n",
      "[\\n, Astra, \\n]       2526\n",
      "[\\n, Corsa, \\n]       2219\n",
      "[\\n, Clio, \\n]        1839\n",
      "[\\n, Espace, \\n]       991\n",
      "[\\n, Duster, \\n]        34\n",
      "[\\n, A2, \\n]             1\n",
      "Name: Model, dtype: int64\n",
      "--------------------\n",
      "Offer Number\n",
      "----------\n"
     ]
    },
    {
     "name": "stdout",
     "output_type": "stream",
     "text": [
      "NaN                3175\n",
      "[\\nXT61649\\n]        27\n",
      "[\\nHM53619\\n]        27\n",
      "[\\nTP62881\\n]        27\n",
      "[\\nJV03654\\n]        27\n",
      "                   ... \n",
      "[\\n9277941\\n]         1\n",
      "[\\n19155-1\\n]         1\n",
      "[\\n3124254\\n]         1\n",
      "[\\nJ1109546\\n]        1\n",
      "[\\n040394-MO\\n]       1\n",
      "Name: Offer Number, Length: 11441, dtype: int64\n",
      "--------------------\n",
      "First Registration\n",
      "----------\n",
      "[\\n, 2018, \\n]    4522\n",
      "[\\n, 2016, \\n]    3674\n",
      "[\\n, 2017, \\n]    3273\n",
      "[\\n, 2019, \\n]    2853\n",
      "NaN               1597\n",
      "Name: First Registration, dtype: int64\n",
      "--------------------\n",
      "Body Color\n",
      "----------\n",
      "[\\n, Black, \\n]     3745\n",
      "[\\n, Grey, \\n]      3505\n",
      "[\\n, White, \\n]     3406\n",
      "[\\n, Silver, \\n]    1647\n",
      "[\\n, Blue, \\n]      1431\n",
      "[\\n, Red, \\n]        957\n",
      "NaN                  597\n",
      "[\\n, Brown, \\n]      289\n",
      "[\\n, Green, \\n]      154\n",
      "[\\n, Beige, \\n]      108\n",
      "[\\n, Yellow, \\n]      51\n",
      "[\\n, Violet, \\n]      18\n",
      "[\\n, Bronze, \\n]       6\n",
      "[\\n, Orange, \\n]       3\n",
      "[\\n, Gold, \\n]         2\n",
      "Name: Body Color, dtype: int64\n",
      "--------------------\n",
      "Paint Type\n",
      "----------\n",
      "[\\nMetallic\\n]       9794\n",
      "NaN                  5772\n",
      "[\\nUni/basic\\n]       347\n",
      "[\\nPerl effect\\n]       6\n",
      "Name: Paint Type, dtype: int64\n",
      "--------------------\n",
      "Body Color Original\n",
      "----------\n",
      "NaN                                     3759\n",
      "[\\nOnyx Schwarz\\n]                       338\n",
      "[\\nBianco\\n]                             282\n",
      "[\\nMythosschwarz Metallic\\n]             238\n",
      "[\\nBrillantschwarz\\n]                    216\n",
      "                                        ... \n",
      "[\\nBlu cosmo metallizzato\\n]               1\n",
      "[\\nBlac Ivoire D16\\n]                      1\n",
      "[\\nkarbonschwarz met\\n]                    1\n",
      "[\\nBelugabraun Metallic (bruin me\\n]       1\n",
      "[\\nSATIN STEEL\\n]                          1\n",
      "Name: Body Color Original, Length: 1928, dtype: int64\n",
      "--------------------\n",
      "Upholstery\n",
      "----------\n",
      "[\\nCloth, Black\\n]           5821\n",
      "NaN                          3720\n",
      "[\\nPart leather, Black\\n]    1121\n",
      "[\\nCloth\\n]                  1005\n",
      "[\\nCloth, Grey\\n]             891\n",
      "[\\nCloth, Other\\n]            639\n",
      "[\\nFull leather, Black\\n]     575\n",
      "[\\nBlack\\n]                   491\n",
      "[\\nGrey\\n]                    273\n",
      "[\\nOther, Other\\n]            182\n",
      "[\\nPart leather\\n]            140\n",
      "[\\nFull leather\\n]            139\n",
      "[\\nFull leather, Brown\\n]     116\n",
      "[\\nPart leather, Grey\\n]      116\n",
      "[\\nOther, Black\\n]            110\n",
      "[\\nFull leather, Other\\n]      72\n",
      "[\\nFull leather, Grey\\n]       67\n",
      "[\\nPart leather, Other\\n]      65\n",
      "[\\nOther\\n]                    56\n",
      "[\\nPart leather, Brown\\n]      50\n",
      "[\\nalcantara, Black\\n]         47\n",
      "[\\nFull leather, Beige\\n]      36\n",
      "[\\nVelour, Black\\n]            36\n",
      "[\\nCloth, Brown\\n]             28\n",
      "[\\nVelour\\n]                   16\n",
      "[\\nOther, Grey\\n]              15\n",
      "[\\nCloth, Beige\\n]             13\n",
      "[\\nCloth, Blue\\n]              12\n",
      "[\\nBrown\\n]                    12\n",
      "[\\nCloth, White\\n]              8\n",
      "[\\nVelour, Grey\\n]              8\n",
      "[\\nalcantara, Grey\\n]           6\n",
      "[\\nCloth, Red\\n]                5\n",
      "[\\nOther, Yellow\\n]             4\n",
      "[\\nPart leather, Red\\n]         3\n",
      "[\\nBeige\\n]                     3\n",
      "[\\nalcantara\\n]                 2\n",
      "[\\nFull leather, Blue\\n]        2\n",
      "[\\nBlue\\n]                      2\n",
      "[\\nPart leather, Beige\\n]       2\n",
      "[\\nalcantara, Other\\n]          2\n",
      "[\\nPart leather, White\\n]       2\n",
      "[\\nWhite\\n]                     2\n",
      "[\\nFull leather, Red\\n]         1\n",
      "[\\nOther, Brown\\n]              1\n",
      "[\\nFull leather, White\\n]       1\n",
      "[\\nCloth, Orange\\n]             1\n",
      "Name: Upholstery, dtype: int64\n",
      "--------------------\n",
      "Body\n",
      "----------\n",
      "[\\n, Sedans, \\n]           7903\n",
      "[\\n, Station wagon, \\n]    3553\n",
      "[\\n, Compact, \\n]          3153\n",
      "[\\n, Van, \\n]               783\n",
      "[\\n, Other, \\n]             290\n",
      "[\\n, Transporter, \\n]        88\n",
      "NaN                          60\n",
      "[\\n, Off-Road, \\n]           56\n",
      "[\\n, Coupe, \\n]              25\n",
      "[\\n, Convertible, \\n]         8\n",
      "Name: Body, dtype: int64\n",
      "--------------------\n",
      "Nr. of Doors\n",
      "----------\n",
      "[\\n5\\n]    11575\n",
      "[\\n4\\n]     3079\n",
      "[\\n3\\n]      832\n",
      "[\\n2\\n]      219\n",
      "NaN          212\n",
      "[\\n7\\n]        1\n",
      "[\\n1\\n]        1\n",
      "Name: Nr. of Doors, dtype: int64\n",
      "--------------------\n",
      "Nr. of Seats\n",
      "----------\n",
      "[\\n5\\n]    13336\n",
      "[\\n4\\n]     1125\n",
      "NaN          977\n",
      "[\\n7\\n]      362\n",
      "[\\n2\\n]      116\n",
      "[\\n6\\n]        2\n",
      "[\\n3\\n]        1\n",
      "Name: Nr. of Seats, dtype: int64\n",
      "--------------------\n",
      "Model Code\n",
      "----------\n",
      "NaN               10941\n",
      "[\\n0035/BCB\\n]      268\n",
      "[\\n0588/BNO\\n]      245\n",
      "[\\n0588/BDB\\n]      206\n",
      "[\\n0588/BHX\\n]      188\n",
      "                  ...  \n",
      "[\\n0035/BHX\\n]        1\n",
      "[\\n0588/AVR\\n]        1\n",
      "[\\n0035/ASN\\n]        1\n",
      "[\\n1844/AEG\\n]        1\n",
      "[\\n3333/BBL\\n]        1\n",
      "Name: Model Code, Length: 233, dtype: int64\n",
      "--------------------\n",
      "Gearing Type\n",
      "----------\n",
      "[\\n, Manual, \\n]            8153\n",
      "[\\n, Automatic, \\n]         7297\n",
      "[\\n, Semi-automatic, \\n]     469\n",
      "Name: Gearing Type, dtype: int64\n",
      "--------------------\n",
      "Displacement\n",
      "----------\n",
      "[\\n1,598 cc\\n]    4761\n",
      "[\\n999 cc\\n]      2438\n",
      "[\\n1,398 cc\\n]    1314\n",
      "[\\n1,399 cc\\n]     749\n",
      "[\\n1,229 cc\\n]     677\n",
      "                  ... \n",
      "[\\n1,800 cc\\n]       1\n",
      "[\\n1,686 cc\\n]       1\n",
      "[\\n1,369 cc\\n]       1\n",
      "[\\n140 cc\\n]         1\n",
      "[\\n1,584 cc\\n]       1\n",
      "Name: Displacement, Length: 78, dtype: int64\n",
      "--------------------\n",
      "Cylinders\n",
      "----------\n",
      "[\\n4\\n]    8105\n",
      "NaN        5680\n",
      "[\\n3\\n]    2104\n",
      "[\\n5\\n]      22\n",
      "[\\n6\\n]       3\n",
      "[\\n2\\n]       2\n",
      "[\\n8\\n]       2\n",
      "[\\n1\\n]       1\n",
      "Name: Cylinders, dtype: int64\n",
      "--------------------\n",
      "Weight\n",
      "----------\n",
      "NaN               6974\n",
      "[\\n1,163 kg\\n]     574\n",
      "[\\n1,360 kg\\n]     356\n",
      "[\\n1,165 kg\\n]     301\n",
      "[\\n1,335 kg\\n]     242\n",
      "                  ... \n",
      "[\\n1,761 kg\\n]       1\n",
      "[\\n1,331 kg\\n]       1\n",
      "[\\n1,974 kg\\n]       1\n",
      "[\\n1,711 kg\\n]       1\n",
      "[\\n1,686 kg\\n]       1\n",
      "Name: Weight, Length: 435, dtype: int64\n",
      "--------------------\n",
      "Drive chain\n",
      "----------\n",
      "[\\nfront\\n]    8886\n",
      "NaN            6858\n",
      "[\\n4WD\\n]       171\n",
      "[\\nrear\\n]        4\n",
      "Name: Drive chain, dtype: int64\n",
      "--------------------\n",
      "Fuel\n",
      "----------\n",
      "[\\n, Diesel (Particulate Filter), \\n]                                                                                  4315\n",
      "[\\n, Super 95, \\n]                                                                                                     3338\n",
      "[\\n, Gasoline, \\n]                                                                                                     3175\n",
      "[\\n, Diesel, \\n]                                                                                                       2984\n",
      "[\\n, Super 95 / Regular/Benzine 91, \\n]                                                                                 424\n",
      "                                                                                                                       ... \n",
      "[\\n, Super 95 / Regular/Benzine 91 / Super Plus 98 / Regular/Benzine E10 91 / Super Plus E10 98 / Super E10 95, \\n]       1\n",
      "[\\n, Regular/Benzine 91 / Super Plus 98 / Regular/Benzine E10 91 / Super 95 / Super E10 95 / Super Plus E10 98, \\n]       1\n",
      "[\\n, Regular/Benzine 91 / Super 95 / Super E10 95 / Regular/Benzine E10 91, \\n]                                           1\n",
      "[\\n, Regular/Benzine 91 / Super 95 / Super Plus 98, \\n]                                                                   1\n",
      "[\\n, Super 95 / Super E10 95 / Super Plus 98, \\n]                                                                         1\n",
      "Name: Fuel, Length: 77, dtype: int64\n",
      "--------------------\n",
      "Consumption\n",
      "----------\n",
      "NaN                                                                                   1906\n",
      "[[3.9 l/100 km (comb)], [4.1 l/100 km (city)], [3.7 l/100 km (country)]]               304\n",
      "[[4.2 l/100 km (comb)], [5 l/100 km (city)], [3.7 l/100 km (country)]]                 276\n",
      "[[5.4 l/100 km (comb)], [6.8 l/100 km (city)], [4.5 l/100 km (country)]]               257\n",
      "[[3.8 l/100 km (comb)], [4.3 l/100 km (city)], [3.5 l/100 km (country)]]               253\n",
      "                                                                                      ... \n",
      "[[3.1 l/100 km (comb)], [], [3.5 l/100 km (country)]]                                    1\n",
      "[[5.2 l/100 km (comb)], [6 l/100 km (city)], [4.8 l/100 km (country)]]                   1\n",
      "[[5.3 l/100 km (comb)], [6 l/100 km (city)], [5 l/100 km (country)]]                     1\n",
      "[\\n, 6.5 l/100 km (comb), \\n, 8.1 l/100 km (city), \\n, 5.5 l/100 km (country), \\n]       1\n",
      "[[50 l/100 km (comb)], [64 l/100 km (city)], [42 l/100 km (country)]]                    1\n",
      "Name: Consumption, Length: 882, dtype: int64\n",
      "--------------------\n",
      "CO2 Emission\n",
      "----------\n",
      "NaN                             1808\n",
      "[\\n120 g CO2/km (comb)\\n]        740\n",
      "[[], [], []]                     628\n",
      "[\\n99 g CO2/km (comb)\\n]         545\n",
      "[\\n97 g CO2/km (comb)\\n]         537\n",
      "                                ... \n",
      "[\\n990 g CO2/km (comb)\\n]          1\n",
      "[\\n51 g CO2/km (comb)\\n]           1\n",
      "[\\n14,457 g CO2/km (comb)\\n]       1\n",
      "[\\n193 g CO2/km (comb)\\n]          1\n",
      "[\\n253 g CO2/km (comb)\\n]          1\n",
      "Name: CO2 Emission, Length: 124, dtype: int64\n",
      "--------------------\n",
      "Emission Class\n",
      "----------\n",
      "[\\nEuro 6\\n]          10139\n",
      "NaN                    3021\n",
      "[\\nEuro 6d-TEMP\\n]     1845\n",
      "[[], [], []]            607\n",
      "[\\nEuro 6c\\n]           127\n",
      "[\\nEuro 5\\n]             78\n",
      "[\\nEuro 6d\\n]            62\n",
      "[\\nEuro 4\\n]             40\n",
      "Name: Emission Class, dtype: int64\n",
      "--------------------\n",
      "\n",
      "Comfort & Convenience\n",
      "\n",
      "----------\n"
     ]
    },
    {
     "name": "stdout",
     "output_type": "stream",
     "text": [
      "NaN                                                                                                                                                                                                                                                                                                                                                                                                                                                     920\n",
      "[Air conditioning, Electrical side mirrors, Hill Holder, Power windows]                                                                                                                                                                                                                                                                                                                                                                                 216\n",
      "[Air conditioning, Electrical side mirrors, Power windows]                                                                                                                                                                                                                                                                                                                                                                                              134\n",
      "[Air conditioning, Power windows]                                                                                                                                                                                                                                                                                                                                                                                                                       130\n",
      "[Air conditioning, Armrest, Automatic climate control, Cruise control, Electrical side mirrors, Leather steering wheel, Light sensor, Lumbar support, Multi-function steering wheel, Navigation system, Park Distance Control, Parking assist system sensors front, Parking assist system sensors rear, Power windows, Rain sensor, Seat heating, Start-stop system]                                                                                    105\n",
      "                                                                                                                                                                                                                                                                                                                                                                                                                                                       ... \n",
      "[Air conditioning, Automatic climate control, Auxiliary heating, Cruise control, Electrically adjustable seats, Electrical side mirrors, Heated steering wheel, Keyless central door lock, Light sensor, Multi-function steering wheel, Navigation system, Park Distance Control, Parking assist system camera, Parking assist system sensors front, Parking assist system sensors rear, Power windows, Rain sensor, Seat heating, Seat ventilation]      1\n",
      "[Air conditioning, Automatic climate control, Multi-function steering wheel, Power windows, Split rear seats]                                                                                                                                                                                                                                                                                                                                             1\n",
      "[Air conditioning, Armrest, Automatic climate control, Electrical side mirrors, Leather steering wheel, Light sensor, Lumbar support, Multi-function steering wheel, Navigation system, Park Distance Control, Parking assist system sensors rear, Power windows, Rain sensor, Seat heating, Split rear seats, Start-stop system, Tinted windows]                                                                                                         1\n",
      "[Air conditioning, Cruise control, Electrical side mirrors, Keyless central door lock, Multi-function steering wheel, Park Distance Control, Parking assist system sensors rear, Power windows, Seat heating]                                                                                                                                                                                                                                             1\n",
      "[Air conditioning, Armrest, Automatic climate control, Cruise control, Electric tailgate, Hill Holder, Keyless central door lock, Leather seats, Leather steering wheel, Light sensor, Multi-function steering wheel, Navigation system, Parking assist system camera, Parking assist system sensors front, Parking assist system sensors rear, Power windows, Rain sensor, Split rear seats, Start-stop system]                                          1\n",
      "Name: \\nComfort & Convenience\\n, Length: 6199, dtype: int64\n",
      "--------------------\n",
      "\n",
      "Entertainment & Media\n",
      "\n",
      "----------\n",
      "NaN                                                                                                          1374\n",
      "[Bluetooth, Hands-free equipment, On-board computer, Radio, USB]                                             1282\n",
      "[Bluetooth, Hands-free equipment, MP3, On-board computer, Radio, USB]                                         982\n",
      "[Bluetooth, CD player, Hands-free equipment, MP3, On-board computer, Radio, USB]                              783\n",
      "[On-board computer, Radio]                                                                                    487\n",
      "                                                                                                             ... \n",
      "[CD player, Hands-free equipment, On-board computer, Radio, Sound system, Television]                           1\n",
      "[Bluetooth, CD player, Digital radio, MP3, Radio, Sound system, USB]                                            1\n",
      "[CD player, Hands-free equipment, MP3, Radio, USB]                                                              1\n",
      "[Bluetooth, Digital radio, On-board computer, Radio, Television, USB]                                           1\n",
      "[CD player, Digital radio, Hands-free equipment, On-board computer, Radio, Sound system, Television, USB]       1\n",
      "Name: \\nEntertainment & Media\\n, Length: 347, dtype: int64\n",
      "--------------------\n",
      "\n",
      "Extras\n",
      "\n",
      "----------\n",
      "[Alloy wheels]                                                                                                3245\n",
      "NaN                                                                                                           2962\n",
      "[Alloy wheels, Touch screen]                                                                                   697\n",
      "[Alloy wheels, Voice Control]                                                                                  577\n",
      "[Alloy wheels, Touch screen, Voice Control]                                                                    541\n",
      "                                                                                                              ... \n",
      "[Alloy wheels, Sport package, Sport seats, Sport suspension, Voice Control, Winter tyres]                        1\n",
      "[Alloy wheels, Roof rack, Ski bag, Sport package, Sport seats, Touch screen, Trailer hitch, Voice Control]       1\n",
      "[Roof rack, Ski bag, Touch screen, Trailer hitch]                                                                1\n",
      "[Alloy wheels, Cab or rented Car, Sport suspension, Voice Control]                                               1\n",
      "[Alloy wheels, Catalytic Converter, Roof rack, Ski bag, Sport package, Touch screen, Voice Control]              1\n",
      "Name: \\nExtras\\n, Length: 660, dtype: int64\n",
      "--------------------\n",
      "\n",
      "Safety & Security\n",
      "\n",
      "----------\n",
      "NaN                                                                                                                                                                                                                                                                                                                                                                                  982\n",
      "[ABS, Central door lock, Daytime running lights, Driver-side airbag, Electronic stability control, Fog lights, Immobilizer, Isofix, Passenger-side airbag, Power steering, Side airbag, Tire pressure monitoring system, Traction control]                                                                                                                                           538\n",
      "[ABS, Central door lock, Daytime running lights, Driver-side airbag, Electronic stability control, Immobilizer, Isofix, Passenger-side airbag, Power steering, Side airbag, Tire pressure monitoring system, Traction control]                                                                                                                                                       480\n",
      "[ABS, Central door lock, Daytime running lights, Driver-side airbag, Electronic stability control, Immobilizer, Isofix, Passenger-side airbag, Power steering, Side airbag, Tire pressure monitoring system, Traction control, Xenon headlights]                                                                                                                                     275\n",
      "[ABS, Central door lock, Daytime running lights, Driver-side airbag, Electronic stability control, Fog lights, Immobilizer, Isofix, LED Daytime Running Lights, Passenger-side airbag, Power steering, Side airbag, Tire pressure monitoring system, Traction control]                                                                                                               272\n",
      "                                                                                                                                                                                                                                                                                                                                                                                    ... \n",
      "[ABS, Alarm system, Central door lock, Central door lock with remote control, Daytime running lights, Driver-side airbag, Electronic stability control, Emergency system, Fog lights, Head airbag, Immobilizer, Isofix, Passenger-side airbag, Power steering, Side airbag, Tire pressure monitoring system, Traction control]                                                         1\n",
      "[ABS, Central door lock, Driver-side airbag, Electronic stability control, Immobilizer, Isofix, LED Headlights, Passenger-side airbag, Power steering, Side airbag, Tire pressure monitoring system, Traction control, Xenon headlights]                                                                                                                                               1\n",
      "[ABS, Central door lock, Daytime running lights, Driver-side airbag, Electronic stability control, Emergency brake assistant, Immobilizer, Isofix, LED Daytime Running Lights, LED Headlights, Passenger-side airbag, Side airbag, Tire pressure monitoring system, Traction control, Xenon headlights]                                                                                1\n",
      "[ABS, Alarm system, Central door lock, Central door lock with remote control, Driver-side airbag, Head airbag, Isofix, Passenger-side airbag, Power steering, Rear airbag, Side airbag]                                                                                                                                                                                                1\n",
      "[ABS, Adaptive Cruise Control, Alarm system, Central door lock, Central door lock with remote control, Daytime running lights, Driver-side airbag, Electronic stability control, Fog lights, Head airbag, Immobilizer, Isofix, LED Daytime Running Lights, LED Headlights, Passenger-side airbag, Power steering, Side airbag, Tire pressure monitoring system, Traction control]      1\n",
      "Name: \\nSafety & Security\\n, Length: 4444, dtype: int64\n",
      "--------------------\n",
      "description\n",
      "----------\n",
      "[]                                                                                                                                                                                                                                                                                                                                                                                                                                                                                                                                                                                                                                                                                                                                                                                                                                                                                                                                                                                                                                                                                                                                                                                                                                                                                                                                                                                                                                                                                                                                                                                                                                                                                                                                                                                                                                                                                                                                                                                                                                                                                                                                                                                                                                                                                                                                                                                                                                                                                                                                                                                                                                                                                                                                                                                                                                                                                                                                                                                                                                                                                                                                                                                 636\n",
      "[\\n, \\n]                                                                                                                                                                                                                                                                                                                                                                                                                                                                                                                                                                                                                                                                                                                                                                                                                                                                                                                                                                                                                                                                                                                                                                                                                                                                                                                                                                                                                                                                                                                                                                                                                                                                                                                                                                                                                                                                                                                                                                                                                                                                                                                                                                                                                                                                                                                                                                                                                                                                                                                                                                                                                                                                                                                                                                                                                                                                                                                                                                                                                                                                                                                                                                            30\n",
      "[\\nSichern Sie sich diesen Opel Astra K 1.4 SIDI Turbo Innovation Start/Stop zum Top-Preis inklusive dem, AUTOHERO-RUNDUM-SORGLOS-PAKET,  , Infos:,  2.Hand, deutsche Auslieferung, Unfallfrei, scheckheftgepflegt, mindestens 12 Monate gültige HU und AU,  , Highlights,  , Rückfahrkamera,  , Voll-LED-Matrix-Scheinwerfer (IntelliLux),  , Audio-Navigationssystem Navi 900 Europa Touch,  , Spurassistent,  , Leichtmetallfelgen , Komfort,  , Sitzheizung vorn,  , Klimaautomatik 2-Zonen,  , Parkpilotsystem vorn und hinten,  , 6-Stufen Automatikgetriebe,  , Tempomat (Geschwindigkeits-Regelanlage) mit Begrenzer ,  , Berganfahrassistent ,  , Servolenkung,  , Lendenwirbelstütze elektropneumatisch für Fahrer ,  , Kopfstützen vorn und hinten ,  , Multifunktionslenkrad in Leder, beheizbar ,  , Mittelarmlehne vorn verschiebbar,  , Zentralverriegelung mit Fernbedienung,  , Fensterheber elektrisch vorn + hinten,  , Berganfahr-Assistent (HSA, Hill Start Assist), Multimedia,  , 8 Zoll Touchscreen-Farbdisplay,  , Verkehrszeichenerkennung,  , Audiostreaming ,  , Apple CarPlay und Android Auto,  , 6 Lautsprecher ,  , Bluetooth-Freisprecheinrichtung ,  , Sprachsteuerung,  , Bordcomputer,  , Multimedia-Schnittstelle (USB / AUX-IN), Licht und Sicht,  , Außenspiegel elektrisch verstell-, heiz- und anklappbar,  , Abbiegelicht,  , LED Tagfahrlicht,  , Nebelscheinwerfer,  , Ambientebeleuchtung,  , Innenrückspiegel automatisch abblendend,  , Fernlichtassistent und Leuchtweitenregulierung ,  , Licht und Regensensor ,  , Wärmeschutzverglasung hinten abgedunkelt (Solar-Protect),  , LED Heckleuchten , Sicherheit,  , Abstandswarner,  , Auffahrwarnsystem,  , Isofix-Aufnahmen für Kindersitz an Rücksitz,  , Frontkamera,  , Airbag für Fahrer- und Beifahrerseite,  , Wegfahrsperre,  , ...]                                                                                                                                                                                                                                                                                                                                                                                                                                                                                                                                                                                                                                                                                                                                                                                                                                                                                                                                                                                                                                                                                                                                                                                                                                                                                                                                      27\n",
      "[\\n, Fahrzeugbeschreibung,  Sichern Sie sich diesen Renault Clio 1.6 TCE Energy Sport Trophy zum Top-Preis inklusive dem , AUTOHERO-RUNDUM-SORGLOS-PAKET,  , Infos:,  1.Hand, deutsche Auslieferung, Unfallfrei, scheckheftgepflegt,  , Highlights,  , Audio-Navigationssystem R-Link Evolution mit Touchscreen und Carminat TomTom,  , Sportsitze ,  , Sportfahrwerk,  , Scheinwerfer Full-LED , Komfort,  , Geschwindigkeits-Regelanlage (Tempomat) ,  , Klimaanlage,  , Einparkhilfe hinten,  , Multifunktionslenkrad (Sport/Leder) mit Schaltwippen/-tasten ,  , Fensterheber elektr. mit Impulsgeber links/rechts vorn,  , Zentralverriegelung / Startanlage Handsfree Entry & Drive ,  , Berganfahr-Assistent (HSA) , Multimedia,  , Audiosystem: Radio R & GO (Bluetooth, DAB-Tuner),  , Bordcomputer,  , Freisprecheinrichtung Bluetooth ,  , USB-Anschluss inkl. AUX-IN-Anschluss (Plug & Music) , Licht und Sicht,  , Außenspiegel elektr. verstell- und heizbar ,  , Licht- und Regensensor ,  , Tagfahrlicht LED ,  , Nebelscheinwerfer LED ,  , Coming-Home-Lichtfunktion ,  , Heckleuchten LED , Sicherheit,  , Isofix-Aufnahmen für Kindersitz ,  , Seitenairbag vorn,  , Wegfahrsperre,  , Differentialsperre,  , Bremsassistent ,  , Elektron. Stabilitäts-Programm (ESP),  , Anti-Blockier-System (ABS),  , Anti-Submarining-Airbag im Fond,  , Airbag Fahrer-/Beifahrerseite ,  , Differentialsperre ,  , Reifendruck-Kontrollsystem ,  , Untersteuerungskontrolle (USC) ,  , Antischlupfregelung (ASR) , Weiteres,  , Start/Stop-Anlage ,  , Servolenkung geschwindigkeitsabhängig,  , R.S. Drive (Fahrmodusschalter) ,  , Gepäckraumabdeckung / Rollo ,  , Heckdiffusor ,  , LM-Felgen ,  , Heckspoiler (Renault Sport) ,  , Pedale Aluminium ,  , Energierückgewinnung (Energy Smart Management) , ...]                                                                                                                                                                                                                                                                                                                                                                                                                                                                                                                                                                                                                                                                                                                                                                                                                                                                                                                                                                                                                                                                                                                                                                                                                                                                                                                                                       27\n",
      "[\\n, Fahrzeugbeschreibung,  Sichern Sie sich diesen Audi A1 1.4 TDI Design zum Top-Preis inklusive dem, AUTOHERO-RUNDUM-SORGLOS-PAKET,  , Infos:,  2. Hand, deutsche Auslieferung, Unfallfrei, scheckheftgepflegt ,  , Highlights,  , Leichtmetallfelgen,  , Sitzheizung vorn,  , Sportsitze vorn,  , Dynamik-Fahrwerk,  , Multi-Media-Interface MMI Navigation,  , Einparkhilfe hinten (APS),  , CO2-optimiert (Ausführung e, Ultra) ,  , Komfort,  , Klimaautomatik,  , Mittelarmlehne vorn mit Fach,  , Fensterheber elektrisch vorn,  , Zentralverriegelung mit Fernbedienung,  , Berganfahr-Assistent,  , Multifunktionslederlenkrad,  , Rücksitzlehne geteilt/klappbar,  , Sitze vorn höhenverstellbar ,  , Lendenwirbelstützen verstellbar ,  , Multimedia,  , Audi music interface,  , Fahrer-Informations-System (FIS),  , Bluetooth-Freisprecheinrichtung,  , Licht und Sicht,  , Außenspiegel elektrisch verstell- und heizbar, beide,  , Tagfahrlicht,  , Scheibenwaschdüsen heizbar,  , Licht- und Regensensor,  , Nebelscheinwerfer integriert,  , Wärmeschutzverglasung grün getönt,  , Heckleuchten LED,  , Sicherheit,  , Isofix-Aufnahmen für Kindersitz,  , Bremsassistent,  , Seitenairbag vorn,  , Reifenkontroll-Anzeige,  , Anti-Blockier-System (ABS),  , Wegfahrsperre (elektronisch),  , Airbag Fahrer-/Beifahrerseite,  , Antriebs-Schlupfregelung (ASR),  , Kopf-Airbag-System (Sideguard),  , Elektronische Differentialsperre (EDS),  , Elektronisches Stabilitäts-Programm (ESP),  , Weiteres,  , Start/Stop-Anlage,  , Wagenheber,  , Servolenkung,  , ...]                                                                                                                                                                                                                                                                                                                                                                                                                                                                                                                                                                                                                                                                                                                                                                                                                                                                                                                                                                                                                                                                                                                                                                                                                                                                                                                                                                                                                                                                                                                                                                                         27\n",
      "                                                                                                                                                                                                                                                                                                                                                                                                                                                                                                                                                                                                                                                                                                                                                                                                                                                                                                                                                                                                                                                                                                                                                                                                                                                                                                                                                                                                                                                                                                                                                                                                                                                                                                                                                                                                                                                                                                                                                                                                                                                                                                                                                                                                                                                                                                                                                                                                                                                                                                                                                                                                                                                                                                                                                                                                                                                                                                                                                                                                                                                                                                                                                                                  ... \n",
      "[\\n, Ausstattungspakete:,  Ablagepaket, Assistenzsysteme:,  Sprachbedienung, Einparkhilfe hinten, Licht und Sicht:,  Tagfahrlicht, Audio & Kommunikation:,  Multi Media Interface MMI, Audio-Schnittstelle: Audi music interface, Räder und Reifen:,  Leichtmetallfelgen: 16 Zoll Aluminium Gussräder, Ganzjahresreifen, Komfort:,  Climatronic, Fahrer-/Beifahrersitz höhenverstellbar, Lordosenstütze Fahrer/Beifahrer, Sitzheizung Fahrer/Beifahrer, Easy-Entry Einstiegshilfe, Armauflage Fahrer/Beifahrer, Servotronic, Zentralver. mit Fernbedienung, Interieur:,  Sitze Stoff schwarz-schwarz-felsgrau, Innenfarbe schwarz, Multifunktions-Sport-/Lederlenkrad, Rücksitze klappbar, Exterieur:,  Sportfahrwerk, Außenspiegel elekt. und beheizt, Start-Stopp System, Sicherheit:,  6 x Airbag, Antriebsschlupfregelung ASR, Reifendruckkontrolle, Weiteres:,  3 Jahre Neuwagenanschlussgarantie bis max. 100.000km, Lehne geteilt umlegbar, geschwindigkeitsabhängig, Nichtraucherfahrzeug, Scheckheft gepflegtes Fahrzeug, Bestand Inzahlungnahme, Weiteres: ehemalige unverbindliche Preisempfehlung des Herstellers 20.974 EUR. TOP Angebot vom VW/Audi/Skoda – Vertragshändler. Besuchen Sie uns auf über 100.000 qm Ausstellungsfläche und sprechen Sie persönlich mit einem/einer unserer 46 Verkaufsberater/-innen. Unsere Öffnungszeiten im Verkauf: Mo.-Fr. 8:00-20:00 – Sa. 9:00-16:00 Willkommen zur Probefahrt. Finanzierung zu Sonderkonditionen, auch ohne Anzahlung möglich. Gerne nehmen wir Ihren Gebrauchtwagen in Zahlung. Irrtümer und Änderungen vorbehalten. Weitere Fahrzeuge finden Sie auf www.potti.de, Audi GW:plus, Kontakt:,  Ihr Direktruf 023819089002, \\n]                                                                                                                                                                                                                                                                                                                                                                                                                                                                                                                                                                                                                                                                                                                                                                                                                                                                                                                                                                                                                                                                                                                                                                                                                                                                                                                                                                                                                                                                                    1\n",
      "[\\n, Highlights: ,  Herstellereigene Garantie 24 Monate, Technik + Sicherheit: , ESP; ASR; Kopfairbags; Heckscheibenwischer; Innenspiegel automatisch abblendend; Außentemperatur-Anzeige; Dynamiklenkung; Elektr. Bremssystem (EBS); Sonstiges Technik & Sicherheit, Multimedia: , Multimediabuchse; Bluetooth; Radio, Assistenzsysteme: , Berganfahrassistent; Reifendruck-Kontrolle; Sonstiges Assistenzsysteme, Innen: , Klima; Bordcomputer; Fensterheber elektr. 2*; Fußmatten; Sonstiges Innenausstattung, Sitze + Polster: , Komfortsitz(e) vorn; Einstieghilfe (\"Easy Entry\"); Fahrersitz höhenverstellbar; Rücksitzbank umlegbar; Rückbank geteilt; Sonstiges Sitze & Polster; Iso-Fix, Aussen: , elektr. Aussenspiegel; Zentralverriegelung: Keyless Entry; getönte Scheiben; Dämmglas, Scheinwerfer + Leuchten: , Leuchtweitenregulierung; Tagfahrlicht; Halogenscheinwerfer; Sonstiges Scheinwerfer & Leuchten, Räder + Reifen: , Leichtmetallfelgen: 14\"; Sommerreifen, Sonstiges: , CO2-Effizienzklasse: D, \"Wir akzeptieren die Bezahlung mit sicherbezahlen.de\", Fahrzeugstandort: Autohaus Am Ruhrdeich GmbH, Daimlerstrasse 1 in 47167 Duisburg, Änderungen, Zwischenverkauf und Irrtümer vorbehalten!, \\n]                                                                                                                                                                                                                                                                                                                                                                                                                                                                                                                                                                                                                                                                                                                                                                                                                                                                                                                                                                                                                                                                                                                                                                                                                                                                                                                                                                                                                                                                                                                                                                                                                                                                                                                                                                                                                                                                                                                                                       1\n",
      "[\\n, Fahrzeugnummer für Anfragen: LA027224, KL, Serienausstattung, ABS mit elektronischem Bremskraftverteiler (EBV) , Airbag, Fahrer- und Beifahrer (abschaltbar) , Airbag, Kopf vorn und hinten , Airbag, Seiten für Fahrer- und Beifahrer , Antriebs-Schlupf-Regelung (ASR) , Audi connect Notruf (\"eCall\") , Audi pre sense front , Blinker (LED) in den Außenspiegeln integriert , Bremsassistent Folgekollision , Dachkantenspoiler , Drehzahlmesser , Elektrisch einstellbare Außenspiegel , Elektrische Fensterheber vorn und hinten , Elektronische Differenzialsperre (EDS) , Elektronische Stabilisierungskontrolle (ESC) , Fahrer- und Beifahrersitz, höhenverstellbar , Fußmatten vorn und hinten , Gepäckraumabdeckung und ?Beleuchtung , Geschwindigkeitsbegrenzer , Geteilt umklappbare Rücksitzlehne (60:40) , Gurtanlegekontrolle , Halogenscheinwerfer in Freiformtechnik mit Klarglasabdeckung , Heckscheibenwischer und -heizung , Karosserie, verzinkt , Kindersitzvorbereitung ??Isofix?? und Top Tether für die äußeren Fondsitze , Klimaanlage, manuell , Kopfstützen vorn und hinten , Lenkrad, höhenverstellbar , Leuchtweitenregulierung , Licht- und Regensensor , Make-up-Spiegel in den Sonnenblenden , Multifunktions-Leder-Lenkrad im 3-Speichen-Design mit bedientasten für das MMI, Nicht-Raucher-Ausführung , Pollen- und Staubfilter , Radioanlage MMI digitales Kombiinstrument 10,25 Zoll, ohne zusätzliches MMI touch-Display, 1 x SDXC- Kartenleser, 1 × USB-Typ-A-Schnittstelle zum Laden externer Geräte, Bluetooth-Schnittstelle (Freisprechen und Audiostreaming), Sprachbedienung für Telefonie und Medien, 4 Passivlautsprecher vorn mit 40 Watt, AM-/FM-Phasendiversity, geschwindigkeitsabhängige Lautstärkeanpassung, , Radschrauben mit Diebstahlsicherung , Reifen-Reparatur-Set , Reifendruck-Kontrollanzeige , Scheibenwischer mit Intervallschaltung , Service-Intervall-Anzeige , Servolenkung , Spiegelgehäuse außen in schwarz, Spurverlassenswarnung (Beim Verlassen der Spur warnt das System über Vibration im Lenkrad den Fahrer), Stahlräder mit Bereifung 185/65 R15 , Start-Stopp-System mit Rekuperation , Stoßstangen in Wagenfarbe , Tagfahrlicht , Wärmeschutzverglasung , Warndreieck , Zentralverriegelung mit Fernbedienung, Sonderausstattung, Diebstahlwarnanlage , Geschwindigkeitsregelanlage (Tempomat) mit -Begrenzer, Innenspiegel automatisch abblendend, Komfortklimaautomatik 2-Zonen, Leder-Multifunktions-Lenkrad plus im 3-Speichen Design, LED-Heckleuchten, Leichtmetallfelgen 15 Zoll im 5-Arm-Design mit Bereifung 185/65 R15, Mittelarmlehne vorn, Raucherpaket beinhaltet: Aschenbecher und Zigarettenanzünder, Sitzheizung für die Vordersitze, Gern nehmen wir Ihren Gebrauchtwagen in Zahlung. Auf Wunsch bieten wir Ihnen eine maßgeschneiderte Finanzierung mit oder ohne Anzahlung! Eine Garantieverlängerung über CarGarantie von zusätzlichen 60 Monaten ist auch möglich, Preis auf Anfrage ( abhängig von Motor- und Laufleistung ). Unser Team berät Sie in Deutsch, russisch, polnisch, französisch, englisch, und hessisch. Zwischenverkauf und Irrtümer vorbehalten.\\n]      1\n",
      "[\\n, Sitzbezug / Polsterung: Velours / Leder, Audio-Navigationssystem R-Link Evolution mit Touchscreen und Carminat TomTom, Tagfahrlicht LED, Anti-Submarining-Airbag im Fond, Airbag Beifahrerseite abschaltbar, Seitenairbag vorn, Klimaautomatik, Anti-Blockier-System (ABS), Elektron. Stabilitäts-Programm (ESP), Einparkhilfe hinten, Zentralverriegelung / Startanlage Handsfree Entry & Drive, Fensterheber elektr. mit Impulsgeber links vorn, Sitzheizung vorn, Servolenkung geschwindigkeitsabhängig, Sound-System BOSE, Geschwindigkeits-Regelanlage (Tempomat), Start/Stop-Anlage, Fahrassistenz-System: Berganfahr-Assistent (HSA), Wegfahrsperre, Licht- und Regensensor, LM-Felgen, Bordcomputer, Außenspiegel elektr. verstell- und heizbar, Innenspiegel mit Abblendautomatik, Lenkrad (Leder), Mittelarmlehne vorn mit Ablagefach, Gepäckraumabdeckung / Rollo, Automatik-Getriebe, Rücksitzlehne geteilt/klappbar, Coming-Home-Lichtfunktion, Reifendruck-Kontrollsystem, Komfort-Paket Plus, Isofix-Aufnahmen für Kindersitz, Isofix-Aufnahmen für Kindersitz an Beifahrersitz, Reserverad in Fahrbereifung, Nebelscheinwerfer LED, AH Standard, Modellpflege, Komfort-Paket, Sitz vorn links höhenverstellbar, Sitz vorn rechts höhenverstellbar, Modularitäts-Paket, Lenksäule (Lenkrad) höhenverstellbar, Lenksäule (Lenkrad) längsverstellbar, Techno-Paket, Look-Paket Chrom (außen), Kühlergrill verchromt, Seitenschutzleisten mit Chromeinlage, Heckzierleiste Chrom, Look-Paket Klavierlack schwarz (innen), Sondermodell Bose Edition, Außenspiegel schwarz hochglänzend, Scheinwerfer Full-LED, Heckleuchten LED, Nebelscheinwerfer, Fensterzierleisten verchromt, Stoßfänger Wagenfarbe, Verglasung hinten abgedunkelt, Subwoofer, Schaltpunktanzeige, Airbag Fahrer-/Beifahrerseite, Kopfstützen verstellbar, Fensterheber elektrisch hinten, Türgriffe außen Wagenfarbe, Gurtstraffer, Leseleuchte Beifahrerseite, Elektr. Bremskraftverteilung, Bremsassistent, Untersteuerungskontrolle (USC), Antischlupfregelung (ASR), Getriebe 6-Gang - Doppelkupplungsgetriebe, Schadstoffarm nach Abgasnorm Euro 6, Energierückgewinnung (Energy Smart Management), Finanzierungsbeispiel, *, Barzahlungspreis: 18.990,00 Euro, Anzahlung: 3.798,00 Euro, Laufzeit: 72 Monate, Nettokreditbetrag: 15.192,00 Euro, Effektiver Jahreszins: 5,99 %, Sollzinssatz (gebunden) p.a.: 5,83 %, Bruttokreditbetrag: 18.041,00 Euro, Monatliche Rate: 251,00 Euro, *Repräsentatives Finanzierungsbeispiel der Renault Bank / Renault Leasing, Geschäftsbereich der RCI Banque S.A. Niederlassung Deutschland, Jagenbergstraße 1, 41468 Neuss für Privatkunden, für die das Autohaus als Darlehnsvermittler beratend tätig ist. Bonität vorausgesetzt. Angaben entsprechen zugleich dem 2/3 Beispiel nach § 6a Abs. 3 PAngV.\\n]                                                                                                                                                                                                                                                                                                                                      1\n",
      "[\\nEuro6, Rückfahrkamera, Klimaautomatik 2-fach, Fahrerairbag, Beifahrerairbag, Fenster-/Kopfairbags vorne, Fenster-/Kopfairbags im Fond, Einparkhilfe Kamera, Einparkhilfe Sensoren vorne, Einparkhilfe Sensoren hinten, Traktionskontrolle, Fensterheber elektrisch 4-fach, Sitz links orthopaedisch, Bluetooth Freisprecheinrichtung, Außenspiegel beheizbar, Bremsassistent, Tempomat, ISOFIX Kindersitzhalterung, Leichtmetallfelgen, Lenksäule einstellbar, Gepäckraumabdeckung, weitere Ausstattungen vorhanden,  Airbag Fahrer-/Beifahrerseite, Audiosystem R 4.0 IntelliLink, Außenspiegel Wagenfarbe, Außenspiegel elektr. verstell- und heizbar, elektr. anklappbar, Bordcomputer, Bremsassistent, Dach, Design-Ausführung, Drehzahlmesser, Ecoflex, Einstiegsleisten mit Schriftzug, Elektron. Stabilitäts-Programm Plus (ESP), Fahrassistenz-System: Berganfahr-Assistent (HSA, Hill Start Assist), Fahrassistenz-System: Notbrems-Assistent, Fahrzeugschlüssel (2) beide klappbar, Fensterheber elektrisch vorn + hinten, Fensterzierleisten Edelstahl / Chrom, Feststellbremse elektrisch, Frontkamera, Geschwindigkeits-Regelanlage (Tempomat), Isofix-Aufnahmen für Kindersitz an Rücksitz, Karosserie: 5-türig, Klimaautomatik 2-Zonen, Kopf-Airbag-System, Laderaumabdeckung, Lendenwirbelstütze Sitz vorn links, elektr. verstellbar, Lenkrad mit Multifunktion, Lenksäule (Lenkrad) verstellbar, Licht-Paket, Motor 1,0 Ltr. - 77 kW 12V, Nebelscheinwerfer, OnStar SOS Service, Parkpilotsystem vorn und hinten, Reifendruck-Kontrollsystem, Rückfahrkamera, Schadstoffarm nach Abgasnorm Euro 6, Seitenairbag vorn, Servolenkung geschwindigkeitsabhängig, Start/Stop-Anlage, Steckdose (12V-Anschluß) in Mittelkonsole, Tagfahrlicht LED, Türgriffe außen Wagenfarbe, Wegfahrsperre, Zentralverriegelung mit Fernbedienung, ecoFLEX-Paket, incl. Winterkompletträder , \\n]                                                                                                                                                                                                                                                                                                                                                                                                                                                                                                                                                                                                                                                                                                                                                                                                                                                                                                                                                                                                                                                                                                                                                                                                                                                                                   1\n",
      "Name: description, Length: 12874, dtype: int64\n",
      "--------------------\n",
      "Emission Label\n",
      "----------\n",
      "NaN                     11934\n",
      "[\\n4 (Green)\\n]          3553\n",
      "[\\n1 (No sticker)\\n]      381\n",
      "[[], [], []]               40\n",
      "[\\n5 (Blue)\\n]              8\n",
      "[\\n3 (Yellow)\\n]            2\n",
      "[\\n2 (Red)\\n]               1\n",
      "Name: Emission Label, dtype: int64\n",
      "--------------------\n",
      "Gears\n",
      "----------\n",
      "[\\n6\\n]     5822\n",
      "NaN         4712\n",
      "[\\n5\\n]     3239\n",
      "[\\n7\\n]     1908\n",
      "[\\n8\\n]      224\n",
      "[\\n9\\n]        6\n",
      "[\\n4\\n]        2\n",
      "[\\n3\\n]        2\n",
      "[\\n1\\n]        2\n",
      "[\\n50\\n]       1\n",
      "[\\n2\\n]        1\n",
      "Name: Gears, dtype: int64\n",
      "--------------------\n",
      "Country version\n",
      "----------\n",
      "NaN                     8333\n",
      "[\\nGermany\\n]           4502\n",
      "[\\nItaly\\n]             1038\n",
      "[\\nEuropean Union\\n]     507\n",
      "[\\nNetherlands\\n]        464\n",
      "[\\nSpain\\n]              325\n",
      "[\\nBelgium\\n]            314\n",
      "[\\nAustria\\n]            208\n",
      "[\\nCzech Republic\\n]      52\n",
      "[\\nPoland\\n]              49\n",
      "[\\nFrance\\n]              38\n",
      "[\\nDenmark\\n]             33\n",
      "[\\nHungary\\n]             28\n",
      "[\\nJapan\\n]                8\n",
      "[\\nSlovakia\\n]             4\n",
      "[\\nCroatia\\n]              4\n",
      "[\\nSweden\\n]               3\n",
      "[\\nBulgaria\\n]             2\n",
      "[\\nRomania\\n]              2\n",
      "[\\nEgypt\\n]                1\n",
      "[\\nSerbia\\n]               1\n",
      "[\\nLuxembourg\\n]           1\n",
      "[\\nSwitzerland\\n]          1\n",
      "[\\nSlovenia\\n]             1\n",
      "Name: Country version, dtype: int64\n",
      "--------------------\n",
      "Electricity consumption\n",
      "----------\n",
      "NaN                          15782\n",
      "[\\n0 kWh/100 km (comb)\\n]      137\n",
      "Name: Electricity consumption, dtype: int64\n",
      "--------------------\n",
      "Last Service Date\n",
      "----------\n",
      "NaN                                       15353\n",
      "[\\n02/2019\\n, \\nEuro 6\\n]                    23\n",
      "[\\n05/2019\\n, \\nEuro 6\\n]                    16\n",
      "[\\n01/2018\\n, \\n118 g CO2/km (comb)\\n]       15\n",
      "[\\n03/2019\\n, \\nEuro 6\\n]                    15\n",
      "                                          ...  \n",
      "[\\n05/2019\\n]                                 1\n",
      "[\\n01/2019\\n, \\n108 g CO2/km (comb)\\n]        1\n",
      "[\\n04/2016\\n, \\nEuro 6\\n]                     1\n",
      "[\\n07/2018\\n, \\nEuro 6d\\n]                    1\n",
      "[\\n02/2018\\n, \\n97 g CO2/km (comb)\\n]         1\n",
      "Name: Last Service Date, Length: 267, dtype: int64\n",
      "--------------------\n",
      "Other Fuel Types\n",
      "----------\n",
      "NaN             15039\n",
      "[[], [], []]      880\n",
      "Name: Other Fuel Types, dtype: int64\n",
      "--------------------\n",
      "Availability\n",
      "----------\n",
      "NaN                              15284\n",
      "\\nin 90 days from ordering\\n       196\n",
      "\\nin 120 days from ordering\\n      182\n",
      "\\nin 1 day from ordering\\n          51\n",
      "\\nin 5 days from ordering\\n         35\n",
      "\\nin 3 days from ordering\\n         35\n",
      "\\nin 14 days from ordering\\n        24\n",
      "\\nin 180 days from ordering\\n       24\n",
      "\\nin 7 days from ordering\\n         20\n",
      "\\nin 150 days from ordering\\n       18\n",
      "\\nin 2 days from ordering\\n         16\n",
      "\\nin 60 days from ordering\\n        13\n",
      "\\nin 42 days from ordering\\n        10\n",
      "\\nin 21 days from ordering\\n         8\n",
      "\\nin 4 days from ordering\\n          2\n",
      "\\nin 6 days from ordering\\n          1\n",
      "Name: Availability, dtype: int64\n",
      "--------------------\n",
      "Last Timing Belt Service Date\n",
      "----------\n",
      "NaN                          15903\n",
      "[\\n04/2016\\n]                    2\n",
      "[\\n01/2019\\n]                    1\n",
      "[\\n01/1970\\n]                    1\n",
      "[\\n05/2019\\n]                    1\n",
      "[\\n06/2017\\n]                    1\n",
      "[\\n04/2019\\n]                    1\n",
      "[\\n01/1900\\n]                    1\n",
      "[\\n02/2018\\n]                    1\n",
      "[\\n05/2018\\n, \\nEuro 6\\n]        1\n",
      "[\\n01/2018\\n]                    1\n",
      "[\\n07/2018\\n]                    1\n",
      "[\\n02/2019\\n]                    1\n",
      "[\\n09/2018\\n]                    1\n",
      "[\\n06/2019\\n]                    1\n",
      "[\\n12/1900\\n]                    1\n",
      "Name: Last Timing Belt Service Date, dtype: int64\n",
      "--------------------\n",
      "Available from\n",
      "----------\n",
      "NaN             15647\n",
      "\\n31/08/19\\n       98\n",
      "\\n30/07/19\\n       25\n",
      "\\n15/08/19\\n       24\n",
      "\\n16/09/19\\n       14\n",
      "\\n29/06/19\\n       12\n",
      "\\n01/07/19\\n       11\n",
      "\\n28/06/19\\n       10\n",
      "\\n19/08/19\\n        7\n",
      "\\n10/09/19\\n        6\n",
      "\\n26/06/19\\n        5\n",
      "\\n10/11/19\\n        5\n",
      "\\n27/06/19\\n        5\n",
      "\\n08/07/19\\n        4\n",
      "\\n01/08/19\\n        3\n",
      "\\n15/07/19\\n        3\n",
      "\\n25/10/19\\n        3\n",
      "\\n20/07/19\\n        2\n",
      "\\n30/06/19\\n        2\n",
      "\\n16/07/19\\n        2\n",
      "\\n24/08/19\\n        2\n",
      "\\n04/07/19\\n        2\n",
      "\\n05/07/19\\n        2\n",
      "\\n05/08/19\\n        2\n",
      "\\n29/07/19\\n        1\n",
      "\\n10/10/19\\n        1\n",
      "\\n24/09/19\\n        1\n",
      "\\n24/07/19\\n        1\n",
      "\\n03/08/19\\n        1\n",
      "\\n27/07/19\\n        1\n",
      "\\n11/08/19\\n        1\n",
      "\\n18/07/19\\n        1\n",
      "\\n05/12/19\\n        1\n",
      "\\n14/09/19\\n        1\n",
      "\\n29/09/19\\n        1\n",
      "\\n10/07/19\\n        1\n",
      "\\n03/12/19\\n        1\n",
      "\\n02/07/19\\n        1\n",
      "\\n18/08/19\\n        1\n",
      "\\n17/08/19\\n        1\n",
      "\\n19/07/19\\n        1\n",
      "\\n10/12/19\\n        1\n",
      "\\n01/09/19\\n        1\n",
      "\\n30/09/19\\n        1\n",
      "\\n06/12/19\\n        1\n",
      "\\n16/08/19\\n        1\n",
      "\\n31/10/19\\n        1\n",
      "Name: Available from, dtype: int64\n",
      "--------------------\n"
     ]
    }
   ],
   "source": [
    "object_col = df.select_dtypes(include = \"object\").columns \n",
    "\n",
    "for col in object_col:\n",
    "  print(col)\n",
    "  print(\"--\"*5)\n",
    "  print(df[col].value_counts(dropna = False))\n",
    "  print( \"--\"*10)"
   ]
  },
  {
   "cell_type": "markdown",
   "metadata": {},
   "source": [
    "### Examining Each Column"
   ]
  },
  {
   "cell_type": "markdown",
   "metadata": {},
   "source": [
    "### 1 . URL"
   ]
  },
  {
   "cell_type": "code",
   "execution_count": 4,
   "metadata": {},
   "outputs": [],
   "source": [
    "#df['url'].value_counts(dropna = False)"
   ]
  },
  {
   "cell_type": "code",
   "execution_count": 5,
   "metadata": {},
   "outputs": [],
   "source": [
    "df.drop(\"url\",axis=1,inplace=True)"
   ]
  },
  {
   "cell_type": "markdown",
   "metadata": {},
   "source": [
    "<font color='light blue'>\n",
    "a. Column 'url' was used for web scrabing and gives information for each product. <br>\n",
    "b. Dropped, not related to target field.\n",
    "</font>"
   ]
  },
  {
   "cell_type": "markdown",
   "metadata": {},
   "source": [
    "### 2. make_model"
   ]
  },
  {
   "cell_type": "code",
   "execution_count": 6,
   "metadata": {},
   "outputs": [
    {
     "data": {
      "text/plain": [
       "Audi A3           3097\n",
       "Audi A1           2614\n",
       "Opel Insignia     2598\n",
       "Opel Astra        2526\n",
       "Opel Corsa        2219\n",
       "Renault Clio      1839\n",
       "Renault Espace     991\n",
       "Renault Duster      34\n",
       "Audi A2              1\n",
       "Name: make_model, dtype: int64"
      ]
     },
     "execution_count": 6,
     "metadata": {},
     "output_type": "execute_result"
    }
   ],
   "source": [
    "df['make_model'].value_counts(dropna = False)"
   ]
  },
  {
   "cell_type": "code",
   "execution_count": 7,
   "metadata": {},
   "outputs": [],
   "source": [
    "df.drop([\"Make\",\"Model\"],axis=1,inplace=True)"
   ]
  },
  {
   "cell_type": "markdown",
   "metadata": {},
   "source": [
    "<font color='orange'> ** Impressions on the column 'make_model' and to dos. </font>\n",
    "<font color='light blue'>\n",
    "    \n",
    "a. This is a categorical column <br>\n",
    "b. The columns icludes the name of the make and model of the cars.<br>\n",
    "c. We have 3 makes and 9 models <br>\n",
    "d. All the values are strings  <br>\n",
    "e. Clean data, no need to work on <br>\n",
    "f. Directly related to the target value<br>\n",
    "g. Since \"Make_Model\" and \"Model-Make Columns\" are equel, we dropped these columns\n",
    "</font>"
   ]
  },
  {
   "cell_type": "markdown",
   "metadata": {},
   "source": [
    "### 3. short_description"
   ]
  },
  {
   "cell_type": "code",
   "execution_count": 8,
   "metadata": {},
   "outputs": [],
   "source": [
    "sd_disp = df['short_description'].str.findall('\\d\\.\\d').str[0].astype(float)\n",
    "df['sd_disp'] = sd_disp*1000\n",
    "df['sd_disp'] = df['sd_disp'].replace(1600,1598).replace(1800,1798)"
   ]
  },
  {
   "cell_type": "code",
   "execution_count": 9,
   "metadata": {},
   "outputs": [],
   "source": [
    "df.loc[df['sd_disp']<800,'sd_disp'] = np.nan"
   ]
  },
  {
   "cell_type": "markdown",
   "metadata": {},
   "source": [
    "<font color='orange'> ** Impressions on the column 'short_description' and to dos. </font>\n",
    "<font color='light blue'>\n",
    "    \n",
    "a. This is a categorical column <br>\n",
    "b. The column icludes some details about the cars as free-text.<br>\n",
    "c. The data of dispalement extracted to use the NaN's of Displacement column.  <br>\n",
    "d. SInce it is not consistent  for each model, it should be dropped<br>\n",
    "</font>"
   ]
  },
  {
   "cell_type": "markdown",
   "metadata": {},
   "source": [
    "### 4. body_type"
   ]
  },
  {
   "cell_type": "code",
   "execution_count": 10,
   "metadata": {},
   "outputs": [
    {
     "data": {
      "text/plain": [
       "Sedans           7903\n",
       "Station wagon    3553\n",
       "Compact          3153\n",
       "Van               783\n",
       "Other             290\n",
       "Transporter        88\n",
       "NaN                60\n",
       "Off-Road           56\n",
       "Coupe              25\n",
       "Convertible         8\n",
       "Name: body_type, dtype: int64"
      ]
     },
     "execution_count": 10,
     "metadata": {},
     "output_type": "execute_result"
    }
   ],
   "source": [
    "df.body_type.value_counts(dropna = False)"
   ]
  },
  {
   "cell_type": "code",
   "execution_count": 11,
   "metadata": {},
   "outputs": [],
   "source": [
    "#60 NaNs filled with 'Other'\n",
    "df['body_type'] = df['body_type'].fillna('Other')"
   ]
  },
  {
   "cell_type": "code",
   "execution_count": 12,
   "metadata": {},
   "outputs": [
    {
     "data": {
      "text/plain": [
       "Sedans           7903\n",
       "Station wagon    3553\n",
       "Compact          3153\n",
       "Van               783\n",
       "Other             350\n",
       "Transporter        88\n",
       "Off-Road           56\n",
       "Coupe              25\n",
       "Convertible         8\n",
       "Name: body_type, dtype: int64"
      ]
     },
     "execution_count": 12,
     "metadata": {},
     "output_type": "execute_result"
    }
   ],
   "source": [
    "df.body_type.value_counts(dropna = False)"
   ]
  },
  {
   "cell_type": "markdown",
   "metadata": {},
   "source": [
    "<font color='orange'> ** Impressions on the column 'body_type' and to dos. </font>\n",
    "<font color='light blue'>\n",
    "    \n",
    "a. This is a categorical column <br>\n",
    "b. The column icludes body_types of the cars.<br>\n",
    "s. There are 60 NaNs, they could be filled as 'Other'  <br>\n",
    "d. This data should be checked with other features <br>\n",
    "e. Directly related to the target value but need to think on that\n",
    "</font>"
   ]
  },
  {
   "cell_type": "markdown",
   "metadata": {},
   "source": [
    "### 5. Price"
   ]
  },
  {
   "cell_type": "code",
   "execution_count": 13,
   "metadata": {},
   "outputs": [
    {
     "data": {
      "text/plain": [
       "14990    154\n",
       "15990    151\n",
       "10990    139\n",
       "15900    106\n",
       "17990    102\n",
       "        ... \n",
       "31940      1\n",
       "15540      1\n",
       "21649      1\n",
       "27790      1\n",
       "34815      1\n",
       "Name: price, Length: 2956, dtype: int64"
      ]
     },
     "execution_count": 13,
     "metadata": {},
     "output_type": "execute_result"
    }
   ],
   "source": [
    "df.price.value_counts(dropna=False)\n"
   ]
  },
  {
   "cell_type": "markdown",
   "metadata": {},
   "source": [
    "<font color='orange'> ** Impressions on the column 'price' </font>\n",
    "<font color='light blue'>\n",
    "    \n",
    "a. This is target value <br>\n",
    "b. The type is integer and data is clean\n",
    "</font>"
   ]
  },
  {
   "cell_type": "markdown",
   "metadata": {},
   "source": [
    "### 6. Vat"
   ]
  },
  {
   "cell_type": "code",
   "execution_count": 14,
   "metadata": {},
   "outputs": [
    {
     "data": {
      "text/plain": [
       "VAT deductible      10980\n",
       "NaN                  4513\n",
       "Price negotiable      426\n",
       "Name: vat, dtype: int64"
      ]
     },
     "execution_count": 14,
     "metadata": {},
     "output_type": "execute_result"
    }
   ],
   "source": [
    "df.vat.value_counts(dropna=False)"
   ]
  },
  {
   "cell_type": "code",
   "execution_count": 15,
   "metadata": {},
   "outputs": [],
   "source": [
    "#4513 NaNs filled with 'VAT not deductible'\n",
    "df['vat'] = df['vat'].fillna('VAT not deductible')"
   ]
  },
  {
   "cell_type": "code",
   "execution_count": 16,
   "metadata": {},
   "outputs": [
    {
     "data": {
      "text/plain": [
       "VAT deductible        10980\n",
       "VAT not deductible     4513\n",
       "Price negotiable        426\n",
       "Name: vat, dtype: int64"
      ]
     },
     "execution_count": 16,
     "metadata": {},
     "output_type": "execute_result"
    }
   ],
   "source": [
    "df.vat.value_counts(dropna=False)"
   ]
  },
  {
   "cell_type": "markdown",
   "metadata": {},
   "source": [
    "<font color='orange'> ** Impressions on the column 'vat' </font>\n",
    "<font color='light blue'>\n",
    "    \n",
    "a. This column is related to target value <br>\n",
    "b. The options other than 'Vat Deductible' could be 0 and 'vat deductible' as 1\n",
    "</font>"
   ]
  },
  {
   "cell_type": "markdown",
   "metadata": {},
   "source": [
    "### 7. km"
   ]
  },
  {
   "cell_type": "code",
   "execution_count": 17,
   "metadata": {},
   "outputs": [
    {
     "data": {
      "text/plain": [
       "10.0        1045\n",
       "NaN         1024\n",
       "1.0          367\n",
       "5.0          170\n",
       "50.0         148\n",
       "            ... \n",
       "160542.0       1\n",
       "20719.0        1\n",
       "91910.0        1\n",
       "39860.0        1\n",
       "57889.0        1\n",
       "Name: km, Length: 6690, dtype: int64"
      ]
     },
     "execution_count": 17,
     "metadata": {},
     "output_type": "execute_result"
    }
   ],
   "source": [
    "df['km']=df['km'].str.replace(',' , '').str.findall('\\d+').str[0].astype(float)\n",
    "df['km'].value_counts(dropna = False)"
   ]
  },
  {
   "cell_type": "code",
   "execution_count": 18,
   "metadata": {},
   "outputs": [],
   "source": [
    "#???\n",
    "df['km'] = df['km'].fillna(df.groupby(['make_model','registration'])['km'].transform('mean'))"
   ]
  },
  {
   "cell_type": "code",
   "execution_count": 19,
   "metadata": {},
   "outputs": [
    {
     "data": {
      "text/plain": [
       "10.000000        1045\n",
       "1.000000          367\n",
       "705.505155        229\n",
       "793.189781        223\n",
       "5.000000          170\n",
       "                 ... \n",
       "18636.000000        1\n",
       "94220.000000        1\n",
       "115900.000000       1\n",
       "26217.000000        1\n",
       "57889.000000        1\n",
       "Name: km, Length: 6753, dtype: int64"
      ]
     },
     "execution_count": 19,
     "metadata": {},
     "output_type": "execute_result"
    }
   ],
   "source": [
    "df['km'].value_counts(dropna = False)"
   ]
  },
  {
   "cell_type": "markdown",
   "metadata": {},
   "source": [
    "<font color='orange'> ** Impressions on the column 'km'  </font>\n",
    "<font color='light blue'>\n",
    "    \n",
    "a. This should be a numerical column and type should be float, DONE <br>\n",
    "b. The column icludes km of the cars.<br>\n",
    "e. Directly related to the target value\n",
    "</font>"
   ]
  },
  {
   "cell_type": "markdown",
   "metadata": {},
   "source": [
    "### 8. Registration"
   ]
  },
  {
   "cell_type": "code",
   "execution_count": 20,
   "metadata": {},
   "outputs": [
    {
     "data": {
      "text/plain": [
       "\"\\nfrom datetime import datetime\\ndef cleaning_registration(a):\\n    if a == '-/-':\\n        return np.nan\\n    else:\\n        return '01/'+a\\n    \\ndef difference_in_months(a):\\n    if pd.isna(a):\\n        return a\\n    else:\\n        b = datetime.strptime('01/12/2019', '%d/%m/%Y').date()\\n        a = datetime.strptime(a, '%d/%m/%Y').date()\\n        return (b.year - a.year) * 12 + (b.month - a.month)\\n\\n\\ndf['age_in_months'] = df.registration.apply(cleaning_registration)\\ndf['age_in_months'] = df['age_in_months'].apply(difference_in_months)\\ndf['age_in_months'].value_counts(dropna = False)\\n\""
      ]
     },
     "execution_count": 20,
     "metadata": {},
     "output_type": "execute_result"
    }
   ],
   "source": [
    "\"\"\"\n",
    "from datetime import datetime\n",
    "def cleaning_registration(a):\n",
    "    if a == '-/-':\n",
    "        return np.nan\n",
    "    else:\n",
    "        return '01/'+a\n",
    "    \n",
    "def difference_in_months(a):\n",
    "    if pd.isna(a):\n",
    "        return a\n",
    "    else:\n",
    "        b = datetime.strptime('01/12/2019', '%d/%m/%Y').date()\n",
    "        a = datetime.strptime(a, '%d/%m/%Y').date()\n",
    "        return (b.year - a.year) * 12 + (b.month - a.month)\n",
    "\n",
    "\n",
    "df['age_in_months'] = df.registration.apply(cleaning_registration)\n",
    "df['age_in_months'] = df['age_in_months'].apply(difference_in_months)\n",
    "df['age_in_months'].value_counts(dropna = False)\n",
    "\"\"\""
   ]
  },
  {
   "cell_type": "code",
   "execution_count": 21,
   "metadata": {},
   "outputs": [],
   "source": [
    "df[\"registration\"]=df[\"registration\"].replace(\"-/-\",np.NaN)"
   ]
  },
  {
   "cell_type": "code",
   "execution_count": 22,
   "metadata": {},
   "outputs": [],
   "source": [
    "df[\"registration\"]=pd.to_datetime(df[\"registration\"]).dt.year"
   ]
  },
  {
   "cell_type": "code",
   "execution_count": 23,
   "metadata": {},
   "outputs": [
    {
     "data": {
      "text/plain": [
       "2018.0    4522\n",
       "2016.0    3674\n",
       "2017.0    3273\n",
       "2019.0    2853\n",
       "NaN       1597\n",
       "Name: registration, dtype: int64"
      ]
     },
     "execution_count": 23,
     "metadata": {},
     "output_type": "execute_result"
    }
   ],
   "source": [
    "df[\"registration\"].value_counts(dropna=False)"
   ]
  },
  {
   "cell_type": "code",
   "execution_count": 24,
   "metadata": {},
   "outputs": [
    {
     "ename": "TypeError",
     "evalue": "unhashable type: 'list'",
     "output_type": "error",
     "traceback": [
      "\u001b[1;31m---------------------------------------------------------------------------\u001b[0m",
      "\u001b[1;31mTypeError\u001b[0m                                 Traceback (most recent call last)",
      "\u001b[1;32m<ipython-input-24-b681a416ee3f>\u001b[0m in \u001b[0;36m<module>\u001b[1;34m\u001b[0m\n\u001b[1;32m----> 1\u001b[1;33m \u001b[0mdf\u001b[0m\u001b[1;33m.\u001b[0m\u001b[0mgroupby\u001b[0m\u001b[1;33m(\u001b[0m\u001b[1;34m'Type'\u001b[0m\u001b[1;33m)\u001b[0m\u001b[1;33m[\u001b[0m\u001b[1;34m\"registration\"\u001b[0m\u001b[1;33m]\u001b[0m\u001b[1;33m.\u001b[0m\u001b[0mvalue_counts\u001b[0m\u001b[1;33m(\u001b[0m\u001b[0mdropna\u001b[0m \u001b[1;33m=\u001b[0m \u001b[1;32mFalse\u001b[0m\u001b[1;33m)\u001b[0m\u001b[1;33m\u001b[0m\u001b[1;33m\u001b[0m\u001b[0m\n\u001b[0m",
      "\u001b[1;32m~\\anaconda3\\lib\\site-packages\\pandas\\core\\groupby\\generic.py\u001b[0m in \u001b[0;36mvalue_counts\u001b[1;34m(self, normalize, sort, ascending, bins, dropna)\u001b[0m\n\u001b[0;32m    694\u001b[0m             )\n\u001b[0;32m    695\u001b[0m \u001b[1;33m\u001b[0m\u001b[0m\n\u001b[1;32m--> 696\u001b[1;33m         \u001b[0mids\u001b[0m\u001b[1;33m,\u001b[0m \u001b[0m_\u001b[0m\u001b[1;33m,\u001b[0m \u001b[0m_\u001b[0m \u001b[1;33m=\u001b[0m \u001b[0mself\u001b[0m\u001b[1;33m.\u001b[0m\u001b[0mgrouper\u001b[0m\u001b[1;33m.\u001b[0m\u001b[0mgroup_info\u001b[0m\u001b[1;33m\u001b[0m\u001b[1;33m\u001b[0m\u001b[0m\n\u001b[0m\u001b[0;32m    697\u001b[0m         \u001b[0mval\u001b[0m \u001b[1;33m=\u001b[0m \u001b[0mself\u001b[0m\u001b[1;33m.\u001b[0m\u001b[0mobj\u001b[0m\u001b[1;33m.\u001b[0m\u001b[0m_values\u001b[0m\u001b[1;33m\u001b[0m\u001b[1;33m\u001b[0m\u001b[0m\n\u001b[0;32m    698\u001b[0m \u001b[1;33m\u001b[0m\u001b[0m\n",
      "\u001b[1;32mpandas\\_libs\\properties.pyx\u001b[0m in \u001b[0;36mpandas._libs.properties.CachedProperty.__get__\u001b[1;34m()\u001b[0m\n",
      "\u001b[1;32m~\\anaconda3\\lib\\site-packages\\pandas\\core\\groupby\\ops.py\u001b[0m in \u001b[0;36mgroup_info\u001b[1;34m(self)\u001b[0m\n\u001b[0;32m    298\u001b[0m     \u001b[1;33m@\u001b[0m\u001b[0mcache_readonly\u001b[0m\u001b[1;33m\u001b[0m\u001b[1;33m\u001b[0m\u001b[0m\n\u001b[0;32m    299\u001b[0m     \u001b[1;32mdef\u001b[0m \u001b[0mgroup_info\u001b[0m\u001b[1;33m(\u001b[0m\u001b[0mself\u001b[0m\u001b[1;33m)\u001b[0m\u001b[1;33m:\u001b[0m\u001b[1;33m\u001b[0m\u001b[1;33m\u001b[0m\u001b[0m\n\u001b[1;32m--> 300\u001b[1;33m         \u001b[0mcomp_ids\u001b[0m\u001b[1;33m,\u001b[0m \u001b[0mobs_group_ids\u001b[0m \u001b[1;33m=\u001b[0m \u001b[0mself\u001b[0m\u001b[1;33m.\u001b[0m\u001b[0m_get_compressed_codes\u001b[0m\u001b[1;33m(\u001b[0m\u001b[1;33m)\u001b[0m\u001b[1;33m\u001b[0m\u001b[1;33m\u001b[0m\u001b[0m\n\u001b[0m\u001b[0;32m    301\u001b[0m \u001b[1;33m\u001b[0m\u001b[0m\n\u001b[0;32m    302\u001b[0m         \u001b[0mngroups\u001b[0m \u001b[1;33m=\u001b[0m \u001b[0mlen\u001b[0m\u001b[1;33m(\u001b[0m\u001b[0mobs_group_ids\u001b[0m\u001b[1;33m)\u001b[0m\u001b[1;33m\u001b[0m\u001b[1;33m\u001b[0m\u001b[0m\n",
      "\u001b[1;32m~\\anaconda3\\lib\\site-packages\\pandas\\core\\groupby\\ops.py\u001b[0m in \u001b[0;36m_get_compressed_codes\u001b[1;34m(self)\u001b[0m\n\u001b[0;32m    316\u001b[0m     \u001b[1;33m@\u001b[0m\u001b[0mfinal\u001b[0m\u001b[1;33m\u001b[0m\u001b[1;33m\u001b[0m\u001b[0m\n\u001b[0;32m    317\u001b[0m     \u001b[1;32mdef\u001b[0m \u001b[0m_get_compressed_codes\u001b[0m\u001b[1;33m(\u001b[0m\u001b[0mself\u001b[0m\u001b[1;33m)\u001b[0m \u001b[1;33m->\u001b[0m \u001b[0mTuple\u001b[0m\u001b[1;33m[\u001b[0m\u001b[0mnp\u001b[0m\u001b[1;33m.\u001b[0m\u001b[0mndarray\u001b[0m\u001b[1;33m,\u001b[0m \u001b[0mnp\u001b[0m\u001b[1;33m.\u001b[0m\u001b[0mndarray\u001b[0m\u001b[1;33m]\u001b[0m\u001b[1;33m:\u001b[0m\u001b[1;33m\u001b[0m\u001b[1;33m\u001b[0m\u001b[0m\n\u001b[1;32m--> 318\u001b[1;33m         \u001b[0mall_codes\u001b[0m \u001b[1;33m=\u001b[0m \u001b[0mself\u001b[0m\u001b[1;33m.\u001b[0m\u001b[0mcodes\u001b[0m\u001b[1;33m\u001b[0m\u001b[1;33m\u001b[0m\u001b[0m\n\u001b[0m\u001b[0;32m    319\u001b[0m         \u001b[1;32mif\u001b[0m \u001b[0mlen\u001b[0m\u001b[1;33m(\u001b[0m\u001b[0mall_codes\u001b[0m\u001b[1;33m)\u001b[0m \u001b[1;33m>\u001b[0m \u001b[1;36m1\u001b[0m\u001b[1;33m:\u001b[0m\u001b[1;33m\u001b[0m\u001b[1;33m\u001b[0m\u001b[0m\n\u001b[0;32m    320\u001b[0m             \u001b[0mgroup_index\u001b[0m \u001b[1;33m=\u001b[0m \u001b[0mget_group_index\u001b[0m\u001b[1;33m(\u001b[0m\u001b[0mall_codes\u001b[0m\u001b[1;33m,\u001b[0m \u001b[0mself\u001b[0m\u001b[1;33m.\u001b[0m\u001b[0mshape\u001b[0m\u001b[1;33m,\u001b[0m \u001b[0msort\u001b[0m\u001b[1;33m=\u001b[0m\u001b[1;32mTrue\u001b[0m\u001b[1;33m,\u001b[0m \u001b[0mxnull\u001b[0m\u001b[1;33m=\u001b[0m\u001b[1;32mTrue\u001b[0m\u001b[1;33m)\u001b[0m\u001b[1;33m\u001b[0m\u001b[1;33m\u001b[0m\u001b[0m\n",
      "\u001b[1;32m~\\anaconda3\\lib\\site-packages\\pandas\\core\\groupby\\ops.py\u001b[0m in \u001b[0;36mcodes\u001b[1;34m(self)\u001b[0m\n\u001b[0;32m    257\u001b[0m     \u001b[1;33m@\u001b[0m\u001b[0mproperty\u001b[0m\u001b[1;33m\u001b[0m\u001b[1;33m\u001b[0m\u001b[0m\n\u001b[0;32m    258\u001b[0m     \u001b[1;32mdef\u001b[0m \u001b[0mcodes\u001b[0m\u001b[1;33m(\u001b[0m\u001b[0mself\u001b[0m\u001b[1;33m)\u001b[0m \u001b[1;33m->\u001b[0m \u001b[0mList\u001b[0m\u001b[1;33m[\u001b[0m\u001b[0mnp\u001b[0m\u001b[1;33m.\u001b[0m\u001b[0mndarray\u001b[0m\u001b[1;33m]\u001b[0m\u001b[1;33m:\u001b[0m\u001b[1;33m\u001b[0m\u001b[1;33m\u001b[0m\u001b[0m\n\u001b[1;32m--> 259\u001b[1;33m         \u001b[1;32mreturn\u001b[0m \u001b[1;33m[\u001b[0m\u001b[0mping\u001b[0m\u001b[1;33m.\u001b[0m\u001b[0mcodes\u001b[0m \u001b[1;32mfor\u001b[0m \u001b[0mping\u001b[0m \u001b[1;32min\u001b[0m \u001b[0mself\u001b[0m\u001b[1;33m.\u001b[0m\u001b[0mgroupings\u001b[0m\u001b[1;33m]\u001b[0m\u001b[1;33m\u001b[0m\u001b[1;33m\u001b[0m\u001b[0m\n\u001b[0m\u001b[0;32m    260\u001b[0m \u001b[1;33m\u001b[0m\u001b[0m\n\u001b[0;32m    261\u001b[0m     \u001b[1;33m@\u001b[0m\u001b[0mproperty\u001b[0m\u001b[1;33m\u001b[0m\u001b[1;33m\u001b[0m\u001b[0m\n",
      "\u001b[1;32m~\\anaconda3\\lib\\site-packages\\pandas\\core\\groupby\\ops.py\u001b[0m in \u001b[0;36m<listcomp>\u001b[1;34m(.0)\u001b[0m\n\u001b[0;32m    257\u001b[0m     \u001b[1;33m@\u001b[0m\u001b[0mproperty\u001b[0m\u001b[1;33m\u001b[0m\u001b[1;33m\u001b[0m\u001b[0m\n\u001b[0;32m    258\u001b[0m     \u001b[1;32mdef\u001b[0m \u001b[0mcodes\u001b[0m\u001b[1;33m(\u001b[0m\u001b[0mself\u001b[0m\u001b[1;33m)\u001b[0m \u001b[1;33m->\u001b[0m \u001b[0mList\u001b[0m\u001b[1;33m[\u001b[0m\u001b[0mnp\u001b[0m\u001b[1;33m.\u001b[0m\u001b[0mndarray\u001b[0m\u001b[1;33m]\u001b[0m\u001b[1;33m:\u001b[0m\u001b[1;33m\u001b[0m\u001b[1;33m\u001b[0m\u001b[0m\n\u001b[1;32m--> 259\u001b[1;33m         \u001b[1;32mreturn\u001b[0m \u001b[1;33m[\u001b[0m\u001b[0mping\u001b[0m\u001b[1;33m.\u001b[0m\u001b[0mcodes\u001b[0m \u001b[1;32mfor\u001b[0m \u001b[0mping\u001b[0m \u001b[1;32min\u001b[0m \u001b[0mself\u001b[0m\u001b[1;33m.\u001b[0m\u001b[0mgroupings\u001b[0m\u001b[1;33m]\u001b[0m\u001b[1;33m\u001b[0m\u001b[1;33m\u001b[0m\u001b[0m\n\u001b[0m\u001b[0;32m    260\u001b[0m \u001b[1;33m\u001b[0m\u001b[0m\n\u001b[0;32m    261\u001b[0m     \u001b[1;33m@\u001b[0m\u001b[0mproperty\u001b[0m\u001b[1;33m\u001b[0m\u001b[1;33m\u001b[0m\u001b[0m\n",
      "\u001b[1;32m~\\anaconda3\\lib\\site-packages\\pandas\\core\\groupby\\grouper.py\u001b[0m in \u001b[0;36mcodes\u001b[1;34m(self)\u001b[0m\n\u001b[0;32m    589\u001b[0m     \u001b[1;32mdef\u001b[0m \u001b[0mcodes\u001b[0m\u001b[1;33m(\u001b[0m\u001b[0mself\u001b[0m\u001b[1;33m)\u001b[0m \u001b[1;33m->\u001b[0m \u001b[0mnp\u001b[0m\u001b[1;33m.\u001b[0m\u001b[0mndarray\u001b[0m\u001b[1;33m:\u001b[0m\u001b[1;33m\u001b[0m\u001b[1;33m\u001b[0m\u001b[0m\n\u001b[0;32m    590\u001b[0m         \u001b[1;32mif\u001b[0m \u001b[0mself\u001b[0m\u001b[1;33m.\u001b[0m\u001b[0m_codes\u001b[0m \u001b[1;32mis\u001b[0m \u001b[1;32mNone\u001b[0m\u001b[1;33m:\u001b[0m\u001b[1;33m\u001b[0m\u001b[1;33m\u001b[0m\u001b[0m\n\u001b[1;32m--> 591\u001b[1;33m             \u001b[0mself\u001b[0m\u001b[1;33m.\u001b[0m\u001b[0m_make_codes\u001b[0m\u001b[1;33m(\u001b[0m\u001b[1;33m)\u001b[0m\u001b[1;33m\u001b[0m\u001b[1;33m\u001b[0m\u001b[0m\n\u001b[0m\u001b[0;32m    592\u001b[0m         \u001b[1;32mreturn\u001b[0m \u001b[0mself\u001b[0m\u001b[1;33m.\u001b[0m\u001b[0m_codes\u001b[0m\u001b[1;33m\u001b[0m\u001b[1;33m\u001b[0m\u001b[0m\n\u001b[0;32m    593\u001b[0m \u001b[1;33m\u001b[0m\u001b[0m\n",
      "\u001b[1;32m~\\anaconda3\\lib\\site-packages\\pandas\\core\\groupby\\grouper.py\u001b[0m in \u001b[0;36m_make_codes\u001b[1;34m(self)\u001b[0m\n\u001b[0;32m    621\u001b[0m             \u001b[1;32melse\u001b[0m\u001b[1;33m:\u001b[0m\u001b[1;33m\u001b[0m\u001b[1;33m\u001b[0m\u001b[0m\n\u001b[0;32m    622\u001b[0m                 \u001b[0mna_sentinel\u001b[0m \u001b[1;33m=\u001b[0m \u001b[1;33m-\u001b[0m\u001b[1;36m1\u001b[0m\u001b[1;33m\u001b[0m\u001b[1;33m\u001b[0m\u001b[0m\n\u001b[1;32m--> 623\u001b[1;33m             codes, uniques = algorithms.factorize(\n\u001b[0m\u001b[0;32m    624\u001b[0m                 \u001b[0mself\u001b[0m\u001b[1;33m.\u001b[0m\u001b[0mgrouper\u001b[0m\u001b[1;33m,\u001b[0m \u001b[0msort\u001b[0m\u001b[1;33m=\u001b[0m\u001b[0mself\u001b[0m\u001b[1;33m.\u001b[0m\u001b[0msort\u001b[0m\u001b[1;33m,\u001b[0m \u001b[0mna_sentinel\u001b[0m\u001b[1;33m=\u001b[0m\u001b[0mna_sentinel\u001b[0m\u001b[1;33m\u001b[0m\u001b[1;33m\u001b[0m\u001b[0m\n\u001b[0;32m    625\u001b[0m             )\n",
      "\u001b[1;32m~\\anaconda3\\lib\\site-packages\\pandas\\core\\algorithms.py\u001b[0m in \u001b[0;36mfactorize\u001b[1;34m(values, sort, na_sentinel, size_hint)\u001b[0m\n\u001b[0;32m    720\u001b[0m             \u001b[0mna_value\u001b[0m \u001b[1;33m=\u001b[0m \u001b[1;32mNone\u001b[0m\u001b[1;33m\u001b[0m\u001b[1;33m\u001b[0m\u001b[0m\n\u001b[0;32m    721\u001b[0m \u001b[1;33m\u001b[0m\u001b[0m\n\u001b[1;32m--> 722\u001b[1;33m         codes, uniques = factorize_array(\n\u001b[0m\u001b[0;32m    723\u001b[0m             \u001b[0mvalues\u001b[0m\u001b[1;33m,\u001b[0m \u001b[0mna_sentinel\u001b[0m\u001b[1;33m=\u001b[0m\u001b[0mna_sentinel\u001b[0m\u001b[1;33m,\u001b[0m \u001b[0msize_hint\u001b[0m\u001b[1;33m=\u001b[0m\u001b[0msize_hint\u001b[0m\u001b[1;33m,\u001b[0m \u001b[0mna_value\u001b[0m\u001b[1;33m=\u001b[0m\u001b[0mna_value\u001b[0m\u001b[1;33m\u001b[0m\u001b[1;33m\u001b[0m\u001b[0m\n\u001b[0;32m    724\u001b[0m         )\n",
      "\u001b[1;32m~\\anaconda3\\lib\\site-packages\\pandas\\core\\algorithms.py\u001b[0m in \u001b[0;36mfactorize_array\u001b[1;34m(values, na_sentinel, size_hint, na_value, mask)\u001b[0m\n\u001b[0;32m    526\u001b[0m \u001b[1;33m\u001b[0m\u001b[0m\n\u001b[0;32m    527\u001b[0m     \u001b[0mtable\u001b[0m \u001b[1;33m=\u001b[0m \u001b[0mhash_klass\u001b[0m\u001b[1;33m(\u001b[0m\u001b[0msize_hint\u001b[0m \u001b[1;32mor\u001b[0m \u001b[0mlen\u001b[0m\u001b[1;33m(\u001b[0m\u001b[0mvalues\u001b[0m\u001b[1;33m)\u001b[0m\u001b[1;33m)\u001b[0m\u001b[1;33m\u001b[0m\u001b[1;33m\u001b[0m\u001b[0m\n\u001b[1;32m--> 528\u001b[1;33m     uniques, codes = table.factorize(\n\u001b[0m\u001b[0;32m    529\u001b[0m         \u001b[0mvalues\u001b[0m\u001b[1;33m,\u001b[0m \u001b[0mna_sentinel\u001b[0m\u001b[1;33m=\u001b[0m\u001b[0mna_sentinel\u001b[0m\u001b[1;33m,\u001b[0m \u001b[0mna_value\u001b[0m\u001b[1;33m=\u001b[0m\u001b[0mna_value\u001b[0m\u001b[1;33m,\u001b[0m \u001b[0mmask\u001b[0m\u001b[1;33m=\u001b[0m\u001b[0mmask\u001b[0m\u001b[1;33m\u001b[0m\u001b[1;33m\u001b[0m\u001b[0m\n\u001b[0;32m    530\u001b[0m     )\n",
      "\u001b[1;32mpandas\\_libs\\hashtable_class_helper.pxi\u001b[0m in \u001b[0;36mpandas._libs.hashtable.PyObjectHashTable.factorize\u001b[1;34m()\u001b[0m\n",
      "\u001b[1;32mpandas\\_libs\\hashtable_class_helper.pxi\u001b[0m in \u001b[0;36mpandas._libs.hashtable.PyObjectHashTable._unique\u001b[1;34m()\u001b[0m\n",
      "\u001b[1;31mTypeError\u001b[0m: unhashable type: 'list'"
     ]
    }
   ],
   "source": [
    "df.groupby('Type')[\"registration\"].value_counts(dropna = False)"
   ]
  },
  {
   "cell_type": "code",
   "execution_count": null,
   "metadata": {},
   "outputs": [],
   "source": [
    "df.groupby('Type')['registration'].apply(lambda x:x.mode()[0])"
   ]
  },
  {
   "cell_type": "code",
   "execution_count": null,
   "metadata": {},
   "outputs": [],
   "source": [
    "#???\n",
    "df['registration'] = df['registration'].fillna(df.groupby('Type')['registration'].apply(lambda x:x.mode()[0]))"
   ]
  },
  {
   "cell_type": "code",
   "execution_count": null,
   "metadata": {},
   "outputs": [],
   "source": [
    "df[\"registration\"].value_counts(dropna=False)"
   ]
  },
  {
   "cell_type": "markdown",
   "metadata": {},
   "source": [
    "<font color='orange'> ** Impressions on the column 'registration' </font>\n",
    "<font color='light blue'>\n",
    "    \n",
    "a. This should be a numerical column and type should be float <br>\n",
    "b. The column icludes registration dates of the cars.<br>\n",
    "c. There are 1597 '-/-' . The NaNs could be checked with Type1: \" Demonstration and new\" could be filled as 0 <br>\n",
    "d. We could calculate the age as year or months. DONE As Year <br>\n",
    "e. Directly related to the target value\n",
    "</font>"
   ]
  },
  {
   "cell_type": "markdown",
   "metadata": {},
   "source": [
    "### 9. prev_owner"
   ]
  },
  {
   "cell_type": "code",
   "execution_count": null,
   "metadata": {},
   "outputs": [],
   "source": [
    "df['prev_owner']=df['prev_owner'].str.findall(\"\\d+\").str[0].astype(float)"
   ]
  },
  {
   "cell_type": "code",
   "execution_count": null,
   "metadata": {},
   "outputs": [],
   "source": [
    "df['prev_owner'].value_counts(dropna = False)"
   ]
  },
  {
   "cell_type": "code",
   "execution_count": null,
   "metadata": {},
   "outputs": [],
   "source": [
    "df[\"Previous Owners\"]=df[\"Previous Owners\"].str.strip().astype(float)"
   ]
  },
  {
   "cell_type": "code",
   "execution_count": null,
   "metadata": {},
   "outputs": [],
   "source": [
    "df[[\"prev_owner\",\"Previous Owners\"]]"
   ]
  },
  {
   "cell_type": "code",
   "execution_count": null,
   "metadata": {},
   "outputs": [],
   "source": [
    "def prev_owner_combine(p1,p2):\n",
    "    if p1 == p2:\n",
    "        return p1\n",
    "    elif np.isnan(p1) :\n",
    "        if np.isnan(p2):\n",
    "            return np.nan\n",
    "        else:\n",
    "            return p2\n",
    "    elif np.isnan(p2):\n",
    "        if np.isnan(p1):\n",
    "            return np.nan\n",
    "        else:\n",
    "            return p1\n",
    "    else:\n",
    "        return 'conflict'"
   ]
  },
  {
   "cell_type": "code",
   "execution_count": null,
   "metadata": {},
   "outputs": [],
   "source": [
    "df[\"prev_owner\"]=df.apply(lambda x: prev_owner_combine(x['prev_owner'],x['Previous Owners']), axis=1)"
   ]
  },
  {
   "cell_type": "code",
   "execution_count": null,
   "metadata": {},
   "outputs": [],
   "source": [
    "df.drop('Previous Owners',axis=1,inplace=True)"
   ]
  },
  {
   "cell_type": "code",
   "execution_count": null,
   "metadata": {},
   "outputs": [],
   "source": [
    "df['prev_owner'].value_counts(dropna = False)"
   ]
  },
  {
   "cell_type": "markdown",
   "metadata": {},
   "source": [
    "<font color='orange'> ** Impressions on the column 'prev_owner' </font>\n",
    "<font color='light blue'>\n",
    "    \n",
    "a. This should be a numerical column and type should be int <br>\n",
    "b. The column icludes the the number of previous owners of the cars.<br>\n",
    "c. There are 6828 'NaN' and %43 of total values, but after comparing with previou owne volumn. They could be filled <br>\n",
    "d. We could check if the NaN values are 0 or not with checking the registration dates <br>\n",
    "e. Relation to the target value could be checked with correlation\n",
    "</font>"
   ]
  },
  {
   "cell_type": "markdown",
   "metadata": {},
   "source": [
    "### 10. kW"
   ]
  },
  {
   "cell_type": "code",
   "execution_count": null,
   "metadata": {},
   "outputs": [],
   "source": [
    "df.kW.value_counts(dropna = False)\n",
    "df.drop(\"kW\",axis=1,inplace=True)"
   ]
  },
  {
   "cell_type": "markdown",
   "metadata": {},
   "source": [
    "<font color='light blue'>\n",
    "    \n",
    "a. All the values are NaN <br>\n",
    "b. Dropped.<br>\n",
    "\n",
    "</font>"
   ]
  },
  {
   "cell_type": "markdown",
   "metadata": {},
   "source": [
    "### 11.hp"
   ]
  },
  {
   "cell_type": "code",
   "execution_count": null,
   "metadata": {},
   "outputs": [],
   "source": [
    "df['hp']=df['hp'].map(lambda x: x.rstrip(' kW')).replace(\"-\",np.NaN).astype(\"float\")"
   ]
  },
  {
   "cell_type": "markdown",
   "metadata": {},
   "source": [
    "<font color='orange'> ** Impressions on the column 'hp' </font>\n",
    "<font color='light blue'>\n",
    "    \n",
    "a. This should be a numerical column and type should be float, DONE <br>\n",
    "b. The column icludes power of the cars.<br>\n",
    "c. There are  88'-' .Replaced with np.nan   <br>\n",
    "d. 'kW' should be removed. DONE <br>\n",
    "e. Relation to the target value would be checked with correlation\n",
    "</font>"
   ]
  },
  {
   "cell_type": "markdown",
   "metadata": {},
   "source": [
    "### 12. Type"
   ]
  },
  {
   "cell_type": "code",
   "execution_count": null,
   "metadata": {},
   "outputs": [],
   "source": [
    "df.Type=df.Type.str[1].str.strip()"
   ]
  },
  {
   "cell_type": "code",
   "execution_count": null,
   "metadata": {},
   "outputs": [],
   "source": [
    "df.Type.value_counts(dropna = False)"
   ]
  },
  {
   "cell_type": "code",
   "execution_count": null,
   "metadata": {},
   "outputs": [],
   "source": [
    "df['Type'] = df['Type'].fillna('Used')"
   ]
  },
  {
   "cell_type": "code",
   "execution_count": null,
   "metadata": {},
   "outputs": [],
   "source": [
    "df.Type.value_counts(dropna = False)"
   ]
  },
  {
   "cell_type": "markdown",
   "metadata": {},
   "source": [
    "<font color='orange'> ** Impressions on the column 'Type' </font>\n",
    "<font color='light blue'>\n",
    "    \n",
    "a. This column includes list of lists about two different data <br>\n",
    "b. first part is Used/new/.. and second part is about fuel.<br>\n",
    "c. Since the fuel data is same with the column fuel. This part is neglegted.   <br>\n",
    " <br>\n",
    "</font>"
   ]
  },
  {
   "cell_type": "markdown",
   "metadata": {},
   "source": [
    "### 13.Previous Owners"
   ]
  },
  {
   "cell_type": "markdown",
   "metadata": {},
   "source": [
    "\n",
    "<font color='light blue'>\n",
    "    \n",
    "a. Deleted after combined with prev_owners columns\n",
    "</font>"
   ]
  },
  {
   "cell_type": "markdown",
   "metadata": {},
   "source": [
    "### 14.Next Inspection"
   ]
  },
  {
   "cell_type": "code",
   "execution_count": null,
   "metadata": {},
   "outputs": [],
   "source": [
    "listINS=[]\n",
    "for i in df[\"Next Inspection\"]:\n",
    "    if type(i)==float:\n",
    "        listINS.append(i)\n",
    "    elif type(i)==list:\n",
    "        listINS.append(i[0].strip())\n",
    "    else:\n",
    "        listINS.append(i.replace(\"\\n\",\"\"))"
   ]
  },
  {
   "cell_type": "code",
   "execution_count": null,
   "metadata": {},
   "outputs": [],
   "source": [
    "df[\"Next Inspection\"]=listINS\n"
   ]
  },
  {
   "cell_type": "code",
   "execution_count": null,
   "metadata": {},
   "outputs": [],
   "source": [
    "df[\"Next Inspection\"]=pd.to_datetime(df[\"Next Inspection\"])"
   ]
  },
  {
   "cell_type": "code",
   "execution_count": null,
   "metadata": {},
   "outputs": [],
   "source": [
    "df[\"Next Inspection\"] = df[\"Next Inspection\"].fillna('2019-12-01 00:00:00')"
   ]
  },
  {
   "cell_type": "code",
   "execution_count": null,
   "metadata": {},
   "outputs": [],
   "source": [
    "df[\"Next Inspection\"].value_counts(dropna = False)"
   ]
  },
  {
   "cell_type": "markdown",
   "metadata": {},
   "source": [
    "<font color='orange'> ** Impressions on the column 'Next Inspection' </font>\n",
    "<font color='light blue'>\n",
    "    \n",
    "a. This column includes many '\\n' symbols and they should be cleaned, DONE <br>\n",
    "b. The column icludes date of next inspection.<br>\n",
    "</font>"
   ]
  },
  {
   "cell_type": "markdown",
   "metadata": {},
   "source": [
    "### 15. Inspection new"
   ]
  },
  {
   "cell_type": "code",
   "execution_count": null,
   "metadata": {},
   "outputs": [],
   "source": [
    "def inspection_new(a):\n",
    "    if type(a)== list:\n",
    "        return a[0].replace('\\n', '')\n",
    "    elif type(a)== str:\n",
    "        return a.replace('\\n', '')\n",
    "    else:\n",
    "        return a\n",
    "    \n",
    "\n",
    "df['Inspection new'] = df['Inspection new'].apply(inspection_new)\n",
    "df['Inspection new'].value_counts(dropna = False, normalize= True)"
   ]
  },
  {
   "cell_type": "code",
   "execution_count": null,
   "metadata": {},
   "outputs": [],
   "source": [
    "df['Inspection new'] = df['Inspection new'].fillna('No')"
   ]
  },
  {
   "cell_type": "code",
   "execution_count": null,
   "metadata": {},
   "outputs": [],
   "source": [
    "df['Inspection new'].value_counts(dropna = False)"
   ]
  },
  {
   "cell_type": "markdown",
   "metadata": {},
   "source": [
    "<font color='orange'> ** Impressions on the column 'Inspection New' </font>\n",
    "<font color='light blue'>\n",
    "    \n",
    "a. This column includes the boolean data if the inspection is new or not, DONE <br>\n",
    "b. The column icludes date of next inspection.<br>\n",
    "c. The percentage of NaN is 75% and they could be filled with No which means it is not a new inspection   <br>\n",
    "d. Relation to the target value would be checked with correlation\n",
    "</font>"
   ]
  },
  {
   "cell_type": "markdown",
   "metadata": {},
   "source": [
    "### 16-Warranty"
   ]
  },
  {
   "cell_type": "code",
   "execution_count": null,
   "metadata": {},
   "outputs": [],
   "source": [
    "df['Warranty']"
   ]
  },
  {
   "cell_type": "code",
   "execution_count": null,
   "metadata": {},
   "outputs": [],
   "source": [
    "import re\n",
    "def clean_alt_list(a):\n",
    "    if type(a) == list:\n",
    "        b = re.findall(r'\\d+', a[0])\n",
    "        if len(b)== 0:\n",
    "            return np.nan\n",
    "        else:\n",
    "            return b[0]\n",
    "    elif type(a) ==str:\n",
    "        b = re.findall(r'\\d+', a)\n",
    "        if len(b)== 0:\n",
    "            return np.nan\n",
    "        else:\n",
    "            return b[0]\n",
    "    else:\n",
    "        return a\n",
    "\n",
    "df['Warranty'] = df['Warranty'].apply(clean_alt_list)\n",
    "df = df.rename({'Warranty': 'Warranty(months)'}, axis=1)\n"
   ]
  },
  {
   "cell_type": "code",
   "execution_count": null,
   "metadata": {},
   "outputs": [],
   "source": [
    "df['Warranty(months)'].value_counts(dropna = False)"
   ]
  },
  {
   "cell_type": "code",
   "execution_count": null,
   "metadata": {},
   "outputs": [],
   "source": [
    "df['Warranty(months)'] = df['Warranty(months)'].fillna(0.0)"
   ]
  },
  {
   "cell_type": "code",
   "execution_count": null,
   "metadata": {},
   "outputs": [],
   "source": [
    "df['Warranty(months)'].value_counts(dropna = False)"
   ]
  },
  {
   "cell_type": "markdown",
   "metadata": {},
   "source": [
    "<font color='orange'> ** Impressions on the column 'Warranty' </font>\n",
    "<font color='light blue'>\n",
    "    \n",
    "a. This column includes many '\\n' symbols and they should be cleaned, DONE <br>\n",
    "b. The column icludes date of warranty in months, also some additional data.<br>\n",
    "c. The percentage of NaN is 70% andand could be filled with 0 which meand there is no warranty   <br>\n",
    "d. Relation to the target value would be checked with correlation <br>\n",
    "e. The name of the column is change to Warranty(months)\n",
    "</font>"
   ]
  },
  {
   "cell_type": "markdown",
   "metadata": {},
   "source": [
    "### 17. Full Service"
   ]
  },
  {
   "cell_type": "code",
   "execution_count": null,
   "metadata": {},
   "outputs": [],
   "source": [
    "df.drop('Full Service',axis=1,inplace=True)"
   ]
  },
  {
   "cell_type": "markdown",
   "metadata": {},
   "source": [
    "<font color='orange'> ** Impressions on the column 'Full Service' </font>\n",
    "<font color='light blue'>\n",
    "    \n",
    "a. This column includes repetitive data and is dropped\n",
    "</font>"
   ]
  },
  {
   "cell_type": "markdown",
   "metadata": {},
   "source": [
    "### 18. 'Non-smoking Vehicle'"
   ]
  },
  {
   "cell_type": "code",
   "execution_count": null,
   "metadata": {},
   "outputs": [],
   "source": [
    "df.drop('Non-smoking Vehicle',axis=1,inplace=True)"
   ]
  },
  {
   "cell_type": "markdown",
   "metadata": {},
   "source": [
    "<font color='orange'> ** Impressions on the column 'Non-smoking Vehicle' </font>\n",
    "<font color='light blue'>\n",
    "    \n",
    "a. This column includes repetitive data and is dropped\n",
    "</font>"
   ]
  },
  {
   "cell_type": "markdown",
   "metadata": {},
   "source": [
    "### 19. 'null'"
   ]
  },
  {
   "cell_type": "code",
   "execution_count": null,
   "metadata": {},
   "outputs": [],
   "source": [
    "df.drop('null',axis=1,inplace=True)"
   ]
  },
  {
   "cell_type": "markdown",
   "metadata": {},
   "source": [
    "<font color='orange'> ** Impressions on the column 'null' </font>\n",
    "<font color='light blue'>\n",
    "    \n",
    "a. This column includes empty lists and is dropped\n",
    "</font>"
   ]
  },
  {
   "cell_type": "markdown",
   "metadata": {},
   "source": [
    "### 20. MAKE"
   ]
  },
  {
   "cell_type": "markdown",
   "metadata": {},
   "source": [
    "<font color='orange'> ** Impressions on the column 'Make' </font>\n",
    "<font color='light blue'>\n",
    "    \n",
    "a. This column is repetitive and dropped</font>"
   ]
  },
  {
   "cell_type": "markdown",
   "metadata": {},
   "source": [
    "### 21. 'Model'"
   ]
  },
  {
   "cell_type": "markdown",
   "metadata": {},
   "source": [
    "\n",
    "<font color='orange'> ** Impressions on the column 'Model' </font>\n",
    "<font color='light blue'>\n",
    "    \n",
    "a. This column is repetitive and dropped</font>"
   ]
  },
  {
   "cell_type": "markdown",
   "metadata": {},
   "source": [
    "### 22. 'Offer Number'"
   ]
  },
  {
   "cell_type": "code",
   "execution_count": null,
   "metadata": {},
   "outputs": [],
   "source": [
    "df.drop('Offer Number',axis=1,inplace=True)"
   ]
  },
  {
   "cell_type": "markdown",
   "metadata": {},
   "source": [
    "<font color='orange'> ** Impressions on the column 'Offer Number' </font>\n",
    "<font color='light blue'>\n",
    "    \n",
    "a. This column includes offer numbers.<br>\n",
    "c. It is not a related value to the target value and is dropped\n",
    "</font>"
   ]
  },
  {
   "cell_type": "markdown",
   "metadata": {},
   "source": [
    "### 23. 'First Registration'"
   ]
  },
  {
   "cell_type": "code",
   "execution_count": null,
   "metadata": {},
   "outputs": [],
   "source": [
    "df.drop(\"First Registration\",axis=1,inplace=True)"
   ]
  },
  {
   "cell_type": "markdown",
   "metadata": {},
   "source": [
    "<font color='orange'> ** Impressions on the column 'First Registration' </font>\n",
    "<font color='light blue'>\n",
    "    \n",
    "a. This column includes First registration years.<br>\n",
    "c. Checked with registration.since they have the same data, is is dropped.\n",
    "</font>"
   ]
  },
  {
   "cell_type": "markdown",
   "metadata": {},
   "source": [
    "### 24. 'Body Color'"
   ]
  },
  {
   "cell_type": "code",
   "execution_count": null,
   "metadata": {},
   "outputs": [],
   "source": [
    "def cleaning_body_color(a):\n",
    "    if type(a) == list:\n",
    "        return a[1]\n",
    "    else:\n",
    "        return a\n",
    "    \n",
    "df['Body Color'] = df['Body Color'].apply(cleaning_body_color)"
   ]
  },
  {
   "cell_type": "code",
   "execution_count": null,
   "metadata": {},
   "outputs": [],
   "source": [
    "df['Body Color'].value_counts(dropna = False)"
   ]
  },
  {
   "cell_type": "markdown",
   "metadata": {},
   "source": [
    "<font color='orange'> ** Impressions on the column 'Body Color' </font>\n",
    "<font color='light blue'>\n",
    "    \n",
    "a. This column includes body colors.<br>\n",
    "b. The numbers were within lists as second element. They are extracted <br>\n",
    "c. There are 597 NaNs. The NaNs could be filled with 'Body Color Original'<br>\n",
    "d. The relation with price could be checked with correlation\n",
    "</font>"
   ]
  },
  {
   "cell_type": "markdown",
   "metadata": {},
   "source": [
    "### 25. 'Paint Type'"
   ]
  },
  {
   "cell_type": "code",
   "execution_count": null,
   "metadata": {},
   "outputs": [],
   "source": [
    "def cleaning_the_paint_type(a):\n",
    "    if type(a)== list:\n",
    "        return a[0].replace('\\n', '')\n",
    "    else:\n",
    "        return a\n",
    "    \n",
    "df['Paint Type'] = df['Paint Type'].apply(cleaning_the_paint_type)"
   ]
  },
  {
   "cell_type": "code",
   "execution_count": null,
   "metadata": {},
   "outputs": [],
   "source": [
    "df['Paint Type'].value_counts(dropna = False)"
   ]
  },
  {
   "cell_type": "markdown",
   "metadata": {},
   "source": [
    "<font color='orange'> ** Impressions on the column 'Paint Type' </font>\n",
    "<font color='light blue'>\n",
    "    \n",
    "a. This column includes paint types.<br>\n",
    "b. The numbers were within lists. Extracted and newline symbols were cleaned<br>\n",
    "c. Relation with prices should be checked. <br>\n",
    "d. There are 5772 NaNs.\n",
    "</font>"
   ]
  },
  {
   "cell_type": "markdown",
   "metadata": {},
   "source": [
    "### 26. 'Body Color Original'"
   ]
  },
  {
   "cell_type": "code",
   "execution_count": null,
   "metadata": {},
   "outputs": [],
   "source": [
    "def cleaning_original_color(a):\n",
    "    if type(a) == list:\n",
    "        return a[0].replace('\\n', '')\n",
    "    else:\n",
    "        return a\n",
    "    \n",
    "df['Body Color Original'] = df['Body Color Original'].apply(cleaning_original_color)  "
   ]
  },
  {
   "cell_type": "code",
   "execution_count": null,
   "metadata": {},
   "outputs": [],
   "source": [
    "df['Body Color Original'].value_counts(dropna= False)"
   ]
  },
  {
   "cell_type": "code",
   "execution_count": null,
   "metadata": {},
   "outputs": [],
   "source": [
    "df.groupby('Body Color')['Body Color Original'].value_counts(dropna = False)"
   ]
  },
  {
   "cell_type": "markdown",
   "metadata": {},
   "source": [
    "<font color='orange'> ** Impressions on the column 'Body Color Original' </font>\n",
    "<font color='light blue'>\n",
    "    \n",
    "a. This column includes original body color. It is more in detail and in German.<br>\n",
    "b. This columns could be used to fill the NaNs in 'Body Color' column<br>\n",
    "c. It could be dropped <br>\n",
    "</font>"
   ]
  },
  {
   "cell_type": "markdown",
   "metadata": {},
   "source": [
    "### 27. 'Upholstery'"
   ]
  },
  {
   "cell_type": "code",
   "execution_count": null,
   "metadata": {},
   "outputs": [],
   "source": [
    "def cleaning_Upholstery(a):\n",
    "    if type(a)== list:\n",
    "        return a[0].replace('\\n', '')\n",
    "    else:\n",
    "        return a\n",
    "    \n",
    "df['Upholstery'] = df['Upholstery'].apply(cleaning_Upholstery) "
   ]
  },
  {
   "cell_type": "code",
   "execution_count": null,
   "metadata": {},
   "outputs": [],
   "source": [
    "df['Upholstery'].value_counts(dropna = False)"
   ]
  },
  {
   "cell_type": "markdown",
   "metadata": {},
   "source": [
    "<font color='orange'> ** Impressions on the column 'Upholstery' </font>\n",
    "<font color='light blue'>\n",
    "    \n",
    "a. This column includes Upholstery type and color. .<br>\n",
    "b. There are 3720 NaNs, maybe they could be filled as other<br>\n",
    "c. The relation should be checked with the target value <br>\n",
    "</font>"
   ]
  },
  {
   "cell_type": "markdown",
   "metadata": {},
   "source": [
    "### 28. 'Body'"
   ]
  },
  {
   "cell_type": "code",
   "execution_count": null,
   "metadata": {},
   "outputs": [],
   "source": [
    "def cleaning_body(a):\n",
    "    if type(a)== list:\n",
    "        return a[1]\n",
    "    else:\n",
    "        return a\n",
    "    \n",
    "df['Body'] = df['Body'].apply(cleaning_body)"
   ]
  },
  {
   "cell_type": "code",
   "execution_count": null,
   "metadata": {},
   "outputs": [],
   "source": [
    "df['Body'] = df['Body'].replace(np.nan, 'None')"
   ]
  },
  {
   "cell_type": "code",
   "execution_count": null,
   "metadata": {},
   "outputs": [],
   "source": [
    "df.groupby('Body')['body_type'].value_counts(dropna = False)"
   ]
  },
  {
   "cell_type": "code",
   "execution_count": null,
   "metadata": {},
   "outputs": [],
   "source": [
    "df.drop(\"Body\",axis=1,inplace=True)"
   ]
  },
  {
   "cell_type": "markdown",
   "metadata": {},
   "source": [
    "<font color='orange'> ** Impressions on the column 'Body' </font>\n",
    "<font color='light blue'>\n",
    "    \n",
    "a. This column includes body type and color. .<br>\n",
    "b. It is totally same with the column 'body_type'<br>\n",
    "c. Since the data of body_type and body is same.This column dropped<br>\n",
    "</font>"
   ]
  },
  {
   "cell_type": "markdown",
   "metadata": {},
   "source": [
    "### 29. Nr. of Doors"
   ]
  },
  {
   "cell_type": "code",
   "execution_count": null,
   "metadata": {},
   "outputs": [],
   "source": [
    "def cleaning_Doors(a):\n",
    "    if type(a)== list:\n",
    "        return a[0].replace('\\n', '')\n",
    "    else:\n",
    "        return a\n",
    "    \n",
    "df['Nr. of Doors'] = df['Nr. of Doors'].apply(cleaning_Doors) "
   ]
  },
  {
   "cell_type": "code",
   "execution_count": null,
   "metadata": {},
   "outputs": [],
   "source": [
    "df['Nr. of Doors'].value_counts(dropna = False)"
   ]
  },
  {
   "cell_type": "code",
   "execution_count": 224,
   "metadata": {},
   "outputs": [
    {
     "data": {
      "text/plain": [
       "Index(['url', 'make_model', 'short_description', 'body_type', 'price', 'vat',\n",
       "       'km', 'registration', 'prev_owner', 'kW', 'hp', 'Type',\n",
       "       'Previous Owners', 'Next Inspection', 'Inspection new',\n",
       "       'Warranty(months)', 'Full Service', 'Non-smoking Vehicle', 'null',\n",
       "       'Make', 'Model', 'Offer Number', 'First Registration', 'Body Color',\n",
       "       'Paint Type', 'Body Color Original', 'Upholstery', 'Body',\n",
       "       'Nr. of Doors', 'Nr. of Seats', 'Model Code', 'Gearing Type',\n",
       "       'Displacement', 'Cylinders', 'Weight', 'Drive chain', 'Fuel',\n",
       "       'Consumption', 'CO2 Emission', 'Emission Class',\n",
       "       '\\nComfort & Convenience\\n', '\\nEntertainment & Media\\n', '\\nExtras\\n',\n",
       "       '\\nSafety & Security\\n', 'description', 'Emission Label', 'Gears',\n",
       "       'Country version', 'Electricity consumption', 'Last Service Date',\n",
       "       'Other Fuel Types', 'Availability', 'Last Timing Belt Service Date',\n",
       "       'Available from'],\n",
       "      dtype='object')"
      ]
     },
     "execution_count": 224,
     "metadata": {},
     "output_type": "execute_result"
    }
   ],
   "source": [
    "df.columns"
   ]
  },
  {
   "cell_type": "code",
   "execution_count": 235,
   "metadata": {},
   "outputs": [
    {
     "data": {
      "text/plain": [
       "body_type      make_model       \n",
       "Compact        Audi A1         0    5\n",
       "               Audi A3         0    5\n",
       "               Opel Astra      0    5\n",
       "               Opel Corsa      0    5\n",
       "               Opel Insignia   0    5\n",
       "               Renault Clio    0    5\n",
       "               Renault Espace  0    5\n",
       "Convertible    Audi A3         0    2\n",
       "Coupe          Audi A1         0    2\n",
       "                               1    5\n",
       "               Audi A3         0    3\n",
       "               Opel Astra      0    3\n",
       "                               1    5\n",
       "               Opel Corsa      0    3\n",
       "               Opel Insignia   0    4\n",
       "               Renault Clio    0    4\n",
       "               Renault Espace  0    5\n",
       "Off-Road       Audi A2         0    5\n",
       "               Opel Astra      0    5\n",
       "               Opel Corsa      0    5\n",
       "               Opel Insignia   0    5\n",
       "               Renault Clio    0    5\n",
       "               Renault Duster  0    5\n",
       "               Renault Espace  0    5\n",
       "Other          Audi A1         0    5\n",
       "               Audi A3         0    5\n",
       "               Opel Astra      0    5\n",
       "               Opel Corsa      0    5\n",
       "               Opel Insignia   0    5\n",
       "               Renault Clio    0    5\n",
       "               Renault Espace  0    5\n",
       "Sedans         Audi A1         0    5\n",
       "               Audi A3         0    5\n",
       "               Opel Astra      0    5\n",
       "               Opel Corsa      0    5\n",
       "               Opel Insignia   0    5\n",
       "               Renault Clio    0    5\n",
       "               Renault Espace  0    5\n",
       "Station wagon  Audi A1         0    5\n",
       "               Audi A3         0    5\n",
       "               Opel Astra      0    5\n",
       "               Opel Insignia   0    5\n",
       "               Renault Clio    0    5\n",
       "               Renault Espace  0    5\n",
       "Transporter    Opel Corsa      0    3\n",
       "               Renault Clio    0    5\n",
       "               Renault Espace  0    5\n",
       "Van            Audi A1         0    5\n",
       "               Opel Insignia   0    5\n",
       "               Renault Clio    0    5\n",
       "               Renault Espace  0    5\n",
       "Name: Nr. of Doors, dtype: object"
      ]
     },
     "execution_count": 235,
     "metadata": {},
     "output_type": "execute_result"
    }
   ],
   "source": [
    "??\n",
    "df.groupby(['body_type', 'make_model'])['Nr. of Doors'].apply(lambda x: x.mode())"
   ]
  },
  {
   "cell_type": "markdown",
   "metadata": {},
   "source": [
    "<font color='orange'> ** Impressions on the column 'Nr. of Doors' </font>\n",
    "<font color='light blue'>\n",
    "    \n",
    "a. This column includes number of doors. .<br>\n",
    "b. There are 212 NaNs<br>\n",
    "c. The NaNs could be filled with the mode of the body type or model<br>\n",
    "</font>"
   ]
  },
  {
   "cell_type": "markdown",
   "metadata": {},
   "source": [
    "### 30. 'Nr. of Seats'"
   ]
  },
  {
   "cell_type": "code",
   "execution_count": 56,
   "metadata": {},
   "outputs": [],
   "source": [
    "def cleaning_Seats(a):\n",
    "    if type(a)== list:\n",
    "        return a[0].replace('\\n', '')\n",
    "    else:\n",
    "        return a\n",
    "    \n",
    "df['Nr. of Seats'] = df['Nr. of Seats'].apply(cleaning_Seats) "
   ]
  },
  {
   "cell_type": "code",
   "execution_count": 57,
   "metadata": {},
   "outputs": [
    {
     "data": {
      "text/plain": [
       "5      13336\n",
       "4       1125\n",
       "NaN      977\n",
       "7        362\n",
       "2        116\n",
       "6          2\n",
       "3          1\n",
       "Name: Nr. of Seats, dtype: int64"
      ]
     },
     "execution_count": 57,
     "metadata": {},
     "output_type": "execute_result"
    }
   ],
   "source": [
    "df['Nr. of Seats'].value_counts(dropna = False)"
   ]
  },
  {
   "cell_type": "markdown",
   "metadata": {},
   "source": [
    "<font color='orange'> ** Impressions on the column 'Nr. of Seats' </font>\n",
    "<font color='light blue'>\n",
    "    \n",
    "a. This column includes number of seats .<br>\n",
    "b. There are 977 NaNs\n",
    "</font>"
   ]
  },
  {
   "cell_type": "markdown",
   "metadata": {},
   "source": [
    "### 31. 'Model Code'"
   ]
  },
  {
   "cell_type": "code",
   "execution_count": 58,
   "metadata": {},
   "outputs": [],
   "source": [
    "def cleaning_model_code(a):\n",
    "    if type(a)== list:\n",
    "        return a[0].replace('\\n', '')\n",
    "    else:\n",
    "        return a\n",
    "    \n",
    "df['Model Code'] = df['Model Code'].apply(cleaning_model_code) "
   ]
  },
  {
   "cell_type": "code",
   "execution_count": 59,
   "metadata": {},
   "outputs": [
    {
     "data": {
      "text/plain": [
       "NaN         0.687292\n",
       "0035/BCB    0.016835\n",
       "0588/BNO    0.015390\n",
       "0588/BDB    0.012941\n",
       "0588/BHX    0.011810\n",
       "              ...   \n",
       "0588/BN0    0.000063\n",
       "0588/AWS    0.000063\n",
       "1234/123    0.000063\n",
       "0035/BGY    0.000063\n",
       "0000/ACP    0.000063\n",
       "Name: Model Code, Length: 233, dtype: float64"
      ]
     },
     "execution_count": 59,
     "metadata": {},
     "output_type": "execute_result"
    }
   ],
   "source": [
    "df['Model Code'].value_counts(dropna = False, normalize = True )"
   ]
  },
  {
   "cell_type": "markdown",
   "metadata": {},
   "source": [
    "<font color='orange'> ** Impressions on the column 'Model Code' </font>\n",
    "<font color='light blue'>\n",
    "    \n",
    "a. This column includes model code of cars .<br>\n",
    "b. Each model code have detailed meaning but should be checked in detail.\n",
    "</font>"
   ]
  },
  {
   "cell_type": "markdown",
   "metadata": {},
   "source": [
    "### 32. 'Gearing Type'"
   ]
  },
  {
   "cell_type": "code",
   "execution_count": 60,
   "metadata": {},
   "outputs": [],
   "source": [
    "def cleaning_gearing(a):\n",
    "    if type(a)== list:\n",
    "        return a[1]\n",
    "    else:\n",
    "        return a\n",
    "    \n",
    "df['Gearing Type'] = df['Gearing Type'].apply(cleaning_gearing) "
   ]
  },
  {
   "cell_type": "code",
   "execution_count": 61,
   "metadata": {},
   "outputs": [
    {
     "data": {
      "text/plain": [
       "Manual            8153\n",
       "Automatic         7297\n",
       "Semi-automatic     469\n",
       "Name: Gearing Type, dtype: int64"
      ]
     },
     "execution_count": 61,
     "metadata": {},
     "output_type": "execute_result"
    }
   ],
   "source": [
    "df['Gearing Type'].value_counts(dropna = False)"
   ]
  },
  {
   "cell_type": "markdown",
   "metadata": {},
   "source": [
    "<font color='orange'> ** Impressions on the column 'Gearing Type' </font>\n",
    "<font color='light blue'>\n",
    "    \n",
    "a. This column includes gearing types of cars .<br>\n",
    "b. The data is clean.\n",
    "</font>"
   ]
  },
  {
   "cell_type": "markdown",
   "metadata": {},
   "source": [
    "### 33. 'Displacement' "
   ]
  },
  {
   "cell_type": "code",
   "execution_count": 62,
   "metadata": {},
   "outputs": [],
   "source": [
    "df['Displacement']= df['Displacement'].str[0].str.replace(',','').str.findall('\\d+').str[0]"
   ]
  },
  {
   "cell_type": "code",
   "execution_count": 63,
   "metadata": {},
   "outputs": [],
   "source": [
    "#df[\"Displacement\"]=df[\"Displacement\"].str[0].str.replace(\"cc\",\"\").str.replace(\",\",\"\").str.strip()\n",
    "#df[\"Displacement\"]=pd.to_numeric(df[\"Displacement\"])"
   ]
  },
  {
   "cell_type": "code",
   "execution_count": 64,
   "metadata": {},
   "outputs": [],
   "source": [
    "def disp(d1,d2):\n",
    "    if (d1>4000) | (d1<700) | np.isnan(d1):\n",
    "        if np.isnan(d2):\n",
    "            return d1\n",
    "        else:\n",
    "            return d2\n",
    "    else:\n",
    "        return d1"
   ]
  },
  {
   "cell_type": "code",
   "execution_count": 65,
   "metadata": {},
   "outputs": [
    {
     "ename": "TypeError",
     "evalue": "'>' not supported between instances of 'str' and 'int'",
     "output_type": "error",
     "traceback": [
      "\u001b[1;31m---------------------------------------------------------------------------\u001b[0m",
      "\u001b[1;31mTypeError\u001b[0m                                 Traceback (most recent call last)",
      "\u001b[1;32m<ipython-input-65-53882fe029b7>\u001b[0m in \u001b[0;36m<module>\u001b[1;34m\u001b[0m\n\u001b[1;32m----> 1\u001b[1;33m \u001b[0mdf\u001b[0m\u001b[1;33m[\u001b[0m\u001b[1;34m'Displacement'\u001b[0m\u001b[1;33m]\u001b[0m \u001b[1;33m=\u001b[0m \u001b[0mdf\u001b[0m\u001b[1;33m.\u001b[0m\u001b[0mapply\u001b[0m\u001b[1;33m(\u001b[0m\u001b[1;32mlambda\u001b[0m \u001b[0mx\u001b[0m\u001b[1;33m:\u001b[0m \u001b[0mdisp\u001b[0m\u001b[1;33m(\u001b[0m\u001b[0mx\u001b[0m\u001b[1;33m[\u001b[0m\u001b[1;34m'Displacement'\u001b[0m\u001b[1;33m]\u001b[0m\u001b[1;33m,\u001b[0m\u001b[0mx\u001b[0m\u001b[1;33m[\u001b[0m\u001b[1;34m'sd_disp'\u001b[0m\u001b[1;33m]\u001b[0m\u001b[1;33m)\u001b[0m\u001b[1;33m,\u001b[0m\u001b[0maxis\u001b[0m\u001b[1;33m=\u001b[0m\u001b[1;36m1\u001b[0m\u001b[1;33m)\u001b[0m\u001b[1;33m\u001b[0m\u001b[1;33m\u001b[0m\u001b[0m\n\u001b[0m",
      "\u001b[1;32m~\\anaconda3\\lib\\site-packages\\pandas\\core\\frame.py\u001b[0m in \u001b[0;36mapply\u001b[1;34m(self, func, axis, raw, result_type, args, **kwds)\u001b[0m\n\u001b[0;32m   7546\u001b[0m             \u001b[0mkwds\u001b[0m\u001b[1;33m=\u001b[0m\u001b[0mkwds\u001b[0m\u001b[1;33m,\u001b[0m\u001b[1;33m\u001b[0m\u001b[1;33m\u001b[0m\u001b[0m\n\u001b[0;32m   7547\u001b[0m         )\n\u001b[1;32m-> 7548\u001b[1;33m         \u001b[1;32mreturn\u001b[0m \u001b[0mop\u001b[0m\u001b[1;33m.\u001b[0m\u001b[0mget_result\u001b[0m\u001b[1;33m(\u001b[0m\u001b[1;33m)\u001b[0m\u001b[1;33m\u001b[0m\u001b[1;33m\u001b[0m\u001b[0m\n\u001b[0m\u001b[0;32m   7549\u001b[0m \u001b[1;33m\u001b[0m\u001b[0m\n\u001b[0;32m   7550\u001b[0m     \u001b[1;32mdef\u001b[0m \u001b[0mapplymap\u001b[0m\u001b[1;33m(\u001b[0m\u001b[0mself\u001b[0m\u001b[1;33m,\u001b[0m \u001b[0mfunc\u001b[0m\u001b[1;33m)\u001b[0m \u001b[1;33m->\u001b[0m \u001b[1;34m\"DataFrame\"\u001b[0m\u001b[1;33m:\u001b[0m\u001b[1;33m\u001b[0m\u001b[1;33m\u001b[0m\u001b[0m\n",
      "\u001b[1;32m~\\anaconda3\\lib\\site-packages\\pandas\\core\\apply.py\u001b[0m in \u001b[0;36mget_result\u001b[1;34m(self)\u001b[0m\n\u001b[0;32m    178\u001b[0m             \u001b[1;32mreturn\u001b[0m \u001b[0mself\u001b[0m\u001b[1;33m.\u001b[0m\u001b[0mapply_raw\u001b[0m\u001b[1;33m(\u001b[0m\u001b[1;33m)\u001b[0m\u001b[1;33m\u001b[0m\u001b[1;33m\u001b[0m\u001b[0m\n\u001b[0;32m    179\u001b[0m \u001b[1;33m\u001b[0m\u001b[0m\n\u001b[1;32m--> 180\u001b[1;33m         \u001b[1;32mreturn\u001b[0m \u001b[0mself\u001b[0m\u001b[1;33m.\u001b[0m\u001b[0mapply_standard\u001b[0m\u001b[1;33m(\u001b[0m\u001b[1;33m)\u001b[0m\u001b[1;33m\u001b[0m\u001b[1;33m\u001b[0m\u001b[0m\n\u001b[0m\u001b[0;32m    181\u001b[0m \u001b[1;33m\u001b[0m\u001b[0m\n\u001b[0;32m    182\u001b[0m     \u001b[1;32mdef\u001b[0m \u001b[0mapply_empty_result\u001b[0m\u001b[1;33m(\u001b[0m\u001b[0mself\u001b[0m\u001b[1;33m)\u001b[0m\u001b[1;33m:\u001b[0m\u001b[1;33m\u001b[0m\u001b[1;33m\u001b[0m\u001b[0m\n",
      "\u001b[1;32m~\\anaconda3\\lib\\site-packages\\pandas\\core\\apply.py\u001b[0m in \u001b[0;36mapply_standard\u001b[1;34m(self)\u001b[0m\n\u001b[0;32m    269\u001b[0m \u001b[1;33m\u001b[0m\u001b[0m\n\u001b[0;32m    270\u001b[0m     \u001b[1;32mdef\u001b[0m \u001b[0mapply_standard\u001b[0m\u001b[1;33m(\u001b[0m\u001b[0mself\u001b[0m\u001b[1;33m)\u001b[0m\u001b[1;33m:\u001b[0m\u001b[1;33m\u001b[0m\u001b[1;33m\u001b[0m\u001b[0m\n\u001b[1;32m--> 271\u001b[1;33m         \u001b[0mresults\u001b[0m\u001b[1;33m,\u001b[0m \u001b[0mres_index\u001b[0m \u001b[1;33m=\u001b[0m \u001b[0mself\u001b[0m\u001b[1;33m.\u001b[0m\u001b[0mapply_series_generator\u001b[0m\u001b[1;33m(\u001b[0m\u001b[1;33m)\u001b[0m\u001b[1;33m\u001b[0m\u001b[1;33m\u001b[0m\u001b[0m\n\u001b[0m\u001b[0;32m    272\u001b[0m \u001b[1;33m\u001b[0m\u001b[0m\n\u001b[0;32m    273\u001b[0m         \u001b[1;31m# wrap results\u001b[0m\u001b[1;33m\u001b[0m\u001b[1;33m\u001b[0m\u001b[1;33m\u001b[0m\u001b[0m\n",
      "\u001b[1;32m~\\anaconda3\\lib\\site-packages\\pandas\\core\\apply.py\u001b[0m in \u001b[0;36mapply_series_generator\u001b[1;34m(self)\u001b[0m\n\u001b[0;32m    298\u001b[0m                 \u001b[1;32mfor\u001b[0m \u001b[0mi\u001b[0m\u001b[1;33m,\u001b[0m \u001b[0mv\u001b[0m \u001b[1;32min\u001b[0m \u001b[0menumerate\u001b[0m\u001b[1;33m(\u001b[0m\u001b[0mseries_gen\u001b[0m\u001b[1;33m)\u001b[0m\u001b[1;33m:\u001b[0m\u001b[1;33m\u001b[0m\u001b[1;33m\u001b[0m\u001b[0m\n\u001b[0;32m    299\u001b[0m                     \u001b[1;31m# ignore SettingWithCopy here in case the user mutates\u001b[0m\u001b[1;33m\u001b[0m\u001b[1;33m\u001b[0m\u001b[1;33m\u001b[0m\u001b[0m\n\u001b[1;32m--> 300\u001b[1;33m                     \u001b[0mresults\u001b[0m\u001b[1;33m[\u001b[0m\u001b[0mi\u001b[0m\u001b[1;33m]\u001b[0m \u001b[1;33m=\u001b[0m \u001b[0mself\u001b[0m\u001b[1;33m.\u001b[0m\u001b[0mf\u001b[0m\u001b[1;33m(\u001b[0m\u001b[0mv\u001b[0m\u001b[1;33m)\u001b[0m\u001b[1;33m\u001b[0m\u001b[1;33m\u001b[0m\u001b[0m\n\u001b[0m\u001b[0;32m    301\u001b[0m                     \u001b[1;32mif\u001b[0m \u001b[0misinstance\u001b[0m\u001b[1;33m(\u001b[0m\u001b[0mresults\u001b[0m\u001b[1;33m[\u001b[0m\u001b[0mi\u001b[0m\u001b[1;33m]\u001b[0m\u001b[1;33m,\u001b[0m \u001b[0mABCSeries\u001b[0m\u001b[1;33m)\u001b[0m\u001b[1;33m:\u001b[0m\u001b[1;33m\u001b[0m\u001b[1;33m\u001b[0m\u001b[0m\n\u001b[0;32m    302\u001b[0m                         \u001b[1;31m# If we have a view on v, we need to make a copy because\u001b[0m\u001b[1;33m\u001b[0m\u001b[1;33m\u001b[0m\u001b[1;33m\u001b[0m\u001b[0m\n",
      "\u001b[1;32m<ipython-input-65-53882fe029b7>\u001b[0m in \u001b[0;36m<lambda>\u001b[1;34m(x)\u001b[0m\n\u001b[1;32m----> 1\u001b[1;33m \u001b[0mdf\u001b[0m\u001b[1;33m[\u001b[0m\u001b[1;34m'Displacement'\u001b[0m\u001b[1;33m]\u001b[0m \u001b[1;33m=\u001b[0m \u001b[0mdf\u001b[0m\u001b[1;33m.\u001b[0m\u001b[0mapply\u001b[0m\u001b[1;33m(\u001b[0m\u001b[1;32mlambda\u001b[0m \u001b[0mx\u001b[0m\u001b[1;33m:\u001b[0m \u001b[0mdisp\u001b[0m\u001b[1;33m(\u001b[0m\u001b[0mx\u001b[0m\u001b[1;33m[\u001b[0m\u001b[1;34m'Displacement'\u001b[0m\u001b[1;33m]\u001b[0m\u001b[1;33m,\u001b[0m\u001b[0mx\u001b[0m\u001b[1;33m[\u001b[0m\u001b[1;34m'sd_disp'\u001b[0m\u001b[1;33m]\u001b[0m\u001b[1;33m)\u001b[0m\u001b[1;33m,\u001b[0m\u001b[0maxis\u001b[0m\u001b[1;33m=\u001b[0m\u001b[1;36m1\u001b[0m\u001b[1;33m)\u001b[0m\u001b[1;33m\u001b[0m\u001b[1;33m\u001b[0m\u001b[0m\n\u001b[0m",
      "\u001b[1;32m<ipython-input-64-f062f872f853>\u001b[0m in \u001b[0;36mdisp\u001b[1;34m(d1, d2)\u001b[0m\n\u001b[0;32m      1\u001b[0m \u001b[1;32mdef\u001b[0m \u001b[0mdisp\u001b[0m\u001b[1;33m(\u001b[0m\u001b[0md1\u001b[0m\u001b[1;33m,\u001b[0m\u001b[0md2\u001b[0m\u001b[1;33m)\u001b[0m\u001b[1;33m:\u001b[0m\u001b[1;33m\u001b[0m\u001b[1;33m\u001b[0m\u001b[0m\n\u001b[1;32m----> 2\u001b[1;33m     \u001b[1;32mif\u001b[0m \u001b[1;33m(\u001b[0m\u001b[0md1\u001b[0m\u001b[1;33m>\u001b[0m\u001b[1;36m4000\u001b[0m\u001b[1;33m)\u001b[0m \u001b[1;33m|\u001b[0m \u001b[1;33m(\u001b[0m\u001b[0md1\u001b[0m\u001b[1;33m<\u001b[0m\u001b[1;36m700\u001b[0m\u001b[1;33m)\u001b[0m \u001b[1;33m|\u001b[0m \u001b[0mnp\u001b[0m\u001b[1;33m.\u001b[0m\u001b[0misnan\u001b[0m\u001b[1;33m(\u001b[0m\u001b[0md1\u001b[0m\u001b[1;33m)\u001b[0m\u001b[1;33m:\u001b[0m\u001b[1;33m\u001b[0m\u001b[1;33m\u001b[0m\u001b[0m\n\u001b[0m\u001b[0;32m      3\u001b[0m         \u001b[1;32mif\u001b[0m \u001b[0mnp\u001b[0m\u001b[1;33m.\u001b[0m\u001b[0misnan\u001b[0m\u001b[1;33m(\u001b[0m\u001b[0md2\u001b[0m\u001b[1;33m)\u001b[0m\u001b[1;33m:\u001b[0m\u001b[1;33m\u001b[0m\u001b[1;33m\u001b[0m\u001b[0m\n\u001b[0;32m      4\u001b[0m             \u001b[1;32mreturn\u001b[0m \u001b[0md1\u001b[0m\u001b[1;33m\u001b[0m\u001b[1;33m\u001b[0m\u001b[0m\n\u001b[0;32m      5\u001b[0m         \u001b[1;32melse\u001b[0m\u001b[1;33m:\u001b[0m\u001b[1;33m\u001b[0m\u001b[1;33m\u001b[0m\u001b[0m\n",
      "\u001b[1;31mTypeError\u001b[0m: '>' not supported between instances of 'str' and 'int'"
     ]
    }
   ],
   "source": [
    "df['Displacement'] = df.apply(lambda x: disp(x['Displacement'],x['sd_disp']),axis=1)"
   ]
  },
  {
   "cell_type": "code",
   "execution_count": 66,
   "metadata": {},
   "outputs": [],
   "source": [
    "df.drop([\"short_description\",\"sd_disp\"],axis=1,inplace=True)"
   ]
  },
  {
   "cell_type": "markdown",
   "metadata": {},
   "source": [
    "### 34. 'Cylinders'"
   ]
  },
  {
   "cell_type": "code",
   "execution_count": 67,
   "metadata": {},
   "outputs": [],
   "source": [
    "def cleaning_cylinders(a):\n",
    "    if type(a)== list:\n",
    "        b = a[0].replace('\\n', '')\n",
    "        return b\n",
    "    else:\n",
    "        return a\n",
    "df['Cylinders'] = df['Cylinders'].apply(cleaning_cylinders)"
   ]
  },
  {
   "cell_type": "code",
   "execution_count": 68,
   "metadata": {},
   "outputs": [
    {
     "data": {
      "text/plain": [
       "4      0.509140\n",
       "NaN    0.356806\n",
       "3      0.132169\n",
       "5      0.001382\n",
       "6      0.000188\n",
       "2      0.000126\n",
       "8      0.000126\n",
       "1      0.000063\n",
       "Name: Cylinders, dtype: float64"
      ]
     },
     "execution_count": 68,
     "metadata": {},
     "output_type": "execute_result"
    }
   ],
   "source": [
    "df['Cylinders'].value_counts(dropna = False, normalize = True)"
   ]
  },
  {
   "cell_type": "markdown",
   "metadata": {},
   "source": [
    "** Impressions on the column 'Cylinders'\n",
    "\n",
    "a. This column includes number of cylinders of cars .\n",
    "b. 35% of the data is NaN."
   ]
  },
  {
   "cell_type": "markdown",
   "metadata": {},
   "source": [
    "### 35. 'Weight' "
   ]
  },
  {
   "cell_type": "code",
   "execution_count": 69,
   "metadata": {},
   "outputs": [],
   "source": [
    "df ['Weight'] = df['Weight'].str[0].str.replace(',','').str.findall('\\d+').str[0]"
   ]
  },
  {
   "cell_type": "code",
   "execution_count": 70,
   "metadata": {},
   "outputs": [],
   "source": [
    "df.rename(columns = {'Weight':'Weight(kg)'}, inplace = True)"
   ]
  },
  {
   "cell_type": "code",
   "execution_count": 71,
   "metadata": {},
   "outputs": [
    {
     "data": {
      "text/plain": [
       "NaN     6974\n",
       "1163     574\n",
       "1360     356\n",
       "1165     301\n",
       "1335     242\n",
       "        ... \n",
       "1761       1\n",
       "1649       1\n",
       "1223       1\n",
       "102        1\n",
       "1331       1\n",
       "Name: Weight(kg), Length: 435, dtype: int64"
      ]
     },
     "execution_count": 71,
     "metadata": {},
     "output_type": "execute_result"
    }
   ],
   "source": [
    "df['Weight(kg)'].value_counts(dropna = False)"
   ]
  },
  {
   "cell_type": "markdown",
   "metadata": {},
   "source": [
    "### 35.1 Drive Chain"
   ]
  },
  {
   "cell_type": "code",
   "execution_count": 72,
   "metadata": {},
   "outputs": [],
   "source": [
    "def cleaning_drive_chain(a):\n",
    "    if type(a)== list:\n",
    "        return a[0].replace('\\n', '')\n",
    "    else:\n",
    "        return a\n",
    "df['Drive chain'] = df['Drive chain'].apply(cleaning_drive_chain)    "
   ]
  },
  {
   "cell_type": "code",
   "execution_count": 73,
   "metadata": {},
   "outputs": [
    {
     "data": {
      "text/plain": [
       "front    0.558201\n",
       "NaN      0.430806\n",
       "4WD      0.010742\n",
       "rear     0.000251\n",
       "Name: Drive chain, dtype: float64"
      ]
     },
     "execution_count": 73,
     "metadata": {},
     "output_type": "execute_result"
    }
   ],
   "source": [
    "df['Drive chain'].value_counts(dropna = False, normalize = True)"
   ]
  },
  {
   "cell_type": "markdown",
   "metadata": {},
   "source": [
    "<font color='orange'> ** Impressions on the column 'Drive Chain' </font>\n",
    "<font color='light blue'>\n",
    "    \n",
    "a. This column includes drive-chain types of cars .<br>\n",
    "b. The data is clean but 43% of them are NaN\n",
    "</font>"
   ]
  },
  {
   "cell_type": "markdown",
   "metadata": {},
   "source": [
    "### 36. ''Fuel''"
   ]
  },
  {
   "cell_type": "code",
   "execution_count": 74,
   "metadata": {},
   "outputs": [],
   "source": [
    "df.Fuel = df.Fuel.apply(lambda x : x[1])"
   ]
  },
  {
   "cell_type": "code",
   "execution_count": 77,
   "metadata": {},
   "outputs": [],
   "source": [
    "df['Fuel'].replace(['Diesel (Particulate Filter)','Diesel'], 'Diesel',inplace = True)"
   ]
  },
  {
   "cell_type": "code",
   "execution_count": 78,
   "metadata": {},
   "outputs": [],
   "source": [
    "gasoline = ['Super 95',\n",
    "            'Gasoline',\n",
    "            'Super 95 / Regular/Benzine 91',\n",
    "            'Regular/Benzine 91',\n",
    "            'Super E10 95',\n",
    "            'Super 95 (Particulate Filter)',\n",
    "            'Super 95 / Super E10 95',\n",
    "            'Regular/Benzine 91 (Particulate Filter)',\n",
    "            'Super 95 / Super Plus 98',\n",
    "            'Gasoline (Particulate Filter)',\n",
    "            'Super 95 / Super Plus 98 / Super E10 95 / Super Plus E10 98',\n",
    "            'Super E10 95 / Super 95',\n",
    "            'Super 95 / Super E10 95 (Particulate Filter)',\n",
    "            'Super E10 95 / Super 95 / Super Plus 98 / Super Plus E10 98',\n",
    "            'Super 95 / Super Plus 98 (Particulate Filter)',\n",
    "            'Regular/Benzine 91 / Super 95 / Super Plus 98 / Regular/Benzine E10 91 / Super E10 95 / Super Plus E10 98',\n",
    "            'Regular/Benzine E10 91',\n",
    "            'Super 95 / Super Plus 98 / Super E10 95',\n",
    "            'Super Plus 98',\n",
    "            'Super E10 95 (Particulate Filter)', \n",
    "            'Super 95 / Regular/Benzine 91 / Super Plus 98 / Regular/Benzine E10 91 / Super E10 95 / Super Plus E10 98',\n",
    "            'Regular/Benzine 91 / Regular/Benzine E10 91',\n",
    "            'Super 95 / Super Plus 98 / Super Plus E10 98 / Super E10 95',\n",
    "            'Super E10 95 / Super Plus E10 98',\n",
    "            'Super 95 / Super Plus 98 / Super E10 95 / Super Plus E10 98 (Particulate Filter)',\n",
    "            'Regular/Benzine 91 / Super 95 / Super Plus 98 / Regular/Benzine E10 91 / Super Plus E10 98 / Super E10 95',\n",
    "            'Super 95 / Super E10 95 / Super Plus E10 98 / Super Plus 98',\n",
    "            'Super E10 95 / Super 95 / Super Plus 98 / Super Plus E10 98 (Particulate Filter)',\n",
    "            'Super 95 / Regular/Benzine 91 / Super Plus 98',\n",
    "            'Super E10 95 / Regular/Benzine 91',\n",
    "            'Regular/Benzine 91 / Super 95 / Super Plus 98 / Super Plus E10 98 / Super E10 95 / Regular/Benzine E10 91',\n",
    "            'Super Plus 98 / Regular/Benzine 91',\n",
    "            'Regular/Benzine E10 91 / Super E10 95 / Super Plus E10 98 / Super Plus 98 / Super 95 / Regular/Benzine 91',\n",
    "            'Super Plus 98 / Super 95 / Super Plus E10 98',\n",
    "            'Super 95 / Regular/Benzine E10 91',\n",
    "            'Super E10 95 / Regular/Benzine 91 / Regular/Benzine E10 91 / Super 95',\n",
    "            'Super 95 / Regular/Benzine 91 / Super E10 95 / Super Plus E10 98 / Super Plus 98',\n",
    "            'Super 95 / Super Plus 98 / Super Plus E10 98',\n",
    "            'Regular/Benzine 91 / Super 95 / Super Plus 98 / Super Plus E10 98 / Super E10 95 / Regular/Benzine E10 91 (Particulate Filter)',\n",
    "            'Regular/Benzine 91 / Super 95 / Regular/Benzine E10 91',\n",
    "            'Regular/Benzine E10 91 / Regular/Benzine 91 / Super 95 / Super Plus 98 / Super E10 95 / Super Plus E10 98',\n",
    "            'Super 95 / Super E10 95 / Super Plus E10 98',\n",
    "            'Super 95 / Regular/Benzine 91 / Super E10 95 / Super Plus 98 / Super Plus E10 98 / Regular/Benzine E10 91',\n",
    "            'Regular/Benzine 91 / Super 95',\n",
    "            'Regular/Benzine 91 / Super 95 / Regular/Benzine E10 91 / Super E10 95 / Super Plus 98 / Super Plus E10 98',\n",
    "            'Super 95 / Regular/Benzine 91 (Particulate Filter)',\n",
    "            'Regular/Benzine 91 / Super 95 / Super Plus E10 98 / Super E10 95 / Regular/Benzine E10 91 / Super Plus 98',\n",
    "            'Regular/Benzine 91 / Super 95 / Super E10 95',\n",
    "            'Regular/Benzine 91 / Super 95 / Super E10 95 / Regular/Benzine E10 91',\n",
    "            'Super 95 / Regular/Benzine 91 / Super Plus 98 / Regular/Benzine E10 91 / Super Plus E10 98 / Super E10 95',\n",
    "            'Super Plus E10 98',\n",
    "            'Super 95 / Regular/Benzine 91 / Super E10 95 / Super Plus E10 98 / Super Plus 98 / Regular/Benzine E10 91',\n",
    "            'Super Plus 98 / Super E10 95',\n",
    "            'Super 95 / Super E10 95 / Regular/Benzine 91',\n",
    "            'Super 95 / Regular/Benzine E10 91 / Super E10 95',\n",
    "            'Super 95 / Biodiesel',\n",
    "            'Super 95 / Super Plus 98 / Regular/Benzine E10 91 / Super Plus E10 98 / Super E10 95 / Regular/Benzine 91',\n",
    "            'Regular/Benzine 91 / Super Plus 98 / Regular/Benzine E10 91 / Super 95 / Super E10 95 / Super Plus E10 98',\n",
    "            'Super 95 / Super E10 95 / Super Plus 98',\n",
    "            'Super Plus 98 / Super 95 / Super E10 95',\n",
    "            'Super Plus E10 98 / Super 95 / Super Plus 98 / Super E10 95',\n",
    "            'Regular/Benzine 91 / Super 95 / Super Plus 98',\n",
    "            'Super E10 95 / Regular/Benzine 91 / Super 95 / Super Plus 98 / Regular/Benzine E10 91 / Super Plus E10 98',\n",
    "            'Regular/Benzine 91 / Super 95 / Super E10 95 / Super Plus E10 98 / Super Plus 98 / Regular/Benzine E10 91',\n",
    "            'Super E10 95 / Super 95 / Super Plus 98'            \n",
    "            ]\n",
    "df['Fuel'].replace(gasoline, 'Gasoline',inplace = True)"
   ]
  },
  {
   "cell_type": "code",
   "execution_count": 79,
   "metadata": {},
   "outputs": [],
   "source": [
    "df['Fuel'].replace(['CNG','LPG', 'Liquid petroleum gas (LPG)','CNG (Particulate Filter)', 'Domestic gas H','Biogas'], 'Gas',inplace = True)"
   ]
  },
  {
   "cell_type": "code",
   "execution_count": 80,
   "metadata": {},
   "outputs": [],
   "source": [
    "df['Fuel'].replace(['Others (Particulate Filter)','Others'], 'Others',inplace = True)"
   ]
  },
  {
   "cell_type": "code",
   "execution_count": 81,
   "metadata": {},
   "outputs": [
    {
     "data": {
      "text/plain": [
       "Gasoline             8545\n",
       "Diesel               7299\n",
       "Gas                    64\n",
       "Others                  6\n",
       "Electric/Gasoline       4\n",
       "Electric                1\n",
       "Name: Fuel, dtype: int64"
      ]
     },
     "execution_count": 81,
     "metadata": {},
     "output_type": "execute_result"
    }
   ],
   "source": [
    "df.Fuel.value_counts(dropna = False)"
   ]
  },
  {
   "cell_type": "code",
   "execution_count": null,
   "metadata": {},
   "outputs": [],
   "source": []
  },
  {
   "cell_type": "markdown",
   "metadata": {},
   "source": [
    "<font color='orange'> ** Impressions on the column 'Fuel' </font>\n",
    "<font color='light blue'>\n",
    "    \n",
    "a. This column includes fuel types of cars .<br>\n",
    "b. The data is clean but must be grouped <br>\n",
    "c. Could be compared with the data in Type2_Fuel column.<br>\n",
    "d. After comparison, one of them could be dropped.\n",
    "</font>"
   ]
  },
  {
   "cell_type": "markdown",
   "metadata": {},
   "source": [
    "### 37. 'Consumption' "
   ]
  },
  {
   "cell_type": "code",
   "execution_count": 82,
   "metadata": {},
   "outputs": [
    {
     "ename": "TypeError",
     "evalue": "unhashable type: 'list'",
     "output_type": "error",
     "traceback": [
      "\u001b[1;31m---------------------------------------------------------------------------\u001b[0m",
      "\u001b[1;31mTypeError\u001b[0m                                 Traceback (most recent call last)",
      "\u001b[1;32mpandas\\_libs\\hashtable_class_helper.pxi\u001b[0m in \u001b[0;36mpandas._libs.hashtable.PyObjectHashTable.map_locations\u001b[1;34m()\u001b[0m\n",
      "\u001b[1;31mTypeError\u001b[0m: unhashable type: 'list'"
     ]
    },
    {
     "name": "stderr",
     "output_type": "stream",
     "text": [
      "Exception ignored in: 'pandas._libs.index.IndexEngine._call_map_locations'\n",
      "Traceback (most recent call last):\n",
      "  File \"pandas\\_libs\\hashtable_class_helper.pxi\", line 1709, in pandas._libs.hashtable.PyObjectHashTable.map_locations\n",
      "TypeError: unhashable type: 'list'\n"
     ]
    },
    {
     "data": {
      "text/plain": [
       "NaN                                                                                   1906\n",
       "[[3.9 l/100 km (comb)], [4.1 l/100 km (city)], [3.7 l/100 km (country)]]               304\n",
       "[[4.2 l/100 km (comb)], [5 l/100 km (city)], [3.7 l/100 km (country)]]                 276\n",
       "[[5.4 l/100 km (comb)], [6.8 l/100 km (city)], [4.5 l/100 km (country)]]               257\n",
       "[[3.8 l/100 km (comb)], [4.3 l/100 km (city)], [3.5 l/100 km (country)]]               253\n",
       "                                                                                      ... \n",
       "[[3.6 l/100 km (comb)], [], [4.4 l/100 km (country)]]                                    1\n",
       "[\\n, 4.8 l/100 km (comb), \\n, 5.6 l/100 km (city), \\n, 4.3 l/100 km (country), \\n]       1\n",
       "[[7.6 l/100 km (comb)], [], []]                                                          1\n",
       "[[5.6 l/100 km (comb)], [7.6 l/100 km (city)], [4.4 l/100 km (country)]]                 1\n",
       "[\\n, 4.7 l/100 km (comb), \\n, \\n, \\n]                                                    1\n",
       "Name: Consumption, Length: 882, dtype: int64"
      ]
     },
     "execution_count": 82,
     "metadata": {},
     "output_type": "execute_result"
    }
   ],
   "source": [
    "df['Consumption'].value_counts(dropna = False)"
   ]
  },
  {
   "cell_type": "code",
   "execution_count": 83,
   "metadata": {},
   "outputs": [
    {
     "ename": "TypeError",
     "evalue": "unhashable type: 'list'",
     "output_type": "error",
     "traceback": [
      "\u001b[1;31m---------------------------------------------------------------------------\u001b[0m",
      "\u001b[1;31mTypeError\u001b[0m                                 Traceback (most recent call last)",
      "\u001b[1;32mpandas\\_libs\\hashtable_class_helper.pxi\u001b[0m in \u001b[0;36mpandas._libs.hashtable.PyObjectHashTable.map_locations\u001b[1;34m()\u001b[0m\n",
      "\u001b[1;31mTypeError\u001b[0m: unhashable type: 'list'"
     ]
    },
    {
     "name": "stderr",
     "output_type": "stream",
     "text": [
      "Exception ignored in: 'pandas._libs.index.IndexEngine._call_map_locations'\n",
      "Traceback (most recent call last):\n",
      "  File \"pandas\\_libs\\hashtable_class_helper.pxi\", line 1709, in pandas._libs.hashtable.PyObjectHashTable.map_locations\n",
      "TypeError: unhashable type: 'list'\n"
     ]
    },
    {
     "data": {
      "text/plain": [
       "NaN                                                                                   1906\n",
       "[[3.9 l/100 km (comb)], [4.1 l/100 km (city)], [3.7 l/100 km (country)]]               304\n",
       "[[4.2 l/100 km (comb)], [5 l/100 km (city)], [3.7 l/100 km (country)]]                 276\n",
       "[[5.4 l/100 km (comb)], [6.8 l/100 km (city)], [4.5 l/100 km (country)]]               257\n",
       "[[3.8 l/100 km (comb)], [4.3 l/100 km (city)], [3.5 l/100 km (country)]]               253\n",
       "                                                                                      ... \n",
       "[[3.6 l/100 km (comb)], [], [4.4 l/100 km (country)]]                                    1\n",
       "[\\n, 4.8 l/100 km (comb), \\n, 5.6 l/100 km (city), \\n, 4.3 l/100 km (country), \\n]       1\n",
       "[[7.6 l/100 km (comb)], [], []]                                                          1\n",
       "[[5.6 l/100 km (comb)], [7.6 l/100 km (city)], [4.4 l/100 km (country)]]                 1\n",
       "[\\n, 4.7 l/100 km (comb), \\n, \\n, \\n]                                                    1\n",
       "Name: Consumption, Length: 882, dtype: int64"
      ]
     },
     "execution_count": 83,
     "metadata": {},
     "output_type": "execute_result"
    }
   ],
   "source": [
    "df['Consumption'].value_counts(dropna = False)"
   ]
  },
  {
   "cell_type": "code",
   "execution_count": 84,
   "metadata": {},
   "outputs": [],
   "source": [
    "def consume_combined(a):\n",
    "    if type(a) == list:\n",
    "        if len(a) >3:\n",
    "            for i in a:\n",
    "                if 'comb' in i:\n",
    "                    return i\n",
    "        else:\n",
    "            return a[0]            \n",
    "    \n",
    "    else:\n",
    "        return a\n",
    "    \n",
    "df['Consumption_combined'] = df['Consumption'].apply(consume_combined)"
   ]
  },
  {
   "cell_type": "code",
   "execution_count": 85,
   "metadata": {},
   "outputs": [],
   "source": [
    "def cleaning_consumption(a):\n",
    "    if type(a) == list:\n",
    "        if len(a) > 0:\n",
    "            b = re.findall(\"\\d\\.?\\d?\", a[0])\n",
    "            return b[0]\n",
    "        else:\n",
    "            return np.nan\n",
    "    elif type(a) == str:\n",
    "        b = re.findall(\"\\d\\.?\\d?\",a)\n",
    "        return b[0]        \n",
    "    else:\n",
    "        return a\n"
   ]
  },
  {
   "cell_type": "code",
   "execution_count": 86,
   "metadata": {},
   "outputs": [],
   "source": [
    "def consume_city(a):\n",
    "    if type(a) == list:\n",
    "        if len(a) >3:\n",
    "            for i in a:\n",
    "                if 'city' in i:\n",
    "                    return i\n",
    "        else:\n",
    "            return a[1]            \n",
    "    \n",
    "    else:\n",
    "        return a\n",
    "    \n",
    "df['Consumption_city'] = df['Consumption'].apply(consume_city)"
   ]
  },
  {
   "cell_type": "code",
   "execution_count": 87,
   "metadata": {},
   "outputs": [],
   "source": [
    "def consume_country(a):\n",
    "    if type(a)== list:\n",
    "        if len(a) >3:\n",
    "            for i in a:\n",
    "                if 'country' in i:\n",
    "                    return i\n",
    "        else:\n",
    "            return a[2]\n",
    "            \n",
    "    \n",
    "    else:\n",
    "        return a\n",
    "    \n",
    "df['Consumption_country'] = df['Consumption'].apply(consume_country)"
   ]
  },
  {
   "cell_type": "code",
   "execution_count": 89,
   "metadata": {},
   "outputs": [
    {
     "ename": "KeyError",
     "evalue": "\"['Consumption'] not found in axis\"",
     "output_type": "error",
     "traceback": [
      "\u001b[1;31m---------------------------------------------------------------------------\u001b[0m",
      "\u001b[1;31mKeyError\u001b[0m                                  Traceback (most recent call last)",
      "\u001b[1;32m<ipython-input-89-52480bfe498f>\u001b[0m in \u001b[0;36m<module>\u001b[1;34m\u001b[0m\n\u001b[0;32m      3\u001b[0m \u001b[0mdf\u001b[0m\u001b[1;33m[\u001b[0m\u001b[1;34m'Consumption_country'\u001b[0m\u001b[1;33m]\u001b[0m \u001b[1;33m=\u001b[0m \u001b[0mdf\u001b[0m\u001b[1;33m[\u001b[0m\u001b[1;34m'Consumption_country'\u001b[0m\u001b[1;33m]\u001b[0m\u001b[1;33m.\u001b[0m\u001b[0mapply\u001b[0m\u001b[1;33m(\u001b[0m\u001b[0mcleaning_consumption\u001b[0m\u001b[1;33m)\u001b[0m\u001b[1;33m.\u001b[0m\u001b[0mastype\u001b[0m\u001b[1;33m(\u001b[0m\u001b[1;34m'float'\u001b[0m\u001b[1;33m)\u001b[0m\u001b[1;33m\u001b[0m\u001b[1;33m\u001b[0m\u001b[0m\n\u001b[0;32m      4\u001b[0m \u001b[1;33m\u001b[0m\u001b[0m\n\u001b[1;32m----> 5\u001b[1;33m \u001b[0mdf\u001b[0m\u001b[1;33m.\u001b[0m\u001b[0mdrop\u001b[0m\u001b[1;33m(\u001b[0m\u001b[1;34m\"Consumption\"\u001b[0m\u001b[1;33m,\u001b[0m\u001b[0maxis\u001b[0m\u001b[1;33m=\u001b[0m\u001b[1;36m1\u001b[0m\u001b[1;33m,\u001b[0m\u001b[0minplace\u001b[0m\u001b[1;33m=\u001b[0m\u001b[1;32mTrue\u001b[0m\u001b[1;33m)\u001b[0m\u001b[1;33m\u001b[0m\u001b[1;33m\u001b[0m\u001b[0m\n\u001b[0m",
      "\u001b[1;32m~\\anaconda3\\lib\\site-packages\\pandas\\core\\frame.py\u001b[0m in \u001b[0;36mdrop\u001b[1;34m(self, labels, axis, index, columns, level, inplace, errors)\u001b[0m\n\u001b[0;32m   4161\u001b[0m                 \u001b[0mweight\u001b[0m  \u001b[1;36m1.0\u001b[0m     \u001b[1;36m0.8\u001b[0m\u001b[1;33m\u001b[0m\u001b[1;33m\u001b[0m\u001b[0m\n\u001b[0;32m   4162\u001b[0m         \"\"\"\n\u001b[1;32m-> 4163\u001b[1;33m         return super().drop(\n\u001b[0m\u001b[0;32m   4164\u001b[0m             \u001b[0mlabels\u001b[0m\u001b[1;33m=\u001b[0m\u001b[0mlabels\u001b[0m\u001b[1;33m,\u001b[0m\u001b[1;33m\u001b[0m\u001b[1;33m\u001b[0m\u001b[0m\n\u001b[0;32m   4165\u001b[0m             \u001b[0maxis\u001b[0m\u001b[1;33m=\u001b[0m\u001b[0maxis\u001b[0m\u001b[1;33m,\u001b[0m\u001b[1;33m\u001b[0m\u001b[1;33m\u001b[0m\u001b[0m\n",
      "\u001b[1;32m~\\anaconda3\\lib\\site-packages\\pandas\\core\\generic.py\u001b[0m in \u001b[0;36mdrop\u001b[1;34m(self, labels, axis, index, columns, level, inplace, errors)\u001b[0m\n\u001b[0;32m   3885\u001b[0m         \u001b[1;32mfor\u001b[0m \u001b[0maxis\u001b[0m\u001b[1;33m,\u001b[0m \u001b[0mlabels\u001b[0m \u001b[1;32min\u001b[0m \u001b[0maxes\u001b[0m\u001b[1;33m.\u001b[0m\u001b[0mitems\u001b[0m\u001b[1;33m(\u001b[0m\u001b[1;33m)\u001b[0m\u001b[1;33m:\u001b[0m\u001b[1;33m\u001b[0m\u001b[1;33m\u001b[0m\u001b[0m\n\u001b[0;32m   3886\u001b[0m             \u001b[1;32mif\u001b[0m \u001b[0mlabels\u001b[0m \u001b[1;32mis\u001b[0m \u001b[1;32mnot\u001b[0m \u001b[1;32mNone\u001b[0m\u001b[1;33m:\u001b[0m\u001b[1;33m\u001b[0m\u001b[1;33m\u001b[0m\u001b[0m\n\u001b[1;32m-> 3887\u001b[1;33m                 \u001b[0mobj\u001b[0m \u001b[1;33m=\u001b[0m \u001b[0mobj\u001b[0m\u001b[1;33m.\u001b[0m\u001b[0m_drop_axis\u001b[0m\u001b[1;33m(\u001b[0m\u001b[0mlabels\u001b[0m\u001b[1;33m,\u001b[0m \u001b[0maxis\u001b[0m\u001b[1;33m,\u001b[0m \u001b[0mlevel\u001b[0m\u001b[1;33m=\u001b[0m\u001b[0mlevel\u001b[0m\u001b[1;33m,\u001b[0m \u001b[0merrors\u001b[0m\u001b[1;33m=\u001b[0m\u001b[0merrors\u001b[0m\u001b[1;33m)\u001b[0m\u001b[1;33m\u001b[0m\u001b[1;33m\u001b[0m\u001b[0m\n\u001b[0m\u001b[0;32m   3888\u001b[0m \u001b[1;33m\u001b[0m\u001b[0m\n\u001b[0;32m   3889\u001b[0m         \u001b[1;32mif\u001b[0m \u001b[0minplace\u001b[0m\u001b[1;33m:\u001b[0m\u001b[1;33m\u001b[0m\u001b[1;33m\u001b[0m\u001b[0m\n",
      "\u001b[1;32m~\\anaconda3\\lib\\site-packages\\pandas\\core\\generic.py\u001b[0m in \u001b[0;36m_drop_axis\u001b[1;34m(self, labels, axis, level, errors)\u001b[0m\n\u001b[0;32m   3919\u001b[0m                 \u001b[0mnew_axis\u001b[0m \u001b[1;33m=\u001b[0m \u001b[0maxis\u001b[0m\u001b[1;33m.\u001b[0m\u001b[0mdrop\u001b[0m\u001b[1;33m(\u001b[0m\u001b[0mlabels\u001b[0m\u001b[1;33m,\u001b[0m \u001b[0mlevel\u001b[0m\u001b[1;33m=\u001b[0m\u001b[0mlevel\u001b[0m\u001b[1;33m,\u001b[0m \u001b[0merrors\u001b[0m\u001b[1;33m=\u001b[0m\u001b[0merrors\u001b[0m\u001b[1;33m)\u001b[0m\u001b[1;33m\u001b[0m\u001b[1;33m\u001b[0m\u001b[0m\n\u001b[0;32m   3920\u001b[0m             \u001b[1;32melse\u001b[0m\u001b[1;33m:\u001b[0m\u001b[1;33m\u001b[0m\u001b[1;33m\u001b[0m\u001b[0m\n\u001b[1;32m-> 3921\u001b[1;33m                 \u001b[0mnew_axis\u001b[0m \u001b[1;33m=\u001b[0m \u001b[0maxis\u001b[0m\u001b[1;33m.\u001b[0m\u001b[0mdrop\u001b[0m\u001b[1;33m(\u001b[0m\u001b[0mlabels\u001b[0m\u001b[1;33m,\u001b[0m \u001b[0merrors\u001b[0m\u001b[1;33m=\u001b[0m\u001b[0merrors\u001b[0m\u001b[1;33m)\u001b[0m\u001b[1;33m\u001b[0m\u001b[1;33m\u001b[0m\u001b[0m\n\u001b[0m\u001b[0;32m   3922\u001b[0m             \u001b[0mresult\u001b[0m \u001b[1;33m=\u001b[0m \u001b[0mself\u001b[0m\u001b[1;33m.\u001b[0m\u001b[0mreindex\u001b[0m\u001b[1;33m(\u001b[0m\u001b[1;33m**\u001b[0m\u001b[1;33m{\u001b[0m\u001b[0maxis_name\u001b[0m\u001b[1;33m:\u001b[0m \u001b[0mnew_axis\u001b[0m\u001b[1;33m}\u001b[0m\u001b[1;33m)\u001b[0m\u001b[1;33m\u001b[0m\u001b[1;33m\u001b[0m\u001b[0m\n\u001b[0;32m   3923\u001b[0m \u001b[1;33m\u001b[0m\u001b[0m\n",
      "\u001b[1;32m~\\anaconda3\\lib\\site-packages\\pandas\\core\\indexes\\base.py\u001b[0m in \u001b[0;36mdrop\u001b[1;34m(self, labels, errors)\u001b[0m\n\u001b[0;32m   5280\u001b[0m         \u001b[1;32mif\u001b[0m \u001b[0mmask\u001b[0m\u001b[1;33m.\u001b[0m\u001b[0many\u001b[0m\u001b[1;33m(\u001b[0m\u001b[1;33m)\u001b[0m\u001b[1;33m:\u001b[0m\u001b[1;33m\u001b[0m\u001b[1;33m\u001b[0m\u001b[0m\n\u001b[0;32m   5281\u001b[0m             \u001b[1;32mif\u001b[0m \u001b[0merrors\u001b[0m \u001b[1;33m!=\u001b[0m \u001b[1;34m\"ignore\"\u001b[0m\u001b[1;33m:\u001b[0m\u001b[1;33m\u001b[0m\u001b[1;33m\u001b[0m\u001b[0m\n\u001b[1;32m-> 5282\u001b[1;33m                 \u001b[1;32mraise\u001b[0m \u001b[0mKeyError\u001b[0m\u001b[1;33m(\u001b[0m\u001b[1;34mf\"{labels[mask]} not found in axis\"\u001b[0m\u001b[1;33m)\u001b[0m\u001b[1;33m\u001b[0m\u001b[1;33m\u001b[0m\u001b[0m\n\u001b[0m\u001b[0;32m   5283\u001b[0m             \u001b[0mindexer\u001b[0m \u001b[1;33m=\u001b[0m \u001b[0mindexer\u001b[0m\u001b[1;33m[\u001b[0m\u001b[1;33m~\u001b[0m\u001b[0mmask\u001b[0m\u001b[1;33m]\u001b[0m\u001b[1;33m\u001b[0m\u001b[1;33m\u001b[0m\u001b[0m\n\u001b[0;32m   5284\u001b[0m         \u001b[1;32mreturn\u001b[0m \u001b[0mself\u001b[0m\u001b[1;33m.\u001b[0m\u001b[0mdelete\u001b[0m\u001b[1;33m(\u001b[0m\u001b[0mindexer\u001b[0m\u001b[1;33m)\u001b[0m\u001b[1;33m\u001b[0m\u001b[1;33m\u001b[0m\u001b[0m\n",
      "\u001b[1;31mKeyError\u001b[0m: \"['Consumption'] not found in axis\""
     ]
    }
   ],
   "source": [
    "\n",
    "df['Consumption_combined'] = df['Consumption_combined'].apply(cleaning_consumption).astype('float')\n",
    "df['Consumption_city'] = df['Consumption_city'].apply(cleaning_consumption).astype('float')\n",
    "df['Consumption_country'] = df['Consumption_country'].apply(cleaning_consumption).astype('float')\n",
    "\n",
    "df.drop(\"Consumption\",axis=1,inplace=True)\n"
   ]
  },
  {
   "cell_type": "markdown",
   "metadata": {},
   "source": [
    "### 38. 'CO2 Emission' "
   ]
  },
  {
   "cell_type": "code",
   "execution_count": 92,
   "metadata": {},
   "outputs": [],
   "source": [
    "df['CO2 Emission'] = df['CO2 Emission'].str[0].str.findall('\\d+').str[0].astype('float')\n",
    "\n"
   ]
  },
  {
   "cell_type": "code",
   "execution_count": 93,
   "metadata": {},
   "outputs": [],
   "source": [
    "df.rename(columns={'CO2 Emission' : 'CO2 Emission(g CO2/km)'}, inplace = True)"
   ]
  },
  {
   "cell_type": "code",
   "execution_count": 94,
   "metadata": {},
   "outputs": [
    {
     "data": {
      "text/plain": [
       "NaN      2436\n",
       "120.0     740\n",
       "99.0      545\n",
       "97.0      537\n",
       "104.0     501\n",
       "         ... \n",
       "193.0       1\n",
       "239.0       1\n",
       "51.0        1\n",
       "45.0        1\n",
       "253.0       1\n",
       "Name: CO2 Emission(g CO2/km), Length: 120, dtype: int64"
      ]
     },
     "execution_count": 94,
     "metadata": {},
     "output_type": "execute_result"
    }
   ],
   "source": [
    "df['CO2 Emission(g CO2/km)'].value_counts(dropna= False)"
   ]
  },
  {
   "cell_type": "markdown",
   "metadata": {},
   "source": [
    "### 39. 'Emission Class'"
   ]
  },
  {
   "cell_type": "code",
   "execution_count": 95,
   "metadata": {},
   "outputs": [],
   "source": [
    "def emission(a):\n",
    "    if type(a) == list:\n",
    "        if len(a[0]) == 0:\n",
    "            return np.nan\n",
    "        else:\n",
    "            return a[0].replace('\\n','')\n",
    "    else:\n",
    "        return a\n",
    "    \n",
    "df['Emission Class'] = df['Emission Class'].apply(emission)"
   ]
  },
  {
   "cell_type": "code",
   "execution_count": 96,
   "metadata": {},
   "outputs": [],
   "source": [
    "df['Emission Class'].replace(['Euro 6','Euro 6d-TEMP','Euro 6d', 'Euro 6c'], 'Euro 6', inplace = True)"
   ]
  },
  {
   "cell_type": "code",
   "execution_count": 97,
   "metadata": {},
   "outputs": [
    {
     "data": {
      "text/plain": [
       "Euro 6    12173\n",
       "NaN        3628\n",
       "Euro 5       78\n",
       "Euro 4       40\n",
       "Name: Emission Class, dtype: int64"
      ]
     },
     "execution_count": 97,
     "metadata": {},
     "output_type": "execute_result"
    }
   ],
   "source": [
    "df['Emission Class'].value_counts(dropna = False)"
   ]
  },
  {
   "cell_type": "markdown",
   "metadata": {},
   "source": [
    "<font color='orange'> ** Impressions on the column 'Emission Class' </font>\n",
    "<font color='light blue'>\n",
    "    \n",
    "a. This column includes emission classes of cars .<br>\n",
    "b. The data is clean but must be grouped and 3628 NaNs <br>\n",
    "c. Could be compared with the data in other columns.<br>\n",
    "d. After comparison, others could be dropped.\n",
    "</font>"
   ]
  },
  {
   "cell_type": "markdown",
   "metadata": {},
   "source": [
    "### 40. 'Comfort & Convenience' "
   ]
  },
  {
   "cell_type": "code",
   "execution_count": 247,
   "metadata": {},
   "outputs": [
    {
     "ename": "KeyError",
     "evalue": "'\\nComfort & Convenience\\n'",
     "output_type": "error",
     "traceback": [
      "\u001b[1;31m---------------------------------------------------------------------------\u001b[0m",
      "\u001b[1;31mKeyError\u001b[0m                                  Traceback (most recent call last)",
      "\u001b[1;32m~\\anaconda3\\lib\\site-packages\\pandas\\core\\indexes\\base.py\u001b[0m in \u001b[0;36mget_loc\u001b[1;34m(self, key, method, tolerance)\u001b[0m\n\u001b[0;32m   2894\u001b[0m             \u001b[1;32mtry\u001b[0m\u001b[1;33m:\u001b[0m\u001b[1;33m\u001b[0m\u001b[1;33m\u001b[0m\u001b[0m\n\u001b[1;32m-> 2895\u001b[1;33m                 \u001b[1;32mreturn\u001b[0m \u001b[0mself\u001b[0m\u001b[1;33m.\u001b[0m\u001b[0m_engine\u001b[0m\u001b[1;33m.\u001b[0m\u001b[0mget_loc\u001b[0m\u001b[1;33m(\u001b[0m\u001b[0mcasted_key\u001b[0m\u001b[1;33m)\u001b[0m\u001b[1;33m\u001b[0m\u001b[1;33m\u001b[0m\u001b[0m\n\u001b[0m\u001b[0;32m   2896\u001b[0m             \u001b[1;32mexcept\u001b[0m \u001b[0mKeyError\u001b[0m \u001b[1;32mas\u001b[0m \u001b[0merr\u001b[0m\u001b[1;33m:\u001b[0m\u001b[1;33m\u001b[0m\u001b[1;33m\u001b[0m\u001b[0m\n",
      "\u001b[1;32mpandas\\_libs\\index.pyx\u001b[0m in \u001b[0;36mpandas._libs.index.IndexEngine.get_loc\u001b[1;34m()\u001b[0m\n",
      "\u001b[1;32mpandas\\_libs\\index.pyx\u001b[0m in \u001b[0;36mpandas._libs.index.IndexEngine.get_loc\u001b[1;34m()\u001b[0m\n",
      "\u001b[1;32mpandas\\_libs\\hashtable_class_helper.pxi\u001b[0m in \u001b[0;36mpandas._libs.hashtable.PyObjectHashTable.get_item\u001b[1;34m()\u001b[0m\n",
      "\u001b[1;32mpandas\\_libs\\hashtable_class_helper.pxi\u001b[0m in \u001b[0;36mpandas._libs.hashtable.PyObjectHashTable.get_item\u001b[1;34m()\u001b[0m\n",
      "\u001b[1;31mKeyError\u001b[0m: '\\nComfort & Convenience\\n'",
      "\nThe above exception was the direct cause of the following exception:\n",
      "\u001b[1;31mKeyError\u001b[0m                                  Traceback (most recent call last)",
      "\u001b[1;32m<ipython-input-247-1cb6853521fb>\u001b[0m in \u001b[0;36m<module>\u001b[1;34m\u001b[0m\n\u001b[1;32m----> 1\u001b[1;33m \u001b[0mdf\u001b[0m\u001b[1;33m[\u001b[0m\u001b[1;34m'\\nComfort & Convenience\\n'\u001b[0m\u001b[1;33m]\u001b[0m\u001b[1;33m.\u001b[0m\u001b[0mhead\u001b[0m\u001b[1;33m(\u001b[0m\u001b[1;33m)\u001b[0m\u001b[1;33m\u001b[0m\u001b[1;33m\u001b[0m\u001b[0m\n\u001b[0m\u001b[0;32m      2\u001b[0m \u001b[0mdf\u001b[0m\u001b[1;33m.\u001b[0m\u001b[0mrename\u001b[0m\u001b[1;33m(\u001b[0m\u001b[0mcolumns\u001b[0m\u001b[1;33m=\u001b[0m\u001b[1;33m{\u001b[0m\u001b[1;34m'\\nComfort & Convenience\\n'\u001b[0m\u001b[1;33m:\u001b[0m\u001b[1;34m'Comfort&Convenience'\u001b[0m\u001b[1;33m}\u001b[0m\u001b[1;33m,\u001b[0m \u001b[0minplace\u001b[0m \u001b[1;33m=\u001b[0m \u001b[1;32mTrue\u001b[0m\u001b[1;33m)\u001b[0m\u001b[1;33m\u001b[0m\u001b[1;33m\u001b[0m\u001b[0m\n",
      "\u001b[1;32m~\\anaconda3\\lib\\site-packages\\pandas\\core\\frame.py\u001b[0m in \u001b[0;36m__getitem__\u001b[1;34m(self, key)\u001b[0m\n\u001b[0;32m   2900\u001b[0m             \u001b[1;32mif\u001b[0m \u001b[0mself\u001b[0m\u001b[1;33m.\u001b[0m\u001b[0mcolumns\u001b[0m\u001b[1;33m.\u001b[0m\u001b[0mnlevels\u001b[0m \u001b[1;33m>\u001b[0m \u001b[1;36m1\u001b[0m\u001b[1;33m:\u001b[0m\u001b[1;33m\u001b[0m\u001b[1;33m\u001b[0m\u001b[0m\n\u001b[0;32m   2901\u001b[0m                 \u001b[1;32mreturn\u001b[0m \u001b[0mself\u001b[0m\u001b[1;33m.\u001b[0m\u001b[0m_getitem_multilevel\u001b[0m\u001b[1;33m(\u001b[0m\u001b[0mkey\u001b[0m\u001b[1;33m)\u001b[0m\u001b[1;33m\u001b[0m\u001b[1;33m\u001b[0m\u001b[0m\n\u001b[1;32m-> 2902\u001b[1;33m             \u001b[0mindexer\u001b[0m \u001b[1;33m=\u001b[0m \u001b[0mself\u001b[0m\u001b[1;33m.\u001b[0m\u001b[0mcolumns\u001b[0m\u001b[1;33m.\u001b[0m\u001b[0mget_loc\u001b[0m\u001b[1;33m(\u001b[0m\u001b[0mkey\u001b[0m\u001b[1;33m)\u001b[0m\u001b[1;33m\u001b[0m\u001b[1;33m\u001b[0m\u001b[0m\n\u001b[0m\u001b[0;32m   2903\u001b[0m             \u001b[1;32mif\u001b[0m \u001b[0mis_integer\u001b[0m\u001b[1;33m(\u001b[0m\u001b[0mindexer\u001b[0m\u001b[1;33m)\u001b[0m\u001b[1;33m:\u001b[0m\u001b[1;33m\u001b[0m\u001b[1;33m\u001b[0m\u001b[0m\n\u001b[0;32m   2904\u001b[0m                 \u001b[0mindexer\u001b[0m \u001b[1;33m=\u001b[0m \u001b[1;33m[\u001b[0m\u001b[0mindexer\u001b[0m\u001b[1;33m]\u001b[0m\u001b[1;33m\u001b[0m\u001b[1;33m\u001b[0m\u001b[0m\n",
      "\u001b[1;32m~\\anaconda3\\lib\\site-packages\\pandas\\core\\indexes\\base.py\u001b[0m in \u001b[0;36mget_loc\u001b[1;34m(self, key, method, tolerance)\u001b[0m\n\u001b[0;32m   2895\u001b[0m                 \u001b[1;32mreturn\u001b[0m \u001b[0mself\u001b[0m\u001b[1;33m.\u001b[0m\u001b[0m_engine\u001b[0m\u001b[1;33m.\u001b[0m\u001b[0mget_loc\u001b[0m\u001b[1;33m(\u001b[0m\u001b[0mcasted_key\u001b[0m\u001b[1;33m)\u001b[0m\u001b[1;33m\u001b[0m\u001b[1;33m\u001b[0m\u001b[0m\n\u001b[0;32m   2896\u001b[0m             \u001b[1;32mexcept\u001b[0m \u001b[0mKeyError\u001b[0m \u001b[1;32mas\u001b[0m \u001b[0merr\u001b[0m\u001b[1;33m:\u001b[0m\u001b[1;33m\u001b[0m\u001b[1;33m\u001b[0m\u001b[0m\n\u001b[1;32m-> 2897\u001b[1;33m                 \u001b[1;32mraise\u001b[0m \u001b[0mKeyError\u001b[0m\u001b[1;33m(\u001b[0m\u001b[0mkey\u001b[0m\u001b[1;33m)\u001b[0m \u001b[1;32mfrom\u001b[0m \u001b[0merr\u001b[0m\u001b[1;33m\u001b[0m\u001b[1;33m\u001b[0m\u001b[0m\n\u001b[0m\u001b[0;32m   2898\u001b[0m \u001b[1;33m\u001b[0m\u001b[0m\n\u001b[0;32m   2899\u001b[0m         \u001b[1;32mif\u001b[0m \u001b[0mtolerance\u001b[0m \u001b[1;32mis\u001b[0m \u001b[1;32mnot\u001b[0m \u001b[1;32mNone\u001b[0m\u001b[1;33m:\u001b[0m\u001b[1;33m\u001b[0m\u001b[1;33m\u001b[0m\u001b[0m\n",
      "\u001b[1;31mKeyError\u001b[0m: '\\nComfort & Convenience\\n'"
     ]
    }
   ],
   "source": [
    "df['\\nComfort & Convenience\\n'].head()\n",
    "df.rename(columns={'\\nComfort & Convenience\\n':'Comfort&Convenience'}, inplace = True)\n"
   ]
  },
  {
   "cell_type": "code",
   "execution_count": 248,
   "metadata": {},
   "outputs": [
    {
     "ename": "TypeError",
     "evalue": "unhashable type: 'list'",
     "output_type": "error",
     "traceback": [
      "\u001b[1;31m---------------------------------------------------------------------------\u001b[0m",
      "\u001b[1;31mTypeError\u001b[0m                                 Traceback (most recent call last)",
      "\u001b[1;32mpandas\\_libs\\hashtable_class_helper.pxi\u001b[0m in \u001b[0;36mpandas._libs.hashtable.PyObjectHashTable.map_locations\u001b[1;34m()\u001b[0m\n",
      "\u001b[1;31mTypeError\u001b[0m: unhashable type: 'list'"
     ]
    },
    {
     "name": "stderr",
     "output_type": "stream",
     "text": [
      "Exception ignored in: 'pandas._libs.index.IndexEngine._call_map_locations'\n",
      "Traceback (most recent call last):\n",
      "  File \"pandas\\_libs\\hashtable_class_helper.pxi\", line 1709, in pandas._libs.hashtable.PyObjectHashTable.map_locations\n",
      "TypeError: unhashable type: 'list'\n"
     ]
    },
    {
     "data": {
      "text/plain": [
       "NaN                                                                                                                                                                                                                                                                                                                                                                     920\n",
       "[Air conditioning, Electrical side mirrors, Hill Holder, Power windows]                                                                                                                                                                                                                                                                                                 216\n",
       "[Air conditioning, Electrical side mirrors, Power windows]                                                                                                                                                                                                                                                                                                              134\n",
       "[Air conditioning, Power windows]                                                                                                                                                                                                                                                                                                                                       130\n",
       "[Air conditioning, Armrest, Automatic climate control, Cruise control, Electrical side mirrors, Leather steering wheel, Light sensor, Lumbar support, Multi-function steering wheel, Navigation system, Park Distance Control, Parking assist system sensors front, Parking assist system sensors rear, Power windows, Rain sensor, Seat heating, Start-stop system]    105\n",
       "                                                                                                                                                                                                                                                                                                                                                                       ... \n",
       "[Air conditioning, Armrest, Automatic climate control, Cruise control, Leather steering wheel, Lumbar support, Multi-function steering wheel, Navigation system, Park Distance Control, Parking assist system sensors front, Parking assist system sensors rear, Power windows, Rain sensor]                                                                              1\n",
       "[Air conditioning, Armrest, Automatic climate control, Electrical side mirrors, Hill Holder, Keyless central door lock, Leather steering wheel, Light sensor, Park Distance Control, Parking assist system sensors rear, Power windows, Rain sensor]                                                                                                                      1\n",
       "[Air conditioning, Automatic climate control, Cruise control, Electrical side mirrors, Leather steering wheel, Light sensor, Multi-function steering wheel, Navigation system, Park Distance Control, Parking assist system sensors rear, Power windows, Rain sensor, Start-stop system]                                                                                  1\n",
       "[Air conditioning, Armrest, Cruise control, Electrical side mirrors, Leather steering wheel, Light sensor, Multi-function steering wheel, Park Distance Control, Parking assist system camera, Parking assist system sensors front, Parking assist system sensors rear, Power windows, Rain sensor, Seat heating, Start-stop system]                                      1\n",
       "[Air conditioning, Armrest, Automatic climate control, Auxiliary heating, Electrical side mirrors, Leather steering wheel, Light sensor, Multi-function steering wheel, Navigation system, Park Distance Control, Parking assist system sensors front, Parking assist system sensors rear, Power windows, Seat heating]                                                   1\n",
       "Name: Comfort&Convenience, Length: 6199, dtype: int64"
      ]
     },
     "execution_count": 248,
     "metadata": {},
     "output_type": "execute_result"
    }
   ],
   "source": [
    "df['Comfort&Convenience'].value_counts(dropna = False)"
   ]
  },
  {
   "cell_type": "code",
   "execution_count": 249,
   "metadata": {},
   "outputs": [],
   "source": [
    "df['Comfort&Convenience'] = df['Comfort&Convenience'].astype('str').str.replace('[','').str.replace(\"]\",'')"
   ]
  },
  {
   "cell_type": "code",
   "execution_count": 251,
   "metadata": {},
   "outputs": [
    {
     "data": {
      "text/html": [
       "<div>\n",
       "<style scoped>\n",
       "    .dataframe tbody tr th:only-of-type {\n",
       "        vertical-align: middle;\n",
       "    }\n",
       "\n",
       "    .dataframe tbody tr th {\n",
       "        vertical-align: top;\n",
       "    }\n",
       "\n",
       "    .dataframe thead th {\n",
       "        text-align: right;\n",
       "    }\n",
       "</style>\n",
       "<table border=\"1\" class=\"dataframe\">\n",
       "  <thead>\n",
       "    <tr style=\"text-align: right;\">\n",
       "      <th></th>\n",
       "      <th>0</th>\n",
       "      <th>1</th>\n",
       "      <th>2</th>\n",
       "      <th>3</th>\n",
       "      <th>4</th>\n",
       "      <th>5</th>\n",
       "      <th>6</th>\n",
       "      <th>7</th>\n",
       "      <th>8</th>\n",
       "      <th>9</th>\n",
       "      <th>...</th>\n",
       "      <th>15909</th>\n",
       "      <th>15910</th>\n",
       "      <th>15911</th>\n",
       "      <th>15912</th>\n",
       "      <th>15913</th>\n",
       "      <th>15914</th>\n",
       "      <th>15915</th>\n",
       "      <th>15916</th>\n",
       "      <th>15917</th>\n",
       "      <th>15918</th>\n",
       "    </tr>\n",
       "  </thead>\n",
       "  <tbody>\n",
       "    <tr>\n",
       "      <th>'Air suspension'</th>\n",
       "      <td>0</td>\n",
       "      <td>0</td>\n",
       "      <td>0</td>\n",
       "      <td>0</td>\n",
       "      <td>0</td>\n",
       "      <td>0</td>\n",
       "      <td>0</td>\n",
       "      <td>0</td>\n",
       "      <td>0</td>\n",
       "      <td>0</td>\n",
       "      <td>...</td>\n",
       "      <td>0</td>\n",
       "      <td>0</td>\n",
       "      <td>0</td>\n",
       "      <td>0</td>\n",
       "      <td>0</td>\n",
       "      <td>0</td>\n",
       "      <td>0</td>\n",
       "      <td>0</td>\n",
       "      <td>0</td>\n",
       "      <td>0</td>\n",
       "    </tr>\n",
       "    <tr>\n",
       "      <th>'Armrest'</th>\n",
       "      <td>1</td>\n",
       "      <td>0</td>\n",
       "      <td>0</td>\n",
       "      <td>1</td>\n",
       "      <td>1</td>\n",
       "      <td>1</td>\n",
       "      <td>1</td>\n",
       "      <td>1</td>\n",
       "      <td>0</td>\n",
       "      <td>0</td>\n",
       "      <td>...</td>\n",
       "      <td>0</td>\n",
       "      <td>0</td>\n",
       "      <td>1</td>\n",
       "      <td>0</td>\n",
       "      <td>1</td>\n",
       "      <td>0</td>\n",
       "      <td>0</td>\n",
       "      <td>1</td>\n",
       "      <td>0</td>\n",
       "      <td>0</td>\n",
       "    </tr>\n",
       "    <tr>\n",
       "      <th>'Automatic climate control'</th>\n",
       "      <td>1</td>\n",
       "      <td>1</td>\n",
       "      <td>0</td>\n",
       "      <td>0</td>\n",
       "      <td>1</td>\n",
       "      <td>1</td>\n",
       "      <td>1</td>\n",
       "      <td>0</td>\n",
       "      <td>0</td>\n",
       "      <td>0</td>\n",
       "      <td>...</td>\n",
       "      <td>1</td>\n",
       "      <td>1</td>\n",
       "      <td>1</td>\n",
       "      <td>1</td>\n",
       "      <td>1</td>\n",
       "      <td>1</td>\n",
       "      <td>1</td>\n",
       "      <td>1</td>\n",
       "      <td>1</td>\n",
       "      <td>1</td>\n",
       "    </tr>\n",
       "    <tr>\n",
       "      <th>'Auxiliary heating'</th>\n",
       "      <td>0</td>\n",
       "      <td>0</td>\n",
       "      <td>0</td>\n",
       "      <td>1</td>\n",
       "      <td>0</td>\n",
       "      <td>0</td>\n",
       "      <td>0</td>\n",
       "      <td>0</td>\n",
       "      <td>0</td>\n",
       "      <td>0</td>\n",
       "      <td>...</td>\n",
       "      <td>0</td>\n",
       "      <td>0</td>\n",
       "      <td>0</td>\n",
       "      <td>0</td>\n",
       "      <td>0</td>\n",
       "      <td>0</td>\n",
       "      <td>0</td>\n",
       "      <td>0</td>\n",
       "      <td>0</td>\n",
       "      <td>0</td>\n",
       "    </tr>\n",
       "    <tr>\n",
       "      <th>'Cruise control'</th>\n",
       "      <td>1</td>\n",
       "      <td>0</td>\n",
       "      <td>1</td>\n",
       "      <td>0</td>\n",
       "      <td>0</td>\n",
       "      <td>0</td>\n",
       "      <td>1</td>\n",
       "      <td>0</td>\n",
       "      <td>0</td>\n",
       "      <td>0</td>\n",
       "      <td>...</td>\n",
       "      <td>1</td>\n",
       "      <td>1</td>\n",
       "      <td>1</td>\n",
       "      <td>1</td>\n",
       "      <td>1</td>\n",
       "      <td>1</td>\n",
       "      <td>1</td>\n",
       "      <td>1</td>\n",
       "      <td>1</td>\n",
       "      <td>1</td>\n",
       "    </tr>\n",
       "    <tr>\n",
       "      <th>'Electric Starter'</th>\n",
       "      <td>0</td>\n",
       "      <td>0</td>\n",
       "      <td>0</td>\n",
       "      <td>0</td>\n",
       "      <td>0</td>\n",
       "      <td>0</td>\n",
       "      <td>0</td>\n",
       "      <td>0</td>\n",
       "      <td>0</td>\n",
       "      <td>0</td>\n",
       "      <td>...</td>\n",
       "      <td>0</td>\n",
       "      <td>0</td>\n",
       "      <td>0</td>\n",
       "      <td>0</td>\n",
       "      <td>0</td>\n",
       "      <td>0</td>\n",
       "      <td>0</td>\n",
       "      <td>0</td>\n",
       "      <td>0</td>\n",
       "      <td>0</td>\n",
       "    </tr>\n",
       "    <tr>\n",
       "      <th>'Electric tailgate'</th>\n",
       "      <td>0</td>\n",
       "      <td>0</td>\n",
       "      <td>0</td>\n",
       "      <td>0</td>\n",
       "      <td>0</td>\n",
       "      <td>0</td>\n",
       "      <td>0</td>\n",
       "      <td>0</td>\n",
       "      <td>0</td>\n",
       "      <td>0</td>\n",
       "      <td>...</td>\n",
       "      <td>1</td>\n",
       "      <td>0</td>\n",
       "      <td>1</td>\n",
       "      <td>0</td>\n",
       "      <td>1</td>\n",
       "      <td>0</td>\n",
       "      <td>1</td>\n",
       "      <td>1</td>\n",
       "      <td>0</td>\n",
       "      <td>1</td>\n",
       "    </tr>\n",
       "    <tr>\n",
       "      <th>'Electrical side mirrors'</th>\n",
       "      <td>1</td>\n",
       "      <td>0</td>\n",
       "      <td>1</td>\n",
       "      <td>1</td>\n",
       "      <td>1</td>\n",
       "      <td>1</td>\n",
       "      <td>1</td>\n",
       "      <td>1</td>\n",
       "      <td>0</td>\n",
       "      <td>0</td>\n",
       "      <td>...</td>\n",
       "      <td>0</td>\n",
       "      <td>1</td>\n",
       "      <td>1</td>\n",
       "      <td>1</td>\n",
       "      <td>1</td>\n",
       "      <td>1</td>\n",
       "      <td>1</td>\n",
       "      <td>1</td>\n",
       "      <td>1</td>\n",
       "      <td>1</td>\n",
       "    </tr>\n",
       "    <tr>\n",
       "      <th>'Electrically adjustable seats'</th>\n",
       "      <td>0</td>\n",
       "      <td>0</td>\n",
       "      <td>0</td>\n",
       "      <td>0</td>\n",
       "      <td>0</td>\n",
       "      <td>0</td>\n",
       "      <td>0</td>\n",
       "      <td>0</td>\n",
       "      <td>0</td>\n",
       "      <td>0</td>\n",
       "      <td>...</td>\n",
       "      <td>0</td>\n",
       "      <td>1</td>\n",
       "      <td>1</td>\n",
       "      <td>1</td>\n",
       "      <td>1</td>\n",
       "      <td>1</td>\n",
       "      <td>0</td>\n",
       "      <td>0</td>\n",
       "      <td>1</td>\n",
       "      <td>1</td>\n",
       "    </tr>\n",
       "    <tr>\n",
       "      <th>'Electrically heated windshield'</th>\n",
       "      <td>0</td>\n",
       "      <td>0</td>\n",
       "      <td>0</td>\n",
       "      <td>0</td>\n",
       "      <td>0</td>\n",
       "      <td>0</td>\n",
       "      <td>0</td>\n",
       "      <td>0</td>\n",
       "      <td>0</td>\n",
       "      <td>0</td>\n",
       "      <td>...</td>\n",
       "      <td>1</td>\n",
       "      <td>0</td>\n",
       "      <td>1</td>\n",
       "      <td>0</td>\n",
       "      <td>1</td>\n",
       "      <td>0</td>\n",
       "      <td>1</td>\n",
       "      <td>1</td>\n",
       "      <td>0</td>\n",
       "      <td>0</td>\n",
       "    </tr>\n",
       "    <tr>\n",
       "      <th>'Heads-up display'</th>\n",
       "      <td>0</td>\n",
       "      <td>0</td>\n",
       "      <td>0</td>\n",
       "      <td>1</td>\n",
       "      <td>0</td>\n",
       "      <td>0</td>\n",
       "      <td>0</td>\n",
       "      <td>0</td>\n",
       "      <td>0</td>\n",
       "      <td>0</td>\n",
       "      <td>...</td>\n",
       "      <td>0</td>\n",
       "      <td>0</td>\n",
       "      <td>1</td>\n",
       "      <td>0</td>\n",
       "      <td>1</td>\n",
       "      <td>0</td>\n",
       "      <td>1</td>\n",
       "      <td>1</td>\n",
       "      <td>0</td>\n",
       "      <td>0</td>\n",
       "    </tr>\n",
       "    <tr>\n",
       "      <th>'Heated steering wheel'</th>\n",
       "      <td>0</td>\n",
       "      <td>0</td>\n",
       "      <td>0</td>\n",
       "      <td>0</td>\n",
       "      <td>0</td>\n",
       "      <td>0</td>\n",
       "      <td>0</td>\n",
       "      <td>0</td>\n",
       "      <td>0</td>\n",
       "      <td>0</td>\n",
       "      <td>...</td>\n",
       "      <td>0</td>\n",
       "      <td>0</td>\n",
       "      <td>1</td>\n",
       "      <td>0</td>\n",
       "      <td>1</td>\n",
       "      <td>0</td>\n",
       "      <td>1</td>\n",
       "      <td>1</td>\n",
       "      <td>0</td>\n",
       "      <td>0</td>\n",
       "    </tr>\n",
       "    <tr>\n",
       "      <th>'Hill Holder'</th>\n",
       "      <td>1</td>\n",
       "      <td>1</td>\n",
       "      <td>1</td>\n",
       "      <td>1</td>\n",
       "      <td>1</td>\n",
       "      <td>1</td>\n",
       "      <td>0</td>\n",
       "      <td>0</td>\n",
       "      <td>0</td>\n",
       "      <td>0</td>\n",
       "      <td>...</td>\n",
       "      <td>0</td>\n",
       "      <td>0</td>\n",
       "      <td>1</td>\n",
       "      <td>1</td>\n",
       "      <td>0</td>\n",
       "      <td>1</td>\n",
       "      <td>1</td>\n",
       "      <td>0</td>\n",
       "      <td>0</td>\n",
       "      <td>1</td>\n",
       "    </tr>\n",
       "    <tr>\n",
       "      <th>'Keyless central door lock'</th>\n",
       "      <td>0</td>\n",
       "      <td>0</td>\n",
       "      <td>0</td>\n",
       "      <td>0</td>\n",
       "      <td>0</td>\n",
       "      <td>1</td>\n",
       "      <td>0</td>\n",
       "      <td>0</td>\n",
       "      <td>0</td>\n",
       "      <td>0</td>\n",
       "      <td>...</td>\n",
       "      <td>1</td>\n",
       "      <td>0</td>\n",
       "      <td>1</td>\n",
       "      <td>1</td>\n",
       "      <td>1</td>\n",
       "      <td>1</td>\n",
       "      <td>1</td>\n",
       "      <td>0</td>\n",
       "      <td>0</td>\n",
       "      <td>0</td>\n",
       "    </tr>\n",
       "    <tr>\n",
       "      <th>'Leather seats'</th>\n",
       "      <td>0</td>\n",
       "      <td>0</td>\n",
       "      <td>0</td>\n",
       "      <td>0</td>\n",
       "      <td>0</td>\n",
       "      <td>0</td>\n",
       "      <td>0</td>\n",
       "      <td>0</td>\n",
       "      <td>0</td>\n",
       "      <td>0</td>\n",
       "      <td>...</td>\n",
       "      <td>0</td>\n",
       "      <td>0</td>\n",
       "      <td>0</td>\n",
       "      <td>0</td>\n",
       "      <td>0</td>\n",
       "      <td>0</td>\n",
       "      <td>0</td>\n",
       "      <td>0</td>\n",
       "      <td>0</td>\n",
       "      <td>0</td>\n",
       "    </tr>\n",
       "    <tr>\n",
       "      <th>'Leather steering wheel'</th>\n",
       "      <td>1</td>\n",
       "      <td>1</td>\n",
       "      <td>1</td>\n",
       "      <td>1</td>\n",
       "      <td>1</td>\n",
       "      <td>1</td>\n",
       "      <td>1</td>\n",
       "      <td>0</td>\n",
       "      <td>0</td>\n",
       "      <td>0</td>\n",
       "      <td>...</td>\n",
       "      <td>1</td>\n",
       "      <td>0</td>\n",
       "      <td>1</td>\n",
       "      <td>1</td>\n",
       "      <td>1</td>\n",
       "      <td>1</td>\n",
       "      <td>1</td>\n",
       "      <td>1</td>\n",
       "      <td>1</td>\n",
       "      <td>1</td>\n",
       "    </tr>\n",
       "    <tr>\n",
       "      <th>'Light sensor'</th>\n",
       "      <td>1</td>\n",
       "      <td>0</td>\n",
       "      <td>0</td>\n",
       "      <td>1</td>\n",
       "      <td>1</td>\n",
       "      <td>1</td>\n",
       "      <td>1</td>\n",
       "      <td>1</td>\n",
       "      <td>0</td>\n",
       "      <td>0</td>\n",
       "      <td>...</td>\n",
       "      <td>1</td>\n",
       "      <td>1</td>\n",
       "      <td>1</td>\n",
       "      <td>1</td>\n",
       "      <td>1</td>\n",
       "      <td>1</td>\n",
       "      <td>1</td>\n",
       "      <td>1</td>\n",
       "      <td>1</td>\n",
       "      <td>0</td>\n",
       "    </tr>\n",
       "    <tr>\n",
       "      <th>'Lumbar support'</th>\n",
       "      <td>0</td>\n",
       "      <td>1</td>\n",
       "      <td>0</td>\n",
       "      <td>1</td>\n",
       "      <td>0</td>\n",
       "      <td>1</td>\n",
       "      <td>0</td>\n",
       "      <td>0</td>\n",
       "      <td>0</td>\n",
       "      <td>0</td>\n",
       "      <td>...</td>\n",
       "      <td>1</td>\n",
       "      <td>0</td>\n",
       "      <td>1</td>\n",
       "      <td>0</td>\n",
       "      <td>1</td>\n",
       "      <td>0</td>\n",
       "      <td>1</td>\n",
       "      <td>0</td>\n",
       "      <td>0</td>\n",
       "      <td>0</td>\n",
       "    </tr>\n",
       "    <tr>\n",
       "      <th>'Massage seats'</th>\n",
       "      <td>0</td>\n",
       "      <td>0</td>\n",
       "      <td>0</td>\n",
       "      <td>0</td>\n",
       "      <td>0</td>\n",
       "      <td>0</td>\n",
       "      <td>0</td>\n",
       "      <td>0</td>\n",
       "      <td>0</td>\n",
       "      <td>0</td>\n",
       "      <td>...</td>\n",
       "      <td>0</td>\n",
       "      <td>0</td>\n",
       "      <td>0</td>\n",
       "      <td>1</td>\n",
       "      <td>1</td>\n",
       "      <td>1</td>\n",
       "      <td>0</td>\n",
       "      <td>1</td>\n",
       "      <td>0</td>\n",
       "      <td>0</td>\n",
       "    </tr>\n",
       "    <tr>\n",
       "      <th>'Multi-function steering wheel'</th>\n",
       "      <td>1</td>\n",
       "      <td>0</td>\n",
       "      <td>1</td>\n",
       "      <td>1</td>\n",
       "      <td>1</td>\n",
       "      <td>1</td>\n",
       "      <td>1</td>\n",
       "      <td>0</td>\n",
       "      <td>0</td>\n",
       "      <td>0</td>\n",
       "      <td>...</td>\n",
       "      <td>1</td>\n",
       "      <td>1</td>\n",
       "      <td>1</td>\n",
       "      <td>1</td>\n",
       "      <td>1</td>\n",
       "      <td>1</td>\n",
       "      <td>0</td>\n",
       "      <td>1</td>\n",
       "      <td>0</td>\n",
       "      <td>0</td>\n",
       "    </tr>\n",
       "    <tr>\n",
       "      <th>'Navigation system'</th>\n",
       "      <td>1</td>\n",
       "      <td>0</td>\n",
       "      <td>1</td>\n",
       "      <td>1</td>\n",
       "      <td>0</td>\n",
       "      <td>1</td>\n",
       "      <td>1</td>\n",
       "      <td>0</td>\n",
       "      <td>0</td>\n",
       "      <td>0</td>\n",
       "      <td>...</td>\n",
       "      <td>1</td>\n",
       "      <td>1</td>\n",
       "      <td>1</td>\n",
       "      <td>1</td>\n",
       "      <td>1</td>\n",
       "      <td>1</td>\n",
       "      <td>1</td>\n",
       "      <td>1</td>\n",
       "      <td>0</td>\n",
       "      <td>1</td>\n",
       "    </tr>\n",
       "    <tr>\n",
       "      <th>'Panorama roof'</th>\n",
       "      <td>0</td>\n",
       "      <td>0</td>\n",
       "      <td>0</td>\n",
       "      <td>0</td>\n",
       "      <td>0</td>\n",
       "      <td>0</td>\n",
       "      <td>0</td>\n",
       "      <td>0</td>\n",
       "      <td>0</td>\n",
       "      <td>0</td>\n",
       "      <td>...</td>\n",
       "      <td>1</td>\n",
       "      <td>1</td>\n",
       "      <td>1</td>\n",
       "      <td>0</td>\n",
       "      <td>1</td>\n",
       "      <td>0</td>\n",
       "      <td>0</td>\n",
       "      <td>1</td>\n",
       "      <td>0</td>\n",
       "      <td>0</td>\n",
       "    </tr>\n",
       "    <tr>\n",
       "      <th>'Park Distance Control'</th>\n",
       "      <td>1</td>\n",
       "      <td>0</td>\n",
       "      <td>1</td>\n",
       "      <td>0</td>\n",
       "      <td>1</td>\n",
       "      <td>1</td>\n",
       "      <td>1</td>\n",
       "      <td>1</td>\n",
       "      <td>0</td>\n",
       "      <td>0</td>\n",
       "      <td>...</td>\n",
       "      <td>1</td>\n",
       "      <td>1</td>\n",
       "      <td>1</td>\n",
       "      <td>1</td>\n",
       "      <td>1</td>\n",
       "      <td>1</td>\n",
       "      <td>1</td>\n",
       "      <td>1</td>\n",
       "      <td>1</td>\n",
       "      <td>0</td>\n",
       "    </tr>\n",
       "    <tr>\n",
       "      <th>'Parking assist system camera'</th>\n",
       "      <td>0</td>\n",
       "      <td>0</td>\n",
       "      <td>0</td>\n",
       "      <td>0</td>\n",
       "      <td>0</td>\n",
       "      <td>0</td>\n",
       "      <td>0</td>\n",
       "      <td>0</td>\n",
       "      <td>0</td>\n",
       "      <td>0</td>\n",
       "      <td>...</td>\n",
       "      <td>0</td>\n",
       "      <td>1</td>\n",
       "      <td>1</td>\n",
       "      <td>0</td>\n",
       "      <td>1</td>\n",
       "      <td>0</td>\n",
       "      <td>1</td>\n",
       "      <td>1</td>\n",
       "      <td>0</td>\n",
       "      <td>0</td>\n",
       "    </tr>\n",
       "    <tr>\n",
       "      <th>'Parking assist system self-steering'</th>\n",
       "      <td>0</td>\n",
       "      <td>0</td>\n",
       "      <td>0</td>\n",
       "      <td>0</td>\n",
       "      <td>0</td>\n",
       "      <td>0</td>\n",
       "      <td>0</td>\n",
       "      <td>0</td>\n",
       "      <td>0</td>\n",
       "      <td>0</td>\n",
       "      <td>...</td>\n",
       "      <td>0</td>\n",
       "      <td>1</td>\n",
       "      <td>0</td>\n",
       "      <td>0</td>\n",
       "      <td>0</td>\n",
       "      <td>0</td>\n",
       "      <td>1</td>\n",
       "      <td>0</td>\n",
       "      <td>0</td>\n",
       "      <td>0</td>\n",
       "    </tr>\n",
       "    <tr>\n",
       "      <th>'Parking assist system sensors front'</th>\n",
       "      <td>0</td>\n",
       "      <td>0</td>\n",
       "      <td>1</td>\n",
       "      <td>0</td>\n",
       "      <td>0</td>\n",
       "      <td>0</td>\n",
       "      <td>1</td>\n",
       "      <td>0</td>\n",
       "      <td>0</td>\n",
       "      <td>0</td>\n",
       "      <td>...</td>\n",
       "      <td>0</td>\n",
       "      <td>1</td>\n",
       "      <td>1</td>\n",
       "      <td>1</td>\n",
       "      <td>1</td>\n",
       "      <td>1</td>\n",
       "      <td>1</td>\n",
       "      <td>1</td>\n",
       "      <td>0</td>\n",
       "      <td>0</td>\n",
       "    </tr>\n",
       "    <tr>\n",
       "      <th>'Parking assist system sensors rear'</th>\n",
       "      <td>1</td>\n",
       "      <td>1</td>\n",
       "      <td>1</td>\n",
       "      <td>0</td>\n",
       "      <td>1</td>\n",
       "      <td>1</td>\n",
       "      <td>1</td>\n",
       "      <td>1</td>\n",
       "      <td>0</td>\n",
       "      <td>0</td>\n",
       "      <td>...</td>\n",
       "      <td>0</td>\n",
       "      <td>1</td>\n",
       "      <td>1</td>\n",
       "      <td>1</td>\n",
       "      <td>1</td>\n",
       "      <td>1</td>\n",
       "      <td>1</td>\n",
       "      <td>1</td>\n",
       "      <td>0</td>\n",
       "      <td>0</td>\n",
       "    </tr>\n",
       "    <tr>\n",
       "      <th>'Power windows'</th>\n",
       "      <td>1</td>\n",
       "      <td>1</td>\n",
       "      <td>1</td>\n",
       "      <td>1</td>\n",
       "      <td>1</td>\n",
       "      <td>1</td>\n",
       "      <td>1</td>\n",
       "      <td>1</td>\n",
       "      <td>1</td>\n",
       "      <td>0</td>\n",
       "      <td>...</td>\n",
       "      <td>1</td>\n",
       "      <td>1</td>\n",
       "      <td>1</td>\n",
       "      <td>1</td>\n",
       "      <td>1</td>\n",
       "      <td>1</td>\n",
       "      <td>1</td>\n",
       "      <td>1</td>\n",
       "      <td>1</td>\n",
       "      <td>1</td>\n",
       "    </tr>\n",
       "    <tr>\n",
       "      <th>'Rain sensor'</th>\n",
       "      <td>1</td>\n",
       "      <td>0</td>\n",
       "      <td>0</td>\n",
       "      <td>1</td>\n",
       "      <td>1</td>\n",
       "      <td>1</td>\n",
       "      <td>1</td>\n",
       "      <td>1</td>\n",
       "      <td>0</td>\n",
       "      <td>0</td>\n",
       "      <td>...</td>\n",
       "      <td>1</td>\n",
       "      <td>1</td>\n",
       "      <td>1</td>\n",
       "      <td>1</td>\n",
       "      <td>1</td>\n",
       "      <td>1</td>\n",
       "      <td>1</td>\n",
       "      <td>1</td>\n",
       "      <td>0</td>\n",
       "      <td>0</td>\n",
       "    </tr>\n",
       "    <tr>\n",
       "      <th>'Seat heating'</th>\n",
       "      <td>1</td>\n",
       "      <td>0</td>\n",
       "      <td>1</td>\n",
       "      <td>1</td>\n",
       "      <td>0</td>\n",
       "      <td>1</td>\n",
       "      <td>0</td>\n",
       "      <td>1</td>\n",
       "      <td>0</td>\n",
       "      <td>0</td>\n",
       "      <td>...</td>\n",
       "      <td>1</td>\n",
       "      <td>1</td>\n",
       "      <td>1</td>\n",
       "      <td>0</td>\n",
       "      <td>1</td>\n",
       "      <td>0</td>\n",
       "      <td>1</td>\n",
       "      <td>1</td>\n",
       "      <td>0</td>\n",
       "      <td>1</td>\n",
       "    </tr>\n",
       "    <tr>\n",
       "      <th>'Seat ventilation'</th>\n",
       "      <td>0</td>\n",
       "      <td>0</td>\n",
       "      <td>0</td>\n",
       "      <td>0</td>\n",
       "      <td>0</td>\n",
       "      <td>0</td>\n",
       "      <td>0</td>\n",
       "      <td>0</td>\n",
       "      <td>0</td>\n",
       "      <td>0</td>\n",
       "      <td>...</td>\n",
       "      <td>0</td>\n",
       "      <td>0</td>\n",
       "      <td>0</td>\n",
       "      <td>0</td>\n",
       "      <td>0</td>\n",
       "      <td>0</td>\n",
       "      <td>0</td>\n",
       "      <td>1</td>\n",
       "      <td>0</td>\n",
       "      <td>0</td>\n",
       "    </tr>\n",
       "    <tr>\n",
       "      <th>'Split rear seats'</th>\n",
       "      <td>0</td>\n",
       "      <td>0</td>\n",
       "      <td>0</td>\n",
       "      <td>1</td>\n",
       "      <td>0</td>\n",
       "      <td>0</td>\n",
       "      <td>0</td>\n",
       "      <td>0</td>\n",
       "      <td>0</td>\n",
       "      <td>0</td>\n",
       "      <td>...</td>\n",
       "      <td>0</td>\n",
       "      <td>0</td>\n",
       "      <td>0</td>\n",
       "      <td>1</td>\n",
       "      <td>0</td>\n",
       "      <td>1</td>\n",
       "      <td>0</td>\n",
       "      <td>0</td>\n",
       "      <td>0</td>\n",
       "      <td>0</td>\n",
       "    </tr>\n",
       "    <tr>\n",
       "      <th>'Start-stop system'</th>\n",
       "      <td>1</td>\n",
       "      <td>1</td>\n",
       "      <td>1</td>\n",
       "      <td>1</td>\n",
       "      <td>1</td>\n",
       "      <td>1</td>\n",
       "      <td>1</td>\n",
       "      <td>1</td>\n",
       "      <td>0</td>\n",
       "      <td>0</td>\n",
       "      <td>...</td>\n",
       "      <td>1</td>\n",
       "      <td>1</td>\n",
       "      <td>1</td>\n",
       "      <td>1</td>\n",
       "      <td>1</td>\n",
       "      <td>1</td>\n",
       "      <td>0</td>\n",
       "      <td>0</td>\n",
       "      <td>1</td>\n",
       "      <td>0</td>\n",
       "    </tr>\n",
       "    <tr>\n",
       "      <th>'Sunroof'</th>\n",
       "      <td>0</td>\n",
       "      <td>0</td>\n",
       "      <td>0</td>\n",
       "      <td>0</td>\n",
       "      <td>0</td>\n",
       "      <td>0</td>\n",
       "      <td>0</td>\n",
       "      <td>0</td>\n",
       "      <td>0</td>\n",
       "      <td>0</td>\n",
       "      <td>...</td>\n",
       "      <td>0</td>\n",
       "      <td>1</td>\n",
       "      <td>1</td>\n",
       "      <td>0</td>\n",
       "      <td>0</td>\n",
       "      <td>0</td>\n",
       "      <td>1</td>\n",
       "      <td>1</td>\n",
       "      <td>0</td>\n",
       "      <td>0</td>\n",
       "    </tr>\n",
       "    <tr>\n",
       "      <th>'Tinted windows'</th>\n",
       "      <td>0</td>\n",
       "      <td>1</td>\n",
       "      <td>0</td>\n",
       "      <td>0</td>\n",
       "      <td>0</td>\n",
       "      <td>0</td>\n",
       "      <td>0</td>\n",
       "      <td>0</td>\n",
       "      <td>0</td>\n",
       "      <td>0</td>\n",
       "      <td>...</td>\n",
       "      <td>0</td>\n",
       "      <td>0</td>\n",
       "      <td>0</td>\n",
       "      <td>1</td>\n",
       "      <td>0</td>\n",
       "      <td>1</td>\n",
       "      <td>0</td>\n",
       "      <td>0</td>\n",
       "      <td>0</td>\n",
       "      <td>0</td>\n",
       "    </tr>\n",
       "    <tr>\n",
       "      <th>'Wind deflector'</th>\n",
       "      <td>0</td>\n",
       "      <td>0</td>\n",
       "      <td>0</td>\n",
       "      <td>0</td>\n",
       "      <td>0</td>\n",
       "      <td>0</td>\n",
       "      <td>0</td>\n",
       "      <td>0</td>\n",
       "      <td>0</td>\n",
       "      <td>0</td>\n",
       "      <td>...</td>\n",
       "      <td>0</td>\n",
       "      <td>0</td>\n",
       "      <td>0</td>\n",
       "      <td>0</td>\n",
       "      <td>0</td>\n",
       "      <td>0</td>\n",
       "      <td>0</td>\n",
       "      <td>0</td>\n",
       "      <td>0</td>\n",
       "      <td>0</td>\n",
       "    </tr>\n",
       "    <tr>\n",
       "      <th>'Windshield'</th>\n",
       "      <td>0</td>\n",
       "      <td>0</td>\n",
       "      <td>0</td>\n",
       "      <td>0</td>\n",
       "      <td>0</td>\n",
       "      <td>0</td>\n",
       "      <td>0</td>\n",
       "      <td>0</td>\n",
       "      <td>0</td>\n",
       "      <td>0</td>\n",
       "      <td>...</td>\n",
       "      <td>0</td>\n",
       "      <td>0</td>\n",
       "      <td>0</td>\n",
       "      <td>0</td>\n",
       "      <td>0</td>\n",
       "      <td>0</td>\n",
       "      <td>0</td>\n",
       "      <td>0</td>\n",
       "      <td>0</td>\n",
       "      <td>0</td>\n",
       "    </tr>\n",
       "    <tr>\n",
       "      <th>'Air conditioning'</th>\n",
       "      <td>1</td>\n",
       "      <td>1</td>\n",
       "      <td>1</td>\n",
       "      <td>0</td>\n",
       "      <td>1</td>\n",
       "      <td>1</td>\n",
       "      <td>1</td>\n",
       "      <td>1</td>\n",
       "      <td>1</td>\n",
       "      <td>0</td>\n",
       "      <td>...</td>\n",
       "      <td>1</td>\n",
       "      <td>1</td>\n",
       "      <td>1</td>\n",
       "      <td>1</td>\n",
       "      <td>1</td>\n",
       "      <td>1</td>\n",
       "      <td>1</td>\n",
       "      <td>1</td>\n",
       "      <td>1</td>\n",
       "      <td>1</td>\n",
       "    </tr>\n",
       "    <tr>\n",
       "      <th>'Air suspension'</th>\n",
       "      <td>0</td>\n",
       "      <td>0</td>\n",
       "      <td>0</td>\n",
       "      <td>1</td>\n",
       "      <td>0</td>\n",
       "      <td>0</td>\n",
       "      <td>0</td>\n",
       "      <td>0</td>\n",
       "      <td>0</td>\n",
       "      <td>0</td>\n",
       "      <td>...</td>\n",
       "      <td>0</td>\n",
       "      <td>0</td>\n",
       "      <td>0</td>\n",
       "      <td>0</td>\n",
       "      <td>0</td>\n",
       "      <td>0</td>\n",
       "      <td>0</td>\n",
       "      <td>0</td>\n",
       "      <td>0</td>\n",
       "      <td>0</td>\n",
       "    </tr>\n",
       "    <tr>\n",
       "      <th>'Armrest'</th>\n",
       "      <td>0</td>\n",
       "      <td>0</td>\n",
       "      <td>0</td>\n",
       "      <td>0</td>\n",
       "      <td>0</td>\n",
       "      <td>0</td>\n",
       "      <td>0</td>\n",
       "      <td>0</td>\n",
       "      <td>0</td>\n",
       "      <td>0</td>\n",
       "      <td>...</td>\n",
       "      <td>0</td>\n",
       "      <td>0</td>\n",
       "      <td>0</td>\n",
       "      <td>0</td>\n",
       "      <td>0</td>\n",
       "      <td>0</td>\n",
       "      <td>0</td>\n",
       "      <td>0</td>\n",
       "      <td>0</td>\n",
       "      <td>0</td>\n",
       "    </tr>\n",
       "    <tr>\n",
       "      <th>'Auxiliary heating'</th>\n",
       "      <td>0</td>\n",
       "      <td>0</td>\n",
       "      <td>0</td>\n",
       "      <td>0</td>\n",
       "      <td>0</td>\n",
       "      <td>0</td>\n",
       "      <td>0</td>\n",
       "      <td>0</td>\n",
       "      <td>0</td>\n",
       "      <td>0</td>\n",
       "      <td>...</td>\n",
       "      <td>0</td>\n",
       "      <td>0</td>\n",
       "      <td>0</td>\n",
       "      <td>0</td>\n",
       "      <td>0</td>\n",
       "      <td>0</td>\n",
       "      <td>0</td>\n",
       "      <td>0</td>\n",
       "      <td>0</td>\n",
       "      <td>0</td>\n",
       "    </tr>\n",
       "    <tr>\n",
       "      <th>'Cruise control'</th>\n",
       "      <td>0</td>\n",
       "      <td>0</td>\n",
       "      <td>0</td>\n",
       "      <td>0</td>\n",
       "      <td>0</td>\n",
       "      <td>0</td>\n",
       "      <td>0</td>\n",
       "      <td>0</td>\n",
       "      <td>0</td>\n",
       "      <td>0</td>\n",
       "      <td>...</td>\n",
       "      <td>0</td>\n",
       "      <td>0</td>\n",
       "      <td>0</td>\n",
       "      <td>0</td>\n",
       "      <td>0</td>\n",
       "      <td>0</td>\n",
       "      <td>0</td>\n",
       "      <td>0</td>\n",
       "      <td>0</td>\n",
       "      <td>0</td>\n",
       "    </tr>\n",
       "    <tr>\n",
       "      <th>'Electrical side mirrors'</th>\n",
       "      <td>0</td>\n",
       "      <td>0</td>\n",
       "      <td>0</td>\n",
       "      <td>0</td>\n",
       "      <td>0</td>\n",
       "      <td>0</td>\n",
       "      <td>0</td>\n",
       "      <td>0</td>\n",
       "      <td>0</td>\n",
       "      <td>0</td>\n",
       "      <td>...</td>\n",
       "      <td>0</td>\n",
       "      <td>0</td>\n",
       "      <td>0</td>\n",
       "      <td>0</td>\n",
       "      <td>0</td>\n",
       "      <td>0</td>\n",
       "      <td>0</td>\n",
       "      <td>0</td>\n",
       "      <td>0</td>\n",
       "      <td>0</td>\n",
       "    </tr>\n",
       "    <tr>\n",
       "      <th>'Electrically adjustable seats'</th>\n",
       "      <td>0</td>\n",
       "      <td>0</td>\n",
       "      <td>0</td>\n",
       "      <td>0</td>\n",
       "      <td>0</td>\n",
       "      <td>0</td>\n",
       "      <td>0</td>\n",
       "      <td>0</td>\n",
       "      <td>0</td>\n",
       "      <td>0</td>\n",
       "      <td>...</td>\n",
       "      <td>0</td>\n",
       "      <td>0</td>\n",
       "      <td>0</td>\n",
       "      <td>0</td>\n",
       "      <td>0</td>\n",
       "      <td>0</td>\n",
       "      <td>0</td>\n",
       "      <td>0</td>\n",
       "      <td>0</td>\n",
       "      <td>0</td>\n",
       "    </tr>\n",
       "    <tr>\n",
       "      <th>'Electrically heated windshield'</th>\n",
       "      <td>0</td>\n",
       "      <td>0</td>\n",
       "      <td>0</td>\n",
       "      <td>0</td>\n",
       "      <td>0</td>\n",
       "      <td>0</td>\n",
       "      <td>0</td>\n",
       "      <td>0</td>\n",
       "      <td>0</td>\n",
       "      <td>0</td>\n",
       "      <td>...</td>\n",
       "      <td>0</td>\n",
       "      <td>0</td>\n",
       "      <td>0</td>\n",
       "      <td>0</td>\n",
       "      <td>0</td>\n",
       "      <td>0</td>\n",
       "      <td>0</td>\n",
       "      <td>0</td>\n",
       "      <td>0</td>\n",
       "      <td>0</td>\n",
       "    </tr>\n",
       "    <tr>\n",
       "      <th>'Heads-up display'</th>\n",
       "      <td>0</td>\n",
       "      <td>0</td>\n",
       "      <td>0</td>\n",
       "      <td>0</td>\n",
       "      <td>0</td>\n",
       "      <td>0</td>\n",
       "      <td>0</td>\n",
       "      <td>0</td>\n",
       "      <td>0</td>\n",
       "      <td>0</td>\n",
       "      <td>...</td>\n",
       "      <td>0</td>\n",
       "      <td>0</td>\n",
       "      <td>0</td>\n",
       "      <td>0</td>\n",
       "      <td>0</td>\n",
       "      <td>0</td>\n",
       "      <td>0</td>\n",
       "      <td>0</td>\n",
       "      <td>0</td>\n",
       "      <td>0</td>\n",
       "    </tr>\n",
       "    <tr>\n",
       "      <th>'Heated steering wheel'</th>\n",
       "      <td>0</td>\n",
       "      <td>0</td>\n",
       "      <td>0</td>\n",
       "      <td>0</td>\n",
       "      <td>0</td>\n",
       "      <td>0</td>\n",
       "      <td>0</td>\n",
       "      <td>0</td>\n",
       "      <td>0</td>\n",
       "      <td>0</td>\n",
       "      <td>...</td>\n",
       "      <td>0</td>\n",
       "      <td>0</td>\n",
       "      <td>0</td>\n",
       "      <td>0</td>\n",
       "      <td>0</td>\n",
       "      <td>0</td>\n",
       "      <td>0</td>\n",
       "      <td>0</td>\n",
       "      <td>0</td>\n",
       "      <td>0</td>\n",
       "    </tr>\n",
       "    <tr>\n",
       "      <th>'Hill Holder'</th>\n",
       "      <td>0</td>\n",
       "      <td>0</td>\n",
       "      <td>0</td>\n",
       "      <td>0</td>\n",
       "      <td>0</td>\n",
       "      <td>0</td>\n",
       "      <td>0</td>\n",
       "      <td>0</td>\n",
       "      <td>0</td>\n",
       "      <td>0</td>\n",
       "      <td>...</td>\n",
       "      <td>0</td>\n",
       "      <td>0</td>\n",
       "      <td>0</td>\n",
       "      <td>0</td>\n",
       "      <td>0</td>\n",
       "      <td>0</td>\n",
       "      <td>0</td>\n",
       "      <td>0</td>\n",
       "      <td>0</td>\n",
       "      <td>0</td>\n",
       "    </tr>\n",
       "    <tr>\n",
       "      <th>'Leather steering wheel'</th>\n",
       "      <td>0</td>\n",
       "      <td>0</td>\n",
       "      <td>0</td>\n",
       "      <td>0</td>\n",
       "      <td>0</td>\n",
       "      <td>0</td>\n",
       "      <td>0</td>\n",
       "      <td>0</td>\n",
       "      <td>0</td>\n",
       "      <td>0</td>\n",
       "      <td>...</td>\n",
       "      <td>0</td>\n",
       "      <td>0</td>\n",
       "      <td>0</td>\n",
       "      <td>0</td>\n",
       "      <td>0</td>\n",
       "      <td>0</td>\n",
       "      <td>0</td>\n",
       "      <td>0</td>\n",
       "      <td>0</td>\n",
       "      <td>0</td>\n",
       "    </tr>\n",
       "    <tr>\n",
       "      <th>'Light sensor'</th>\n",
       "      <td>0</td>\n",
       "      <td>0</td>\n",
       "      <td>0</td>\n",
       "      <td>0</td>\n",
       "      <td>0</td>\n",
       "      <td>0</td>\n",
       "      <td>0</td>\n",
       "      <td>0</td>\n",
       "      <td>0</td>\n",
       "      <td>0</td>\n",
       "      <td>...</td>\n",
       "      <td>0</td>\n",
       "      <td>0</td>\n",
       "      <td>0</td>\n",
       "      <td>0</td>\n",
       "      <td>0</td>\n",
       "      <td>0</td>\n",
       "      <td>0</td>\n",
       "      <td>0</td>\n",
       "      <td>0</td>\n",
       "      <td>0</td>\n",
       "    </tr>\n",
       "    <tr>\n",
       "      <th>'Multi-function steering wheel'</th>\n",
       "      <td>0</td>\n",
       "      <td>0</td>\n",
       "      <td>0</td>\n",
       "      <td>0</td>\n",
       "      <td>0</td>\n",
       "      <td>0</td>\n",
       "      <td>0</td>\n",
       "      <td>0</td>\n",
       "      <td>0</td>\n",
       "      <td>0</td>\n",
       "      <td>...</td>\n",
       "      <td>0</td>\n",
       "      <td>0</td>\n",
       "      <td>0</td>\n",
       "      <td>0</td>\n",
       "      <td>0</td>\n",
       "      <td>0</td>\n",
       "      <td>0</td>\n",
       "      <td>0</td>\n",
       "      <td>0</td>\n",
       "      <td>0</td>\n",
       "    </tr>\n",
       "    <tr>\n",
       "      <th>'Navigation system'</th>\n",
       "      <td>0</td>\n",
       "      <td>0</td>\n",
       "      <td>0</td>\n",
       "      <td>0</td>\n",
       "      <td>0</td>\n",
       "      <td>0</td>\n",
       "      <td>0</td>\n",
       "      <td>0</td>\n",
       "      <td>0</td>\n",
       "      <td>0</td>\n",
       "      <td>...</td>\n",
       "      <td>0</td>\n",
       "      <td>0</td>\n",
       "      <td>0</td>\n",
       "      <td>0</td>\n",
       "      <td>0</td>\n",
       "      <td>0</td>\n",
       "      <td>0</td>\n",
       "      <td>0</td>\n",
       "      <td>0</td>\n",
       "      <td>0</td>\n",
       "    </tr>\n",
       "    <tr>\n",
       "      <th>'Panorama roof'</th>\n",
       "      <td>0</td>\n",
       "      <td>0</td>\n",
       "      <td>0</td>\n",
       "      <td>0</td>\n",
       "      <td>0</td>\n",
       "      <td>0</td>\n",
       "      <td>0</td>\n",
       "      <td>0</td>\n",
       "      <td>0</td>\n",
       "      <td>0</td>\n",
       "      <td>...</td>\n",
       "      <td>0</td>\n",
       "      <td>0</td>\n",
       "      <td>0</td>\n",
       "      <td>0</td>\n",
       "      <td>0</td>\n",
       "      <td>0</td>\n",
       "      <td>0</td>\n",
       "      <td>0</td>\n",
       "      <td>0</td>\n",
       "      <td>0</td>\n",
       "    </tr>\n",
       "    <tr>\n",
       "      <th>'Park Distance Control'</th>\n",
       "      <td>0</td>\n",
       "      <td>0</td>\n",
       "      <td>0</td>\n",
       "      <td>0</td>\n",
       "      <td>0</td>\n",
       "      <td>0</td>\n",
       "      <td>0</td>\n",
       "      <td>0</td>\n",
       "      <td>0</td>\n",
       "      <td>0</td>\n",
       "      <td>...</td>\n",
       "      <td>0</td>\n",
       "      <td>0</td>\n",
       "      <td>0</td>\n",
       "      <td>0</td>\n",
       "      <td>0</td>\n",
       "      <td>0</td>\n",
       "      <td>0</td>\n",
       "      <td>0</td>\n",
       "      <td>0</td>\n",
       "      <td>0</td>\n",
       "    </tr>\n",
       "    <tr>\n",
       "      <th>'Power windows'</th>\n",
       "      <td>0</td>\n",
       "      <td>0</td>\n",
       "      <td>0</td>\n",
       "      <td>0</td>\n",
       "      <td>0</td>\n",
       "      <td>0</td>\n",
       "      <td>0</td>\n",
       "      <td>0</td>\n",
       "      <td>0</td>\n",
       "      <td>0</td>\n",
       "      <td>...</td>\n",
       "      <td>0</td>\n",
       "      <td>0</td>\n",
       "      <td>0</td>\n",
       "      <td>0</td>\n",
       "      <td>0</td>\n",
       "      <td>0</td>\n",
       "      <td>0</td>\n",
       "      <td>0</td>\n",
       "      <td>0</td>\n",
       "      <td>0</td>\n",
       "    </tr>\n",
       "    <tr>\n",
       "      <th>'Rain sensor'</th>\n",
       "      <td>0</td>\n",
       "      <td>0</td>\n",
       "      <td>0</td>\n",
       "      <td>0</td>\n",
       "      <td>0</td>\n",
       "      <td>0</td>\n",
       "      <td>0</td>\n",
       "      <td>0</td>\n",
       "      <td>0</td>\n",
       "      <td>0</td>\n",
       "      <td>...</td>\n",
       "      <td>0</td>\n",
       "      <td>0</td>\n",
       "      <td>0</td>\n",
       "      <td>0</td>\n",
       "      <td>0</td>\n",
       "      <td>0</td>\n",
       "      <td>0</td>\n",
       "      <td>0</td>\n",
       "      <td>0</td>\n",
       "      <td>0</td>\n",
       "    </tr>\n",
       "    <tr>\n",
       "      <th>'Sunroof'</th>\n",
       "      <td>0</td>\n",
       "      <td>0</td>\n",
       "      <td>0</td>\n",
       "      <td>0</td>\n",
       "      <td>0</td>\n",
       "      <td>0</td>\n",
       "      <td>0</td>\n",
       "      <td>0</td>\n",
       "      <td>0</td>\n",
       "      <td>0</td>\n",
       "      <td>...</td>\n",
       "      <td>0</td>\n",
       "      <td>0</td>\n",
       "      <td>0</td>\n",
       "      <td>0</td>\n",
       "      <td>0</td>\n",
       "      <td>0</td>\n",
       "      <td>0</td>\n",
       "      <td>0</td>\n",
       "      <td>0</td>\n",
       "      <td>0</td>\n",
       "    </tr>\n",
       "    <tr>\n",
       "      <th>nan</th>\n",
       "      <td>0</td>\n",
       "      <td>0</td>\n",
       "      <td>0</td>\n",
       "      <td>0</td>\n",
       "      <td>0</td>\n",
       "      <td>0</td>\n",
       "      <td>0</td>\n",
       "      <td>0</td>\n",
       "      <td>0</td>\n",
       "      <td>1</td>\n",
       "      <td>...</td>\n",
       "      <td>0</td>\n",
       "      <td>0</td>\n",
       "      <td>0</td>\n",
       "      <td>0</td>\n",
       "      <td>0</td>\n",
       "      <td>0</td>\n",
       "      <td>0</td>\n",
       "      <td>0</td>\n",
       "      <td>0</td>\n",
       "      <td>0</td>\n",
       "    </tr>\n",
       "  </tbody>\n",
       "</table>\n",
       "<p>58 rows × 15919 columns</p>\n",
       "</div>"
      ],
      "text/plain": [
       "                                        0      1      2      3      4      \\\n",
       " 'Air suspension'                           0      0      0      0      0   \n",
       " 'Armrest'                                  1      0      0      1      1   \n",
       " 'Automatic climate control'                1      1      0      0      1   \n",
       " 'Auxiliary heating'                        0      0      0      1      0   \n",
       " 'Cruise control'                           1      0      1      0      0   \n",
       " 'Electric Starter'                         0      0      0      0      0   \n",
       " 'Electric tailgate'                        0      0      0      0      0   \n",
       " 'Electrical side mirrors'                  1      0      1      1      1   \n",
       " 'Electrically adjustable seats'            0      0      0      0      0   \n",
       " 'Electrically heated windshield'           0      0      0      0      0   \n",
       " 'Heads-up display'                         0      0      0      1      0   \n",
       " 'Heated steering wheel'                    0      0      0      0      0   \n",
       " 'Hill Holder'                              1      1      1      1      1   \n",
       " 'Keyless central door lock'                0      0      0      0      0   \n",
       " 'Leather seats'                            0      0      0      0      0   \n",
       " 'Leather steering wheel'                   1      1      1      1      1   \n",
       " 'Light sensor'                             1      0      0      1      1   \n",
       " 'Lumbar support'                           0      1      0      1      0   \n",
       " 'Massage seats'                            0      0      0      0      0   \n",
       " 'Multi-function steering wheel'            1      0      1      1      1   \n",
       " 'Navigation system'                        1      0      1      1      0   \n",
       " 'Panorama roof'                            0      0      0      0      0   \n",
       " 'Park Distance Control'                    1      0      1      0      1   \n",
       " 'Parking assist system camera'             0      0      0      0      0   \n",
       " 'Parking assist system self-steering'      0      0      0      0      0   \n",
       " 'Parking assist system sensors front'      0      0      1      0      0   \n",
       " 'Parking assist system sensors rear'       1      1      1      0      1   \n",
       " 'Power windows'                            1      1      1      1      1   \n",
       " 'Rain sensor'                              1      0      0      1      1   \n",
       " 'Seat heating'                             1      0      1      1      0   \n",
       " 'Seat ventilation'                         0      0      0      0      0   \n",
       " 'Split rear seats'                         0      0      0      1      0   \n",
       " 'Start-stop system'                        1      1      1      1      1   \n",
       " 'Sunroof'                                  0      0      0      0      0   \n",
       " 'Tinted windows'                           0      1      0      0      0   \n",
       " 'Wind deflector'                           0      0      0      0      0   \n",
       " 'Windshield'                               0      0      0      0      0   \n",
       "'Air conditioning'                          1      1      1      0      1   \n",
       "'Air suspension'                            0      0      0      1      0   \n",
       "'Armrest'                                   0      0      0      0      0   \n",
       "'Auxiliary heating'                         0      0      0      0      0   \n",
       "'Cruise control'                            0      0      0      0      0   \n",
       "'Electrical side mirrors'                   0      0      0      0      0   \n",
       "'Electrically adjustable seats'             0      0      0      0      0   \n",
       "'Electrically heated windshield'            0      0      0      0      0   \n",
       "'Heads-up display'                          0      0      0      0      0   \n",
       "'Heated steering wheel'                     0      0      0      0      0   \n",
       "'Hill Holder'                               0      0      0      0      0   \n",
       "'Leather steering wheel'                    0      0      0      0      0   \n",
       "'Light sensor'                              0      0      0      0      0   \n",
       "'Multi-function steering wheel'             0      0      0      0      0   \n",
       "'Navigation system'                         0      0      0      0      0   \n",
       "'Panorama roof'                             0      0      0      0      0   \n",
       "'Park Distance Control'                     0      0      0      0      0   \n",
       "'Power windows'                             0      0      0      0      0   \n",
       "'Rain sensor'                               0      0      0      0      0   \n",
       "'Sunroof'                                   0      0      0      0      0   \n",
       "nan                                         0      0      0      0      0   \n",
       "\n",
       "                                        5      6      7      8      9      \\\n",
       " 'Air suspension'                           0      0      0      0      0   \n",
       " 'Armrest'                                  1      1      1      0      0   \n",
       " 'Automatic climate control'                1      1      0      0      0   \n",
       " 'Auxiliary heating'                        0      0      0      0      0   \n",
       " 'Cruise control'                           0      1      0      0      0   \n",
       " 'Electric Starter'                         0      0      0      0      0   \n",
       " 'Electric tailgate'                        0      0      0      0      0   \n",
       " 'Electrical side mirrors'                  1      1      1      0      0   \n",
       " 'Electrically adjustable seats'            0      0      0      0      0   \n",
       " 'Electrically heated windshield'           0      0      0      0      0   \n",
       " 'Heads-up display'                         0      0      0      0      0   \n",
       " 'Heated steering wheel'                    0      0      0      0      0   \n",
       " 'Hill Holder'                              1      0      0      0      0   \n",
       " 'Keyless central door lock'                1      0      0      0      0   \n",
       " 'Leather seats'                            0      0      0      0      0   \n",
       " 'Leather steering wheel'                   1      1      0      0      0   \n",
       " 'Light sensor'                             1      1      1      0      0   \n",
       " 'Lumbar support'                           1      0      0      0      0   \n",
       " 'Massage seats'                            0      0      0      0      0   \n",
       " 'Multi-function steering wheel'            1      1      0      0      0   \n",
       " 'Navigation system'                        1      1      0      0      0   \n",
       " 'Panorama roof'                            0      0      0      0      0   \n",
       " 'Park Distance Control'                    1      1      1      0      0   \n",
       " 'Parking assist system camera'             0      0      0      0      0   \n",
       " 'Parking assist system self-steering'      0      0      0      0      0   \n",
       " 'Parking assist system sensors front'      0      1      0      0      0   \n",
       " 'Parking assist system sensors rear'       1      1      1      0      0   \n",
       " 'Power windows'                            1      1      1      1      0   \n",
       " 'Rain sensor'                              1      1      1      0      0   \n",
       " 'Seat heating'                             1      0      1      0      0   \n",
       " 'Seat ventilation'                         0      0      0      0      0   \n",
       " 'Split rear seats'                         0      0      0      0      0   \n",
       " 'Start-stop system'                        1      1      1      0      0   \n",
       " 'Sunroof'                                  0      0      0      0      0   \n",
       " 'Tinted windows'                           0      0      0      0      0   \n",
       " 'Wind deflector'                           0      0      0      0      0   \n",
       " 'Windshield'                               0      0      0      0      0   \n",
       "'Air conditioning'                          1      1      1      1      0   \n",
       "'Air suspension'                            0      0      0      0      0   \n",
       "'Armrest'                                   0      0      0      0      0   \n",
       "'Auxiliary heating'                         0      0      0      0      0   \n",
       "'Cruise control'                            0      0      0      0      0   \n",
       "'Electrical side mirrors'                   0      0      0      0      0   \n",
       "'Electrically adjustable seats'             0      0      0      0      0   \n",
       "'Electrically heated windshield'            0      0      0      0      0   \n",
       "'Heads-up display'                          0      0      0      0      0   \n",
       "'Heated steering wheel'                     0      0      0      0      0   \n",
       "'Hill Holder'                               0      0      0      0      0   \n",
       "'Leather steering wheel'                    0      0      0      0      0   \n",
       "'Light sensor'                              0      0      0      0      0   \n",
       "'Multi-function steering wheel'             0      0      0      0      0   \n",
       "'Navigation system'                         0      0      0      0      0   \n",
       "'Panorama roof'                             0      0      0      0      0   \n",
       "'Park Distance Control'                     0      0      0      0      0   \n",
       "'Power windows'                             0      0      0      0      0   \n",
       "'Rain sensor'                               0      0      0      0      0   \n",
       "'Sunroof'                                   0      0      0      0      0   \n",
       "nan                                         0      0      0      0      1   \n",
       "\n",
       "                                        ...  15909  15910  15911  15912  \\\n",
       " 'Air suspension'                       ...      0      0      0      0   \n",
       " 'Armrest'                              ...      0      0      1      0   \n",
       " 'Automatic climate control'            ...      1      1      1      1   \n",
       " 'Auxiliary heating'                    ...      0      0      0      0   \n",
       " 'Cruise control'                       ...      1      1      1      1   \n",
       " 'Electric Starter'                     ...      0      0      0      0   \n",
       " 'Electric tailgate'                    ...      1      0      1      0   \n",
       " 'Electrical side mirrors'              ...      0      1      1      1   \n",
       " 'Electrically adjustable seats'        ...      0      1      1      1   \n",
       " 'Electrically heated windshield'       ...      1      0      1      0   \n",
       " 'Heads-up display'                     ...      0      0      1      0   \n",
       " 'Heated steering wheel'                ...      0      0      1      0   \n",
       " 'Hill Holder'                          ...      0      0      1      1   \n",
       " 'Keyless central door lock'            ...      1      0      1      1   \n",
       " 'Leather seats'                        ...      0      0      0      0   \n",
       " 'Leather steering wheel'               ...      1      0      1      1   \n",
       " 'Light sensor'                         ...      1      1      1      1   \n",
       " 'Lumbar support'                       ...      1      0      1      0   \n",
       " 'Massage seats'                        ...      0      0      0      1   \n",
       " 'Multi-function steering wheel'        ...      1      1      1      1   \n",
       " 'Navigation system'                    ...      1      1      1      1   \n",
       " 'Panorama roof'                        ...      1      1      1      0   \n",
       " 'Park Distance Control'                ...      1      1      1      1   \n",
       " 'Parking assist system camera'         ...      0      1      1      0   \n",
       " 'Parking assist system self-steering'  ...      0      1      0      0   \n",
       " 'Parking assist system sensors front'  ...      0      1      1      1   \n",
       " 'Parking assist system sensors rear'   ...      0      1      1      1   \n",
       " 'Power windows'                        ...      1      1      1      1   \n",
       " 'Rain sensor'                          ...      1      1      1      1   \n",
       " 'Seat heating'                         ...      1      1      1      0   \n",
       " 'Seat ventilation'                     ...      0      0      0      0   \n",
       " 'Split rear seats'                     ...      0      0      0      1   \n",
       " 'Start-stop system'                    ...      1      1      1      1   \n",
       " 'Sunroof'                              ...      0      1      1      0   \n",
       " 'Tinted windows'                       ...      0      0      0      1   \n",
       " 'Wind deflector'                       ...      0      0      0      0   \n",
       " 'Windshield'                           ...      0      0      0      0   \n",
       "'Air conditioning'                      ...      1      1      1      1   \n",
       "'Air suspension'                        ...      0      0      0      0   \n",
       "'Armrest'                               ...      0      0      0      0   \n",
       "'Auxiliary heating'                     ...      0      0      0      0   \n",
       "'Cruise control'                        ...      0      0      0      0   \n",
       "'Electrical side mirrors'               ...      0      0      0      0   \n",
       "'Electrically adjustable seats'         ...      0      0      0      0   \n",
       "'Electrically heated windshield'        ...      0      0      0      0   \n",
       "'Heads-up display'                      ...      0      0      0      0   \n",
       "'Heated steering wheel'                 ...      0      0      0      0   \n",
       "'Hill Holder'                           ...      0      0      0      0   \n",
       "'Leather steering wheel'                ...      0      0      0      0   \n",
       "'Light sensor'                          ...      0      0      0      0   \n",
       "'Multi-function steering wheel'         ...      0      0      0      0   \n",
       "'Navigation system'                     ...      0      0      0      0   \n",
       "'Panorama roof'                         ...      0      0      0      0   \n",
       "'Park Distance Control'                 ...      0      0      0      0   \n",
       "'Power windows'                         ...      0      0      0      0   \n",
       "'Rain sensor'                           ...      0      0      0      0   \n",
       "'Sunroof'                               ...      0      0      0      0   \n",
       "nan                                     ...      0      0      0      0   \n",
       "\n",
       "                                        15913  15914  15915  15916  15917  \\\n",
       " 'Air suspension'                           0      0      0      0      0   \n",
       " 'Armrest'                                  1      0      0      1      0   \n",
       " 'Automatic climate control'                1      1      1      1      1   \n",
       " 'Auxiliary heating'                        0      0      0      0      0   \n",
       " 'Cruise control'                           1      1      1      1      1   \n",
       " 'Electric Starter'                         0      0      0      0      0   \n",
       " 'Electric tailgate'                        1      0      1      1      0   \n",
       " 'Electrical side mirrors'                  1      1      1      1      1   \n",
       " 'Electrically adjustable seats'            1      1      0      0      1   \n",
       " 'Electrically heated windshield'           1      0      1      1      0   \n",
       " 'Heads-up display'                         1      0      1      1      0   \n",
       " 'Heated steering wheel'                    1      0      1      1      0   \n",
       " 'Hill Holder'                              0      1      1      0      0   \n",
       " 'Keyless central door lock'                1      1      1      0      0   \n",
       " 'Leather seats'                            0      0      0      0      0   \n",
       " 'Leather steering wheel'                   1      1      1      1      1   \n",
       " 'Light sensor'                             1      1      1      1      1   \n",
       " 'Lumbar support'                           1      0      1      0      0   \n",
       " 'Massage seats'                            1      1      0      1      0   \n",
       " 'Multi-function steering wheel'            1      1      0      1      0   \n",
       " 'Navigation system'                        1      1      1      1      0   \n",
       " 'Panorama roof'                            1      0      0      1      0   \n",
       " 'Park Distance Control'                    1      1      1      1      1   \n",
       " 'Parking assist system camera'             1      0      1      1      0   \n",
       " 'Parking assist system self-steering'      0      0      1      0      0   \n",
       " 'Parking assist system sensors front'      1      1      1      1      0   \n",
       " 'Parking assist system sensors rear'       1      1      1      1      0   \n",
       " 'Power windows'                            1      1      1      1      1   \n",
       " 'Rain sensor'                              1      1      1      1      0   \n",
       " 'Seat heating'                             1      0      1      1      0   \n",
       " 'Seat ventilation'                         0      0      0      1      0   \n",
       " 'Split rear seats'                         0      1      0      0      0   \n",
       " 'Start-stop system'                        1      1      0      0      1   \n",
       " 'Sunroof'                                  0      0      1      1      0   \n",
       " 'Tinted windows'                           0      1      0      0      0   \n",
       " 'Wind deflector'                           0      0      0      0      0   \n",
       " 'Windshield'                               0      0      0      0      0   \n",
       "'Air conditioning'                          1      1      1      1      1   \n",
       "'Air suspension'                            0      0      0      0      0   \n",
       "'Armrest'                                   0      0      0      0      0   \n",
       "'Auxiliary heating'                         0      0      0      0      0   \n",
       "'Cruise control'                            0      0      0      0      0   \n",
       "'Electrical side mirrors'                   0      0      0      0      0   \n",
       "'Electrically adjustable seats'             0      0      0      0      0   \n",
       "'Electrically heated windshield'            0      0      0      0      0   \n",
       "'Heads-up display'                          0      0      0      0      0   \n",
       "'Heated steering wheel'                     0      0      0      0      0   \n",
       "'Hill Holder'                               0      0      0      0      0   \n",
       "'Leather steering wheel'                    0      0      0      0      0   \n",
       "'Light sensor'                              0      0      0      0      0   \n",
       "'Multi-function steering wheel'             0      0      0      0      0   \n",
       "'Navigation system'                         0      0      0      0      0   \n",
       "'Panorama roof'                             0      0      0      0      0   \n",
       "'Park Distance Control'                     0      0      0      0      0   \n",
       "'Power windows'                             0      0      0      0      0   \n",
       "'Rain sensor'                               0      0      0      0      0   \n",
       "'Sunroof'                                   0      0      0      0      0   \n",
       "nan                                         0      0      0      0      0   \n",
       "\n",
       "                                        15918  \n",
       " 'Air suspension'                           0  \n",
       " 'Armrest'                                  0  \n",
       " 'Automatic climate control'                1  \n",
       " 'Auxiliary heating'                        0  \n",
       " 'Cruise control'                           1  \n",
       " 'Electric Starter'                         0  \n",
       " 'Electric tailgate'                        1  \n",
       " 'Electrical side mirrors'                  1  \n",
       " 'Electrically adjustable seats'            1  \n",
       " 'Electrically heated windshield'           0  \n",
       " 'Heads-up display'                         0  \n",
       " 'Heated steering wheel'                    0  \n",
       " 'Hill Holder'                              1  \n",
       " 'Keyless central door lock'                0  \n",
       " 'Leather seats'                            0  \n",
       " 'Leather steering wheel'                   1  \n",
       " 'Light sensor'                             0  \n",
       " 'Lumbar support'                           0  \n",
       " 'Massage seats'                            0  \n",
       " 'Multi-function steering wheel'            0  \n",
       " 'Navigation system'                        1  \n",
       " 'Panorama roof'                            0  \n",
       " 'Park Distance Control'                    0  \n",
       " 'Parking assist system camera'             0  \n",
       " 'Parking assist system self-steering'      0  \n",
       " 'Parking assist system sensors front'      0  \n",
       " 'Parking assist system sensors rear'       0  \n",
       " 'Power windows'                            1  \n",
       " 'Rain sensor'                              0  \n",
       " 'Seat heating'                             1  \n",
       " 'Seat ventilation'                         0  \n",
       " 'Split rear seats'                         0  \n",
       " 'Start-stop system'                        0  \n",
       " 'Sunroof'                                  0  \n",
       " 'Tinted windows'                           0  \n",
       " 'Wind deflector'                           0  \n",
       " 'Windshield'                               0  \n",
       "'Air conditioning'                          1  \n",
       "'Air suspension'                            0  \n",
       "'Armrest'                                   0  \n",
       "'Auxiliary heating'                         0  \n",
       "'Cruise control'                            0  \n",
       "'Electrical side mirrors'                   0  \n",
       "'Electrically adjustable seats'             0  \n",
       "'Electrically heated windshield'            0  \n",
       "'Heads-up display'                          0  \n",
       "'Heated steering wheel'                     0  \n",
       "'Hill Holder'                               0  \n",
       "'Leather steering wheel'                    0  \n",
       "'Light sensor'                              0  \n",
       "'Multi-function steering wheel'             0  \n",
       "'Navigation system'                         0  \n",
       "'Panorama roof'                             0  \n",
       "'Park Distance Control'                     0  \n",
       "'Power windows'                             0  \n",
       "'Rain sensor'                               0  \n",
       "'Sunroof'                                   0  \n",
       "nan                                         0  \n",
       "\n",
       "[58 rows x 15919 columns]"
      ]
     },
     "execution_count": 251,
     "metadata": {},
     "output_type": "execute_result"
    }
   ],
   "source": [
    "df[\"Comfort&Convenience\"].str.get_dummies(sep=',').T"
   ]
  },
  {
   "cell_type": "markdown",
   "metadata": {},
   "source": [
    "### 41. 'Entertainment & Media' "
   ]
  },
  {
   "cell_type": "code",
   "execution_count": 239,
   "metadata": {},
   "outputs": [
    {
     "data": {
      "text/plain": [
       "0    [Bluetooth, Hands-free equipment, On-board com...\n",
       "1    [Bluetooth, Hands-free equipment, On-board com...\n",
       "2                             [MP3, On-board computer]\n",
       "3    [Bluetooth, CD player, Hands-free equipment, M...\n",
       "4    [Bluetooth, CD player, Hands-free equipment, M...\n",
       "Name: Entertainment&Media, dtype: object"
      ]
     },
     "execution_count": 239,
     "metadata": {},
     "output_type": "execute_result"
    }
   ],
   "source": [
    "\n",
    "df.rename(columns = {'\\nEntertainment & Media\\n': 'Entertainment&Media'}, inplace = True)\n",
    "df['Entertainment&Media'].head()"
   ]
  },
  {
   "cell_type": "code",
   "execution_count": 245,
   "metadata": {},
   "outputs": [],
   "source": [
    "df['Entertainment&Media'] = df['Entertainment&Media'].astype('str').str.replace('[','').str.replace(\"]\",'')\n",
    "\n",
    "\n"
   ]
  },
  {
   "cell_type": "code",
   "execution_count": 246,
   "metadata": {},
   "outputs": [
    {
     "data": {
      "text/html": [
       "<div>\n",
       "<style scoped>\n",
       "    .dataframe tbody tr th:only-of-type {\n",
       "        vertical-align: middle;\n",
       "    }\n",
       "\n",
       "    .dataframe tbody tr th {\n",
       "        vertical-align: top;\n",
       "    }\n",
       "\n",
       "    .dataframe thead th {\n",
       "        text-align: right;\n",
       "    }\n",
       "</style>\n",
       "<table border=\"1\" class=\"dataframe\">\n",
       "  <thead>\n",
       "    <tr style=\"text-align: right;\">\n",
       "      <th></th>\n",
       "      <th>'CD player'</th>\n",
       "      <th>'Digital radio'</th>\n",
       "      <th>'Hands-free equipment'</th>\n",
       "      <th>'MP3'</th>\n",
       "      <th>'On-board computer'</th>\n",
       "      <th>'Radio'</th>\n",
       "      <th>'Sound system'</th>\n",
       "      <th>'Television'</th>\n",
       "      <th>'USB'</th>\n",
       "      <th>'Bluetooth'</th>\n",
       "      <th>'CD player'</th>\n",
       "      <th>'Digital radio'</th>\n",
       "      <th>'Hands-free equipment'</th>\n",
       "      <th>'MP3'</th>\n",
       "      <th>'On-board computer'</th>\n",
       "      <th>'Radio'</th>\n",
       "      <th>'Sound system'</th>\n",
       "      <th>'USB'</th>\n",
       "      <th>nan</th>\n",
       "    </tr>\n",
       "  </thead>\n",
       "  <tbody>\n",
       "    <tr>\n",
       "      <th>0</th>\n",
       "      <td>0</td>\n",
       "      <td>0</td>\n",
       "      <td>1</td>\n",
       "      <td>0</td>\n",
       "      <td>1</td>\n",
       "      <td>1</td>\n",
       "      <td>0</td>\n",
       "      <td>0</td>\n",
       "      <td>0</td>\n",
       "      <td>1</td>\n",
       "      <td>0</td>\n",
       "      <td>0</td>\n",
       "      <td>0</td>\n",
       "      <td>0</td>\n",
       "      <td>0</td>\n",
       "      <td>0</td>\n",
       "      <td>0</td>\n",
       "      <td>0</td>\n",
       "      <td>0</td>\n",
       "    </tr>\n",
       "    <tr>\n",
       "      <th>1</th>\n",
       "      <td>0</td>\n",
       "      <td>0</td>\n",
       "      <td>1</td>\n",
       "      <td>0</td>\n",
       "      <td>1</td>\n",
       "      <td>1</td>\n",
       "      <td>1</td>\n",
       "      <td>0</td>\n",
       "      <td>0</td>\n",
       "      <td>1</td>\n",
       "      <td>0</td>\n",
       "      <td>0</td>\n",
       "      <td>0</td>\n",
       "      <td>0</td>\n",
       "      <td>0</td>\n",
       "      <td>0</td>\n",
       "      <td>0</td>\n",
       "      <td>0</td>\n",
       "      <td>0</td>\n",
       "    </tr>\n",
       "    <tr>\n",
       "      <th>2</th>\n",
       "      <td>0</td>\n",
       "      <td>0</td>\n",
       "      <td>0</td>\n",
       "      <td>0</td>\n",
       "      <td>1</td>\n",
       "      <td>0</td>\n",
       "      <td>0</td>\n",
       "      <td>0</td>\n",
       "      <td>0</td>\n",
       "      <td>0</td>\n",
       "      <td>0</td>\n",
       "      <td>0</td>\n",
       "      <td>0</td>\n",
       "      <td>1</td>\n",
       "      <td>0</td>\n",
       "      <td>0</td>\n",
       "      <td>0</td>\n",
       "      <td>0</td>\n",
       "      <td>0</td>\n",
       "    </tr>\n",
       "    <tr>\n",
       "      <th>3</th>\n",
       "      <td>1</td>\n",
       "      <td>0</td>\n",
       "      <td>1</td>\n",
       "      <td>1</td>\n",
       "      <td>1</td>\n",
       "      <td>1</td>\n",
       "      <td>1</td>\n",
       "      <td>0</td>\n",
       "      <td>1</td>\n",
       "      <td>1</td>\n",
       "      <td>0</td>\n",
       "      <td>0</td>\n",
       "      <td>0</td>\n",
       "      <td>0</td>\n",
       "      <td>0</td>\n",
       "      <td>0</td>\n",
       "      <td>0</td>\n",
       "      <td>0</td>\n",
       "      <td>0</td>\n",
       "    </tr>\n",
       "    <tr>\n",
       "      <th>4</th>\n",
       "      <td>1</td>\n",
       "      <td>0</td>\n",
       "      <td>1</td>\n",
       "      <td>1</td>\n",
       "      <td>1</td>\n",
       "      <td>1</td>\n",
       "      <td>0</td>\n",
       "      <td>0</td>\n",
       "      <td>1</td>\n",
       "      <td>1</td>\n",
       "      <td>0</td>\n",
       "      <td>0</td>\n",
       "      <td>0</td>\n",
       "      <td>0</td>\n",
       "      <td>0</td>\n",
       "      <td>0</td>\n",
       "      <td>0</td>\n",
       "      <td>0</td>\n",
       "      <td>0</td>\n",
       "    </tr>\n",
       "    <tr>\n",
       "      <th>...</th>\n",
       "      <td>...</td>\n",
       "      <td>...</td>\n",
       "      <td>...</td>\n",
       "      <td>...</td>\n",
       "      <td>...</td>\n",
       "      <td>...</td>\n",
       "      <td>...</td>\n",
       "      <td>...</td>\n",
       "      <td>...</td>\n",
       "      <td>...</td>\n",
       "      <td>...</td>\n",
       "      <td>...</td>\n",
       "      <td>...</td>\n",
       "      <td>...</td>\n",
       "      <td>...</td>\n",
       "      <td>...</td>\n",
       "      <td>...</td>\n",
       "      <td>...</td>\n",
       "      <td>...</td>\n",
       "    </tr>\n",
       "    <tr>\n",
       "      <th>15914</th>\n",
       "      <td>0</td>\n",
       "      <td>1</td>\n",
       "      <td>1</td>\n",
       "      <td>0</td>\n",
       "      <td>1</td>\n",
       "      <td>1</td>\n",
       "      <td>0</td>\n",
       "      <td>0</td>\n",
       "      <td>1</td>\n",
       "      <td>1</td>\n",
       "      <td>0</td>\n",
       "      <td>0</td>\n",
       "      <td>0</td>\n",
       "      <td>0</td>\n",
       "      <td>0</td>\n",
       "      <td>0</td>\n",
       "      <td>0</td>\n",
       "      <td>0</td>\n",
       "      <td>0</td>\n",
       "    </tr>\n",
       "    <tr>\n",
       "      <th>15915</th>\n",
       "      <td>0</td>\n",
       "      <td>1</td>\n",
       "      <td>1</td>\n",
       "      <td>0</td>\n",
       "      <td>0</td>\n",
       "      <td>1</td>\n",
       "      <td>0</td>\n",
       "      <td>0</td>\n",
       "      <td>1</td>\n",
       "      <td>1</td>\n",
       "      <td>0</td>\n",
       "      <td>0</td>\n",
       "      <td>0</td>\n",
       "      <td>0</td>\n",
       "      <td>0</td>\n",
       "      <td>0</td>\n",
       "      <td>0</td>\n",
       "      <td>0</td>\n",
       "      <td>0</td>\n",
       "    </tr>\n",
       "    <tr>\n",
       "      <th>15916</th>\n",
       "      <td>0</td>\n",
       "      <td>0</td>\n",
       "      <td>1</td>\n",
       "      <td>0</td>\n",
       "      <td>1</td>\n",
       "      <td>1</td>\n",
       "      <td>0</td>\n",
       "      <td>0</td>\n",
       "      <td>0</td>\n",
       "      <td>1</td>\n",
       "      <td>0</td>\n",
       "      <td>0</td>\n",
       "      <td>0</td>\n",
       "      <td>0</td>\n",
       "      <td>0</td>\n",
       "      <td>0</td>\n",
       "      <td>0</td>\n",
       "      <td>0</td>\n",
       "      <td>0</td>\n",
       "    </tr>\n",
       "    <tr>\n",
       "      <th>15917</th>\n",
       "      <td>0</td>\n",
       "      <td>1</td>\n",
       "      <td>0</td>\n",
       "      <td>0</td>\n",
       "      <td>0</td>\n",
       "      <td>1</td>\n",
       "      <td>0</td>\n",
       "      <td>0</td>\n",
       "      <td>1</td>\n",
       "      <td>1</td>\n",
       "      <td>0</td>\n",
       "      <td>0</td>\n",
       "      <td>0</td>\n",
       "      <td>0</td>\n",
       "      <td>0</td>\n",
       "      <td>0</td>\n",
       "      <td>0</td>\n",
       "      <td>0</td>\n",
       "      <td>0</td>\n",
       "    </tr>\n",
       "    <tr>\n",
       "      <th>15918</th>\n",
       "      <td>0</td>\n",
       "      <td>0</td>\n",
       "      <td>0</td>\n",
       "      <td>0</td>\n",
       "      <td>0</td>\n",
       "      <td>0</td>\n",
       "      <td>0</td>\n",
       "      <td>0</td>\n",
       "      <td>0</td>\n",
       "      <td>0</td>\n",
       "      <td>0</td>\n",
       "      <td>0</td>\n",
       "      <td>0</td>\n",
       "      <td>0</td>\n",
       "      <td>0</td>\n",
       "      <td>0</td>\n",
       "      <td>0</td>\n",
       "      <td>1</td>\n",
       "      <td>0</td>\n",
       "    </tr>\n",
       "  </tbody>\n",
       "</table>\n",
       "<p>15919 rows × 19 columns</p>\n",
       "</div>"
      ],
      "text/plain": [
       "        'CD player'   'Digital radio'   'Hands-free equipment'   'MP3'  \\\n",
       "0                 0                 0                        1       0   \n",
       "1                 0                 0                        1       0   \n",
       "2                 0                 0                        0       0   \n",
       "3                 1                 0                        1       1   \n",
       "4                 1                 0                        1       1   \n",
       "...             ...               ...                      ...     ...   \n",
       "15914             0                 1                        1       0   \n",
       "15915             0                 1                        1       0   \n",
       "15916             0                 0                        1       0   \n",
       "15917             0                 1                        0       0   \n",
       "15918             0                 0                        0       0   \n",
       "\n",
       "        'On-board computer'   'Radio'   'Sound system'   'Television'   'USB'  \\\n",
       "0                         1         1                0              0       0   \n",
       "1                         1         1                1              0       0   \n",
       "2                         1         0                0              0       0   \n",
       "3                         1         1                1              0       1   \n",
       "4                         1         1                0              0       1   \n",
       "...                     ...       ...              ...            ...     ...   \n",
       "15914                     1         1                0              0       1   \n",
       "15915                     0         1                0              0       1   \n",
       "15916                     1         1                0              0       0   \n",
       "15917                     0         1                0              0       1   \n",
       "15918                     0         0                0              0       0   \n",
       "\n",
       "       'Bluetooth'  'CD player'  'Digital radio'  'Hands-free equipment'  \\\n",
       "0                1            0                0                       0   \n",
       "1                1            0                0                       0   \n",
       "2                0            0                0                       0   \n",
       "3                1            0                0                       0   \n",
       "4                1            0                0                       0   \n",
       "...            ...          ...              ...                     ...   \n",
       "15914            1            0                0                       0   \n",
       "15915            1            0                0                       0   \n",
       "15916            1            0                0                       0   \n",
       "15917            1            0                0                       0   \n",
       "15918            0            0                0                       0   \n",
       "\n",
       "       'MP3'  'On-board computer'  'Radio'  'Sound system'  'USB'  nan  \n",
       "0          0                    0        0               0      0    0  \n",
       "1          0                    0        0               0      0    0  \n",
       "2          1                    0        0               0      0    0  \n",
       "3          0                    0        0               0      0    0  \n",
       "4          0                    0        0               0      0    0  \n",
       "...      ...                  ...      ...             ...    ...  ...  \n",
       "15914      0                    0        0               0      0    0  \n",
       "15915      0                    0        0               0      0    0  \n",
       "15916      0                    0        0               0      0    0  \n",
       "15917      0                    0        0               0      0    0  \n",
       "15918      0                    0        0               0      1    0  \n",
       "\n",
       "[15919 rows x 19 columns]"
      ]
     },
     "execution_count": 246,
     "metadata": {},
     "output_type": "execute_result"
    }
   ],
   "source": [
    "df[\"Entertainment&Media\"].str.get_dummies(sep=',')"
   ]
  },
  {
   "cell_type": "markdown",
   "metadata": {},
   "source": [
    "### 42, Extras"
   ]
  },
  {
   "cell_type": "code",
   "execution_count": 105,
   "metadata": {},
   "outputs": [
    {
     "data": {
      "text/plain": [
       "Index(['make_model', 'body_type', 'price', 'vat', 'km', 'registration',\n",
       "       'prev_owner', 'hp', 'Type', 'Next Inspection', 'Inspection new',\n",
       "       'Warranty(months)', 'Body Color', 'Paint Type', 'Body Color Original',\n",
       "       'Upholstery', 'Nr. of Doors', 'Nr. of Seats', 'Model Code',\n",
       "       'Gearing Type', 'Displacement', 'Cylinders', 'Weight(kg)',\n",
       "       'Drive chain', 'Fuel', 'CO2 Emission(g CO2/km)', 'Emission Class',\n",
       "       'Comfort&Convenience', 'Entertainment&Media', 'Extras',\n",
       "       '\\nSafety & Security\\n', 'description', 'Emission Label', 'Gears',\n",
       "       'Country version', 'Electricity consumption', 'Last Service Date',\n",
       "       'Other Fuel Types', 'Availability', 'Last Timing Belt Service Date',\n",
       "       'Consumption_combined', 'Consumption_city', 'Consumption_country'],\n",
       "      dtype='object')"
      ]
     },
     "execution_count": 105,
     "metadata": {},
     "output_type": "execute_result"
    }
   ],
   "source": [
    "df['\\nExtras\\n'].head()\n",
    "df.rename(columns = {'\\nExtras\\n': 'Extras'}, inplace = True)\n",
    "df.columns"
   ]
  },
  {
   "cell_type": "markdown",
   "metadata": {},
   "source": [
    "### 43.Safety & Security ???"
   ]
  },
  {
   "cell_type": "code",
   "execution_count": 106,
   "metadata": {},
   "outputs": [
    {
     "ename": "TypeError",
     "evalue": "unhashable type: 'list'",
     "output_type": "error",
     "traceback": [
      "\u001b[1;31m---------------------------------------------------------------------------\u001b[0m",
      "\u001b[1;31mTypeError\u001b[0m                                 Traceback (most recent call last)",
      "\u001b[1;32mpandas\\_libs\\hashtable_class_helper.pxi\u001b[0m in \u001b[0;36mpandas._libs.hashtable.PyObjectHashTable.map_locations\u001b[1;34m()\u001b[0m\n",
      "\u001b[1;31mTypeError\u001b[0m: unhashable type: 'list'"
     ]
    },
    {
     "name": "stderr",
     "output_type": "stream",
     "text": [
      "Exception ignored in: 'pandas._libs.index.IndexEngine._call_map_locations'\n",
      "Traceback (most recent call last):\n",
      "  File \"pandas\\_libs\\hashtable_class_helper.pxi\", line 1709, in pandas._libs.hashtable.PyObjectHashTable.map_locations\n",
      "TypeError: unhashable type: 'list'\n"
     ]
    },
    {
     "data": {
      "text/plain": [
       "NaN                                                                                                                                                                                                                                                                                                                                                                                        982\n",
       "[ABS, Central door lock, Daytime running lights, Driver-side airbag, Electronic stability control, Fog lights, Immobilizer, Isofix, Passenger-side airbag, Power steering, Side airbag, Tire pressure monitoring system, Traction control]                                                                                                                                                 538\n",
       "[ABS, Central door lock, Daytime running lights, Driver-side airbag, Electronic stability control, Immobilizer, Isofix, Passenger-side airbag, Power steering, Side airbag, Tire pressure monitoring system, Traction control]                                                                                                                                                             480\n",
       "[ABS, Central door lock, Daytime running lights, Driver-side airbag, Electronic stability control, Immobilizer, Isofix, Passenger-side airbag, Power steering, Side airbag, Tire pressure monitoring system, Traction control, Xenon headlights]                                                                                                                                           275\n",
       "[ABS, Central door lock, Daytime running lights, Driver-side airbag, Electronic stability control, Fog lights, Immobilizer, Isofix, LED Daytime Running Lights, Passenger-side airbag, Power steering, Side airbag, Tire pressure monitoring system, Traction control]                                                                                                                     272\n",
       "                                                                                                                                                                                                                                                                                                                                                                                          ... \n",
       "[ABS, Adaptive Cruise Control, Central door lock, Driver-side airbag, Electronic stability control, Emergency brake assistant, Isofix, Lane departure warning system, Passenger-side airbag, Side airbag, Tire pressure monitoring system, Traction control]                                                                                                                                 1\n",
       "[ABS, Adaptive headlights, Central door lock, Daytime running lights, Driver-side airbag, Electronic stability control, Emergency brake assistant, Fog lights, Immobilizer, Isofix, Lane departure warning system, LED Daytime Running Lights, LED Headlights, Passenger-side airbag, Power steering, Side airbag, Tire pressure monitoring system]                                          1\n",
       "[ABS, Alarm system, Central door lock, Driver drowsiness detection, Driver-side airbag, Electronic stability control, Isofix, LED Daytime Running Lights, Passenger-side airbag, Power steering, Side airbag, Tire pressure monitoring system, Traction control, Xenon headlights]                                                                                                           1\n",
       "[ABS, Central door lock, Central door lock with remote control, Daytime running lights, Driver-side airbag, Electronic stability control, Emergency brake assistant, Emergency system, Fog lights, Head airbag, Immobilizer, Isofix, Lane departure warning system, Passenger-side airbag, Power steering, Rear airbag, Side airbag, Tire pressure monitoring system, Traction control]      1\n",
       "[ABS, Central door lock with remote control, Daytime running lights, Driver drowsiness detection, Driver-side airbag, Electronic stability control, Emergency brake assistant, Emergency system, Head airbag, Immobilizer, Isofix, LED Daytime Running Lights, Passenger-side airbag, Power steering, Side airbag, Tire pressure monitoring system, Traction control]                        1\n",
       "Name: \\nSafety & Security\\n, Length: 4444, dtype: int64"
      ]
     },
     "execution_count": 106,
     "metadata": {},
     "output_type": "execute_result"
    }
   ],
   "source": [
    "df['\\nSafety & Security\\n'].value_counts(dropna = False)"
   ]
  },
  {
   "cell_type": "markdown",
   "metadata": {},
   "source": [
    "### 44. 'description' "
   ]
  },
  {
   "cell_type": "code",
   "execution_count": 107,
   "metadata": {},
   "outputs": [],
   "source": [
    "df['\\nSafety & Security\\n'].head()\n",
    "df.rename(columns= {'\\nSafety & Security\\n': 'Safety & Security'}, inplace = True)"
   ]
  },
  {
   "cell_type": "code",
   "execution_count": 108,
   "metadata": {},
   "outputs": [
    {
     "data": {
      "text/plain": [
       "Index(['make_model', 'body_type', 'price', 'vat', 'km', 'registration',\n",
       "       'prev_owner', 'hp', 'Type', 'Next Inspection', 'Inspection new',\n",
       "       'Warranty(months)', 'Body Color', 'Paint Type', 'Body Color Original',\n",
       "       'Upholstery', 'Nr. of Doors', 'Nr. of Seats', 'Model Code',\n",
       "       'Gearing Type', 'Displacement', 'Cylinders', 'Weight(kg)',\n",
       "       'Drive chain', 'Fuel', 'CO2 Emission(g CO2/km)', 'Emission Class',\n",
       "       'Comfort&Convenience', 'Entertainment&Media', 'Extras',\n",
       "       'Safety & Security', 'description', 'Emission Label', 'Gears',\n",
       "       'Country version', 'Electricity consumption', 'Last Service Date',\n",
       "       'Other Fuel Types', 'Availability', 'Last Timing Belt Service Date',\n",
       "       'Consumption_combined', 'Consumption_city', 'Consumption_country'],\n",
       "      dtype='object')"
      ]
     },
     "execution_count": 108,
     "metadata": {},
     "output_type": "execute_result"
    }
   ],
   "source": [
    "df.columns"
   ]
  },
  {
   "cell_type": "markdown",
   "metadata": {},
   "source": [
    "### 45. 'Emission Label' ???"
   ]
  },
  {
   "cell_type": "code",
   "execution_count": 109,
   "metadata": {},
   "outputs": [
    {
     "data": {
      "text/plain": [
       "NaN               0.752183\n",
       "4 (Green)         0.223192\n",
       "1 (No sticker)    0.023934\n",
       "5 (Blue)          0.000503\n",
       "3 (Yellow)        0.000126\n",
       "2 (Red)           0.000063\n",
       "Name: Emission Label, dtype: float64"
      ]
     },
     "execution_count": 109,
     "metadata": {},
     "output_type": "execute_result"
    }
   ],
   "source": [
    "def emission(a):\n",
    "    if type(a)== list:\n",
    "        if len(a[0]) == 0:\n",
    "            return np.nan\n",
    "        else:\n",
    "            return a[0].replace('\\n','')\n",
    "    else:\n",
    "        return a\n",
    "    \n",
    "df['Emission Label'] = df['Emission Label'].apply(emission)\n",
    "df['Emission Label'].value_counts(dropna = False, normalize = True)"
   ]
  },
  {
   "cell_type": "code",
   "execution_count": 110,
   "metadata": {},
   "outputs": [],
   "source": [
    "df.drop('Emission Label',axis=1,inplace=True)"
   ]
  },
  {
   "cell_type": "markdown",
   "metadata": {},
   "source": [
    "<font color='orange'> ** Impressions on the column 'Emission Label' </font>\n",
    "<font color='light blue'>\n",
    "    \n",
    "a. This column includes emission label of cars which is used in Germany .<br>\n",
    "b. There are so many NaNs. 75% <br>\n",
    "c. Dropped\n",
    "</font>"
   ]
  },
  {
   "cell_type": "markdown",
   "metadata": {},
   "source": [
    "### 46 Gears"
   ]
  },
  {
   "cell_type": "code",
   "execution_count": 111,
   "metadata": {},
   "outputs": [],
   "source": [
    "def gears(a):\n",
    "    if type(a)== list:\n",
    "        return a[0].replace('\\n','')\n",
    "    else:\n",
    "        return a\n",
    "df['Gears'] = df['Gears'].apply(gears)    "
   ]
  },
  {
   "cell_type": "code",
   "execution_count": 112,
   "metadata": {},
   "outputs": [
    {
     "data": {
      "text/plain": [
       "6      5822\n",
       "NaN    4712\n",
       "5      3239\n",
       "7      1908\n",
       "8       224\n",
       "9         6\n",
       "3         2\n",
       "4         2\n",
       "1         2\n",
       "50        1\n",
       "2         1\n",
       "Name: Gears, dtype: int64"
      ]
     },
     "execution_count": 112,
     "metadata": {},
     "output_type": "execute_result"
    }
   ],
   "source": [
    "df['Gears'].value_counts(dropna = False)"
   ]
  },
  {
   "cell_type": "code",
   "execution_count": 113,
   "metadata": {},
   "outputs": [],
   "source": [
    "df[df[\"Gears\"]==50.0]=5.0"
   ]
  },
  {
   "cell_type": "markdown",
   "metadata": {},
   "source": [
    "<font color='orange'> ** Impressions on the column 'Gears' </font>\n",
    "<font color='light blue'>\n",
    "    \n",
    "a. This column includes gear level of transmissions .<br>\n",
    "b. There are 4712 NaNs. <br>\n",
    "c. Regression could be check to see the relation with target column\n",
    "</font>"
   ]
  },
  {
   "cell_type": "markdown",
   "metadata": {},
   "source": [
    "### 47. Country"
   ]
  },
  {
   "cell_type": "code",
   "execution_count": 114,
   "metadata": {},
   "outputs": [],
   "source": [
    "def country(a):\n",
    "    if type(a)== list:\n",
    "        return a[0].replace('\\n','')\n",
    "    else:\n",
    "        return a\n",
    "df['Country version'] = df['Country version'].apply(country)  "
   ]
  },
  {
   "cell_type": "code",
   "execution_count": 115,
   "metadata": {},
   "outputs": [
    {
     "data": {
      "text/plain": [
       "NaN               0.523463\n",
       "Germany           0.282807\n",
       "Italy             0.065205\n",
       "European Union    0.031849\n",
       "Netherlands       0.029148\n",
       "Spain             0.020416\n",
       "Belgium           0.019725\n",
       "Austria           0.013066\n",
       "Czech Republic    0.003267\n",
       "Poland            0.003078\n",
       "France            0.002387\n",
       "Denmark           0.002073\n",
       "Hungary           0.001759\n",
       "Japan             0.000503\n",
       "Croatia           0.000251\n",
       "Slovakia          0.000251\n",
       "Sweden            0.000188\n",
       "Bulgaria          0.000126\n",
       "Romania           0.000126\n",
       "Slovenia          0.000063\n",
       "Egypt             0.000063\n",
       "Luxembourg        0.000063\n",
       "Switzerland       0.000063\n",
       "Serbia            0.000063\n",
       "Name: Country version, dtype: float64"
      ]
     },
     "execution_count": 115,
     "metadata": {},
     "output_type": "execute_result"
    }
   ],
   "source": [
    "df['Country version'].value_counts(dropna = False, normalize = True)"
   ]
  },
  {
   "cell_type": "markdown",
   "metadata": {},
   "source": [
    "<font color='orange'> ** Impressions on the column 'Country version' </font>\n",
    "<font color='light blue'>\n",
    "    \n",
    "a. This column includes countries of cars .<br>\n",
    "b. There are 8333 NaNs, %52, could be dropped <br>\n",
    "c. Regression could be check to see the relation with target column\n",
    "</font>"
   ]
  },
  {
   "cell_type": "markdown",
   "metadata": {},
   "source": [
    "### 48. 'Electricity consumption'"
   ]
  },
  {
   "cell_type": "code",
   "execution_count": 116,
   "metadata": {},
   "outputs": [
    {
     "ename": "TypeError",
     "evalue": "unhashable type: 'list'",
     "output_type": "error",
     "traceback": [
      "\u001b[1;31m---------------------------------------------------------------------------\u001b[0m",
      "\u001b[1;31mTypeError\u001b[0m                                 Traceback (most recent call last)",
      "\u001b[1;32mpandas\\_libs\\hashtable_class_helper.pxi\u001b[0m in \u001b[0;36mpandas._libs.hashtable.PyObjectHashTable.map_locations\u001b[1;34m()\u001b[0m\n",
      "\u001b[1;31mTypeError\u001b[0m: unhashable type: 'list'"
     ]
    },
    {
     "name": "stderr",
     "output_type": "stream",
     "text": [
      "Exception ignored in: 'pandas._libs.index.IndexEngine._call_map_locations'\n",
      "Traceback (most recent call last):\n",
      "  File \"pandas\\_libs\\hashtable_class_helper.pxi\", line 1709, in pandas._libs.hashtable.PyObjectHashTable.map_locations\n",
      "TypeError: unhashable type: 'list'\n"
     ]
    },
    {
     "data": {
      "text/plain": [
       "NaN                          0.991394\n",
       "[\\n0 kWh/100 km (comb)\\n]    0.008606\n",
       "Name: Electricity consumption, dtype: float64"
      ]
     },
     "execution_count": 116,
     "metadata": {},
     "output_type": "execute_result"
    }
   ],
   "source": [
    "df['Electricity consumption'].value_counts(dropna = False, normalize = True)"
   ]
  },
  {
   "cell_type": "code",
   "execution_count": 117,
   "metadata": {},
   "outputs": [],
   "source": [
    "df.drop(\"Electricity consumption\",axis=1,inplace=True)"
   ]
  },
  {
   "cell_type": "markdown",
   "metadata": {},
   "source": [
    "<font color='orange'> ** Impressions on the column 'Electricity Consumption' </font>\n",
    "<font color='light blue'>\n",
    "    \n",
    "a. This column includes electricity consumption of cars .<br>\n",
    "b. 99% of the data NaN,  and dropped \n",
    "</font>"
   ]
  },
  {
   "cell_type": "markdown",
   "metadata": {},
   "source": [
    "### 49. 'Last Service Date'"
   ]
  },
  {
   "cell_type": "code",
   "execution_count": 118,
   "metadata": {},
   "outputs": [],
   "source": [
    "def last_service(a):\n",
    "    if type(a)== list:\n",
    "        return a[0].replace('\\n','')\n",
    "    else:\n",
    "        return a\n",
    "df['Last Service Date'] = df['Last Service Date'].apply(country)  "
   ]
  },
  {
   "cell_type": "code",
   "execution_count": 119,
   "metadata": {},
   "outputs": [
    {
     "data": {
      "text/plain": [
       "NaN            0.964445\n",
       "05/2019        0.003455\n",
       "01/2019        0.003078\n",
       "02/2019        0.002890\n",
       "06/2019        0.002890\n",
       "04/2019        0.002764\n",
       "03/2019        0.002638\n",
       "12/2018        0.001570\n",
       "10/2018        0.001382\n",
       "05/2018        0.001256\n",
       "01/2018        0.001194\n",
       "07/2018        0.001068\n",
       "06/2018        0.001068\n",
       "09/2018        0.000942\n",
       "11/2018        0.000942\n",
       "04/2018        0.000879\n",
       "08/2018        0.000691\n",
       "03/2018        0.000565\n",
       "\\n02/2019\\n    0.000565\n",
       "06/2017        0.000440\n",
       "\\n12/2018\\n    0.000440\n",
       "\\n05/2019\\n    0.000377\n",
       "\\n03/2019\\n    0.000314\n",
       "\\n07/2018\\n    0.000251\n",
       "02/2018        0.000251\n",
       "\\n06/2018\\n    0.000251\n",
       "\\n04/2019\\n    0.000251\n",
       "\\n06/2019\\n    0.000188\n",
       "05/2017        0.000188\n",
       "12/2017        0.000188\n",
       "01/2017        0.000188\n",
       "10/2017        0.000188\n",
       "02/2017        0.000188\n",
       "\\n09/2018\\n    0.000126\n",
       "06/2016        0.000126\n",
       "\\n04/2018\\n    0.000126\n",
       "\\n01/2019\\n    0.000126\n",
       "11/2017        0.000126\n",
       "\\n08/2018\\n    0.000126\n",
       "04/2016        0.000126\n",
       "\\n11/2018\\n    0.000126\n",
       "\\n10/2018\\n    0.000126\n",
       "07/2017        0.000063\n",
       "\\n07/2017\\n    0.000063\n",
       "08/2019        0.000063\n",
       "03/2016        0.000063\n",
       "10/2019        0.000063\n",
       "09/2019        0.000063\n",
       "\\n02/2018\\n    0.000063\n",
       "11/2019        0.000063\n",
       "\\n05/2018\\n    0.000063\n",
       "\\n07/2019\\n    0.000063\n",
       "\\n01/2018\\n    0.000063\n",
       "\\n09/2017\\n    0.000063\n",
       "05/2016        0.000063\n",
       "04/2017        0.000063\n",
       "Name: Last Service Date, dtype: float64"
      ]
     },
     "execution_count": 119,
     "metadata": {},
     "output_type": "execute_result"
    }
   ],
   "source": [
    "df['Last Service Date'].value_counts(dropna = False, normalize = True)"
   ]
  },
  {
   "cell_type": "code",
   "execution_count": 120,
   "metadata": {},
   "outputs": [],
   "source": [
    "df.drop(\"Last Service Date\",axis=1,inplace=True)"
   ]
  },
  {
   "cell_type": "markdown",
   "metadata": {},
   "source": [
    "<font color='orange'> ** Impressions on the column 'Last Service Date' </font>\n",
    "<font color='light blue'>\n",
    "    \n",
    "a. This column includes last service dates of cars .<br>\n",
    "b. 96% of the data is NaN, and dropped \n",
    "</font>"
   ]
  },
  {
   "cell_type": "markdown",
   "metadata": {},
   "source": [
    "### 50.'Other Fuel Types'"
   ]
  },
  {
   "cell_type": "code",
   "execution_count": 121,
   "metadata": {},
   "outputs": [
    {
     "ename": "TypeError",
     "evalue": "unhashable type: 'list'",
     "output_type": "error",
     "traceback": [
      "\u001b[1;31m---------------------------------------------------------------------------\u001b[0m",
      "\u001b[1;31mTypeError\u001b[0m                                 Traceback (most recent call last)",
      "\u001b[1;32mpandas\\_libs\\hashtable_class_helper.pxi\u001b[0m in \u001b[0;36mpandas._libs.hashtable.PyObjectHashTable.map_locations\u001b[1;34m()\u001b[0m\n",
      "\u001b[1;31mTypeError\u001b[0m: unhashable type: 'list'"
     ]
    },
    {
     "name": "stderr",
     "output_type": "stream",
     "text": [
      "Exception ignored in: 'pandas._libs.index.IndexEngine._call_map_locations'\n",
      "Traceback (most recent call last):\n",
      "  File \"pandas\\_libs\\hashtable_class_helper.pxi\", line 1709, in pandas._libs.hashtable.PyObjectHashTable.map_locations\n",
      "TypeError: unhashable type: 'list'\n"
     ]
    },
    {
     "data": {
      "text/plain": [
       "NaN             15039\n",
       "[[], [], []]      880\n",
       "Name: Other Fuel Types, dtype: int64"
      ]
     },
     "execution_count": 121,
     "metadata": {},
     "output_type": "execute_result"
    }
   ],
   "source": [
    "df['Other Fuel Types'].value_counts(dropna = False)"
   ]
  },
  {
   "cell_type": "code",
   "execution_count": 122,
   "metadata": {},
   "outputs": [],
   "source": [
    "df.drop(\"Other Fuel Types\",axis=1,inplace=True)"
   ]
  },
  {
   "cell_type": "markdown",
   "metadata": {},
   "source": [
    "<font color='orange'> ** Impressions on the column 'Other Fuel Types' </font>\n",
    "<font color='light blue'>\n",
    "    \n",
    "a. Empty column, and dropped\n",
    "</font>"
   ]
  },
  {
   "cell_type": "markdown",
   "metadata": {},
   "source": [
    "### 51. 'Availability'"
   ]
  },
  {
   "cell_type": "code",
   "execution_count": 123,
   "metadata": {},
   "outputs": [
    {
     "data": {
      "text/plain": [
       "NaN                              15284\n",
       "\\nin 90 days from ordering\\n       196\n",
       "\\nin 120 days from ordering\\n      182\n",
       "\\nin 1 day from ordering\\n          51\n",
       "\\nin 3 days from ordering\\n         35\n",
       "\\nin 5 days from ordering\\n         35\n",
       "\\nin 180 days from ordering\\n       24\n",
       "\\nin 14 days from ordering\\n        24\n",
       "\\nin 7 days from ordering\\n         20\n",
       "\\nin 150 days from ordering\\n       18\n",
       "\\nin 2 days from ordering\\n         16\n",
       "\\nin 60 days from ordering\\n        13\n",
       "\\nin 42 days from ordering\\n        10\n",
       "\\nin 21 days from ordering\\n         8\n",
       "\\nin 4 days from ordering\\n          2\n",
       "\\nin 6 days from ordering\\n          1\n",
       "Name: Availability, dtype: int64"
      ]
     },
     "execution_count": 123,
     "metadata": {},
     "output_type": "execute_result"
    }
   ],
   "source": [
    "df['Availability'].value_counts(dropna = False)"
   ]
  },
  {
   "cell_type": "code",
   "execution_count": 124,
   "metadata": {},
   "outputs": [],
   "source": [
    "df.drop(\"Availability\",axis=1,inplace=True)"
   ]
  },
  {
   "cell_type": "markdown",
   "metadata": {},
   "source": [
    "<font color='orange'> ** Impressions on the column 'Availability' </font>\n",
    "<font color='light blue'>\n",
    "    \n",
    "a. Many of the rows are empty, and dropped\n",
    "</font>"
   ]
  },
  {
   "cell_type": "markdown",
   "metadata": {},
   "source": [
    "### 52. 'Last Timing Belt Service Date'"
   ]
  },
  {
   "cell_type": "code",
   "execution_count": 125,
   "metadata": {},
   "outputs": [
    {
     "ename": "TypeError",
     "evalue": "unhashable type: 'list'",
     "output_type": "error",
     "traceback": [
      "\u001b[1;31m---------------------------------------------------------------------------\u001b[0m",
      "\u001b[1;31mTypeError\u001b[0m                                 Traceback (most recent call last)",
      "\u001b[1;32mpandas\\_libs\\hashtable_class_helper.pxi\u001b[0m in \u001b[0;36mpandas._libs.hashtable.PyObjectHashTable.map_locations\u001b[1;34m()\u001b[0m\n",
      "\u001b[1;31mTypeError\u001b[0m: unhashable type: 'list'"
     ]
    },
    {
     "name": "stderr",
     "output_type": "stream",
     "text": [
      "Exception ignored in: 'pandas._libs.index.IndexEngine._call_map_locations'\n",
      "Traceback (most recent call last):\n",
      "  File \"pandas\\_libs\\hashtable_class_helper.pxi\", line 1709, in pandas._libs.hashtable.PyObjectHashTable.map_locations\n",
      "TypeError: unhashable type: 'list'\n"
     ]
    },
    {
     "data": {
      "text/plain": [
       "NaN                          15903\n",
       "[\\n04/2016\\n]                    2\n",
       "[\\n12/1900\\n]                    1\n",
       "[\\n01/1970\\n]                    1\n",
       "[\\n04/2019\\n]                    1\n",
       "[\\n01/2018\\n]                    1\n",
       "[\\n06/2019\\n]                    1\n",
       "[\\n02/2018\\n]                    1\n",
       "[\\n02/2019\\n]                    1\n",
       "[\\n01/2019\\n]                    1\n",
       "[\\n06/2017\\n]                    1\n",
       "[\\n05/2018\\n, \\nEuro 6\\n]        1\n",
       "[\\n09/2018\\n]                    1\n",
       "[\\n05/2019\\n]                    1\n",
       "[\\n01/1900\\n]                    1\n",
       "[\\n07/2018\\n]                    1\n",
       "Name: Last Timing Belt Service Date, dtype: int64"
      ]
     },
     "execution_count": 125,
     "metadata": {},
     "output_type": "execute_result"
    }
   ],
   "source": [
    "df['Last Timing Belt Service Date'].value_counts(dropna = False)"
   ]
  },
  {
   "cell_type": "code",
   "execution_count": 126,
   "metadata": {},
   "outputs": [],
   "source": [
    "df.drop(\"Last Timing Belt Service Date\",axis=1,inplace=True)"
   ]
  },
  {
   "cell_type": "markdown",
   "metadata": {},
   "source": [
    "<font color='orange'> ** Impressions on the column 'Last Belt Service' </font>\n",
    "<font color='light blue'>\n",
    "    \n",
    "a. Many of the rows are empty, could be dropped\n",
    "</font>"
   ]
  },
  {
   "cell_type": "markdown",
   "metadata": {},
   "source": [
    "### 53. 'Available from'"
   ]
  },
  {
   "cell_type": "code",
   "execution_count": 127,
   "metadata": {},
   "outputs": [
    {
     "ename": "KeyError",
     "evalue": "'Available from'",
     "output_type": "error",
     "traceback": [
      "\u001b[1;31m---------------------------------------------------------------------------\u001b[0m",
      "\u001b[1;31mKeyError\u001b[0m                                  Traceback (most recent call last)",
      "\u001b[1;32m~\\anaconda3\\lib\\site-packages\\pandas\\core\\indexes\\base.py\u001b[0m in \u001b[0;36mget_loc\u001b[1;34m(self, key, method, tolerance)\u001b[0m\n\u001b[0;32m   2894\u001b[0m             \u001b[1;32mtry\u001b[0m\u001b[1;33m:\u001b[0m\u001b[1;33m\u001b[0m\u001b[1;33m\u001b[0m\u001b[0m\n\u001b[1;32m-> 2895\u001b[1;33m                 \u001b[1;32mreturn\u001b[0m \u001b[0mself\u001b[0m\u001b[1;33m.\u001b[0m\u001b[0m_engine\u001b[0m\u001b[1;33m.\u001b[0m\u001b[0mget_loc\u001b[0m\u001b[1;33m(\u001b[0m\u001b[0mcasted_key\u001b[0m\u001b[1;33m)\u001b[0m\u001b[1;33m\u001b[0m\u001b[1;33m\u001b[0m\u001b[0m\n\u001b[0m\u001b[0;32m   2896\u001b[0m             \u001b[1;32mexcept\u001b[0m \u001b[0mKeyError\u001b[0m \u001b[1;32mas\u001b[0m \u001b[0merr\u001b[0m\u001b[1;33m:\u001b[0m\u001b[1;33m\u001b[0m\u001b[1;33m\u001b[0m\u001b[0m\n",
      "\u001b[1;32mpandas\\_libs\\index.pyx\u001b[0m in \u001b[0;36mpandas._libs.index.IndexEngine.get_loc\u001b[1;34m()\u001b[0m\n",
      "\u001b[1;32mpandas\\_libs\\index.pyx\u001b[0m in \u001b[0;36mpandas._libs.index.IndexEngine.get_loc\u001b[1;34m()\u001b[0m\n",
      "\u001b[1;32mpandas\\_libs\\hashtable_class_helper.pxi\u001b[0m in \u001b[0;36mpandas._libs.hashtable.PyObjectHashTable.get_item\u001b[1;34m()\u001b[0m\n",
      "\u001b[1;32mpandas\\_libs\\hashtable_class_helper.pxi\u001b[0m in \u001b[0;36mpandas._libs.hashtable.PyObjectHashTable.get_item\u001b[1;34m()\u001b[0m\n",
      "\u001b[1;31mKeyError\u001b[0m: 'Available from'",
      "\nThe above exception was the direct cause of the following exception:\n",
      "\u001b[1;31mKeyError\u001b[0m                                  Traceback (most recent call last)",
      "\u001b[1;32m<ipython-input-127-2addd2c22644>\u001b[0m in \u001b[0;36m<module>\u001b[1;34m\u001b[0m\n\u001b[1;32m----> 1\u001b[1;33m \u001b[0mdf\u001b[0m\u001b[1;33m[\u001b[0m\u001b[1;34m'Available from'\u001b[0m\u001b[1;33m]\u001b[0m\u001b[1;33m.\u001b[0m\u001b[0mvalue_counts\u001b[0m\u001b[1;33m(\u001b[0m\u001b[0mdropna\u001b[0m \u001b[1;33m=\u001b[0m \u001b[1;32mFalse\u001b[0m\u001b[1;33m)\u001b[0m\u001b[1;33m\u001b[0m\u001b[1;33m\u001b[0m\u001b[0m\n\u001b[0m",
      "\u001b[1;32m~\\anaconda3\\lib\\site-packages\\pandas\\core\\frame.py\u001b[0m in \u001b[0;36m__getitem__\u001b[1;34m(self, key)\u001b[0m\n\u001b[0;32m   2900\u001b[0m             \u001b[1;32mif\u001b[0m \u001b[0mself\u001b[0m\u001b[1;33m.\u001b[0m\u001b[0mcolumns\u001b[0m\u001b[1;33m.\u001b[0m\u001b[0mnlevels\u001b[0m \u001b[1;33m>\u001b[0m \u001b[1;36m1\u001b[0m\u001b[1;33m:\u001b[0m\u001b[1;33m\u001b[0m\u001b[1;33m\u001b[0m\u001b[0m\n\u001b[0;32m   2901\u001b[0m                 \u001b[1;32mreturn\u001b[0m \u001b[0mself\u001b[0m\u001b[1;33m.\u001b[0m\u001b[0m_getitem_multilevel\u001b[0m\u001b[1;33m(\u001b[0m\u001b[0mkey\u001b[0m\u001b[1;33m)\u001b[0m\u001b[1;33m\u001b[0m\u001b[1;33m\u001b[0m\u001b[0m\n\u001b[1;32m-> 2902\u001b[1;33m             \u001b[0mindexer\u001b[0m \u001b[1;33m=\u001b[0m \u001b[0mself\u001b[0m\u001b[1;33m.\u001b[0m\u001b[0mcolumns\u001b[0m\u001b[1;33m.\u001b[0m\u001b[0mget_loc\u001b[0m\u001b[1;33m(\u001b[0m\u001b[0mkey\u001b[0m\u001b[1;33m)\u001b[0m\u001b[1;33m\u001b[0m\u001b[1;33m\u001b[0m\u001b[0m\n\u001b[0m\u001b[0;32m   2903\u001b[0m             \u001b[1;32mif\u001b[0m \u001b[0mis_integer\u001b[0m\u001b[1;33m(\u001b[0m\u001b[0mindexer\u001b[0m\u001b[1;33m)\u001b[0m\u001b[1;33m:\u001b[0m\u001b[1;33m\u001b[0m\u001b[1;33m\u001b[0m\u001b[0m\n\u001b[0;32m   2904\u001b[0m                 \u001b[0mindexer\u001b[0m \u001b[1;33m=\u001b[0m \u001b[1;33m[\u001b[0m\u001b[0mindexer\u001b[0m\u001b[1;33m]\u001b[0m\u001b[1;33m\u001b[0m\u001b[1;33m\u001b[0m\u001b[0m\n",
      "\u001b[1;32m~\\anaconda3\\lib\\site-packages\\pandas\\core\\indexes\\base.py\u001b[0m in \u001b[0;36mget_loc\u001b[1;34m(self, key, method, tolerance)\u001b[0m\n\u001b[0;32m   2895\u001b[0m                 \u001b[1;32mreturn\u001b[0m \u001b[0mself\u001b[0m\u001b[1;33m.\u001b[0m\u001b[0m_engine\u001b[0m\u001b[1;33m.\u001b[0m\u001b[0mget_loc\u001b[0m\u001b[1;33m(\u001b[0m\u001b[0mcasted_key\u001b[0m\u001b[1;33m)\u001b[0m\u001b[1;33m\u001b[0m\u001b[1;33m\u001b[0m\u001b[0m\n\u001b[0;32m   2896\u001b[0m             \u001b[1;32mexcept\u001b[0m \u001b[0mKeyError\u001b[0m \u001b[1;32mas\u001b[0m \u001b[0merr\u001b[0m\u001b[1;33m:\u001b[0m\u001b[1;33m\u001b[0m\u001b[1;33m\u001b[0m\u001b[0m\n\u001b[1;32m-> 2897\u001b[1;33m                 \u001b[1;32mraise\u001b[0m \u001b[0mKeyError\u001b[0m\u001b[1;33m(\u001b[0m\u001b[0mkey\u001b[0m\u001b[1;33m)\u001b[0m \u001b[1;32mfrom\u001b[0m \u001b[0merr\u001b[0m\u001b[1;33m\u001b[0m\u001b[1;33m\u001b[0m\u001b[0m\n\u001b[0m\u001b[0;32m   2898\u001b[0m \u001b[1;33m\u001b[0m\u001b[0m\n\u001b[0;32m   2899\u001b[0m         \u001b[1;32mif\u001b[0m \u001b[0mtolerance\u001b[0m \u001b[1;32mis\u001b[0m \u001b[1;32mnot\u001b[0m \u001b[1;32mNone\u001b[0m\u001b[1;33m:\u001b[0m\u001b[1;33m\u001b[0m\u001b[1;33m\u001b[0m\u001b[0m\n",
      "\u001b[1;31mKeyError\u001b[0m: 'Available from'"
     ]
    }
   ],
   "source": [
    "df['Available from'].value_counts(dropna = False)"
   ]
  },
  {
   "cell_type": "code",
   "execution_count": null,
   "metadata": {},
   "outputs": [],
   "source": [
    "df.drop(\"Available from\",axis=1,inplace=True)"
   ]
  },
  {
   "cell_type": "code",
   "execution_count": null,
   "metadata": {},
   "outputs": [],
   "source": [
    "df.columns"
   ]
  },
  {
   "cell_type": "markdown",
   "metadata": {},
   "source": [
    "<font color='orange'> ** Impressions on the column 'Available From'' </font>\n",
    "<font color='light blue'>\n",
    "    \n",
    "a. Many of the rows are empty, could be dropped\n",
    "</font>"
   ]
  },
  {
   "cell_type": "markdown",
   "metadata": {},
   "source": [
    "## Import Libraries and Data"
   ]
  },
  {
   "cell_type": "code",
   "execution_count": null,
   "metadata": {},
   "outputs": [],
   "source": []
  },
  {
   "cell_type": "code",
   "execution_count": null,
   "metadata": {},
   "outputs": [],
   "source": [
    "df_dummied.to_csv(\"final_scout_dummy.csv\", index=False)"
   ]
  },
  {
   "cell_type": "code",
   "execution_count": null,
   "metadata": {},
   "outputs": [],
   "source": [
    "df.to_csv(\"final_scout_not_dummy.csv\", index=False)"
   ]
  }
 ],
 "metadata": {
  "kernelspec": {
   "display_name": "Python 3",
   "language": "python",
   "name": "python3"
  },
  "language_info": {
   "codemirror_mode": {
    "name": "ipython",
    "version": 3
   },
   "file_extension": ".py",
   "mimetype": "text/x-python",
   "name": "python",
   "nbconvert_exporter": "python",
   "pygments_lexer": "ipython3",
   "version": "3.8.8"
  }
 },
 "nbformat": 4,
 "nbformat_minor": 4
}
