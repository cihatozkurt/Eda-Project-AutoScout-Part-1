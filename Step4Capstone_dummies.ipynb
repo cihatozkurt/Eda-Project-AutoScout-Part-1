{
 "cells": [
  {
   "cell_type": "code",
   "execution_count": 1,
   "id": "28c7e24d",
   "metadata": {},
   "outputs": [],
   "source": [
    "import matplotlib.pyplot as plt\n",
    "%matplotlib inline\n",
    "import numpy as np\n",
    "import pandas as pd\n",
    "from scipy import stats\n",
    "import seaborn as sns\n",
    "import warnings;\n",
    "warnings.filterwarnings(\"ignore\")\n",
    "import re\n",
    "pd.set_option(\"display.max_columns\",None)"
   ]
  },
  {
   "cell_type": "code",
   "execution_count": 2,
   "id": "28751f11",
   "metadata": {},
   "outputs": [],
   "source": [
    "auto = pd.read_csv('Capstone_stage3.csv')\n",
    "df= auto.copy()"
   ]
  },
  {
   "cell_type": "code",
   "execution_count": 3,
   "id": "2250453c",
   "metadata": {},
   "outputs": [],
   "source": [
    "df_dummied = pd.get_dummies(df, columns=['make_model', 'body_type', 'vat', 'Type', 'Inspection new', 'Body Color', 'Paint Type', 'Gearing Type', 'Drive chain', 'Fuel', 'Emission Class'])"
   ]
  },
  {
   "cell_type": "code",
   "execution_count": 69,
   "id": "c759898a",
   "metadata": {},
   "outputs": [
    {
     "data": {
      "text/plain": [
       "Index(['price', 'km', 'registration', 'prev_owner', 'hp', 'Warranty(months)',\n",
       "       'Nr. of Doors', 'Nr. of Seats', 'Displacement', 'Cylinders',\n",
       "       'Weight(kg)', 'CO2 Emission(g CO2/km)', 'Comfort&Convenience',\n",
       "       'Entertainment&Media', 'Extras', 'Safety & Security', 'Gears',\n",
       "       'Consumption_combined', 'make_model_Audi A1', 'make_model_Audi A2',\n",
       "       'make_model_Audi A3', 'make_model_Opel Astra', 'make_model_Opel Corsa',\n",
       "       'make_model_Opel Insignia', 'make_model_Renault Clio',\n",
       "       'make_model_Renault Duster', 'make_model_Renault Espace',\n",
       "       'body_type_Compact', 'body_type_Convertible', 'body_type_Coupe',\n",
       "       'body_type_Off-Road', 'body_type_Other', 'body_type_Sedans',\n",
       "       'body_type_Station wagon', 'body_type_Transporter', 'body_type_Van',\n",
       "       'vat_Price negotiable', 'vat_VAT deductible', 'vat_VAT undeductible',\n",
       "       'Type_Demonstration', 'Type_Employee's car', 'Type_New',\n",
       "       'Type_Pre-registered', 'Type_Used', 'Inspection new_No',\n",
       "       'Inspection new_Yes', 'Body Color_Beige', 'Body Color_Black',\n",
       "       'Body Color_Blue', 'Body Color_Bronze', 'Body Color_Brown',\n",
       "       'Body Color_Green', 'Body Color_Grey', 'Body Color_Orange',\n",
       "       'Body Color_Red', 'Body Color_Silver', 'Body Color_Violet',\n",
       "       'Body Color_White', 'Body Color_Yellow', 'Paint Type_Metallic',\n",
       "       'Paint Type_Perl effect', 'Paint Type_Uni/basic',\n",
       "       'Gearing Type_Automatic', 'Gearing Type_Manual',\n",
       "       'Gearing Type_Semi-automatic', 'Drive chain_4WD', 'Drive chain_front',\n",
       "       'Drive chain_rear', 'Fuel_Benzine', 'Fuel_Diesel', 'Fuel_Electric',\n",
       "       'Fuel_Gas', 'Fuel_Others', 'Emission Class_Euro 4',\n",
       "       'Emission Class_Euro 5', 'Emission Class_Euro 6'],\n",
       "      dtype='object')"
      ]
     },
     "execution_count": 69,
     "metadata": {},
     "output_type": "execute_result"
    }
   ],
   "source": [
    "df_dummied.columns"
   ]
  },
  {
   "cell_type": "code",
   "execution_count": 64,
   "id": "da2dd86c",
   "metadata": {},
   "outputs": [],
   "source": [
    "df_dummied.drop('description', axis = 1,inplace = True)"
   ]
  },
  {
   "cell_type": "code",
   "execution_count": 70,
   "id": "4b7879f1",
   "metadata": {},
   "outputs": [
    {
     "ename": "KeyError",
     "evalue": "\"['upholstery material'] not found in axis\"",
     "output_type": "error",
     "traceback": [
      "\u001b[1;31m---------------------------------------------------------------------------\u001b[0m",
      "\u001b[1;31mKeyError\u001b[0m                                  Traceback (most recent call last)",
      "\u001b[1;32m<ipython-input-70-27c33d564b13>\u001b[0m in \u001b[0;36m<module>\u001b[1;34m\u001b[0m\n\u001b[1;32m----> 1\u001b[1;33m \u001b[0mdf_dummied\u001b[0m\u001b[1;33m.\u001b[0m\u001b[0mdrop\u001b[0m\u001b[1;33m(\u001b[0m\u001b[1;34m'upholstery material'\u001b[0m\u001b[1;33m,\u001b[0m \u001b[0maxis\u001b[0m \u001b[1;33m=\u001b[0m \u001b[1;36m1\u001b[0m\u001b[1;33m,\u001b[0m \u001b[0minplace\u001b[0m \u001b[1;33m=\u001b[0m \u001b[1;32mTrue\u001b[0m\u001b[1;33m)\u001b[0m\u001b[1;33m\u001b[0m\u001b[1;33m\u001b[0m\u001b[0m\n\u001b[0m",
      "\u001b[1;32m~\\anaconda3\\lib\\site-packages\\pandas\\core\\frame.py\u001b[0m in \u001b[0;36mdrop\u001b[1;34m(self, labels, axis, index, columns, level, inplace, errors)\u001b[0m\n\u001b[0;32m   4161\u001b[0m                 \u001b[0mweight\u001b[0m  \u001b[1;36m1.0\u001b[0m     \u001b[1;36m0.8\u001b[0m\u001b[1;33m\u001b[0m\u001b[1;33m\u001b[0m\u001b[0m\n\u001b[0;32m   4162\u001b[0m         \"\"\"\n\u001b[1;32m-> 4163\u001b[1;33m         return super().drop(\n\u001b[0m\u001b[0;32m   4164\u001b[0m             \u001b[0mlabels\u001b[0m\u001b[1;33m=\u001b[0m\u001b[0mlabels\u001b[0m\u001b[1;33m,\u001b[0m\u001b[1;33m\u001b[0m\u001b[1;33m\u001b[0m\u001b[0m\n\u001b[0;32m   4165\u001b[0m             \u001b[0maxis\u001b[0m\u001b[1;33m=\u001b[0m\u001b[0maxis\u001b[0m\u001b[1;33m,\u001b[0m\u001b[1;33m\u001b[0m\u001b[1;33m\u001b[0m\u001b[0m\n",
      "\u001b[1;32m~\\anaconda3\\lib\\site-packages\\pandas\\core\\generic.py\u001b[0m in \u001b[0;36mdrop\u001b[1;34m(self, labels, axis, index, columns, level, inplace, errors)\u001b[0m\n\u001b[0;32m   3885\u001b[0m         \u001b[1;32mfor\u001b[0m \u001b[0maxis\u001b[0m\u001b[1;33m,\u001b[0m \u001b[0mlabels\u001b[0m \u001b[1;32min\u001b[0m \u001b[0maxes\u001b[0m\u001b[1;33m.\u001b[0m\u001b[0mitems\u001b[0m\u001b[1;33m(\u001b[0m\u001b[1;33m)\u001b[0m\u001b[1;33m:\u001b[0m\u001b[1;33m\u001b[0m\u001b[1;33m\u001b[0m\u001b[0m\n\u001b[0;32m   3886\u001b[0m             \u001b[1;32mif\u001b[0m \u001b[0mlabels\u001b[0m \u001b[1;32mis\u001b[0m \u001b[1;32mnot\u001b[0m \u001b[1;32mNone\u001b[0m\u001b[1;33m:\u001b[0m\u001b[1;33m\u001b[0m\u001b[1;33m\u001b[0m\u001b[0m\n\u001b[1;32m-> 3887\u001b[1;33m                 \u001b[0mobj\u001b[0m \u001b[1;33m=\u001b[0m \u001b[0mobj\u001b[0m\u001b[1;33m.\u001b[0m\u001b[0m_drop_axis\u001b[0m\u001b[1;33m(\u001b[0m\u001b[0mlabels\u001b[0m\u001b[1;33m,\u001b[0m \u001b[0maxis\u001b[0m\u001b[1;33m,\u001b[0m \u001b[0mlevel\u001b[0m\u001b[1;33m=\u001b[0m\u001b[0mlevel\u001b[0m\u001b[1;33m,\u001b[0m \u001b[0merrors\u001b[0m\u001b[1;33m=\u001b[0m\u001b[0merrors\u001b[0m\u001b[1;33m)\u001b[0m\u001b[1;33m\u001b[0m\u001b[1;33m\u001b[0m\u001b[0m\n\u001b[0m\u001b[0;32m   3888\u001b[0m \u001b[1;33m\u001b[0m\u001b[0m\n\u001b[0;32m   3889\u001b[0m         \u001b[1;32mif\u001b[0m \u001b[0minplace\u001b[0m\u001b[1;33m:\u001b[0m\u001b[1;33m\u001b[0m\u001b[1;33m\u001b[0m\u001b[0m\n",
      "\u001b[1;32m~\\anaconda3\\lib\\site-packages\\pandas\\core\\generic.py\u001b[0m in \u001b[0;36m_drop_axis\u001b[1;34m(self, labels, axis, level, errors)\u001b[0m\n\u001b[0;32m   3919\u001b[0m                 \u001b[0mnew_axis\u001b[0m \u001b[1;33m=\u001b[0m \u001b[0maxis\u001b[0m\u001b[1;33m.\u001b[0m\u001b[0mdrop\u001b[0m\u001b[1;33m(\u001b[0m\u001b[0mlabels\u001b[0m\u001b[1;33m,\u001b[0m \u001b[0mlevel\u001b[0m\u001b[1;33m=\u001b[0m\u001b[0mlevel\u001b[0m\u001b[1;33m,\u001b[0m \u001b[0merrors\u001b[0m\u001b[1;33m=\u001b[0m\u001b[0merrors\u001b[0m\u001b[1;33m)\u001b[0m\u001b[1;33m\u001b[0m\u001b[1;33m\u001b[0m\u001b[0m\n\u001b[0;32m   3920\u001b[0m             \u001b[1;32melse\u001b[0m\u001b[1;33m:\u001b[0m\u001b[1;33m\u001b[0m\u001b[1;33m\u001b[0m\u001b[0m\n\u001b[1;32m-> 3921\u001b[1;33m                 \u001b[0mnew_axis\u001b[0m \u001b[1;33m=\u001b[0m \u001b[0maxis\u001b[0m\u001b[1;33m.\u001b[0m\u001b[0mdrop\u001b[0m\u001b[1;33m(\u001b[0m\u001b[0mlabels\u001b[0m\u001b[1;33m,\u001b[0m \u001b[0merrors\u001b[0m\u001b[1;33m=\u001b[0m\u001b[0merrors\u001b[0m\u001b[1;33m)\u001b[0m\u001b[1;33m\u001b[0m\u001b[1;33m\u001b[0m\u001b[0m\n\u001b[0m\u001b[0;32m   3922\u001b[0m             \u001b[0mresult\u001b[0m \u001b[1;33m=\u001b[0m \u001b[0mself\u001b[0m\u001b[1;33m.\u001b[0m\u001b[0mreindex\u001b[0m\u001b[1;33m(\u001b[0m\u001b[1;33m**\u001b[0m\u001b[1;33m{\u001b[0m\u001b[0maxis_name\u001b[0m\u001b[1;33m:\u001b[0m \u001b[0mnew_axis\u001b[0m\u001b[1;33m}\u001b[0m\u001b[1;33m)\u001b[0m\u001b[1;33m\u001b[0m\u001b[1;33m\u001b[0m\u001b[0m\n\u001b[0;32m   3923\u001b[0m \u001b[1;33m\u001b[0m\u001b[0m\n",
      "\u001b[1;32m~\\anaconda3\\lib\\site-packages\\pandas\\core\\indexes\\base.py\u001b[0m in \u001b[0;36mdrop\u001b[1;34m(self, labels, errors)\u001b[0m\n\u001b[0;32m   5280\u001b[0m         \u001b[1;32mif\u001b[0m \u001b[0mmask\u001b[0m\u001b[1;33m.\u001b[0m\u001b[0many\u001b[0m\u001b[1;33m(\u001b[0m\u001b[1;33m)\u001b[0m\u001b[1;33m:\u001b[0m\u001b[1;33m\u001b[0m\u001b[1;33m\u001b[0m\u001b[0m\n\u001b[0;32m   5281\u001b[0m             \u001b[1;32mif\u001b[0m \u001b[0merrors\u001b[0m \u001b[1;33m!=\u001b[0m \u001b[1;34m\"ignore\"\u001b[0m\u001b[1;33m:\u001b[0m\u001b[1;33m\u001b[0m\u001b[1;33m\u001b[0m\u001b[0m\n\u001b[1;32m-> 5282\u001b[1;33m                 \u001b[1;32mraise\u001b[0m \u001b[0mKeyError\u001b[0m\u001b[1;33m(\u001b[0m\u001b[1;34mf\"{labels[mask]} not found in axis\"\u001b[0m\u001b[1;33m)\u001b[0m\u001b[1;33m\u001b[0m\u001b[1;33m\u001b[0m\u001b[0m\n\u001b[0m\u001b[0;32m   5283\u001b[0m             \u001b[0mindexer\u001b[0m \u001b[1;33m=\u001b[0m \u001b[0mindexer\u001b[0m\u001b[1;33m[\u001b[0m\u001b[1;33m~\u001b[0m\u001b[0mmask\u001b[0m\u001b[1;33m]\u001b[0m\u001b[1;33m\u001b[0m\u001b[1;33m\u001b[0m\u001b[0m\n\u001b[0;32m   5284\u001b[0m         \u001b[1;32mreturn\u001b[0m \u001b[0mself\u001b[0m\u001b[1;33m.\u001b[0m\u001b[0mdelete\u001b[0m\u001b[1;33m(\u001b[0m\u001b[0mindexer\u001b[0m\u001b[1;33m)\u001b[0m\u001b[1;33m\u001b[0m\u001b[1;33m\u001b[0m\u001b[0m\n",
      "\u001b[1;31mKeyError\u001b[0m: \"['upholstery material'] not found in axis\""
     ]
    }
   ],
   "source": [
    "df_dummied.drop('upholstery material', axis = 1, inplace = True)"
   ]
  },
  {
   "cell_type": "markdown",
   "id": "b468b518",
   "metadata": {},
   "source": [
    "### Column: Extras"
   ]
  },
  {
   "cell_type": "code",
   "execution_count": 4,
   "id": "169e935d",
   "metadata": {},
   "outputs": [],
   "source": [
    "df_E = df['Extras'].astype('str').str.replace('[','').str.replace(\"]\",'').str.get_dummies(sep=', ')"
   ]
  },
  {
   "cell_type": "code",
   "execution_count": 5,
   "id": "df52c021",
   "metadata": {},
   "outputs": [],
   "source": [
    "df_E.drop(columns = ['nan', \"'Right hand drive'\", \"'Sliding door'\",], inplace=True)"
   ]
  },
  {
   "cell_type": "code",
   "execution_count": 6,
   "id": "08138814",
   "metadata": {},
   "outputs": [],
   "source": [
    "df_C = df['Comfort&Convenience'].astype('str').str.replace('[','').str.replace(\"]\",'').str.get_dummies(sep=', ')"
   ]
  },
  {
   "cell_type": "code",
   "execution_count": 7,
   "id": "6484107f",
   "metadata": {},
   "outputs": [],
   "source": [
    "df_C.drop(columns=['nan'], inplace=True)"
   ]
  },
  {
   "cell_type": "code",
   "execution_count": 8,
   "id": "a73b7bdf",
   "metadata": {},
   "outputs": [],
   "source": [
    "df_ent = df['Entertainment&Media'].astype('str').str.replace('[','').str.replace(\"]\",'').str.get_dummies(sep=', ')"
   ]
  },
  {
   "cell_type": "code",
   "execution_count": 9,
   "id": "c5924223",
   "metadata": {},
   "outputs": [],
   "source": [
    "df_ent.drop(columns=['nan'], inplace=True)"
   ]
  },
  {
   "cell_type": "code",
   "execution_count": 10,
   "id": "332cf913",
   "metadata": {},
   "outputs": [],
   "source": [
    "df_sec = df['Safety & Security'].astype('str').str.replace('[','').str.replace(\"]\",'').str.get_dummies(sep=', ')"
   ]
  },
  {
   "cell_type": "code",
   "execution_count": 11,
   "id": "6ecba762",
   "metadata": {},
   "outputs": [],
   "source": [
    "df_sec.drop(columns=['nan'], inplace=True)"
   ]
  },
  {
   "cell_type": "markdown",
   "id": "968739ac",
   "metadata": {},
   "source": [
    "### Additional Dropping"
   ]
  },
  {
   "cell_type": "code",
   "execution_count": 55,
   "id": "48cd8bed",
   "metadata": {},
   "outputs": [],
   "source": [
    "df_E.drop(columns = [\"'Right hand drive'\", \"'Sliding door'\", \"'Tuned car'\", \"'Handicapped enabled'\"], inplace=True)"
   ]
  },
  {
   "cell_type": "code",
   "execution_count": 56,
   "id": "84c14d51",
   "metadata": {},
   "outputs": [],
   "source": [
    "df_C.drop(columns=[\"'Electric Starter'\",\"'Windshield'\", \"'Leather seats'\", \"'Wind deflector'\", \"'Air suspension'\"], inplace=True)"
   ]
  },
  {
   "cell_type": "code",
   "execution_count": 57,
   "id": "b1f968ed",
   "metadata": {},
   "outputs": [],
   "source": [
    "df_ent.drop(columns=[\"'Television'\"], inplace=True)"
   ]
  },
  {
   "cell_type": "code",
   "execution_count": 58,
   "id": "7cf92a1e",
   "metadata": {},
   "outputs": [],
   "source": [
    "df_sec.drop(columns=[\"'Night view assist'\"], inplace=True)\n",
    "df"
   ]
  },
  {
   "cell_type": "code",
   "execution_count": 65,
   "id": "593e35a7",
   "metadata": {},
   "outputs": [],
   "source": [
    "df_last = pd.concat([df_dummied, df_E, df_C, df_ent, df_sec], axis = 1).drop(columns=['Comfort&Convenience', 'Safety & Security', 'Entertainment&Media', 'Extras'])"
   ]
  },
  {
   "cell_type": "code",
   "execution_count": 66,
   "id": "f19fff4c",
   "metadata": {},
   "outputs": [
    {
     "data": {
      "text/plain": [
       "(15915, 155)"
      ]
     },
     "execution_count": 66,
     "metadata": {},
     "output_type": "execute_result"
    }
   ],
   "source": [
    "df_last.shape"
   ]
  },
  {
   "cell_type": "code",
   "execution_count": 67,
   "id": "ca09829b",
   "metadata": {},
   "outputs": [],
   "source": [
    "df_last.to_csv('last_df.csv', index=False)"
   ]
  },
  {
   "cell_type": "code",
   "execution_count": null,
   "id": "41047e96",
   "metadata": {},
   "outputs": [],
   "source": []
  }
 ],
 "metadata": {
  "kernelspec": {
   "display_name": "Python 3",
   "language": "python",
   "name": "python3"
  },
  "language_info": {
   "codemirror_mode": {
    "name": "ipython",
    "version": 3
   },
   "file_extension": ".py",
   "mimetype": "text/x-python",
   "name": "python",
   "nbconvert_exporter": "python",
   "pygments_lexer": "ipython3",
   "version": "3.8.8"
  }
 },
 "nbformat": 4,
 "nbformat_minor": 5
}
